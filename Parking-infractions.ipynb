{
 "cells": [
  {
   "cell_type": "code",
   "execution_count": 139,
   "metadata": {
    "ExecuteTime": {
     "end_time": "2021-04-19T15:18:34.822507Z",
     "start_time": "2021-04-19T15:18:34.795585Z"
    }
   },
   "outputs": [],
   "source": [
    "import pandas as pd\n",
    "import numpy as np\n",
    "import geopandas as gpd\n",
    "import geopy\n",
    "from geopy.geocoders import Nominatim\n",
    "from geopy.extra.rate_limiter import RateLimiter\n",
    "from scipy.spatial import cKDTree\n",
    "from shapely.geometry import Point\n",
    "from geopy.distance import geodesic\n",
    "import datetime\n",
    "import calendar\n",
    "\n",
    "from functools import reduce\n",
    "import plotly_express as px\n",
    "import matplotlib.pyplot as plt\n",
    "\n",
    "import zipfile\n",
    "from IPython.display import clear_output"
   ]
  },
  {
   "cell_type": "markdown",
   "metadata": {},
   "source": [
    "#### uploading parking tags data:"
   ]
  },
  {
   "cell_type": "code",
   "execution_count": 2,
   "metadata": {
    "ExecuteTime": {
     "end_time": "2021-04-19T11:01:40.529014Z",
     "start_time": "2021-04-19T11:01:39.919030Z"
    }
   },
   "outputs": [
    {
     "name": "stdout",
     "output_type": "stream",
     "text": [
      "(249999, 11)\n"
     ]
    },
    {
     "data": {
      "text/html": [
       "<div>\n",
       "<style scoped>\n",
       "    .dataframe tbody tr th:only-of-type {\n",
       "        vertical-align: middle;\n",
       "    }\n",
       "\n",
       "    .dataframe tbody tr th {\n",
       "        vertical-align: top;\n",
       "    }\n",
       "\n",
       "    .dataframe thead th {\n",
       "        text-align: right;\n",
       "    }\n",
       "</style>\n",
       "<table border=\"1\" class=\"dataframe\">\n",
       "  <thead>\n",
       "    <tr style=\"text-align: right;\">\n",
       "      <th></th>\n",
       "      <th>tag_number_masked</th>\n",
       "      <th>date_of_infraction</th>\n",
       "      <th>infraction_code</th>\n",
       "      <th>infraction_description</th>\n",
       "      <th>set_fine_amount</th>\n",
       "      <th>time_of_infraction</th>\n",
       "      <th>location1</th>\n",
       "      <th>location2</th>\n",
       "      <th>location3</th>\n",
       "      <th>location4</th>\n",
       "      <th>province</th>\n",
       "    </tr>\n",
       "  </thead>\n",
       "  <tbody>\n",
       "    <tr>\n",
       "      <th>0</th>\n",
       "      <td>***60020</td>\n",
       "      <td>20200101</td>\n",
       "      <td>3</td>\n",
       "      <td>PARK ON PRIVATE PROPERTY</td>\n",
       "      <td>30</td>\n",
       "      <td>1.0</td>\n",
       "      <td>NaN</td>\n",
       "      <td>4700 JANE ST</td>\n",
       "      <td>NaN</td>\n",
       "      <td>NaN</td>\n",
       "      <td>SK</td>\n",
       "    </tr>\n",
       "    <tr>\n",
       "      <th>1</th>\n",
       "      <td>***46473</td>\n",
       "      <td>20200101</td>\n",
       "      <td>29</td>\n",
       "      <td>PARK PROHIBITED TIME NO PERMIT</td>\n",
       "      <td>30</td>\n",
       "      <td>2.0</td>\n",
       "      <td>OPP</td>\n",
       "      <td>573 CLENDENAN AVE</td>\n",
       "      <td>NaN</td>\n",
       "      <td>NaN</td>\n",
       "      <td>ON</td>\n",
       "    </tr>\n",
       "    <tr>\n",
       "      <th>2</th>\n",
       "      <td>***46474</td>\n",
       "      <td>20200101</td>\n",
       "      <td>29</td>\n",
       "      <td>PARK PROHIBITED TIME NO PERMIT</td>\n",
       "      <td>30</td>\n",
       "      <td>2.0</td>\n",
       "      <td>NR</td>\n",
       "      <td>573 CLENDENAN AVE</td>\n",
       "      <td>NaN</td>\n",
       "      <td>NaN</td>\n",
       "      <td>ON</td>\n",
       "    </tr>\n",
       "    <tr>\n",
       "      <th>3</th>\n",
       "      <td>***46475</td>\n",
       "      <td>20200101</td>\n",
       "      <td>29</td>\n",
       "      <td>PARK PROHIBITED TIME NO PERMIT</td>\n",
       "      <td>30</td>\n",
       "      <td>4.0</td>\n",
       "      <td>NR</td>\n",
       "      <td>21 MARIA ST</td>\n",
       "      <td>NaN</td>\n",
       "      <td>NaN</td>\n",
       "      <td>ON</td>\n",
       "    </tr>\n",
       "    <tr>\n",
       "      <th>4</th>\n",
       "      <td>***46674</td>\n",
       "      <td>20200101</td>\n",
       "      <td>29</td>\n",
       "      <td>PARK PROHIBITED TIME NO PERMIT</td>\n",
       "      <td>30</td>\n",
       "      <td>4.0</td>\n",
       "      <td>NR</td>\n",
       "      <td>164 GLENHOLME AVE</td>\n",
       "      <td>NaN</td>\n",
       "      <td>NaN</td>\n",
       "      <td>ON</td>\n",
       "    </tr>\n",
       "  </tbody>\n",
       "</table>\n",
       "</div>"
      ],
      "text/plain": [
       "  tag_number_masked  date_of_infraction  infraction_code  \\\n",
       "0          ***60020            20200101                3   \n",
       "1          ***46473            20200101               29   \n",
       "2          ***46474            20200101               29   \n",
       "3          ***46475            20200101               29   \n",
       "4          ***46674            20200101               29   \n",
       "\n",
       "           infraction_description  set_fine_amount  time_of_infraction  \\\n",
       "0        PARK ON PRIVATE PROPERTY               30                 1.0   \n",
       "1  PARK PROHIBITED TIME NO PERMIT               30                 2.0   \n",
       "2  PARK PROHIBITED TIME NO PERMIT               30                 2.0   \n",
       "3  PARK PROHIBITED TIME NO PERMIT               30                 4.0   \n",
       "4  PARK PROHIBITED TIME NO PERMIT               30                 4.0   \n",
       "\n",
       "  location1          location2 location3 location4 province  \n",
       "0       NaN       4700 JANE ST       NaN       NaN       SK  \n",
       "1       OPP  573 CLENDENAN AVE       NaN       NaN       ON  \n",
       "2        NR  573 CLENDENAN AVE       NaN       NaN       ON  \n",
       "3        NR        21 MARIA ST       NaN       NaN       ON  \n",
       "4        NR  164 GLENHOLME AVE       NaN       NaN       ON  "
      ]
     },
     "execution_count": 2,
     "metadata": {},
     "output_type": "execute_result"
    }
   ],
   "source": [
    "zf = zipfile.ZipFile('data/parking_tags_data_2020.zip')\n",
    "ptags_df = pd.read_csv(zf.open('Parking_Tags_Data_2020.000.csv'))\n",
    "print(ptags_df.shape)\n",
    "ptags_df.head()"
   ]
  },
  {
   "cell_type": "code",
   "execution_count": 3,
   "metadata": {
    "ExecuteTime": {
     "end_time": "2021-04-19T11:01:50.336962Z",
     "start_time": "2021-04-19T11:01:46.699682Z"
    }
   },
   "outputs": [],
   "source": [
    "l = len(ptags_df)\n",
    "\n",
    "for i in range(1,6):\n",
    "    filename = 'Parking_Tags_Data_2020.00' + str(i) + '.csv'\n",
    "    p_df = pd.read_csv(zf.open(filename))\n",
    "    ptags_df = pd.concat([ptags_df, p_df])\n",
    "    l = l +len(p_df)"
   ]
  },
  {
   "cell_type": "code",
   "execution_count": 4,
   "metadata": {
    "ExecuteTime": {
     "end_time": "2021-04-19T11:01:50.352921Z",
     "start_time": "2021-04-19T11:01:50.339953Z"
    }
   },
   "outputs": [
    {
     "data": {
      "text/plain": [
       "(1403663, (1403663, 11))"
      ]
     },
     "execution_count": 4,
     "metadata": {},
     "output_type": "execute_result"
    }
   ],
   "source": [
    "l, ptags_df.shape"
   ]
  },
  {
   "cell_type": "code",
   "execution_count": 5,
   "metadata": {
    "ExecuteTime": {
     "end_time": "2021-04-19T11:03:04.495817Z",
     "start_time": "2021-04-19T11:03:04.461908Z"
    }
   },
   "outputs": [
    {
     "data": {
      "text/html": [
       "<div>\n",
       "<style scoped>\n",
       "    .dataframe tbody tr th:only-of-type {\n",
       "        vertical-align: middle;\n",
       "    }\n",
       "\n",
       "    .dataframe tbody tr th {\n",
       "        vertical-align: top;\n",
       "    }\n",
       "\n",
       "    .dataframe thead th {\n",
       "        text-align: right;\n",
       "    }\n",
       "</style>\n",
       "<table border=\"1\" class=\"dataframe\">\n",
       "  <thead>\n",
       "    <tr style=\"text-align: right;\">\n",
       "      <th></th>\n",
       "      <th>tag_number_masked</th>\n",
       "      <th>date_of_infraction</th>\n",
       "      <th>infraction_code</th>\n",
       "      <th>infraction_description</th>\n",
       "      <th>set_fine_amount</th>\n",
       "      <th>time_of_infraction</th>\n",
       "      <th>location1</th>\n",
       "      <th>location2</th>\n",
       "      <th>location3</th>\n",
       "      <th>location4</th>\n",
       "      <th>province</th>\n",
       "    </tr>\n",
       "  </thead>\n",
       "  <tbody>\n",
       "    <tr>\n",
       "      <th>0</th>\n",
       "      <td>***60020</td>\n",
       "      <td>20200101</td>\n",
       "      <td>3</td>\n",
       "      <td>PARK ON PRIVATE PROPERTY</td>\n",
       "      <td>30</td>\n",
       "      <td>1.0</td>\n",
       "      <td>NaN</td>\n",
       "      <td>4700 JANE ST</td>\n",
       "      <td>NaN</td>\n",
       "      <td>NaN</td>\n",
       "      <td>SK</td>\n",
       "    </tr>\n",
       "    <tr>\n",
       "      <th>1</th>\n",
       "      <td>***46473</td>\n",
       "      <td>20200101</td>\n",
       "      <td>29</td>\n",
       "      <td>PARK PROHIBITED TIME NO PERMIT</td>\n",
       "      <td>30</td>\n",
       "      <td>2.0</td>\n",
       "      <td>OPP</td>\n",
       "      <td>573 CLENDENAN AVE</td>\n",
       "      <td>NaN</td>\n",
       "      <td>NaN</td>\n",
       "      <td>ON</td>\n",
       "    </tr>\n",
       "    <tr>\n",
       "      <th>2</th>\n",
       "      <td>***46474</td>\n",
       "      <td>20200101</td>\n",
       "      <td>29</td>\n",
       "      <td>PARK PROHIBITED TIME NO PERMIT</td>\n",
       "      <td>30</td>\n",
       "      <td>2.0</td>\n",
       "      <td>NR</td>\n",
       "      <td>573 CLENDENAN AVE</td>\n",
       "      <td>NaN</td>\n",
       "      <td>NaN</td>\n",
       "      <td>ON</td>\n",
       "    </tr>\n",
       "  </tbody>\n",
       "</table>\n",
       "</div>"
      ],
      "text/plain": [
       "  tag_number_masked  date_of_infraction  infraction_code  \\\n",
       "0          ***60020            20200101                3   \n",
       "1          ***46473            20200101               29   \n",
       "2          ***46474            20200101               29   \n",
       "\n",
       "           infraction_description  set_fine_amount  time_of_infraction  \\\n",
       "0        PARK ON PRIVATE PROPERTY               30                 1.0   \n",
       "1  PARK PROHIBITED TIME NO PERMIT               30                 2.0   \n",
       "2  PARK PROHIBITED TIME NO PERMIT               30                 2.0   \n",
       "\n",
       "  location1          location2 location3 location4 province  \n",
       "0       NaN       4700 JANE ST       NaN       NaN       SK  \n",
       "1       OPP  573 CLENDENAN AVE       NaN       NaN       ON  \n",
       "2        NR  573 CLENDENAN AVE       NaN       NaN       ON  "
      ]
     },
     "execution_count": 5,
     "metadata": {},
     "output_type": "execute_result"
    }
   ],
   "source": [
    "ptags_df.head(3)"
   ]
  },
  {
   "cell_type": "code",
   "execution_count": 6,
   "metadata": {
    "ExecuteTime": {
     "end_time": "2021-04-19T11:04:38.825235Z",
     "start_time": "2021-04-19T11:04:38.552766Z"
    }
   },
   "outputs": [],
   "source": [
    "ptags_df.drop(columns=['tag_number_masked','time_of_infraction','location1','location3','location4'], axis=1, inplace=True)"
   ]
  },
  {
   "cell_type": "code",
   "execution_count": 7,
   "metadata": {
    "ExecuteTime": {
     "end_time": "2021-04-19T11:05:49.347912Z",
     "start_time": "2021-04-19T11:05:49.118957Z"
    }
   },
   "outputs": [
    {
     "name": "stdout",
     "output_type": "stream",
     "text": [
      "<class 'pandas.core.frame.DataFrame'>\n",
      "Int64Index: 1403663 entries, 0 to 153663\n",
      "Data columns (total 6 columns):\n",
      " #   Column                  Non-Null Count    Dtype \n",
      "---  ------                  --------------    ----- \n",
      " 0   date_of_infraction      1403663 non-null  int64 \n",
      " 1   infraction_code         1403663 non-null  int64 \n",
      " 2   infraction_description  1403663 non-null  object\n",
      " 3   set_fine_amount         1403663 non-null  int64 \n",
      " 4   location2               1403544 non-null  object\n",
      " 5   province                1403663 non-null  object\n",
      "dtypes: int64(3), object(3)\n",
      "memory usage: 75.0+ MB\n"
     ]
    }
   ],
   "source": [
    "ptags_df.info()"
   ]
  },
  {
   "cell_type": "code",
   "execution_count": 223,
   "metadata": {
    "ExecuteTime": {
     "end_time": "2021-04-19T18:32:42.586650Z",
     "start_time": "2021-04-19T18:32:42.312379Z"
    }
   },
   "outputs": [
    {
     "data": {
      "text/plain": [
       "166531"
      ]
     },
     "execution_count": 223,
     "metadata": {},
     "output_type": "execute_result"
    }
   ],
   "source": [
    "# number of unique locations\n",
    "len(ptags_df['location2'].unique())"
   ]
  },
  {
   "cell_type": "code",
   "execution_count": 48,
   "metadata": {
    "ExecuteTime": {
     "end_time": "2021-04-19T12:03:45.832319Z",
     "start_time": "2021-04-19T12:03:45.718747Z"
    }
   },
   "outputs": [
    {
     "data": {
      "text/html": [
       "<div>\n",
       "<style scoped>\n",
       "    .dataframe tbody tr th:only-of-type {\n",
       "        vertical-align: middle;\n",
       "    }\n",
       "\n",
       "    .dataframe tbody tr th {\n",
       "        vertical-align: top;\n",
       "    }\n",
       "\n",
       "    .dataframe thead th {\n",
       "        text-align: right;\n",
       "    }\n",
       "</style>\n",
       "<table border=\"1\" class=\"dataframe\">\n",
       "  <thead>\n",
       "    <tr style=\"text-align: right;\">\n",
       "      <th></th>\n",
       "      <th>infraction_code</th>\n",
       "      <th>code_description</th>\n",
       "    </tr>\n",
       "  </thead>\n",
       "  <tbody>\n",
       "    <tr>\n",
       "      <th>0</th>\n",
       "      <td>3</td>\n",
       "      <td>PARK ON PRIVATE PROPERTY</td>\n",
       "    </tr>\n",
       "    <tr>\n",
       "      <th>1</th>\n",
       "      <td>29</td>\n",
       "      <td>PARK PROHIBITED TIME NO PERMIT</td>\n",
       "    </tr>\n",
       "    <tr>\n",
       "      <th>2</th>\n",
       "      <td>406</td>\n",
       "      <td>PARK-VEH. W/O VALID ONT PLATE</td>\n",
       "    </tr>\n",
       "    <tr>\n",
       "      <th>3</th>\n",
       "      <td>8</td>\n",
       "      <td>STAND VEH.-PROHIBIT TIME/DAY</td>\n",
       "    </tr>\n",
       "    <tr>\n",
       "      <th>4</th>\n",
       "      <td>4</td>\n",
       "      <td>PARK ON MUNICIPAL PROPERTY</td>\n",
       "    </tr>\n",
       "    <tr>\n",
       "      <th>...</th>\n",
       "      <td>...</td>\n",
       "      <td>...</td>\n",
       "    </tr>\n",
       "    <tr>\n",
       "      <th>151</th>\n",
       "      <td>41</td>\n",
       "      <td>PARALLEL PARK-METERED SPACE-RE</td>\n",
       "    </tr>\n",
       "    <tr>\n",
       "      <th>152</th>\n",
       "      <td>435</td>\n",
       "      <td>PARK ELECT. VEH. NOT CONNECTED</td>\n",
       "    </tr>\n",
       "    <tr>\n",
       "      <th>153</th>\n",
       "      <td>261</td>\n",
       "      <td>PARK MTR REC VE NOT DESIG AREA</td>\n",
       "    </tr>\n",
       "    <tr>\n",
       "      <th>154</th>\n",
       "      <td>411</td>\n",
       "      <td>PARK UNAUTH. VEH IN E-VEH. STN</td>\n",
       "    </tr>\n",
       "    <tr>\n",
       "      <th>155</th>\n",
       "      <td>44</td>\n",
       "      <td>PARALLEL PARK-METERED SPACE-FR</td>\n",
       "    </tr>\n",
       "  </tbody>\n",
       "</table>\n",
       "<p>156 rows × 2 columns</p>\n",
       "</div>"
      ],
      "text/plain": [
       "     infraction_code                code_description\n",
       "0                  3        PARK ON PRIVATE PROPERTY\n",
       "1                 29  PARK PROHIBITED TIME NO PERMIT\n",
       "2                406   PARK-VEH. W/O VALID ONT PLATE\n",
       "3                  8    STAND VEH.-PROHIBIT TIME/DAY\n",
       "4                  4      PARK ON MUNICIPAL PROPERTY\n",
       "..               ...                             ...\n",
       "151               41  PARALLEL PARK-METERED SPACE-RE\n",
       "152              435  PARK ELECT. VEH. NOT CONNECTED\n",
       "153              261  PARK MTR REC VE NOT DESIG AREA\n",
       "154              411  PARK UNAUTH. VEH IN E-VEH. STN\n",
       "155               44  PARALLEL PARK-METERED SPACE-FR\n",
       "\n",
       "[156 rows x 2 columns]"
      ]
     },
     "execution_count": 48,
     "metadata": {},
     "output_type": "execute_result"
    }
   ],
   "source": [
    "# removing duplicated description for each infraction_code\n",
    "code_desc = ptags_df[['infraction_code','infraction_description']]\n",
    "code_desc.drop_duplicates(subset='infraction_code', inplace=True, ignore_index=True)\n",
    "code_desc.rename(columns={'infraction_description':'code_description'}, inplace=True)\n",
    "clear_output()\n",
    "code_desc"
   ]
  },
  {
   "cell_type": "code",
   "execution_count": 51,
   "metadata": {
    "ExecuteTime": {
     "end_time": "2021-04-19T12:07:18.507845Z",
     "start_time": "2021-04-19T12:07:17.973169Z"
    }
   },
   "outputs": [],
   "source": [
    "ptags_df = pd.merge(ptags_df, code_desc, on='infraction_code', how='left')\n",
    "ptags_df.drop(columns='infraction_description', axis=1, inplace=True)"
   ]
  },
  {
   "cell_type": "markdown",
   "metadata": {},
   "source": [
    "### 3.1.1. Top 20 ticket infractions (frequency)"
   ]
  },
  {
   "cell_type": "code",
   "execution_count": 57,
   "metadata": {
    "ExecuteTime": {
     "end_time": "2021-04-19T12:14:44.085519Z",
     "start_time": "2021-04-19T12:14:43.831200Z"
    }
   },
   "outputs": [
    {
     "data": {
      "text/html": [
       "<div>\n",
       "<style scoped>\n",
       "    .dataframe tbody tr th:only-of-type {\n",
       "        vertical-align: middle;\n",
       "    }\n",
       "\n",
       "    .dataframe tbody tr th {\n",
       "        vertical-align: top;\n",
       "    }\n",
       "\n",
       "    .dataframe thead th {\n",
       "        text-align: right;\n",
       "    }\n",
       "</style>\n",
       "<table border=\"1\" class=\"dataframe\">\n",
       "  <thead>\n",
       "    <tr style=\"text-align: right;\">\n",
       "      <th></th>\n",
       "      <th>infraction_code</th>\n",
       "      <th>code_description</th>\n",
       "      <th>infraction_count</th>\n",
       "    </tr>\n",
       "  </thead>\n",
       "  <tbody>\n",
       "    <tr>\n",
       "      <th>0</th>\n",
       "      <td>3</td>\n",
       "      <td>PARK ON PRIVATE PROPERTY</td>\n",
       "      <td>338199</td>\n",
       "    </tr>\n",
       "    <tr>\n",
       "      <th>1</th>\n",
       "      <td>207</td>\n",
       "      <td>PARK MACHINE-REQD FEE NOT PAID</td>\n",
       "      <td>215036</td>\n",
       "    </tr>\n",
       "    <tr>\n",
       "      <th>2</th>\n",
       "      <td>5</td>\n",
       "      <td>PARK-SIGNED HWY-PROHIBIT DY/TM</td>\n",
       "      <td>204658</td>\n",
       "    </tr>\n",
       "    <tr>\n",
       "      <th>3</th>\n",
       "      <td>29</td>\n",
       "      <td>PARK PROHIBITED TIME NO PERMIT</td>\n",
       "      <td>161727</td>\n",
       "    </tr>\n",
       "    <tr>\n",
       "      <th>4</th>\n",
       "      <td>9</td>\n",
       "      <td>STOP-SIGNED HWY-PROHIBIT TM/DY</td>\n",
       "      <td>69285</td>\n",
       "    </tr>\n",
       "    <tr>\n",
       "      <th>5</th>\n",
       "      <td>2</td>\n",
       "      <td>PARK - LONGER THAN 3 HOURS</td>\n",
       "      <td>67395</td>\n",
       "    </tr>\n",
       "    <tr>\n",
       "      <th>6</th>\n",
       "      <td>8</td>\n",
       "      <td>STAND VEH.-PROHIBIT TIME/DAY</td>\n",
       "      <td>43255</td>\n",
       "    </tr>\n",
       "    <tr>\n",
       "      <th>7</th>\n",
       "      <td>6</td>\n",
       "      <td>PARK-SIGNED HWY-EXC PERMT TIME</td>\n",
       "      <td>39764</td>\n",
       "    </tr>\n",
       "    <tr>\n",
       "      <th>8</th>\n",
       "      <td>4</td>\n",
       "      <td>PARK ON MUNICIPAL PROPERTY</td>\n",
       "      <td>38870</td>\n",
       "    </tr>\n",
       "    <tr>\n",
       "      <th>9</th>\n",
       "      <td>406</td>\n",
       "      <td>PARK-VEH. W/O VALID ONT PLATE</td>\n",
       "      <td>27665</td>\n",
       "    </tr>\n",
       "    <tr>\n",
       "      <th>10</th>\n",
       "      <td>28</td>\n",
       "      <td>PARK-N.YORK 2AM-6AM DEC1-MAR31</td>\n",
       "      <td>24118</td>\n",
       "    </tr>\n",
       "    <tr>\n",
       "      <th>11</th>\n",
       "      <td>403</td>\n",
       "      <td>STOP-SIGNED HIGHWAY-RUSH HOUR</td>\n",
       "      <td>19526</td>\n",
       "    </tr>\n",
       "    <tr>\n",
       "      <th>12</th>\n",
       "      <td>15</td>\n",
       "      <td>PARK-WITHIN 3M OF FIRE HYDRANT</td>\n",
       "      <td>16316</td>\n",
       "    </tr>\n",
       "    <tr>\n",
       "      <th>13</th>\n",
       "      <td>415</td>\n",
       "      <td>PARK COMMERC LOAD ZONE NOT LDG</td>\n",
       "      <td>13470</td>\n",
       "    </tr>\n",
       "    <tr>\n",
       "      <th>14</th>\n",
       "      <td>347</td>\n",
       "      <td>PARK IN A FIRE ROUTE</td>\n",
       "      <td>10510</td>\n",
       "    </tr>\n",
       "    <tr>\n",
       "      <th>15</th>\n",
       "      <td>192</td>\n",
       "      <td>STAND SIGNED TRANSIT STOP</td>\n",
       "      <td>9891</td>\n",
       "    </tr>\n",
       "    <tr>\n",
       "      <th>16</th>\n",
       "      <td>312</td>\n",
       "      <td>PARKING MACH-NOT USED/NO FEE</td>\n",
       "      <td>8065</td>\n",
       "    </tr>\n",
       "    <tr>\n",
       "      <th>17</th>\n",
       "      <td>30</td>\n",
       "      <td>STOP-(ON/OVER) (SIDEWK/FTPATH)</td>\n",
       "      <td>7589</td>\n",
       "    </tr>\n",
       "    <tr>\n",
       "      <th>18</th>\n",
       "      <td>134</td>\n",
       "      <td>PARK-SIGNED HWY-PUBLIC LANE</td>\n",
       "      <td>7483</td>\n",
       "    </tr>\n",
       "    <tr>\n",
       "      <th>19</th>\n",
       "      <td>257</td>\n",
       "      <td>PARK CONTRARY POSTED CONDITION</td>\n",
       "      <td>7077</td>\n",
       "    </tr>\n",
       "  </tbody>\n",
       "</table>\n",
       "</div>"
      ],
      "text/plain": [
       "    infraction_code                code_description  infraction_count\n",
       "0                 3        PARK ON PRIVATE PROPERTY            338199\n",
       "1               207  PARK MACHINE-REQD FEE NOT PAID            215036\n",
       "2                 5  PARK-SIGNED HWY-PROHIBIT DY/TM            204658\n",
       "3                29  PARK PROHIBITED TIME NO PERMIT            161727\n",
       "4                 9  STOP-SIGNED HWY-PROHIBIT TM/DY             69285\n",
       "5                 2      PARK - LONGER THAN 3 HOURS             67395\n",
       "6                 8    STAND VEH.-PROHIBIT TIME/DAY             43255\n",
       "7                 6  PARK-SIGNED HWY-EXC PERMT TIME             39764\n",
       "8                 4      PARK ON MUNICIPAL PROPERTY             38870\n",
       "9               406   PARK-VEH. W/O VALID ONT PLATE             27665\n",
       "10               28  PARK-N.YORK 2AM-6AM DEC1-MAR31             24118\n",
       "11              403   STOP-SIGNED HIGHWAY-RUSH HOUR             19526\n",
       "12               15  PARK-WITHIN 3M OF FIRE HYDRANT             16316\n",
       "13              415  PARK COMMERC LOAD ZONE NOT LDG             13470\n",
       "14              347            PARK IN A FIRE ROUTE             10510\n",
       "15              192       STAND SIGNED TRANSIT STOP              9891\n",
       "16              312    PARKING MACH-NOT USED/NO FEE              8065\n",
       "17               30  STOP-(ON/OVER) (SIDEWK/FTPATH)              7589\n",
       "18              134     PARK-SIGNED HWY-PUBLIC LANE              7483\n",
       "19              257  PARK CONTRARY POSTED CONDITION              7077"
      ]
     },
     "execution_count": 57,
     "metadata": {},
     "output_type": "execute_result"
    }
   ],
   "source": [
    "topt_freq = pd.DataFrame({'infraction_count':ptags_df.groupby(['infraction_code','code_description'])\n",
    "                          .size().sort_values(ascending=False).head(20)}).reset_index()\n",
    "topt_freq"
   ]
  },
  {
   "cell_type": "code",
   "execution_count": 216,
   "metadata": {
    "ExecuteTime": {
     "end_time": "2021-04-19T17:39:20.027896Z",
     "start_time": "2021-04-19T17:39:20.009900Z"
    }
   },
   "outputs": [
    {
     "data": {
      "text/plain": [
       "array(['PARK ON PRIVATE PROPERTY', 'PARK MACHINE-REQD FEE NOT PAID',\n",
       "       'PARK-SIGNED HWY-PROHIBIT DY/TM', 'PARK PROHIBITED TIME NO PERMIT',\n",
       "       'STOP-SIGNED HWY-PROHIBIT TM/DY', 'PARK - LONGER THAN 3 HOURS',\n",
       "       'STAND VEH.-PROHIBIT TIME/DAY', 'PARK-SIGNED HWY-EXC PERMT TIME',\n",
       "       'PARK ON MUNICIPAL PROPERTY', 'PARK-VEH. W/O VALID ONT PLATE',\n",
       "       'PARK-N.YORK 2AM-6AM DEC1-MAR31', 'STOP-SIGNED HIGHWAY-RUSH HOUR',\n",
       "       'PARK-WITHIN 3M OF FIRE HYDRANT', 'PARK COMMERC LOAD ZONE NOT LDG',\n",
       "       'PARK IN A FIRE ROUTE', 'STAND SIGNED TRANSIT STOP',\n",
       "       'PARKING MACH-NOT USED/NO FEE', 'STOP-(ON/OVER) (SIDEWK/FTPATH)',\n",
       "       'PARK-SIGNED HWY-PUBLIC LANE', 'PARK CONTRARY POSTED CONDITION'],\n",
       "      dtype=object)"
      ]
     },
     "execution_count": 216,
     "metadata": {},
     "output_type": "execute_result"
    }
   ],
   "source": [
    "np.array(topt_freq['code_description'])"
   ]
  },
  {
   "cell_type": "markdown",
   "metadata": {},
   "source": [
    "### 3.1.2. Top 20 ticket infractions (revenue)"
   ]
  },
  {
   "cell_type": "code",
   "execution_count": 59,
   "metadata": {
    "ExecuteTime": {
     "end_time": "2021-04-19T12:15:40.986097Z",
     "start_time": "2021-04-19T12:15:40.689889Z"
    }
   },
   "outputs": [
    {
     "data": {
      "text/html": [
       "<div>\n",
       "<style scoped>\n",
       "    .dataframe tbody tr th:only-of-type {\n",
       "        vertical-align: middle;\n",
       "    }\n",
       "\n",
       "    .dataframe tbody tr th {\n",
       "        vertical-align: top;\n",
       "    }\n",
       "\n",
       "    .dataframe thead th {\n",
       "        text-align: right;\n",
       "    }\n",
       "</style>\n",
       "<table border=\"1\" class=\"dataframe\">\n",
       "  <thead>\n",
       "    <tr style=\"text-align: right;\">\n",
       "      <th></th>\n",
       "      <th>infraction_code</th>\n",
       "      <th>code_description</th>\n",
       "      <th>infraction_revenue</th>\n",
       "    </tr>\n",
       "  </thead>\n",
       "  <tbody>\n",
       "    <tr>\n",
       "      <th>0</th>\n",
       "      <td>5</td>\n",
       "      <td>PARK-SIGNED HWY-PROHIBIT DY/TM</td>\n",
       "      <td>10232350</td>\n",
       "    </tr>\n",
       "    <tr>\n",
       "      <th>1</th>\n",
       "      <td>3</td>\n",
       "      <td>PARK ON PRIVATE PROPERTY</td>\n",
       "      <td>10145790</td>\n",
       "    </tr>\n",
       "    <tr>\n",
       "      <th>2</th>\n",
       "      <td>9</td>\n",
       "      <td>STOP-SIGNED HWY-PROHIBIT TM/DY</td>\n",
       "      <td>6928300</td>\n",
       "    </tr>\n",
       "    <tr>\n",
       "      <th>3</th>\n",
       "      <td>207</td>\n",
       "      <td>PARK MACHINE-REQD FEE NOT PAID</td>\n",
       "      <td>6451080</td>\n",
       "    </tr>\n",
       "    <tr>\n",
       "      <th>4</th>\n",
       "      <td>29</td>\n",
       "      <td>PARK PROHIBITED TIME NO PERMIT</td>\n",
       "      <td>4851800</td>\n",
       "    </tr>\n",
       "    <tr>\n",
       "      <th>5</th>\n",
       "      <td>8</td>\n",
       "      <td>STAND VEH.-PROHIBIT TIME/DAY</td>\n",
       "      <td>4325250</td>\n",
       "    </tr>\n",
       "    <tr>\n",
       "      <th>6</th>\n",
       "      <td>403</td>\n",
       "      <td>STOP-SIGNED HIGHWAY-RUSH HOUR</td>\n",
       "      <td>2928900</td>\n",
       "    </tr>\n",
       "    <tr>\n",
       "      <th>7</th>\n",
       "      <td>347</td>\n",
       "      <td>PARK IN A FIRE ROUTE</td>\n",
       "      <td>2627500</td>\n",
       "    </tr>\n",
       "    <tr>\n",
       "      <th>8</th>\n",
       "      <td>2</td>\n",
       "      <td>PARK - LONGER THAN 3 HOURS</td>\n",
       "      <td>2021820</td>\n",
       "    </tr>\n",
       "    <tr>\n",
       "      <th>9</th>\n",
       "      <td>367</td>\n",
       "      <td>STND ONSTRT ACCESSIBLE NO PRMT</td>\n",
       "      <td>1949400</td>\n",
       "    </tr>\n",
       "    <tr>\n",
       "      <th>10</th>\n",
       "      <td>15</td>\n",
       "      <td>PARK-WITHIN 3M OF FIRE HYDRANT</td>\n",
       "      <td>1631600</td>\n",
       "    </tr>\n",
       "    <tr>\n",
       "      <th>11</th>\n",
       "      <td>6</td>\n",
       "      <td>PARK-SIGNED HWY-EXC PERMT TIME</td>\n",
       "      <td>1590440</td>\n",
       "    </tr>\n",
       "    <tr>\n",
       "      <th>12</th>\n",
       "      <td>192</td>\n",
       "      <td>STAND SIGNED TRANSIT STOP</td>\n",
       "      <td>1483650</td>\n",
       "    </tr>\n",
       "    <tr>\n",
       "      <th>13</th>\n",
       "      <td>4</td>\n",
       "      <td>PARK ON MUNICIPAL PROPERTY</td>\n",
       "      <td>1164930</td>\n",
       "    </tr>\n",
       "    <tr>\n",
       "      <th>14</th>\n",
       "      <td>355</td>\n",
       "      <td>PARK IN ACCESSIBLE NO PERMIT</td>\n",
       "      <td>1142100</td>\n",
       "    </tr>\n",
       "    <tr>\n",
       "      <th>15</th>\n",
       "      <td>30</td>\n",
       "      <td>STOP-(ON/OVER) (SIDEWK/FTPATH)</td>\n",
       "      <td>1138200</td>\n",
       "    </tr>\n",
       "    <tr>\n",
       "      <th>16</th>\n",
       "      <td>406</td>\n",
       "      <td>PARK-VEH. W/O VALID ONT PLATE</td>\n",
       "      <td>1106600</td>\n",
       "    </tr>\n",
       "    <tr>\n",
       "      <th>17</th>\n",
       "      <td>28</td>\n",
       "      <td>PARK-N.YORK 2AM-6AM DEC1-MAR31</td>\n",
       "      <td>963160</td>\n",
       "    </tr>\n",
       "    <tr>\n",
       "      <th>18</th>\n",
       "      <td>384</td>\n",
       "      <td>STOP VEH OTR THN BCYCL-BYCL LN</td>\n",
       "      <td>735600</td>\n",
       "    </tr>\n",
       "    <tr>\n",
       "      <th>19</th>\n",
       "      <td>257</td>\n",
       "      <td>PARK CONTRARY POSTED CONDITION</td>\n",
       "      <td>707700</td>\n",
       "    </tr>\n",
       "  </tbody>\n",
       "</table>\n",
       "</div>"
      ],
      "text/plain": [
       "    infraction_code                code_description  infraction_revenue\n",
       "0                 5  PARK-SIGNED HWY-PROHIBIT DY/TM            10232350\n",
       "1                 3        PARK ON PRIVATE PROPERTY            10145790\n",
       "2                 9  STOP-SIGNED HWY-PROHIBIT TM/DY             6928300\n",
       "3               207  PARK MACHINE-REQD FEE NOT PAID             6451080\n",
       "4                29  PARK PROHIBITED TIME NO PERMIT             4851800\n",
       "5                 8    STAND VEH.-PROHIBIT TIME/DAY             4325250\n",
       "6               403   STOP-SIGNED HIGHWAY-RUSH HOUR             2928900\n",
       "7               347            PARK IN A FIRE ROUTE             2627500\n",
       "8                 2      PARK - LONGER THAN 3 HOURS             2021820\n",
       "9               367  STND ONSTRT ACCESSIBLE NO PRMT             1949400\n",
       "10               15  PARK-WITHIN 3M OF FIRE HYDRANT             1631600\n",
       "11                6  PARK-SIGNED HWY-EXC PERMT TIME             1590440\n",
       "12              192       STAND SIGNED TRANSIT STOP             1483650\n",
       "13                4      PARK ON MUNICIPAL PROPERTY             1164930\n",
       "14              355    PARK IN ACCESSIBLE NO PERMIT             1142100\n",
       "15               30  STOP-(ON/OVER) (SIDEWK/FTPATH)             1138200\n",
       "16              406   PARK-VEH. W/O VALID ONT PLATE             1106600\n",
       "17               28  PARK-N.YORK 2AM-6AM DEC1-MAR31              963160\n",
       "18              384  STOP VEH OTR THN BCYCL-BYCL LN              735600\n",
       "19              257  PARK CONTRARY POSTED CONDITION              707700"
      ]
     },
     "execution_count": 59,
     "metadata": {},
     "output_type": "execute_result"
    }
   ],
   "source": [
    "topt_rev = pd.DataFrame({'infraction_revenue':ptags_df.groupby(['infraction_code','code_description'])\n",
    "                          ['set_fine_amount'].sum().sort_values(ascending=False).head(20)}).reset_index()\n",
    "topt_rev"
   ]
  },
  {
   "cell_type": "markdown",
   "metadata": {},
   "source": [
    "### 3.1.3. Total revenue for all tickets"
   ]
  },
  {
   "cell_type": "code",
   "execution_count": 122,
   "metadata": {
    "ExecuteTime": {
     "end_time": "2021-04-19T14:01:31.642196Z",
     "start_time": "2021-04-19T14:01:31.493594Z"
    }
   },
   "outputs": [
    {
     "name": "stdout",
     "output_type": "stream",
     "text": [
      "The total revenue for all tickets is $ 70555350\n"
     ]
    }
   ],
   "source": [
    "print(\"The total revenue for all tickets is $ {}\".format(sum(ptags_df['set_fine_amount'])))"
   ]
  },
  {
   "cell_type": "markdown",
   "metadata": {},
   "source": [
    "### 3.1.4. a. Distance to closest parking lots for top 20 infractions"
   ]
  },
  {
   "cell_type": "markdown",
   "metadata": {},
   "source": [
    "#### uploading Green Parking data"
   ]
  },
  {
   "cell_type": "code",
   "execution_count": 62,
   "metadata": {
    "ExecuteTime": {
     "end_time": "2021-04-19T12:17:11.980417Z",
     "start_time": "2021-04-19T12:17:11.909606Z"
    }
   },
   "outputs": [
    {
     "name": "stdout",
     "output_type": "stream",
     "text": [
      "(252, 29)\n",
      "(252, 6)\n"
     ]
    },
    {
     "data": {
      "text/html": [
       "<div>\n",
       "<style scoped>\n",
       "    .dataframe tbody tr th:only-of-type {\n",
       "        vertical-align: middle;\n",
       "    }\n",
       "\n",
       "    .dataframe tbody tr th {\n",
       "        vertical-align: top;\n",
       "    }\n",
       "\n",
       "    .dataframe thead th {\n",
       "        text-align: right;\n",
       "    }\n",
       "</style>\n",
       "<table border=\"1\" class=\"dataframe\">\n",
       "  <thead>\n",
       "    <tr style=\"text-align: right;\">\n",
       "      <th></th>\n",
       "      <th>id</th>\n",
       "      <th>address</th>\n",
       "      <th>lat</th>\n",
       "      <th>lng</th>\n",
       "      <th>is_under_construction</th>\n",
       "      <th>capacity</th>\n",
       "    </tr>\n",
       "  </thead>\n",
       "  <tbody>\n",
       "    <tr>\n",
       "      <th>0</th>\n",
       "      <td>1</td>\n",
       "      <td>20 Charles Street East</td>\n",
       "      <td>43.669282</td>\n",
       "      <td>-79.385289</td>\n",
       "      <td>False</td>\n",
       "      <td>641</td>\n",
       "    </tr>\n",
       "    <tr>\n",
       "      <th>1</th>\n",
       "      <td>3</td>\n",
       "      <td>13 Isabella Street</td>\n",
       "      <td>43.667577</td>\n",
       "      <td>-79.384707</td>\n",
       "      <td>False</td>\n",
       "      <td>33</td>\n",
       "    </tr>\n",
       "    <tr>\n",
       "      <th>2</th>\n",
       "      <td>5</td>\n",
       "      <td>15 Wellesley Street East</td>\n",
       "      <td>43.664837</td>\n",
       "      <td>-79.383591</td>\n",
       "      <td>False</td>\n",
       "      <td>135</td>\n",
       "    </tr>\n",
       "  </tbody>\n",
       "</table>\n",
       "</div>"
      ],
      "text/plain": [
       "   id                   address        lat        lng  is_under_construction  \\\n",
       "0   1    20 Charles Street East  43.669282 -79.385289                  False   \n",
       "1   3        13 Isabella Street  43.667577 -79.384707                  False   \n",
       "2   5  15 Wellesley Street East  43.664837 -79.383591                  False   \n",
       "\n",
       "   capacity  \n",
       "0       641  \n",
       "1        33  \n",
       "2       135  "
      ]
     },
     "execution_count": 62,
     "metadata": {},
     "output_type": "execute_result"
    }
   ],
   "source": [
    "greenp_df = pd.read_json(r'data/green-p-parking-2019.json', orient='records')\n",
    "print(greenp_df.shape)\n",
    "greenp_df = greenp_df[['id','address','lat','lng','is_under_construction','capacity']]\n",
    "print(greenp_df.shape)\n",
    "greenp_df.head(3)"
   ]
  },
  {
   "cell_type": "code",
   "execution_count": 67,
   "metadata": {
    "ExecuteTime": {
     "end_time": "2021-04-19T12:19:44.212324Z",
     "start_time": "2021-04-19T12:19:44.190381Z"
    }
   },
   "outputs": [
    {
     "data": {
      "text/plain": [
       "False    248\n",
       "True       4\n",
       "Name: is_under_construction, dtype: int64"
      ]
     },
     "execution_count": 67,
     "metadata": {},
     "output_type": "execute_result"
    }
   ],
   "source": [
    "greenp_df['is_under_construction'].value_counts()"
   ]
  },
  {
   "cell_type": "code",
   "execution_count": 68,
   "metadata": {
    "ExecuteTime": {
     "end_time": "2021-04-19T12:19:45.449953Z",
     "start_time": "2021-04-19T12:19:45.428009Z"
    }
   },
   "outputs": [
    {
     "name": "stdout",
     "output_type": "stream",
     "text": [
      "<class 'pandas.core.frame.DataFrame'>\n",
      "RangeIndex: 252 entries, 0 to 251\n",
      "Data columns (total 6 columns):\n",
      " #   Column                 Non-Null Count  Dtype  \n",
      "---  ------                 --------------  -----  \n",
      " 0   id                     252 non-null    int64  \n",
      " 1   address                252 non-null    object \n",
      " 2   lat                    252 non-null    float64\n",
      " 3   lng                    252 non-null    float64\n",
      " 4   is_under_construction  252 non-null    bool   \n",
      " 5   capacity               252 non-null    int64  \n",
      "dtypes: bool(1), float64(2), int64(2), object(1)\n",
      "memory usage: 10.2+ KB\n"
     ]
    }
   ],
   "source": [
    "greenp_df.info()"
   ]
  },
  {
   "cell_type": "code",
   "execution_count": 125,
   "metadata": {
    "ExecuteTime": {
     "end_time": "2021-04-19T14:19:00.231138Z",
     "start_time": "2021-04-19T14:19:00.189249Z"
    }
   },
   "outputs": [
    {
     "data": {
      "text/html": [
       "<div>\n",
       "<style scoped>\n",
       "    .dataframe tbody tr th:only-of-type {\n",
       "        vertical-align: middle;\n",
       "    }\n",
       "\n",
       "    .dataframe tbody tr th {\n",
       "        vertical-align: top;\n",
       "    }\n",
       "\n",
       "    .dataframe thead th {\n",
       "        text-align: right;\n",
       "    }\n",
       "</style>\n",
       "<table border=\"1\" class=\"dataframe\">\n",
       "  <thead>\n",
       "    <tr style=\"text-align: right;\">\n",
       "      <th></th>\n",
       "      <th>id</th>\n",
       "      <th>address</th>\n",
       "      <th>lat</th>\n",
       "      <th>lng</th>\n",
       "      <th>is_under_construction</th>\n",
       "      <th>capacity</th>\n",
       "      <th>geometry</th>\n",
       "    </tr>\n",
       "  </thead>\n",
       "  <tbody>\n",
       "    <tr>\n",
       "      <th>0</th>\n",
       "      <td>1</td>\n",
       "      <td>20 Charles Street East</td>\n",
       "      <td>43.669282</td>\n",
       "      <td>-79.385289</td>\n",
       "      <td>False</td>\n",
       "      <td>641</td>\n",
       "      <td>POINT (-79.38529 43.66928)</td>\n",
       "    </tr>\n",
       "    <tr>\n",
       "      <th>1</th>\n",
       "      <td>3</td>\n",
       "      <td>13 Isabella Street</td>\n",
       "      <td>43.667577</td>\n",
       "      <td>-79.384707</td>\n",
       "      <td>False</td>\n",
       "      <td>33</td>\n",
       "      <td>POINT (-79.38471 43.66758)</td>\n",
       "    </tr>\n",
       "    <tr>\n",
       "      <th>2</th>\n",
       "      <td>5</td>\n",
       "      <td>15 Wellesley Street East</td>\n",
       "      <td>43.664837</td>\n",
       "      <td>-79.383591</td>\n",
       "      <td>False</td>\n",
       "      <td>135</td>\n",
       "      <td>POINT (-79.38359 43.66484)</td>\n",
       "    </tr>\n",
       "  </tbody>\n",
       "</table>\n",
       "</div>"
      ],
      "text/plain": [
       "   id                   address        lat        lng  is_under_construction  \\\n",
       "0   1    20 Charles Street East  43.669282 -79.385289                  False   \n",
       "1   3        13 Isabella Street  43.667577 -79.384707                  False   \n",
       "2   5  15 Wellesley Street East  43.664837 -79.383591                  False   \n",
       "\n",
       "   capacity                    geometry  \n",
       "0       641  POINT (-79.38529 43.66928)  \n",
       "1        33  POINT (-79.38471 43.66758)  \n",
       "2       135  POINT (-79.38359 43.66484)  "
      ]
     },
     "execution_count": 125,
     "metadata": {},
     "output_type": "execute_result"
    }
   ],
   "source": [
    "greenp_gdf = gpd.GeoDataFrame(greenp_df, geometry=gpd.points_from_xy(greenp_df.lng, greenp_df.lat))\n",
    "greenp_gdf.head(3)"
   ]
  },
  {
   "cell_type": "markdown",
   "metadata": {
    "ExecuteTime": {
     "end_time": "2021-04-17T16:00:27.453173Z",
     "start_time": "2021-04-17T16:00:27.432231Z"
    }
   },
   "source": [
    "#### Geocoding:"
   ]
  },
  {
   "cell_type": "code",
   "execution_count": 78,
   "metadata": {
    "ExecuteTime": {
     "end_time": "2021-04-19T12:27:05.314088Z",
     "start_time": "2021-04-19T12:27:04.625858Z"
    }
   },
   "outputs": [
    {
     "data": {
      "text/html": [
       "<div>\n",
       "<style scoped>\n",
       "    .dataframe tbody tr th:only-of-type {\n",
       "        vertical-align: middle;\n",
       "    }\n",
       "\n",
       "    .dataframe tbody tr th {\n",
       "        vertical-align: top;\n",
       "    }\n",
       "\n",
       "    .dataframe thead th {\n",
       "        text-align: right;\n",
       "    }\n",
       "</style>\n",
       "<table border=\"1\" class=\"dataframe\">\n",
       "  <thead>\n",
       "    <tr style=\"text-align: right;\">\n",
       "      <th></th>\n",
       "      <th>location2</th>\n",
       "      <th>ticket_count</th>\n",
       "    </tr>\n",
       "  </thead>\n",
       "  <tbody>\n",
       "    <tr>\n",
       "      <th>0</th>\n",
       "      <td>4001 LESLIE ST</td>\n",
       "      <td>5340</td>\n",
       "    </tr>\n",
       "    <tr>\n",
       "      <th>1</th>\n",
       "      <td>1 BRIMLEY RD S</td>\n",
       "      <td>3874</td>\n",
       "    </tr>\n",
       "    <tr>\n",
       "      <th>2</th>\n",
       "      <td>19 GRAND TRUNK CRES</td>\n",
       "      <td>3706</td>\n",
       "    </tr>\n",
       "    <tr>\n",
       "      <th>3</th>\n",
       "      <td>15 MARINE PARADE DR</td>\n",
       "      <td>3183</td>\n",
       "    </tr>\n",
       "    <tr>\n",
       "      <th>4</th>\n",
       "      <td>4700 KEELE ST</td>\n",
       "      <td>3149</td>\n",
       "    </tr>\n",
       "    <tr>\n",
       "      <th>5</th>\n",
       "      <td>2075 BAYVIEW AVE</td>\n",
       "      <td>3104</td>\n",
       "    </tr>\n",
       "    <tr>\n",
       "      <th>6</th>\n",
       "      <td>30 GRAND TRUNK CRES</td>\n",
       "      <td>2841</td>\n",
       "    </tr>\n",
       "    <tr>\n",
       "      <th>7</th>\n",
       "      <td>2183 LAKE SHORE BLVD W</td>\n",
       "      <td>2742</td>\n",
       "    </tr>\n",
       "    <tr>\n",
       "      <th>8</th>\n",
       "      <td>75 QUEENS WHARF RD</td>\n",
       "      <td>1998</td>\n",
       "    </tr>\n",
       "    <tr>\n",
       "      <th>9</th>\n",
       "      <td>5 VALHALLA INN RD</td>\n",
       "      <td>1923</td>\n",
       "    </tr>\n",
       "    <tr>\n",
       "      <th>10</th>\n",
       "      <td>576 FRONT ST W</td>\n",
       "      <td>1885</td>\n",
       "    </tr>\n",
       "    <tr>\n",
       "      <th>11</th>\n",
       "      <td>1750 FINCH AVE E</td>\n",
       "      <td>1880</td>\n",
       "    </tr>\n",
       "    <tr>\n",
       "      <th>12</th>\n",
       "      <td>17 ZORRA ST</td>\n",
       "      <td>1711</td>\n",
       "    </tr>\n",
       "    <tr>\n",
       "      <th>13</th>\n",
       "      <td>9 BOGERT AVE</td>\n",
       "      <td>1669</td>\n",
       "    </tr>\n",
       "    <tr>\n",
       "      <th>14</th>\n",
       "      <td>209 FORT YORK BLVD</td>\n",
       "      <td>1640</td>\n",
       "    </tr>\n",
       "    <tr>\n",
       "      <th>15</th>\n",
       "      <td>710 HUMBERWOOD BLVD</td>\n",
       "      <td>1604</td>\n",
       "    </tr>\n",
       "    <tr>\n",
       "      <th>16</th>\n",
       "      <td>162 CUMBERLAND ST</td>\n",
       "      <td>1592</td>\n",
       "    </tr>\n",
       "    <tr>\n",
       "      <th>17</th>\n",
       "      <td>JAMES ST</td>\n",
       "      <td>1549</td>\n",
       "    </tr>\n",
       "    <tr>\n",
       "      <th>18</th>\n",
       "      <td>75 EAST LIBERTY ST</td>\n",
       "      <td>1538</td>\n",
       "    </tr>\n",
       "    <tr>\n",
       "      <th>19</th>\n",
       "      <td>1 CHERRY ST</td>\n",
       "      <td>1533</td>\n",
       "    </tr>\n",
       "  </tbody>\n",
       "</table>\n",
       "</div>"
      ],
      "text/plain": [
       "                 location2  ticket_count\n",
       "0           4001 LESLIE ST          5340\n",
       "1           1 BRIMLEY RD S          3874\n",
       "2      19 GRAND TRUNK CRES          3706\n",
       "3      15 MARINE PARADE DR          3183\n",
       "4            4700 KEELE ST          3149\n",
       "5         2075 BAYVIEW AVE          3104\n",
       "6      30 GRAND TRUNK CRES          2841\n",
       "7   2183 LAKE SHORE BLVD W          2742\n",
       "8       75 QUEENS WHARF RD          1998\n",
       "9        5 VALHALLA INN RD          1923\n",
       "10          576 FRONT ST W          1885\n",
       "11        1750 FINCH AVE E          1880\n",
       "12             17 ZORRA ST          1711\n",
       "13            9 BOGERT AVE          1669\n",
       "14      209 FORT YORK BLVD          1640\n",
       "15     710 HUMBERWOOD BLVD          1604\n",
       "16       162 CUMBERLAND ST          1592\n",
       "17                JAMES ST          1549\n",
       "18      75 EAST LIBERTY ST          1538\n",
       "19             1 CHERRY ST          1533"
      ]
     },
     "execution_count": 78,
     "metadata": {},
     "output_type": "execute_result"
    }
   ],
   "source": [
    "top_loc = pd.DataFrame({'ticket_count':ptags_df.groupby(['location2'])\n",
    "                          .size().sort_values(ascending=False).head(20)}).reset_index()\n",
    "top_loc"
   ]
  },
  {
   "cell_type": "code",
   "execution_count": 79,
   "metadata": {
    "ExecuteTime": {
     "end_time": "2021-04-19T12:34:10.823473Z",
     "start_time": "2021-04-19T12:34:10.806485Z"
    }
   },
   "outputs": [
    {
     "data": {
      "text/html": [
       "<div>\n",
       "<style scoped>\n",
       "    .dataframe tbody tr th:only-of-type {\n",
       "        vertical-align: middle;\n",
       "    }\n",
       "\n",
       "    .dataframe tbody tr th {\n",
       "        vertical-align: top;\n",
       "    }\n",
       "\n",
       "    .dataframe thead th {\n",
       "        text-align: right;\n",
       "    }\n",
       "</style>\n",
       "<table border=\"1\" class=\"dataframe\">\n",
       "  <thead>\n",
       "    <tr style=\"text-align: right;\">\n",
       "      <th></th>\n",
       "      <th>location2</th>\n",
       "      <th>ticket_count</th>\n",
       "      <th>full_address</th>\n",
       "    </tr>\n",
       "  </thead>\n",
       "  <tbody>\n",
       "    <tr>\n",
       "      <th>0</th>\n",
       "      <td>4001 LESLIE ST</td>\n",
       "      <td>5340</td>\n",
       "      <td>4001 LESLIE ST, Toronto, ON, Canada</td>\n",
       "    </tr>\n",
       "    <tr>\n",
       "      <th>1</th>\n",
       "      <td>1 BRIMLEY RD S</td>\n",
       "      <td>3874</td>\n",
       "      <td>1 BRIMLEY RD S, Toronto, ON, Canada</td>\n",
       "    </tr>\n",
       "    <tr>\n",
       "      <th>2</th>\n",
       "      <td>19 GRAND TRUNK CRES</td>\n",
       "      <td>3706</td>\n",
       "      <td>19 GRAND TRUNK CRES, Toronto, ON, Canada</td>\n",
       "    </tr>\n",
       "  </tbody>\n",
       "</table>\n",
       "</div>"
      ],
      "text/plain": [
       "             location2  ticket_count                              full_address\n",
       "0       4001 LESLIE ST          5340       4001 LESLIE ST, Toronto, ON, Canada\n",
       "1       1 BRIMLEY RD S          3874       1 BRIMLEY RD S, Toronto, ON, Canada\n",
       "2  19 GRAND TRUNK CRES          3706  19 GRAND TRUNK CRES, Toronto, ON, Canada"
      ]
     },
     "execution_count": 79,
     "metadata": {},
     "output_type": "execute_result"
    }
   ],
   "source": [
    "top_loc['full_address'] = top_loc['location2'].astype(str) + ', Toronto, ON, Canada'\n",
    "top_loc.head(3)"
   ]
  },
  {
   "cell_type": "code",
   "execution_count": 80,
   "metadata": {
    "ExecuteTime": {
     "end_time": "2021-04-19T12:37:51.981575Z",
     "start_time": "2021-04-19T12:37:40.647808Z"
    }
   },
   "outputs": [],
   "source": [
    "# finding geo data \n",
    "locator = Nominatim(user_agent=\"myGeocoder\")\n",
    "geocode = RateLimiter(locator.geocode, min_delay_seconds=.05)\n",
    "top_loc['location'] = top_loc['full_address'].apply(geocode)\n",
    "top_loc['point'] = top_loc['location'].apply(lambda loc: tuple(loc.point) if loc else None)"
   ]
  },
  {
   "cell_type": "code",
   "execution_count": 81,
   "metadata": {
    "ExecuteTime": {
     "end_time": "2021-04-19T12:37:53.487945Z",
     "start_time": "2021-04-19T12:37:53.455033Z"
    }
   },
   "outputs": [
    {
     "data": {
      "text/html": [
       "<div>\n",
       "<style scoped>\n",
       "    .dataframe tbody tr th:only-of-type {\n",
       "        vertical-align: middle;\n",
       "    }\n",
       "\n",
       "    .dataframe tbody tr th {\n",
       "        vertical-align: top;\n",
       "    }\n",
       "\n",
       "    .dataframe thead th {\n",
       "        text-align: right;\n",
       "    }\n",
       "</style>\n",
       "<table border=\"1\" class=\"dataframe\">\n",
       "  <thead>\n",
       "    <tr style=\"text-align: right;\">\n",
       "      <th></th>\n",
       "      <th>location2</th>\n",
       "      <th>ticket_count</th>\n",
       "      <th>full_address</th>\n",
       "      <th>location</th>\n",
       "      <th>point</th>\n",
       "    </tr>\n",
       "  </thead>\n",
       "  <tbody>\n",
       "    <tr>\n",
       "      <th>0</th>\n",
       "      <td>4001 LESLIE ST</td>\n",
       "      <td>5340</td>\n",
       "      <td>4001 LESLIE ST, Toronto, ON, Canada</td>\n",
       "      <td>(North York General Hospital, 4001, Leslie Str...</td>\n",
       "      <td>(43.7692285, -79.3625576854712, 0.0)</td>\n",
       "    </tr>\n",
       "    <tr>\n",
       "      <th>1</th>\n",
       "      <td>1 BRIMLEY RD S</td>\n",
       "      <td>3874</td>\n",
       "      <td>1 BRIMLEY RD S, Toronto, ON, Canada</td>\n",
       "      <td>(1, Brimley Road South, Scarborough Southwest,...</td>\n",
       "      <td>(43.7059623, -79.2354915, 0.0)</td>\n",
       "    </tr>\n",
       "    <tr>\n",
       "      <th>2</th>\n",
       "      <td>19 GRAND TRUNK CRES</td>\n",
       "      <td>3706</td>\n",
       "      <td>19 GRAND TRUNK CRES, Toronto, ON, Canada</td>\n",
       "      <td>(Grand Trunk Crescent, Harbourfront, Spadina—F...</td>\n",
       "      <td>(43.6416809, -79.3830414, 0.0)</td>\n",
       "    </tr>\n",
       "    <tr>\n",
       "      <th>3</th>\n",
       "      <td>15 MARINE PARADE DR</td>\n",
       "      <td>3183</td>\n",
       "      <td>15 MARINE PARADE DR, Toronto, ON, Canada</td>\n",
       "      <td>(15, Marine Parade Drive, Etobicoke—Lakeshore,...</td>\n",
       "      <td>(43.629106300000004, -79.47541067335007, 0.0)</td>\n",
       "    </tr>\n",
       "    <tr>\n",
       "      <th>4</th>\n",
       "      <td>4700 KEELE ST</td>\n",
       "      <td>3149</td>\n",
       "      <td>4700 KEELE ST, Toronto, ON, Canada</td>\n",
       "      <td>(4700, Keele Street, Humber River—Black Creek,...</td>\n",
       "      <td>(43.7732157, -79.4938034, 0.0)</td>\n",
       "    </tr>\n",
       "  </tbody>\n",
       "</table>\n",
       "</div>"
      ],
      "text/plain": [
       "             location2  ticket_count  \\\n",
       "0       4001 LESLIE ST          5340   \n",
       "1       1 BRIMLEY RD S          3874   \n",
       "2  19 GRAND TRUNK CRES          3706   \n",
       "3  15 MARINE PARADE DR          3183   \n",
       "4        4700 KEELE ST          3149   \n",
       "\n",
       "                               full_address  \\\n",
       "0       4001 LESLIE ST, Toronto, ON, Canada   \n",
       "1       1 BRIMLEY RD S, Toronto, ON, Canada   \n",
       "2  19 GRAND TRUNK CRES, Toronto, ON, Canada   \n",
       "3  15 MARINE PARADE DR, Toronto, ON, Canada   \n",
       "4        4700 KEELE ST, Toronto, ON, Canada   \n",
       "\n",
       "                                            location  \\\n",
       "0  (North York General Hospital, 4001, Leslie Str...   \n",
       "1  (1, Brimley Road South, Scarborough Southwest,...   \n",
       "2  (Grand Trunk Crescent, Harbourfront, Spadina—F...   \n",
       "3  (15, Marine Parade Drive, Etobicoke—Lakeshore,...   \n",
       "4  (4700, Keele Street, Humber River—Black Creek,...   \n",
       "\n",
       "                                           point  \n",
       "0           (43.7692285, -79.3625576854712, 0.0)  \n",
       "1                 (43.7059623, -79.2354915, 0.0)  \n",
       "2                 (43.6416809, -79.3830414, 0.0)  \n",
       "3  (43.629106300000004, -79.47541067335007, 0.0)  \n",
       "4                 (43.7732157, -79.4938034, 0.0)  "
      ]
     },
     "execution_count": 81,
     "metadata": {},
     "output_type": "execute_result"
    }
   ],
   "source": [
    "top_loc.head()"
   ]
  },
  {
   "cell_type": "code",
   "execution_count": 82,
   "metadata": {
    "ExecuteTime": {
     "end_time": "2021-04-19T12:38:28.128117Z",
     "start_time": "2021-04-19T12:38:28.099154Z"
    }
   },
   "outputs": [
    {
     "name": "stdout",
     "output_type": "stream",
     "text": [
      "<class 'pandas.core.frame.DataFrame'>\n",
      "RangeIndex: 20 entries, 0 to 19\n",
      "Data columns (total 5 columns):\n",
      " #   Column        Non-Null Count  Dtype \n",
      "---  ------        --------------  ----- \n",
      " 0   location2     20 non-null     object\n",
      " 1   ticket_count  20 non-null     int64 \n",
      " 2   full_address  20 non-null     object\n",
      " 3   location      20 non-null     object\n",
      " 4   point         20 non-null     object\n",
      "dtypes: int64(1), object(4)\n",
      "memory usage: 928.0+ bytes\n"
     ]
    }
   ],
   "source": [
    "top_loc.info()"
   ]
  },
  {
   "cell_type": "code",
   "execution_count": 86,
   "metadata": {
    "ExecuteTime": {
     "end_time": "2021-04-19T12:42:25.218774Z",
     "start_time": "2021-04-19T12:42:25.189847Z"
    }
   },
   "outputs": [
    {
     "data": {
      "text/html": [
       "<div>\n",
       "<style scoped>\n",
       "    .dataframe tbody tr th:only-of-type {\n",
       "        vertical-align: middle;\n",
       "    }\n",
       "\n",
       "    .dataframe tbody tr th {\n",
       "        vertical-align: top;\n",
       "    }\n",
       "\n",
       "    .dataframe thead th {\n",
       "        text-align: right;\n",
       "    }\n",
       "</style>\n",
       "<table border=\"1\" class=\"dataframe\">\n",
       "  <thead>\n",
       "    <tr style=\"text-align: right;\">\n",
       "      <th></th>\n",
       "      <th>location2</th>\n",
       "      <th>ticket_count</th>\n",
       "      <th>full_address</th>\n",
       "      <th>location</th>\n",
       "      <th>point</th>\n",
       "      <th>latitude</th>\n",
       "      <th>longitude</th>\n",
       "    </tr>\n",
       "  </thead>\n",
       "  <tbody>\n",
       "    <tr>\n",
       "      <th>0</th>\n",
       "      <td>4001 LESLIE ST</td>\n",
       "      <td>5340</td>\n",
       "      <td>4001 LESLIE ST, Toronto, ON, Canada</td>\n",
       "      <td>(North York General Hospital, 4001, Leslie Str...</td>\n",
       "      <td>(43.7692285, -79.3625576854712, 0.0)</td>\n",
       "      <td>43.769228</td>\n",
       "      <td>-79.362558</td>\n",
       "    </tr>\n",
       "    <tr>\n",
       "      <th>1</th>\n",
       "      <td>1 BRIMLEY RD S</td>\n",
       "      <td>3874</td>\n",
       "      <td>1 BRIMLEY RD S, Toronto, ON, Canada</td>\n",
       "      <td>(1, Brimley Road South, Scarborough Southwest,...</td>\n",
       "      <td>(43.7059623, -79.2354915, 0.0)</td>\n",
       "      <td>43.705962</td>\n",
       "      <td>-79.235491</td>\n",
       "    </tr>\n",
       "    <tr>\n",
       "      <th>2</th>\n",
       "      <td>19 GRAND TRUNK CRES</td>\n",
       "      <td>3706</td>\n",
       "      <td>19 GRAND TRUNK CRES, Toronto, ON, Canada</td>\n",
       "      <td>(Grand Trunk Crescent, Harbourfront, Spadina—F...</td>\n",
       "      <td>(43.6416809, -79.3830414, 0.0)</td>\n",
       "      <td>43.641681</td>\n",
       "      <td>-79.383041</td>\n",
       "    </tr>\n",
       "  </tbody>\n",
       "</table>\n",
       "</div>"
      ],
      "text/plain": [
       "             location2  ticket_count  \\\n",
       "0       4001 LESLIE ST          5340   \n",
       "1       1 BRIMLEY RD S          3874   \n",
       "2  19 GRAND TRUNK CRES          3706   \n",
       "\n",
       "                               full_address  \\\n",
       "0       4001 LESLIE ST, Toronto, ON, Canada   \n",
       "1       1 BRIMLEY RD S, Toronto, ON, Canada   \n",
       "2  19 GRAND TRUNK CRES, Toronto, ON, Canada   \n",
       "\n",
       "                                            location  \\\n",
       "0  (North York General Hospital, 4001, Leslie Str...   \n",
       "1  (1, Brimley Road South, Scarborough Southwest,...   \n",
       "2  (Grand Trunk Crescent, Harbourfront, Spadina—F...   \n",
       "\n",
       "                                  point   latitude  longitude  \n",
       "0  (43.7692285, -79.3625576854712, 0.0)  43.769228 -79.362558  \n",
       "1        (43.7059623, -79.2354915, 0.0)  43.705962 -79.235491  \n",
       "2        (43.6416809, -79.3830414, 0.0)  43.641681 -79.383041  "
      ]
     },
     "execution_count": 86,
     "metadata": {},
     "output_type": "execute_result"
    }
   ],
   "source": [
    "top_loc['latitude'] = top_loc['point'].apply(lambda x: x[0])\n",
    "top_loc['longitude'] = top_loc['point'].apply(lambda x: x[1])\n",
    "top_loc.head(3)"
   ]
  },
  {
   "cell_type": "code",
   "execution_count": 87,
   "metadata": {
    "ExecuteTime": {
     "end_time": "2021-04-19T12:48:41.818892Z",
     "start_time": "2021-04-19T12:48:41.809913Z"
    }
   },
   "outputs": [],
   "source": [
    "top_loc.drop(columns=['full_address','location','point'], axis=1, inplace=True)"
   ]
  },
  {
   "cell_type": "code",
   "execution_count": 88,
   "metadata": {
    "ExecuteTime": {
     "end_time": "2021-04-19T12:50:09.201998Z",
     "start_time": "2021-04-19T12:50:09.164105Z"
    }
   },
   "outputs": [
    {
     "name": "stdout",
     "output_type": "stream",
     "text": [
      "<class 'geopandas.geodataframe.GeoDataFrame'>\n",
      "RangeIndex: 20 entries, 0 to 19\n",
      "Data columns (total 5 columns):\n",
      " #   Column        Non-Null Count  Dtype   \n",
      "---  ------        --------------  -----   \n",
      " 0   location2     20 non-null     object  \n",
      " 1   ticket_count  20 non-null     int64   \n",
      " 2   latitude      20 non-null     float64 \n",
      " 3   longitude     20 non-null     float64 \n",
      " 4   geometry      20 non-null     geometry\n",
      "dtypes: float64(2), geometry(1), int64(1), object(1)\n",
      "memory usage: 928.0+ bytes\n"
     ]
    }
   ],
   "source": [
    "toploc_gdf = gpd.GeoDataFrame(top_loc, geometry=gpd.points_from_xy(top_loc.longitude, top_loc.latitude))\n",
    "toploc_gdf.info()"
   ]
  },
  {
   "cell_type": "code",
   "execution_count": 124,
   "metadata": {
    "ExecuteTime": {
     "end_time": "2021-04-19T14:15:48.808690Z",
     "start_time": "2021-04-19T14:15:48.779729Z"
    }
   },
   "outputs": [
    {
     "data": {
      "text/html": [
       "<div>\n",
       "<style scoped>\n",
       "    .dataframe tbody tr th:only-of-type {\n",
       "        vertical-align: middle;\n",
       "    }\n",
       "\n",
       "    .dataframe tbody tr th {\n",
       "        vertical-align: top;\n",
       "    }\n",
       "\n",
       "    .dataframe thead th {\n",
       "        text-align: right;\n",
       "    }\n",
       "</style>\n",
       "<table border=\"1\" class=\"dataframe\">\n",
       "  <thead>\n",
       "    <tr style=\"text-align: right;\">\n",
       "      <th></th>\n",
       "      <th>location2</th>\n",
       "      <th>ticket_count</th>\n",
       "      <th>latitude</th>\n",
       "      <th>longitude</th>\n",
       "      <th>geometry</th>\n",
       "    </tr>\n",
       "  </thead>\n",
       "  <tbody>\n",
       "    <tr>\n",
       "      <th>0</th>\n",
       "      <td>4001 LESLIE ST</td>\n",
       "      <td>5340</td>\n",
       "      <td>43.769228</td>\n",
       "      <td>-79.362558</td>\n",
       "      <td>POINT (-79.36256 43.76923)</td>\n",
       "    </tr>\n",
       "    <tr>\n",
       "      <th>1</th>\n",
       "      <td>1 BRIMLEY RD S</td>\n",
       "      <td>3874</td>\n",
       "      <td>43.705962</td>\n",
       "      <td>-79.235491</td>\n",
       "      <td>POINT (-79.23549 43.70596)</td>\n",
       "    </tr>\n",
       "    <tr>\n",
       "      <th>2</th>\n",
       "      <td>19 GRAND TRUNK CRES</td>\n",
       "      <td>3706</td>\n",
       "      <td>43.641681</td>\n",
       "      <td>-79.383041</td>\n",
       "      <td>POINT (-79.38304 43.64168)</td>\n",
       "    </tr>\n",
       "  </tbody>\n",
       "</table>\n",
       "</div>"
      ],
      "text/plain": [
       "             location2  ticket_count   latitude  longitude  \\\n",
       "0       4001 LESLIE ST          5340  43.769228 -79.362558   \n",
       "1       1 BRIMLEY RD S          3874  43.705962 -79.235491   \n",
       "2  19 GRAND TRUNK CRES          3706  43.641681 -79.383041   \n",
       "\n",
       "                     geometry  \n",
       "0  POINT (-79.36256 43.76923)  \n",
       "1  POINT (-79.23549 43.70596)  \n",
       "2  POINT (-79.38304 43.64168)  "
      ]
     },
     "execution_count": 124,
     "metadata": {},
     "output_type": "execute_result"
    }
   ],
   "source": [
    "toploc_gdf.head(3)"
   ]
  },
  {
   "cell_type": "code",
   "execution_count": 158,
   "metadata": {
    "ExecuteTime": {
     "end_time": "2021-04-19T15:39:38.436172Z",
     "start_time": "2021-04-19T15:39:38.414231Z"
    }
   },
   "outputs": [],
   "source": [
    "def find_nearest(gdA, gdB, Bcolums):\n",
    "    nA = np.array(list(gdA.geometry.apply(lambda x: (x.x, x.y))))\n",
    "    nB = np.array(list(gdB.geometry.apply(lambda x: (x.x, x.y))))\n",
    "    btree = cKDTree(nB)\n",
    "    dist, idx = btree.query(nA, k=1)\n",
    "    gdB_nearest = gdB.iloc[idx].drop(columns=\"geometry\").reset_index(drop=True)\n",
    "    gdf = pd.concat(\n",
    "        [\n",
    "            gdA.reset_index(drop=True),\n",
    "            gdB_nearest[Bcolums],\n",
    "            #pd.Series(dist, name='dist')\n",
    "        ], axis=1)\n",
    "    return gdf"
   ]
  },
  {
   "cell_type": "code",
   "execution_count": 159,
   "metadata": {
    "ExecuteTime": {
     "end_time": "2021-04-19T15:39:39.139993Z",
     "start_time": "2021-04-19T15:39:39.062508Z"
    }
   },
   "outputs": [
    {
     "data": {
      "text/html": [
       "<div>\n",
       "<style scoped>\n",
       "    .dataframe tbody tr th:only-of-type {\n",
       "        vertical-align: middle;\n",
       "    }\n",
       "\n",
       "    .dataframe tbody tr th {\n",
       "        vertical-align: top;\n",
       "    }\n",
       "\n",
       "    .dataframe thead th {\n",
       "        text-align: right;\n",
       "    }\n",
       "</style>\n",
       "<table border=\"1\" class=\"dataframe\">\n",
       "  <thead>\n",
       "    <tr style=\"text-align: right;\">\n",
       "      <th></th>\n",
       "      <th>location2</th>\n",
       "      <th>ticket_count</th>\n",
       "      <th>latitude</th>\n",
       "      <th>longitude</th>\n",
       "      <th>geometry</th>\n",
       "      <th>address</th>\n",
       "      <th>id</th>\n",
       "      <th>lat</th>\n",
       "      <th>lng</th>\n",
       "      <th>greenp_dist_km</th>\n",
       "    </tr>\n",
       "  </thead>\n",
       "  <tbody>\n",
       "    <tr>\n",
       "      <th>0</th>\n",
       "      <td>4001 LESLIE ST</td>\n",
       "      <td>5340</td>\n",
       "      <td>43.769228</td>\n",
       "      <td>-79.362558</td>\n",
       "      <td>POINT (-79.36256 43.76923)</td>\n",
       "      <td>Leslie Lot - 2760 Old Leslie Street</td>\n",
       "      <td>815</td>\n",
       "      <td>43.770058</td>\n",
       "      <td>-79.367484</td>\n",
       "      <td>0.407</td>\n",
       "    </tr>\n",
       "    <tr>\n",
       "      <th>1</th>\n",
       "      <td>1 BRIMLEY RD S</td>\n",
       "      <td>3874</td>\n",
       "      <td>43.705962</td>\n",
       "      <td>-79.235491</td>\n",
       "      <td>POINT (-79.23549 43.70596)</td>\n",
       "      <td>1 Brimley Road (Bluffer's Park)</td>\n",
       "      <td>702</td>\n",
       "      <td>43.706640</td>\n",
       "      <td>-79.235437</td>\n",
       "      <td>0.075</td>\n",
       "    </tr>\n",
       "    <tr>\n",
       "      <th>2</th>\n",
       "      <td>19 GRAND TRUNK CRES</td>\n",
       "      <td>3706</td>\n",
       "      <td>43.641681</td>\n",
       "      <td>-79.383041</td>\n",
       "      <td>POINT (-79.38304 43.64168)</td>\n",
       "      <td>40 York Street</td>\n",
       "      <td>52</td>\n",
       "      <td>43.645536</td>\n",
       "      <td>-79.382724</td>\n",
       "      <td>0.429</td>\n",
       "    </tr>\n",
       "    <tr>\n",
       "      <th>3</th>\n",
       "      <td>15 MARINE PARADE DR</td>\n",
       "      <td>3183</td>\n",
       "      <td>43.629106</td>\n",
       "      <td>-79.475411</td>\n",
       "      <td>POINT (-79.47541 43.62911)</td>\n",
       "      <td>15 Marine Parade Drive</td>\n",
       "      <td>534</td>\n",
       "      <td>43.626790</td>\n",
       "      <td>-79.476745</td>\n",
       "      <td>0.279</td>\n",
       "    </tr>\n",
       "    <tr>\n",
       "      <th>4</th>\n",
       "      <td>4700 KEELE ST</td>\n",
       "      <td>3149</td>\n",
       "      <td>43.773216</td>\n",
       "      <td>-79.493803</td>\n",
       "      <td>POINT (-79.49380 43.77322)</td>\n",
       "      <td>3950 Keele Street</td>\n",
       "      <td>833</td>\n",
       "      <td>43.765523</td>\n",
       "      <td>-79.491758</td>\n",
       "      <td>0.870</td>\n",
       "    </tr>\n",
       "    <tr>\n",
       "      <th>5</th>\n",
       "      <td>2075 BAYVIEW AVE</td>\n",
       "      <td>3104</td>\n",
       "      <td>43.722859</td>\n",
       "      <td>-79.375661</td>\n",
       "      <td>POINT (-79.37566 43.72286)</td>\n",
       "      <td>2170 Bayview avenue</td>\n",
       "      <td>424</td>\n",
       "      <td>43.723875</td>\n",
       "      <td>-79.379571</td>\n",
       "      <td>0.335</td>\n",
       "    </tr>\n",
       "    <tr>\n",
       "      <th>6</th>\n",
       "      <td>30 GRAND TRUNK CRES</td>\n",
       "      <td>2841</td>\n",
       "      <td>43.642161</td>\n",
       "      <td>-79.382900</td>\n",
       "      <td>POINT (-79.38290 43.64216)</td>\n",
       "      <td>40 York Street</td>\n",
       "      <td>52</td>\n",
       "      <td>43.645536</td>\n",
       "      <td>-79.382724</td>\n",
       "      <td>0.375</td>\n",
       "    </tr>\n",
       "    <tr>\n",
       "      <th>7</th>\n",
       "      <td>2183 LAKE SHORE BLVD W</td>\n",
       "      <td>2742</td>\n",
       "      <td>43.623312</td>\n",
       "      <td>-79.479790</td>\n",
       "      <td>POINT (-79.47979 43.62331)</td>\n",
       "      <td>2195 Lake shore Blvd West (Parks)</td>\n",
       "      <td>522</td>\n",
       "      <td>43.622774</td>\n",
       "      <td>-79.476734</td>\n",
       "      <td>0.254</td>\n",
       "    </tr>\n",
       "    <tr>\n",
       "      <th>8</th>\n",
       "      <td>75 QUEENS WHARF RD</td>\n",
       "      <td>1998</td>\n",
       "      <td>43.638498</td>\n",
       "      <td>-79.397993</td>\n",
       "      <td>POINT (-79.39799 43.63850)</td>\n",
       "      <td>545 Lake Shore Boulevard West</td>\n",
       "      <td>302</td>\n",
       "      <td>43.636456</td>\n",
       "      <td>-79.398691</td>\n",
       "      <td>0.234</td>\n",
       "    </tr>\n",
       "    <tr>\n",
       "      <th>9</th>\n",
       "      <td>5 VALHALLA INN RD</td>\n",
       "      <td>1923</td>\n",
       "      <td>43.641171</td>\n",
       "      <td>-79.560159</td>\n",
       "      <td>POINT (-79.56016 43.64117)</td>\n",
       "      <td>Kipling South Lot - 400 Munster Avenue</td>\n",
       "      <td>801</td>\n",
       "      <td>43.636572</td>\n",
       "      <td>-79.534117</td>\n",
       "      <td>2.163</td>\n",
       "    </tr>\n",
       "    <tr>\n",
       "      <th>10</th>\n",
       "      <td>576 FRONT ST W</td>\n",
       "      <td>1885</td>\n",
       "      <td>43.640916</td>\n",
       "      <td>-79.401110</td>\n",
       "      <td>POINT (-79.40111 43.64092)</td>\n",
       "      <td>10 Portland Street</td>\n",
       "      <td>96</td>\n",
       "      <td>43.641635</td>\n",
       "      <td>-79.399159</td>\n",
       "      <td>0.177</td>\n",
       "    </tr>\n",
       "    <tr>\n",
       "      <th>11</th>\n",
       "      <td>1750 FINCH AVE E</td>\n",
       "      <td>1880</td>\n",
       "      <td>43.793791</td>\n",
       "      <td>-79.350308</td>\n",
       "      <td>POINT (-79.35031 43.79379)</td>\n",
       "      <td>Don Mills Lot - 1800 Sheppard Ave East</td>\n",
       "      <td>816</td>\n",
       "      <td>43.775815</td>\n",
       "      <td>-79.346707</td>\n",
       "      <td>2.018</td>\n",
       "    </tr>\n",
       "    <tr>\n",
       "      <th>12</th>\n",
       "      <td>17 ZORRA ST</td>\n",
       "      <td>1711</td>\n",
       "      <td>43.621142</td>\n",
       "      <td>-79.521908</td>\n",
       "      <td>POINT (-79.52191 43.62114)</td>\n",
       "      <td>WOOLGAR LANEWAY REAR OF 1124 THE QUEENSWAY</td>\n",
       "      <td>516</td>\n",
       "      <td>43.623355</td>\n",
       "      <td>-79.519000</td>\n",
       "      <td>0.340</td>\n",
       "    </tr>\n",
       "    <tr>\n",
       "      <th>13</th>\n",
       "      <td>9 BOGERT AVE</td>\n",
       "      <td>1669</td>\n",
       "      <td>43.760284</td>\n",
       "      <td>-79.411210</td>\n",
       "      <td>POINT (-79.41121 43.76028)</td>\n",
       "      <td>10 Harlandale Avenue</td>\n",
       "      <td>403</td>\n",
       "      <td>43.762168</td>\n",
       "      <td>-79.412441</td>\n",
       "      <td>0.232</td>\n",
       "    </tr>\n",
       "    <tr>\n",
       "      <th>14</th>\n",
       "      <td>209 FORT YORK BLVD</td>\n",
       "      <td>1640</td>\n",
       "      <td>43.637063</td>\n",
       "      <td>-79.404529</td>\n",
       "      <td>POINT (-79.40453 43.63706)</td>\n",
       "      <td>250 Fort York Blvd.</td>\n",
       "      <td>266</td>\n",
       "      <td>43.637208</td>\n",
       "      <td>-79.406461</td>\n",
       "      <td>0.157</td>\n",
       "    </tr>\n",
       "    <tr>\n",
       "      <th>15</th>\n",
       "      <td>710 HUMBERWOOD BLVD</td>\n",
       "      <td>1604</td>\n",
       "      <td>43.724727</td>\n",
       "      <td>-79.616777</td>\n",
       "      <td>POINT (-79.61678 43.72473)</td>\n",
       "      <td>14 Barkwin Dr.</td>\n",
       "      <td>532</td>\n",
       "      <td>43.738381</td>\n",
       "      <td>-79.565283</td>\n",
       "      <td>4.417</td>\n",
       "    </tr>\n",
       "    <tr>\n",
       "      <th>16</th>\n",
       "      <td>162 CUMBERLAND ST</td>\n",
       "      <td>1592</td>\n",
       "      <td>43.669957</td>\n",
       "      <td>-79.393594</td>\n",
       "      <td>POINT (-79.39359 43.66996)</td>\n",
       "      <td>74 Yorkville Avenue</td>\n",
       "      <td>215</td>\n",
       "      <td>43.670936</td>\n",
       "      <td>-79.392222</td>\n",
       "      <td>0.155</td>\n",
       "    </tr>\n",
       "    <tr>\n",
       "      <th>17</th>\n",
       "      <td>JAMES ST</td>\n",
       "      <td>1549</td>\n",
       "      <td>43.653344</td>\n",
       "      <td>-79.381195</td>\n",
       "      <td>POINT (-79.38120 43.65334)</td>\n",
       "      <td>20 Dundas Square</td>\n",
       "      <td>34</td>\n",
       "      <td>43.656004</td>\n",
       "      <td>-79.379933</td>\n",
       "      <td>0.313</td>\n",
       "    </tr>\n",
       "    <tr>\n",
       "      <th>18</th>\n",
       "      <td>75 EAST LIBERTY ST</td>\n",
       "      <td>1538</td>\n",
       "      <td>43.637993</td>\n",
       "      <td>-79.414769</td>\n",
       "      <td>POINT (-79.41477 43.63799)</td>\n",
       "      <td>1030 King Street West - garage entrance via Sh...</td>\n",
       "      <td>275</td>\n",
       "      <td>43.641907</td>\n",
       "      <td>-79.416237</td>\n",
       "      <td>0.451</td>\n",
       "    </tr>\n",
       "    <tr>\n",
       "      <th>19</th>\n",
       "      <td>1 CHERRY ST</td>\n",
       "      <td>1533</td>\n",
       "      <td>43.640840</td>\n",
       "      <td>-79.348568</td>\n",
       "      <td>POINT (-79.34857 43.64084)</td>\n",
       "      <td>115 Unwin Avenue</td>\n",
       "      <td>243</td>\n",
       "      <td>43.641425</td>\n",
       "      <td>-79.341888</td>\n",
       "      <td>0.543</td>\n",
       "    </tr>\n",
       "  </tbody>\n",
       "</table>\n",
       "</div>"
      ],
      "text/plain": [
       "                 location2  ticket_count   latitude  longitude  \\\n",
       "0           4001 LESLIE ST          5340  43.769228 -79.362558   \n",
       "1           1 BRIMLEY RD S          3874  43.705962 -79.235491   \n",
       "2      19 GRAND TRUNK CRES          3706  43.641681 -79.383041   \n",
       "3      15 MARINE PARADE DR          3183  43.629106 -79.475411   \n",
       "4            4700 KEELE ST          3149  43.773216 -79.493803   \n",
       "5         2075 BAYVIEW AVE          3104  43.722859 -79.375661   \n",
       "6      30 GRAND TRUNK CRES          2841  43.642161 -79.382900   \n",
       "7   2183 LAKE SHORE BLVD W          2742  43.623312 -79.479790   \n",
       "8       75 QUEENS WHARF RD          1998  43.638498 -79.397993   \n",
       "9        5 VALHALLA INN RD          1923  43.641171 -79.560159   \n",
       "10          576 FRONT ST W          1885  43.640916 -79.401110   \n",
       "11        1750 FINCH AVE E          1880  43.793791 -79.350308   \n",
       "12             17 ZORRA ST          1711  43.621142 -79.521908   \n",
       "13            9 BOGERT AVE          1669  43.760284 -79.411210   \n",
       "14      209 FORT YORK BLVD          1640  43.637063 -79.404529   \n",
       "15     710 HUMBERWOOD BLVD          1604  43.724727 -79.616777   \n",
       "16       162 CUMBERLAND ST          1592  43.669957 -79.393594   \n",
       "17                JAMES ST          1549  43.653344 -79.381195   \n",
       "18      75 EAST LIBERTY ST          1538  43.637993 -79.414769   \n",
       "19             1 CHERRY ST          1533  43.640840 -79.348568   \n",
       "\n",
       "                      geometry  \\\n",
       "0   POINT (-79.36256 43.76923)   \n",
       "1   POINT (-79.23549 43.70596)   \n",
       "2   POINT (-79.38304 43.64168)   \n",
       "3   POINT (-79.47541 43.62911)   \n",
       "4   POINT (-79.49380 43.77322)   \n",
       "5   POINT (-79.37566 43.72286)   \n",
       "6   POINT (-79.38290 43.64216)   \n",
       "7   POINT (-79.47979 43.62331)   \n",
       "8   POINT (-79.39799 43.63850)   \n",
       "9   POINT (-79.56016 43.64117)   \n",
       "10  POINT (-79.40111 43.64092)   \n",
       "11  POINT (-79.35031 43.79379)   \n",
       "12  POINT (-79.52191 43.62114)   \n",
       "13  POINT (-79.41121 43.76028)   \n",
       "14  POINT (-79.40453 43.63706)   \n",
       "15  POINT (-79.61678 43.72473)   \n",
       "16  POINT (-79.39359 43.66996)   \n",
       "17  POINT (-79.38120 43.65334)   \n",
       "18  POINT (-79.41477 43.63799)   \n",
       "19  POINT (-79.34857 43.64084)   \n",
       "\n",
       "                                              address   id        lat  \\\n",
       "0                 Leslie Lot - 2760 Old Leslie Street  815  43.770058   \n",
       "1                     1 Brimley Road (Bluffer's Park)  702  43.706640   \n",
       "2                                      40 York Street   52  43.645536   \n",
       "3                              15 Marine Parade Drive  534  43.626790   \n",
       "4                                   3950 Keele Street  833  43.765523   \n",
       "5                                 2170 Bayview avenue  424  43.723875   \n",
       "6                                      40 York Street   52  43.645536   \n",
       "7                   2195 Lake shore Blvd West (Parks)  522  43.622774   \n",
       "8                       545 Lake Shore Boulevard West  302  43.636456   \n",
       "9              Kipling South Lot - 400 Munster Avenue  801  43.636572   \n",
       "10                                 10 Portland Street   96  43.641635   \n",
       "11             Don Mills Lot - 1800 Sheppard Ave East  816  43.775815   \n",
       "12         WOOLGAR LANEWAY REAR OF 1124 THE QUEENSWAY  516  43.623355   \n",
       "13                               10 Harlandale Avenue  403  43.762168   \n",
       "14                               250 Fort York Blvd.   266  43.637208   \n",
       "15                                     14 Barkwin Dr.  532  43.738381   \n",
       "16                                74 Yorkville Avenue  215  43.670936   \n",
       "17                                   20 Dundas Square   34  43.656004   \n",
       "18  1030 King Street West - garage entrance via Sh...  275  43.641907   \n",
       "19                                   115 Unwin Avenue  243  43.641425   \n",
       "\n",
       "          lng  greenp_dist_km  \n",
       "0  -79.367484           0.407  \n",
       "1  -79.235437           0.075  \n",
       "2  -79.382724           0.429  \n",
       "3  -79.476745           0.279  \n",
       "4  -79.491758           0.870  \n",
       "5  -79.379571           0.335  \n",
       "6  -79.382724           0.375  \n",
       "7  -79.476734           0.254  \n",
       "8  -79.398691           0.234  \n",
       "9  -79.534117           2.163  \n",
       "10 -79.399159           0.177  \n",
       "11 -79.346707           2.018  \n",
       "12 -79.519000           0.340  \n",
       "13 -79.412441           0.232  \n",
       "14 -79.406461           0.157  \n",
       "15 -79.565283           4.417  \n",
       "16 -79.392222           0.155  \n",
       "17 -79.379933           0.313  \n",
       "18 -79.416237           0.451  \n",
       "19 -79.341888           0.543  "
      ]
     },
     "execution_count": 159,
     "metadata": {},
     "output_type": "execute_result"
    }
   ],
   "source": [
    "nearest_parkings = find_nearest(toploc_gdf, greenp_gdf, ['address','id','lat','lng'])\n",
    "nearest_parkings['greenp_dist_km'] = nearest_parkings.apply(\n",
    "    lambda x: round(geodesic( (x['latitude'], x['longitude']), (x['lat'],x['lng'])).km,3), axis=1)\n",
    "nearest_parkings"
   ]
  },
  {
   "cell_type": "code",
   "execution_count": 229,
   "metadata": {
    "ExecuteTime": {
     "end_time": "2021-04-19T18:58:44.742434Z",
     "start_time": "2021-04-19T18:58:44.686584Z"
    }
   },
   "outputs": [
    {
     "data": {
      "text/html": [
       "<div>\n",
       "<style scoped>\n",
       "    .dataframe tbody tr th:only-of-type {\n",
       "        vertical-align: middle;\n",
       "    }\n",
       "\n",
       "    .dataframe tbody tr th {\n",
       "        vertical-align: top;\n",
       "    }\n",
       "\n",
       "    .dataframe thead th {\n",
       "        text-align: right;\n",
       "    }\n",
       "</style>\n",
       "<table border=\"1\" class=\"dataframe\">\n",
       "  <thead>\n",
       "    <tr style=\"text-align: right;\">\n",
       "      <th></th>\n",
       "      <th>greenp_dist_km</th>\n",
       "    </tr>\n",
       "  </thead>\n",
       "  <tbody>\n",
       "    <tr>\n",
       "      <th>count</th>\n",
       "      <td>20.000000</td>\n",
       "    </tr>\n",
       "    <tr>\n",
       "      <th>mean</th>\n",
       "      <td>0.711200</td>\n",
       "    </tr>\n",
       "    <tr>\n",
       "      <th>std</th>\n",
       "      <td>1.040053</td>\n",
       "    </tr>\n",
       "    <tr>\n",
       "      <th>min</th>\n",
       "      <td>0.075000</td>\n",
       "    </tr>\n",
       "    <tr>\n",
       "      <th>25%</th>\n",
       "      <td>0.233500</td>\n",
       "    </tr>\n",
       "    <tr>\n",
       "      <th>50%</th>\n",
       "      <td>0.337500</td>\n",
       "    </tr>\n",
       "    <tr>\n",
       "      <th>75%</th>\n",
       "      <td>0.474000</td>\n",
       "    </tr>\n",
       "    <tr>\n",
       "      <th>max</th>\n",
       "      <td>4.417000</td>\n",
       "    </tr>\n",
       "  </tbody>\n",
       "</table>\n",
       "</div>"
      ],
      "text/plain": [
       "       greenp_dist_km\n",
       "count       20.000000\n",
       "mean         0.711200\n",
       "std          1.040053\n",
       "min          0.075000\n",
       "25%          0.233500\n",
       "50%          0.337500\n",
       "75%          0.474000\n",
       "max          4.417000"
      ]
     },
     "execution_count": 229,
     "metadata": {},
     "output_type": "execute_result"
    }
   ],
   "source": [
    "nearest_parkings[['greenp_dist_km']].describe()"
   ]
  },
  {
   "cell_type": "markdown",
   "metadata": {},
   "source": [
    "### 3.1.4. b: Distance to closest TTC stop for top 20 infractions"
   ]
  },
  {
   "cell_type": "code",
   "execution_count": 154,
   "metadata": {
    "ExecuteTime": {
     "end_time": "2021-04-19T15:34:41.623192Z",
     "start_time": "2021-04-19T15:34:41.569348Z"
    }
   },
   "outputs": [
    {
     "data": {
      "text/html": [
       "<div>\n",
       "<style scoped>\n",
       "    .dataframe tbody tr th:only-of-type {\n",
       "        vertical-align: middle;\n",
       "    }\n",
       "\n",
       "    .dataframe tbody tr th {\n",
       "        vertical-align: top;\n",
       "    }\n",
       "\n",
       "    .dataframe thead th {\n",
       "        text-align: right;\n",
       "    }\n",
       "</style>\n",
       "<table border=\"1\" class=\"dataframe\">\n",
       "  <thead>\n",
       "    <tr style=\"text-align: right;\">\n",
       "      <th></th>\n",
       "      <th>stop_id</th>\n",
       "      <th>stop_name</th>\n",
       "      <th>stop_lat</th>\n",
       "      <th>stop_lon</th>\n",
       "    </tr>\n",
       "  </thead>\n",
       "  <tbody>\n",
       "    <tr>\n",
       "      <th>0</th>\n",
       "      <td>262</td>\n",
       "      <td>DANFORTH RD AT KENNEDY RD</td>\n",
       "      <td>43.714379</td>\n",
       "      <td>-79.260939</td>\n",
       "    </tr>\n",
       "    <tr>\n",
       "      <th>1</th>\n",
       "      <td>263</td>\n",
       "      <td>DAVENPORT RD AT BEDFORD RD</td>\n",
       "      <td>43.674448</td>\n",
       "      <td>-79.399659</td>\n",
       "    </tr>\n",
       "    <tr>\n",
       "      <th>2</th>\n",
       "      <td>264</td>\n",
       "      <td>DAVENPORT RD AT DUPONT ST</td>\n",
       "      <td>43.675511</td>\n",
       "      <td>-79.401938</td>\n",
       "    </tr>\n",
       "    <tr>\n",
       "      <th>3</th>\n",
       "      <td>265</td>\n",
       "      <td>DAVISVILLE AVE AT CLEVELAND ST</td>\n",
       "      <td>43.702088</td>\n",
       "      <td>-79.378112</td>\n",
       "    </tr>\n",
       "    <tr>\n",
       "      <th>4</th>\n",
       "      <td>266</td>\n",
       "      <td>DISCO RD AT ATTWELL DR</td>\n",
       "      <td>43.701362</td>\n",
       "      <td>-79.594843</td>\n",
       "    </tr>\n",
       "    <tr>\n",
       "      <th>...</th>\n",
       "      <td>...</td>\n",
       "      <td>...</td>\n",
       "      <td>...</td>\n",
       "      <td>...</td>\n",
       "    </tr>\n",
       "    <tr>\n",
       "      <th>9491</th>\n",
       "      <td>24319</td>\n",
       "      <td>GRANGEWAY AVE AT PROGRESS AVE</td>\n",
       "      <td>43.776406</td>\n",
       "      <td>-79.250367</td>\n",
       "    </tr>\n",
       "    <tr>\n",
       "      <th>9492</th>\n",
       "      <td>24325</td>\n",
       "      <td>SIGNET DR AT KENHAR DR NORTH SIDE</td>\n",
       "      <td>43.762948</td>\n",
       "      <td>-79.540120</td>\n",
       "    </tr>\n",
       "    <tr>\n",
       "      <th>9493</th>\n",
       "      <td>24326</td>\n",
       "      <td>LESLIE ST AT CUMMER AVE SOUTH SIDE</td>\n",
       "      <td>43.801000</td>\n",
       "      <td>-79.370768</td>\n",
       "    </tr>\n",
       "    <tr>\n",
       "      <th>9494</th>\n",
       "      <td>24327</td>\n",
       "      <td>CUMMER AVE AT BAYVIEW AVE WEST SIDE</td>\n",
       "      <td>43.792242</td>\n",
       "      <td>-79.394022</td>\n",
       "    </tr>\n",
       "    <tr>\n",
       "      <th>9495</th>\n",
       "      <td>24328</td>\n",
       "      <td>TRETHEWAY DR AT PAULSON RD</td>\n",
       "      <td>43.693590</td>\n",
       "      <td>-79.482329</td>\n",
       "    </tr>\n",
       "  </tbody>\n",
       "</table>\n",
       "<p>9496 rows × 4 columns</p>\n",
       "</div>"
      ],
      "text/plain": [
       "      stop_id                            stop_name   stop_lat   stop_lon\n",
       "0         262            DANFORTH RD AT KENNEDY RD  43.714379 -79.260939\n",
       "1         263           DAVENPORT RD AT BEDFORD RD  43.674448 -79.399659\n",
       "2         264            DAVENPORT RD AT DUPONT ST  43.675511 -79.401938\n",
       "3         265       DAVISVILLE AVE AT CLEVELAND ST  43.702088 -79.378112\n",
       "4         266               DISCO RD AT ATTWELL DR  43.701362 -79.594843\n",
       "...       ...                                  ...        ...        ...\n",
       "9491    24319        GRANGEWAY AVE AT PROGRESS AVE  43.776406 -79.250367\n",
       "9492    24325    SIGNET DR AT KENHAR DR NORTH SIDE  43.762948 -79.540120\n",
       "9493    24326   LESLIE ST AT CUMMER AVE SOUTH SIDE  43.801000 -79.370768\n",
       "9494    24327  CUMMER AVE AT BAYVIEW AVE WEST SIDE  43.792242 -79.394022\n",
       "9495    24328           TRETHEWAY DR AT PAULSON RD  43.693590 -79.482329\n",
       "\n",
       "[9496 rows x 4 columns]"
      ]
     },
     "execution_count": 154,
     "metadata": {},
     "output_type": "execute_result"
    }
   ],
   "source": [
    "ttc_stops = pd.read_csv('data/stops.txt')\n",
    "ttc_stops = ttc_stops[['stop_id','stop_name','stop_lat','stop_lon']]\n",
    "ttc_stops"
   ]
  },
  {
   "cell_type": "code",
   "execution_count": 155,
   "metadata": {
    "ExecuteTime": {
     "end_time": "2021-04-19T15:36:32.679458Z",
     "start_time": "2021-04-19T15:36:31.848684Z"
    }
   },
   "outputs": [
    {
     "data": {
      "text/html": [
       "<div>\n",
       "<style scoped>\n",
       "    .dataframe tbody tr th:only-of-type {\n",
       "        vertical-align: middle;\n",
       "    }\n",
       "\n",
       "    .dataframe tbody tr th {\n",
       "        vertical-align: top;\n",
       "    }\n",
       "\n",
       "    .dataframe thead th {\n",
       "        text-align: right;\n",
       "    }\n",
       "</style>\n",
       "<table border=\"1\" class=\"dataframe\">\n",
       "  <thead>\n",
       "    <tr style=\"text-align: right;\">\n",
       "      <th></th>\n",
       "      <th>stop_id</th>\n",
       "      <th>stop_name</th>\n",
       "      <th>stop_lat</th>\n",
       "      <th>stop_lon</th>\n",
       "      <th>geometry</th>\n",
       "    </tr>\n",
       "  </thead>\n",
       "  <tbody>\n",
       "    <tr>\n",
       "      <th>0</th>\n",
       "      <td>262</td>\n",
       "      <td>DANFORTH RD AT KENNEDY RD</td>\n",
       "      <td>43.714379</td>\n",
       "      <td>-79.260939</td>\n",
       "      <td>POINT (-79.26094 43.71438)</td>\n",
       "    </tr>\n",
       "    <tr>\n",
       "      <th>1</th>\n",
       "      <td>263</td>\n",
       "      <td>DAVENPORT RD AT BEDFORD RD</td>\n",
       "      <td>43.674448</td>\n",
       "      <td>-79.399659</td>\n",
       "      <td>POINT (-79.39966 43.67445)</td>\n",
       "    </tr>\n",
       "    <tr>\n",
       "      <th>2</th>\n",
       "      <td>264</td>\n",
       "      <td>DAVENPORT RD AT DUPONT ST</td>\n",
       "      <td>43.675511</td>\n",
       "      <td>-79.401938</td>\n",
       "      <td>POINT (-79.40194 43.67551)</td>\n",
       "    </tr>\n",
       "  </tbody>\n",
       "</table>\n",
       "</div>"
      ],
      "text/plain": [
       "   stop_id                   stop_name   stop_lat   stop_lon  \\\n",
       "0      262   DANFORTH RD AT KENNEDY RD  43.714379 -79.260939   \n",
       "1      263  DAVENPORT RD AT BEDFORD RD  43.674448 -79.399659   \n",
       "2      264   DAVENPORT RD AT DUPONT ST  43.675511 -79.401938   \n",
       "\n",
       "                     geometry  \n",
       "0  POINT (-79.26094 43.71438)  \n",
       "1  POINT (-79.39966 43.67445)  \n",
       "2  POINT (-79.40194 43.67551)  "
      ]
     },
     "execution_count": 155,
     "metadata": {},
     "output_type": "execute_result"
    }
   ],
   "source": [
    "ttc_gdp = gpd.GeoDataFrame(ttc_stops, geometry=gpd.points_from_xy(ttc_stops.stop_lon, ttc_stops.stop_lat))\n",
    "ttc_gdp.head(3)"
   ]
  },
  {
   "cell_type": "code",
   "execution_count": 161,
   "metadata": {
    "ExecuteTime": {
     "end_time": "2021-04-19T15:41:52.267304Z",
     "start_time": "2021-04-19T15:41:51.985091Z"
    }
   },
   "outputs": [
    {
     "data": {
      "text/html": [
       "<div>\n",
       "<style scoped>\n",
       "    .dataframe tbody tr th:only-of-type {\n",
       "        vertical-align: middle;\n",
       "    }\n",
       "\n",
       "    .dataframe tbody tr th {\n",
       "        vertical-align: top;\n",
       "    }\n",
       "\n",
       "    .dataframe thead th {\n",
       "        text-align: right;\n",
       "    }\n",
       "</style>\n",
       "<table border=\"1\" class=\"dataframe\">\n",
       "  <thead>\n",
       "    <tr style=\"text-align: right;\">\n",
       "      <th></th>\n",
       "      <th>location2</th>\n",
       "      <th>ticket_count</th>\n",
       "      <th>latitude</th>\n",
       "      <th>longitude</th>\n",
       "      <th>geometry</th>\n",
       "      <th>stop_id</th>\n",
       "      <th>stop_name</th>\n",
       "      <th>stop_lat</th>\n",
       "      <th>stop_lon</th>\n",
       "      <th>ttc_dist_km</th>\n",
       "    </tr>\n",
       "  </thead>\n",
       "  <tbody>\n",
       "    <tr>\n",
       "      <th>0</th>\n",
       "      <td>4001 LESLIE ST</td>\n",
       "      <td>5340</td>\n",
       "      <td>43.769228</td>\n",
       "      <td>-79.362558</td>\n",
       "      <td>POINT (-79.36256 43.76923)</td>\n",
       "      <td>2592</td>\n",
       "      <td>NORTH YORK GENERAL HOSPITAL - MAIN ENTRANCE</td>\n",
       "      <td>43.769710</td>\n",
       "      <td>-79.363485</td>\n",
       "      <td>0.092</td>\n",
       "    </tr>\n",
       "    <tr>\n",
       "      <th>1</th>\n",
       "      <td>1 BRIMLEY RD S</td>\n",
       "      <td>3874</td>\n",
       "      <td>43.705962</td>\n",
       "      <td>-79.235491</td>\n",
       "      <td>POINT (-79.23549 43.70596)</td>\n",
       "      <td>5336</td>\n",
       "      <td>BARKDENE HILL AT LARWOOD BLVD</td>\n",
       "      <td>43.715441</td>\n",
       "      <td>-79.237913</td>\n",
       "      <td>1.071</td>\n",
       "    </tr>\n",
       "    <tr>\n",
       "      <th>2</th>\n",
       "      <td>19 GRAND TRUNK CRES</td>\n",
       "      <td>3706</td>\n",
       "      <td>43.641681</td>\n",
       "      <td>-79.383041</td>\n",
       "      <td>POINT (-79.38304 43.64168)</td>\n",
       "      <td>15123</td>\n",
       "      <td>QUEENS QUAY WEST AT HARBOURFRONT CENTRE</td>\n",
       "      <td>43.639613</td>\n",
       "      <td>-79.381765</td>\n",
       "      <td>0.252</td>\n",
       "    </tr>\n",
       "    <tr>\n",
       "      <th>3</th>\n",
       "      <td>15 MARINE PARADE DR</td>\n",
       "      <td>3183</td>\n",
       "      <td>43.629106</td>\n",
       "      <td>-79.475411</td>\n",
       "      <td>POINT (-79.47541 43.62911)</td>\n",
       "      <td>14053</td>\n",
       "      <td>MARINE PARADE DR (EAST) AT LAKE SHORE BLVD WEST</td>\n",
       "      <td>43.629980</td>\n",
       "      <td>-79.476401</td>\n",
       "      <td>0.126</td>\n",
       "    </tr>\n",
       "    <tr>\n",
       "      <th>4</th>\n",
       "      <td>4700 KEELE ST</td>\n",
       "      <td>3149</td>\n",
       "      <td>43.773216</td>\n",
       "      <td>-79.493803</td>\n",
       "      <td>POINT (-79.49380 43.77322)</td>\n",
       "      <td>9907</td>\n",
       "      <td>KEELE ST AT THE POND RD SOUTH SIDE</td>\n",
       "      <td>43.771671</td>\n",
       "      <td>-79.493292</td>\n",
       "      <td>0.176</td>\n",
       "    </tr>\n",
       "    <tr>\n",
       "      <th>5</th>\n",
       "      <td>2075 BAYVIEW AVE</td>\n",
       "      <td>3104</td>\n",
       "      <td>43.722859</td>\n",
       "      <td>-79.375661</td>\n",
       "      <td>POINT (-79.37566 43.72286)</td>\n",
       "      <td>851</td>\n",
       "      <td>RAAB BLVD AT HOSPITAL RD WEST SIDE (K &amp; L WINGS)</td>\n",
       "      <td>43.722640</td>\n",
       "      <td>-79.375956</td>\n",
       "      <td>0.034</td>\n",
       "    </tr>\n",
       "    <tr>\n",
       "      <th>6</th>\n",
       "      <td>30 GRAND TRUNK CRES</td>\n",
       "      <td>2841</td>\n",
       "      <td>43.642161</td>\n",
       "      <td>-79.382900</td>\n",
       "      <td>POINT (-79.38290 43.64216)</td>\n",
       "      <td>15123</td>\n",
       "      <td>QUEENS QUAY WEST AT HARBOURFRONT CENTRE</td>\n",
       "      <td>43.639613</td>\n",
       "      <td>-79.381765</td>\n",
       "      <td>0.298</td>\n",
       "    </tr>\n",
       "    <tr>\n",
       "      <th>7</th>\n",
       "      <td>2183 LAKE SHORE BLVD W</td>\n",
       "      <td>2742</td>\n",
       "      <td>43.623312</td>\n",
       "      <td>-79.479790</td>\n",
       "      <td>POINT (-79.47979 43.62331)</td>\n",
       "      <td>3296</td>\n",
       "      <td>MARINE PARADE DR LOOP AT LAKE SHORE BLVD WEST</td>\n",
       "      <td>43.622551</td>\n",
       "      <td>-79.480911</td>\n",
       "      <td>0.124</td>\n",
       "    </tr>\n",
       "    <tr>\n",
       "      <th>8</th>\n",
       "      <td>75 QUEENS WHARF RD</td>\n",
       "      <td>1998</td>\n",
       "      <td>43.638498</td>\n",
       "      <td>-79.397993</td>\n",
       "      <td>POINT (-79.39799 43.63850)</td>\n",
       "      <td>15323</td>\n",
       "      <td>FORT YORK BLVD AT DAN LECKIE WAY WEST SIDE</td>\n",
       "      <td>43.639353</td>\n",
       "      <td>-79.398467</td>\n",
       "      <td>0.102</td>\n",
       "    </tr>\n",
       "    <tr>\n",
       "      <th>9</th>\n",
       "      <td>5 VALHALLA INN RD</td>\n",
       "      <td>1923</td>\n",
       "      <td>43.641171</td>\n",
       "      <td>-79.560159</td>\n",
       "      <td>POINT (-79.56016 43.64117)</td>\n",
       "      <td>3645</td>\n",
       "      <td>THE EAST MALL AT VALHALLA INN RD</td>\n",
       "      <td>43.641605</td>\n",
       "      <td>-79.557891</td>\n",
       "      <td>0.189</td>\n",
       "    </tr>\n",
       "    <tr>\n",
       "      <th>10</th>\n",
       "      <td>576 FRONT ST W</td>\n",
       "      <td>1885</td>\n",
       "      <td>43.640916</td>\n",
       "      <td>-79.401110</td>\n",
       "      <td>POINT (-79.40111 43.64092)</td>\n",
       "      <td>15048</td>\n",
       "      <td>BATHURST ST AT NIAGARA ST</td>\n",
       "      <td>43.641779</td>\n",
       "      <td>-79.401753</td>\n",
       "      <td>0.109</td>\n",
       "    </tr>\n",
       "    <tr>\n",
       "      <th>11</th>\n",
       "      <td>1750 FINCH AVE E</td>\n",
       "      <td>1880</td>\n",
       "      <td>43.793791</td>\n",
       "      <td>-79.350308</td>\n",
       "      <td>POINT (-79.35031 43.79379)</td>\n",
       "      <td>7082</td>\n",
       "      <td>FINCH AVE EAST AT SENECA HILL DR (OPPOSITE SEN...</td>\n",
       "      <td>43.793442</td>\n",
       "      <td>-79.350627</td>\n",
       "      <td>0.047</td>\n",
       "    </tr>\n",
       "    <tr>\n",
       "      <th>12</th>\n",
       "      <td>17 ZORRA ST</td>\n",
       "      <td>1711</td>\n",
       "      <td>43.621142</td>\n",
       "      <td>-79.521908</td>\n",
       "      <td>POINT (-79.52191 43.62114)</td>\n",
       "      <td>8089</td>\n",
       "      <td>THE QUEENSWAY AT ZORRA ST</td>\n",
       "      <td>43.621791</td>\n",
       "      <td>-79.522414</td>\n",
       "      <td>0.083</td>\n",
       "    </tr>\n",
       "    <tr>\n",
       "      <th>13</th>\n",
       "      <td>9 BOGERT AVE</td>\n",
       "      <td>1669</td>\n",
       "      <td>43.760284</td>\n",
       "      <td>-79.411210</td>\n",
       "      <td>POINT (-79.41121 43.76028)</td>\n",
       "      <td>14406</td>\n",
       "      <td>SHEPPARD-YONGE STATION - SOUTHBOUND PLATFORM</td>\n",
       "      <td>43.760348</td>\n",
       "      <td>-79.410691</td>\n",
       "      <td>0.042</td>\n",
       "    </tr>\n",
       "    <tr>\n",
       "      <th>14</th>\n",
       "      <td>209 FORT YORK BLVD</td>\n",
       "      <td>1640</td>\n",
       "      <td>43.637063</td>\n",
       "      <td>-79.404529</td>\n",
       "      <td>POINT (-79.40453 43.63706)</td>\n",
       "      <td>15325</td>\n",
       "      <td>FORT YORK BLVD AT GZOWSKI BLVD</td>\n",
       "      <td>43.637609</td>\n",
       "      <td>-79.403939</td>\n",
       "      <td>0.077</td>\n",
       "    </tr>\n",
       "    <tr>\n",
       "      <th>15</th>\n",
       "      <td>710 HUMBERWOOD BLVD</td>\n",
       "      <td>1604</td>\n",
       "      <td>43.724727</td>\n",
       "      <td>-79.616777</td>\n",
       "      <td>POINT (-79.61678 43.72473)</td>\n",
       "      <td>6246</td>\n",
       "      <td>HUMBERWOOD BLVD AT KINGSPLATE CRES WEST SIDE</td>\n",
       "      <td>43.723892</td>\n",
       "      <td>-79.616434</td>\n",
       "      <td>0.097</td>\n",
       "    </tr>\n",
       "    <tr>\n",
       "      <th>16</th>\n",
       "      <td>162 CUMBERLAND ST</td>\n",
       "      <td>1592</td>\n",
       "      <td>43.669957</td>\n",
       "      <td>-79.393594</td>\n",
       "      <td>POINT (-79.39359 43.66996)</td>\n",
       "      <td>7858</td>\n",
       "      <td>AVENUE RD AT BLOOR ST WEST NORTH SIDE</td>\n",
       "      <td>43.669222</td>\n",
       "      <td>-79.394239</td>\n",
       "      <td>0.097</td>\n",
       "    </tr>\n",
       "    <tr>\n",
       "      <th>17</th>\n",
       "      <td>JAMES ST</td>\n",
       "      <td>1549</td>\n",
       "      <td>43.653344</td>\n",
       "      <td>-79.381195</td>\n",
       "      <td>POINT (-79.38120 43.65334)</td>\n",
       "      <td>2240</td>\n",
       "      <td>QUEEN ST WEST AT BAY ST</td>\n",
       "      <td>43.652037</td>\n",
       "      <td>-79.381347</td>\n",
       "      <td>0.146</td>\n",
       "    </tr>\n",
       "    <tr>\n",
       "      <th>18</th>\n",
       "      <td>75 EAST LIBERTY ST</td>\n",
       "      <td>1538</td>\n",
       "      <td>43.637993</td>\n",
       "      <td>-79.414769</td>\n",
       "      <td>POINT (-79.41477 43.63799)</td>\n",
       "      <td>14049</td>\n",
       "      <td>EAST LIBERTY ST AT PIRANDELLO ST WEST SIDE</td>\n",
       "      <td>43.638634</td>\n",
       "      <td>-79.414425</td>\n",
       "      <td>0.076</td>\n",
       "    </tr>\n",
       "    <tr>\n",
       "      <th>19</th>\n",
       "      <td>1 CHERRY ST</td>\n",
       "      <td>1533</td>\n",
       "      <td>43.640840</td>\n",
       "      <td>-79.348568</td>\n",
       "      <td>POINT (-79.34857 43.64084)</td>\n",
       "      <td>15028</td>\n",
       "      <td>VILLIERS ST AT MUNITION ST</td>\n",
       "      <td>43.647635</td>\n",
       "      <td>-79.351587</td>\n",
       "      <td>0.793</td>\n",
       "    </tr>\n",
       "  </tbody>\n",
       "</table>\n",
       "</div>"
      ],
      "text/plain": [
       "                 location2  ticket_count   latitude  longitude  \\\n",
       "0           4001 LESLIE ST          5340  43.769228 -79.362558   \n",
       "1           1 BRIMLEY RD S          3874  43.705962 -79.235491   \n",
       "2      19 GRAND TRUNK CRES          3706  43.641681 -79.383041   \n",
       "3      15 MARINE PARADE DR          3183  43.629106 -79.475411   \n",
       "4            4700 KEELE ST          3149  43.773216 -79.493803   \n",
       "5         2075 BAYVIEW AVE          3104  43.722859 -79.375661   \n",
       "6      30 GRAND TRUNK CRES          2841  43.642161 -79.382900   \n",
       "7   2183 LAKE SHORE BLVD W          2742  43.623312 -79.479790   \n",
       "8       75 QUEENS WHARF RD          1998  43.638498 -79.397993   \n",
       "9        5 VALHALLA INN RD          1923  43.641171 -79.560159   \n",
       "10          576 FRONT ST W          1885  43.640916 -79.401110   \n",
       "11        1750 FINCH AVE E          1880  43.793791 -79.350308   \n",
       "12             17 ZORRA ST          1711  43.621142 -79.521908   \n",
       "13            9 BOGERT AVE          1669  43.760284 -79.411210   \n",
       "14      209 FORT YORK BLVD          1640  43.637063 -79.404529   \n",
       "15     710 HUMBERWOOD BLVD          1604  43.724727 -79.616777   \n",
       "16       162 CUMBERLAND ST          1592  43.669957 -79.393594   \n",
       "17                JAMES ST          1549  43.653344 -79.381195   \n",
       "18      75 EAST LIBERTY ST          1538  43.637993 -79.414769   \n",
       "19             1 CHERRY ST          1533  43.640840 -79.348568   \n",
       "\n",
       "                      geometry  stop_id  \\\n",
       "0   POINT (-79.36256 43.76923)     2592   \n",
       "1   POINT (-79.23549 43.70596)     5336   \n",
       "2   POINT (-79.38304 43.64168)    15123   \n",
       "3   POINT (-79.47541 43.62911)    14053   \n",
       "4   POINT (-79.49380 43.77322)     9907   \n",
       "5   POINT (-79.37566 43.72286)      851   \n",
       "6   POINT (-79.38290 43.64216)    15123   \n",
       "7   POINT (-79.47979 43.62331)     3296   \n",
       "8   POINT (-79.39799 43.63850)    15323   \n",
       "9   POINT (-79.56016 43.64117)     3645   \n",
       "10  POINT (-79.40111 43.64092)    15048   \n",
       "11  POINT (-79.35031 43.79379)     7082   \n",
       "12  POINT (-79.52191 43.62114)     8089   \n",
       "13  POINT (-79.41121 43.76028)    14406   \n",
       "14  POINT (-79.40453 43.63706)    15325   \n",
       "15  POINT (-79.61678 43.72473)     6246   \n",
       "16  POINT (-79.39359 43.66996)     7858   \n",
       "17  POINT (-79.38120 43.65334)     2240   \n",
       "18  POINT (-79.41477 43.63799)    14049   \n",
       "19  POINT (-79.34857 43.64084)    15028   \n",
       "\n",
       "                                            stop_name   stop_lat   stop_lon  \\\n",
       "0         NORTH YORK GENERAL HOSPITAL - MAIN ENTRANCE  43.769710 -79.363485   \n",
       "1                       BARKDENE HILL AT LARWOOD BLVD  43.715441 -79.237913   \n",
       "2             QUEENS QUAY WEST AT HARBOURFRONT CENTRE  43.639613 -79.381765   \n",
       "3     MARINE PARADE DR (EAST) AT LAKE SHORE BLVD WEST  43.629980 -79.476401   \n",
       "4                  KEELE ST AT THE POND RD SOUTH SIDE  43.771671 -79.493292   \n",
       "5    RAAB BLVD AT HOSPITAL RD WEST SIDE (K & L WINGS)  43.722640 -79.375956   \n",
       "6             QUEENS QUAY WEST AT HARBOURFRONT CENTRE  43.639613 -79.381765   \n",
       "7       MARINE PARADE DR LOOP AT LAKE SHORE BLVD WEST  43.622551 -79.480911   \n",
       "8          FORT YORK BLVD AT DAN LECKIE WAY WEST SIDE  43.639353 -79.398467   \n",
       "9                    THE EAST MALL AT VALHALLA INN RD  43.641605 -79.557891   \n",
       "10                          BATHURST ST AT NIAGARA ST  43.641779 -79.401753   \n",
       "11  FINCH AVE EAST AT SENECA HILL DR (OPPOSITE SEN...  43.793442 -79.350627   \n",
       "12                          THE QUEENSWAY AT ZORRA ST  43.621791 -79.522414   \n",
       "13       SHEPPARD-YONGE STATION - SOUTHBOUND PLATFORM  43.760348 -79.410691   \n",
       "14                     FORT YORK BLVD AT GZOWSKI BLVD  43.637609 -79.403939   \n",
       "15       HUMBERWOOD BLVD AT KINGSPLATE CRES WEST SIDE  43.723892 -79.616434   \n",
       "16              AVENUE RD AT BLOOR ST WEST NORTH SIDE  43.669222 -79.394239   \n",
       "17                            QUEEN ST WEST AT BAY ST  43.652037 -79.381347   \n",
       "18         EAST LIBERTY ST AT PIRANDELLO ST WEST SIDE  43.638634 -79.414425   \n",
       "19                         VILLIERS ST AT MUNITION ST  43.647635 -79.351587   \n",
       "\n",
       "    ttc_dist_km  \n",
       "0         0.092  \n",
       "1         1.071  \n",
       "2         0.252  \n",
       "3         0.126  \n",
       "4         0.176  \n",
       "5         0.034  \n",
       "6         0.298  \n",
       "7         0.124  \n",
       "8         0.102  \n",
       "9         0.189  \n",
       "10        0.109  \n",
       "11        0.047  \n",
       "12        0.083  \n",
       "13        0.042  \n",
       "14        0.077  \n",
       "15        0.097  \n",
       "16        0.097  \n",
       "17        0.146  \n",
       "18        0.076  \n",
       "19        0.793  "
      ]
     },
     "execution_count": 161,
     "metadata": {},
     "output_type": "execute_result"
    }
   ],
   "source": [
    "nearest_ttc = find_nearest(toploc_gdf, ttc_gdp, ['stop_id','stop_name','stop_lat','stop_lon'])\n",
    "nearest_ttc['ttc_dist_km'] = nearest_ttc.apply(\n",
    "    lambda x: round(geodesic( (x['latitude'], x['longitude']), (x['stop_lat'],x['stop_lon'])).km,3), axis=1)\n",
    "nearest_ttc"
   ]
  },
  {
   "cell_type": "code",
   "execution_count": 230,
   "metadata": {
    "ExecuteTime": {
     "end_time": "2021-04-19T19:06:56.762167Z",
     "start_time": "2021-04-19T19:06:56.738264Z"
    }
   },
   "outputs": [
    {
     "data": {
      "text/html": [
       "<div>\n",
       "<style scoped>\n",
       "    .dataframe tbody tr th:only-of-type {\n",
       "        vertical-align: middle;\n",
       "    }\n",
       "\n",
       "    .dataframe tbody tr th {\n",
       "        vertical-align: top;\n",
       "    }\n",
       "\n",
       "    .dataframe thead th {\n",
       "        text-align: right;\n",
       "    }\n",
       "</style>\n",
       "<table border=\"1\" class=\"dataframe\">\n",
       "  <thead>\n",
       "    <tr style=\"text-align: right;\">\n",
       "      <th></th>\n",
       "      <th>ttc_dist_km</th>\n",
       "    </tr>\n",
       "  </thead>\n",
       "  <tbody>\n",
       "    <tr>\n",
       "      <th>count</th>\n",
       "      <td>20.000000</td>\n",
       "    </tr>\n",
       "    <tr>\n",
       "      <th>mean</th>\n",
       "      <td>0.201550</td>\n",
       "    </tr>\n",
       "    <tr>\n",
       "      <th>std</th>\n",
       "      <td>0.262408</td>\n",
       "    </tr>\n",
       "    <tr>\n",
       "      <th>min</th>\n",
       "      <td>0.034000</td>\n",
       "    </tr>\n",
       "    <tr>\n",
       "      <th>25%</th>\n",
       "      <td>0.081500</td>\n",
       "    </tr>\n",
       "    <tr>\n",
       "      <th>50%</th>\n",
       "      <td>0.105500</td>\n",
       "    </tr>\n",
       "    <tr>\n",
       "      <th>75%</th>\n",
       "      <td>0.179250</td>\n",
       "    </tr>\n",
       "    <tr>\n",
       "      <th>max</th>\n",
       "      <td>1.071000</td>\n",
       "    </tr>\n",
       "  </tbody>\n",
       "</table>\n",
       "</div>"
      ],
      "text/plain": [
       "       ttc_dist_km\n",
       "count    20.000000\n",
       "mean      0.201550\n",
       "std       0.262408\n",
       "min       0.034000\n",
       "25%       0.081500\n",
       "50%       0.105500\n",
       "75%       0.179250\n",
       "max       1.071000"
      ]
     },
     "execution_count": 230,
     "metadata": {},
     "output_type": "execute_result"
    }
   ],
   "source": [
    "nearest_ttc[['ttc_dist_km']].describe()"
   ]
  },
  {
   "cell_type": "markdown",
   "metadata": {},
   "source": [
    "## Time factor:"
   ]
  },
  {
   "cell_type": "code",
   "execution_count": 168,
   "metadata": {
    "ExecuteTime": {
     "end_time": "2021-04-19T16:25:14.849698Z",
     "start_time": "2021-04-19T16:25:14.828719Z"
    }
   },
   "outputs": [],
   "source": [
    "def find_season(d, year=2020):\n",
    "    s = ''\n",
    "    year = year*10000\n",
    "    if d > (year+320) and d < (year+620):\n",
    "        s = 'Spring'\n",
    "    elif d > (year+620) and d < (year+922):\n",
    "        s = 'Summer'\n",
    "    elif d > (year+922) and d < (year+1221):\n",
    "        s = 'Fall'\n",
    "    else:\n",
    "        s = 'Winter'\n",
    "    return(s)"
   ]
  },
  {
   "cell_type": "code",
   "execution_count": 169,
   "metadata": {
    "ExecuteTime": {
     "end_time": "2021-04-19T16:25:16.653720Z",
     "start_time": "2021-04-19T16:25:16.553985Z"
    }
   },
   "outputs": [
    {
     "data": {
      "text/html": [
       "<div>\n",
       "<style scoped>\n",
       "    .dataframe tbody tr th:only-of-type {\n",
       "        vertical-align: middle;\n",
       "    }\n",
       "\n",
       "    .dataframe tbody tr th {\n",
       "        vertical-align: top;\n",
       "    }\n",
       "\n",
       "    .dataframe thead th {\n",
       "        text-align: right;\n",
       "    }\n",
       "</style>\n",
       "<table border=\"1\" class=\"dataframe\">\n",
       "  <thead>\n",
       "    <tr style=\"text-align: right;\">\n",
       "      <th></th>\n",
       "      <th>date_of_infraction</th>\n",
       "      <th>count</th>\n",
       "      <th>date</th>\n",
       "      <th>day_of_week</th>\n",
       "      <th>month</th>\n",
       "      <th>week_num</th>\n",
       "      <th>season</th>\n",
       "    </tr>\n",
       "  </thead>\n",
       "  <tbody>\n",
       "    <tr>\n",
       "      <th>0</th>\n",
       "      <td>20200101</td>\n",
       "      <td>2210</td>\n",
       "      <td>2020-01-01</td>\n",
       "      <td>Wednesday</td>\n",
       "      <td>January</td>\n",
       "      <td>1</td>\n",
       "      <td>Winter</td>\n",
       "    </tr>\n",
       "    <tr>\n",
       "      <th>1</th>\n",
       "      <td>20200102</td>\n",
       "      <td>7184</td>\n",
       "      <td>2020-01-02</td>\n",
       "      <td>Thursday</td>\n",
       "      <td>January</td>\n",
       "      <td>1</td>\n",
       "      <td>Winter</td>\n",
       "    </tr>\n",
       "    <tr>\n",
       "      <th>2</th>\n",
       "      <td>20200103</td>\n",
       "      <td>7143</td>\n",
       "      <td>2020-01-03</td>\n",
       "      <td>Friday</td>\n",
       "      <td>January</td>\n",
       "      <td>1</td>\n",
       "      <td>Winter</td>\n",
       "    </tr>\n",
       "  </tbody>\n",
       "</table>\n",
       "</div>"
      ],
      "text/plain": [
       "   date_of_infraction  count       date day_of_week    month  week_num  season\n",
       "0            20200101   2210 2020-01-01   Wednesday  January         1  Winter\n",
       "1            20200102   7184 2020-01-02    Thursday  January         1  Winter\n",
       "2            20200103   7143 2020-01-03      Friday  January         1  Winter"
      ]
     },
     "execution_count": 169,
     "metadata": {},
     "output_type": "execute_result"
    }
   ],
   "source": [
    "time_df = pd.DataFrame({'count':ptags_df.groupby(['date_of_infraction']).size()}).reset_index()\n",
    "time_df['date'] = pd.to_datetime(time_df['date_of_infraction'].astype(str), format='%Y%m%d')\n",
    "time_df['day_of_week'] = time_df['date'].apply(lambda x: calendar.day_name[x.weekday()])\n",
    "time_df['month'] = time_df['date'].apply(lambda x: calendar.month_name[x.month])\n",
    "time_df['week_num'] = time_df['date'].apply(lambda x: x.isocalendar().week)\n",
    "time_df['season'] = time_df['date_of_infraction'].apply(lambda x: find_season(x))\n",
    "time_df.head(3)"
   ]
  },
  {
   "cell_type": "markdown",
   "metadata": {},
   "source": [
    "## 3.1.5. a: Impact of day of week in all infractions"
   ]
  },
  {
   "cell_type": "code",
   "execution_count": 222,
   "metadata": {
    "ExecuteTime": {
     "end_time": "2021-04-19T18:03:41.731460Z",
     "start_time": "2021-04-19T18:03:41.100704Z"
    }
   },
   "outputs": [
    {
     "data": {
      "application/vnd.plotly.v1+json": {
       "config": {
        "plotlyServerURL": "https://plot.ly"
       },
       "data": [
        {
         "alignmentgroup": "True",
         "bingroup": "x",
         "histfunc": "sum",
         "hovertemplate": "day_of_week=%{x}<br>sum of count=%{y}<extra></extra>",
         "legendgroup": "",
         "marker": {
          "color": "#636efa"
         },
         "name": "",
         "offsetgroup": "",
         "orientation": "v",
         "showlegend": false,
         "type": "histogram",
         "x": [
          "Wednesday",
          "Thursday",
          "Friday",
          "Saturday",
          "Sunday",
          "Monday",
          "Tuesday",
          "Wednesday",
          "Thursday",
          "Friday",
          "Saturday",
          "Sunday",
          "Monday",
          "Tuesday",
          "Wednesday",
          "Thursday",
          "Friday",
          "Saturday",
          "Sunday",
          "Monday",
          "Tuesday",
          "Wednesday",
          "Thursday",
          "Friday",
          "Saturday",
          "Sunday",
          "Monday",
          "Tuesday",
          "Wednesday",
          "Thursday",
          "Friday",
          "Saturday",
          "Sunday",
          "Monday",
          "Tuesday",
          "Wednesday",
          "Thursday",
          "Friday",
          "Saturday",
          "Sunday",
          "Monday",
          "Tuesday",
          "Wednesday",
          "Thursday",
          "Friday",
          "Saturday",
          "Sunday",
          "Monday",
          "Tuesday",
          "Wednesday",
          "Thursday",
          "Friday",
          "Saturday",
          "Sunday",
          "Monday",
          "Tuesday",
          "Wednesday",
          "Thursday",
          "Friday",
          "Saturday",
          "Sunday",
          "Monday",
          "Tuesday",
          "Wednesday",
          "Thursday",
          "Friday",
          "Saturday",
          "Sunday",
          "Monday",
          "Tuesday",
          "Wednesday",
          "Thursday",
          "Friday",
          "Saturday",
          "Sunday",
          "Monday",
          "Tuesday",
          "Wednesday",
          "Thursday",
          "Friday",
          "Saturday",
          "Sunday",
          "Monday",
          "Tuesday",
          "Wednesday",
          "Thursday",
          "Friday",
          "Saturday",
          "Sunday",
          "Monday",
          "Tuesday",
          "Wednesday",
          "Thursday",
          "Friday",
          "Saturday",
          "Sunday",
          "Monday",
          "Tuesday",
          "Wednesday",
          "Thursday",
          "Friday",
          "Saturday",
          "Sunday",
          "Monday",
          "Tuesday",
          "Wednesday",
          "Thursday",
          "Friday",
          "Saturday",
          "Sunday",
          "Monday",
          "Tuesday",
          "Wednesday",
          "Thursday",
          "Friday",
          "Saturday",
          "Sunday",
          "Monday",
          "Tuesday",
          "Wednesday",
          "Thursday",
          "Friday",
          "Saturday",
          "Sunday",
          "Monday",
          "Tuesday",
          "Wednesday",
          "Thursday",
          "Friday",
          "Saturday",
          "Sunday",
          "Monday",
          "Tuesday",
          "Wednesday",
          "Thursday",
          "Friday",
          "Saturday",
          "Sunday",
          "Monday",
          "Tuesday",
          "Wednesday",
          "Thursday",
          "Friday",
          "Saturday",
          "Sunday",
          "Monday",
          "Tuesday",
          "Wednesday",
          "Thursday",
          "Friday",
          "Saturday",
          "Sunday",
          "Monday",
          "Tuesday",
          "Wednesday",
          "Thursday",
          "Friday",
          "Saturday",
          "Sunday",
          "Monday",
          "Tuesday",
          "Wednesday",
          "Thursday",
          "Friday",
          "Saturday",
          "Sunday",
          "Monday",
          "Tuesday",
          "Wednesday",
          "Thursday",
          "Friday",
          "Saturday",
          "Sunday",
          "Monday",
          "Tuesday",
          "Wednesday",
          "Thursday",
          "Friday",
          "Saturday",
          "Sunday",
          "Monday",
          "Tuesday",
          "Wednesday",
          "Thursday",
          "Friday",
          "Saturday",
          "Sunday",
          "Monday",
          "Tuesday",
          "Wednesday",
          "Thursday",
          "Friday",
          "Saturday",
          "Sunday",
          "Monday",
          "Tuesday",
          "Wednesday",
          "Thursday",
          "Friday",
          "Saturday",
          "Sunday",
          "Monday",
          "Tuesday",
          "Wednesday",
          "Thursday",
          "Friday",
          "Saturday",
          "Sunday",
          "Monday",
          "Tuesday",
          "Wednesday",
          "Thursday",
          "Friday",
          "Saturday",
          "Sunday",
          "Monday",
          "Tuesday",
          "Wednesday",
          "Thursday",
          "Friday",
          "Saturday",
          "Sunday",
          "Monday",
          "Tuesday",
          "Wednesday",
          "Thursday",
          "Friday",
          "Saturday",
          "Sunday",
          "Monday",
          "Tuesday",
          "Wednesday",
          "Thursday",
          "Friday",
          "Saturday",
          "Sunday",
          "Monday",
          "Tuesday",
          "Wednesday",
          "Thursday",
          "Friday",
          "Saturday",
          "Sunday",
          "Monday",
          "Tuesday",
          "Wednesday",
          "Thursday",
          "Friday",
          "Saturday",
          "Sunday",
          "Monday",
          "Tuesday",
          "Wednesday",
          "Thursday",
          "Friday",
          "Saturday",
          "Sunday",
          "Monday",
          "Tuesday",
          "Wednesday",
          "Thursday",
          "Friday",
          "Saturday",
          "Sunday",
          "Monday",
          "Tuesday",
          "Wednesday",
          "Thursday",
          "Friday",
          "Saturday",
          "Sunday",
          "Monday",
          "Tuesday",
          "Wednesday",
          "Thursday",
          "Friday",
          "Saturday",
          "Sunday",
          "Monday",
          "Tuesday",
          "Wednesday",
          "Thursday",
          "Friday",
          "Saturday",
          "Sunday",
          "Monday",
          "Tuesday",
          "Wednesday",
          "Thursday",
          "Friday",
          "Saturday",
          "Sunday",
          "Monday",
          "Tuesday",
          "Wednesday",
          "Thursday",
          "Friday",
          "Saturday",
          "Sunday",
          "Monday",
          "Tuesday",
          "Wednesday",
          "Thursday",
          "Friday",
          "Saturday",
          "Sunday",
          "Monday",
          "Tuesday",
          "Wednesday",
          "Thursday",
          "Friday",
          "Saturday",
          "Sunday",
          "Monday",
          "Tuesday",
          "Wednesday",
          "Thursday",
          "Friday",
          "Saturday",
          "Sunday",
          "Monday",
          "Tuesday",
          "Wednesday",
          "Thursday",
          "Friday",
          "Saturday",
          "Sunday",
          "Monday",
          "Tuesday",
          "Wednesday",
          "Thursday",
          "Friday",
          "Saturday",
          "Sunday",
          "Monday",
          "Tuesday",
          "Wednesday",
          "Thursday",
          "Friday",
          "Saturday",
          "Sunday",
          "Monday",
          "Tuesday",
          "Wednesday",
          "Thursday",
          "Friday",
          "Saturday",
          "Sunday",
          "Monday",
          "Tuesday",
          "Wednesday",
          "Thursday",
          "Friday",
          "Saturday",
          "Sunday",
          "Monday",
          "Tuesday",
          "Wednesday",
          "Thursday",
          "Friday",
          "Saturday",
          "Sunday",
          "Monday",
          "Tuesday",
          "Wednesday",
          "Thursday"
         ],
         "xaxis": "x",
         "y": [
          2210,
          7184,
          7143,
          5509,
          4177,
          6569,
          7508,
          6853,
          7132,
          7149,
          3941,
          3873,
          7215,
          7630,
          7434,
          7416,
          6790,
          3174,
          2980,
          5596,
          6698,
          6876,
          6949,
          6667,
          4763,
          4425,
          7137,
          7366,
          6737,
          7422,
          7499,
          6335,
          4278,
          6933,
          7225,
          7238,
          4645,
          5343,
          4754,
          3909,
          6022,
          6770,
          6842,
          5981,
          6234,
          5623,
          4597,
          3472,
          6193,
          7397,
          6585,
          6629,
          5436,
          4653,
          6803,
          6979,
          5695,
          4542,
          6035,
          4915,
          4558,
          7066,
          7514,
          8120,
          7754,
          7469,
          6551,
          4548,
          7567,
          7014,
          7301,
          7275,
          6827,
          5735,
          4747,
          6117,
          5108,
          4144,
          3094,
          2542,
          879,
          721,
          1725,
          1497,
          1030,
          656,
          584,
          583,
          418,
          572,
          674,
          720,
          602,
          584,
          545,
          550,
          628,
          652,
          739,
          681,
          304,
          481,
          365,
          373,
          611,
          689,
          680,
          508,
          453,
          449,
          506,
          604,
          776,
          765,
          676,
          588,
          471,
          654,
          744,
          817,
          764,
          743,
          602,
          994,
          800,
          694,
          850,
          594,
          850,
          544,
          607,
          660,
          734,
          847,
          766,
          625,
          770,
          626,
          406,
          845,
          893,
          891,
          1186,
          1157,
          997,
          1194,
          1212,
          1133,
          888,
          881,
          749,
          755,
          977,
          927,
          958,
          1069,
          1041,
          1120,
          1091,
          1081,
          1329,
          1279,
          1021,
          1397,
          1313,
          1340,
          1479,
          1301,
          1497,
          1577,
          1447,
          1543,
          1268,
          1194,
          1139,
          1405,
          1270,
          1415,
          1185,
          1515,
          1306,
          1393,
          1727,
          2047,
          1727,
          1886,
          1616,
          3459,
          3830,
          3406,
          3490,
          3515,
          1877,
          2049,
          3962,
          2854,
          3897,
          4604,
          4173,
          2792,
          1716,
          4269,
          4430,
          4385,
          4603,
          4181,
          2772,
          2283,
          4088,
          3892,
          4166,
          4520,
          4476,
          2564,
          1720,
          1547,
          4666,
          4786,
          4393,
          4399,
          2463,
          1920,
          3838,
          3949,
          4011,
          3788,
          3842,
          2771,
          1911,
          6342,
          6621,
          6803,
          5685,
          6130,
          4022,
          3485,
          6325,
          6405,
          6272,
          6002,
          5971,
          3743,
          3204,
          5707,
          6629,
          5657,
          6043,
          6379,
          3692,
          3965,
          1923,
          6812,
          6604,
          6416,
          6084,
          4156,
          3427,
          6216,
          6539,
          7364,
          6680,
          6128,
          3905,
          3637,
          6067,
          6101,
          6580,
          6076,
          6636,
          4952,
          4184,
          6483,
          6796,
          6642,
          7099,
          6230,
          4717,
          3877,
          5568,
          5741,
          5665,
          5661,
          6352,
          4892,
          4201,
          1888,
          6004,
          6027,
          5445,
          6743,
          4757,
          3973,
          5740,
          6050,
          5712,
          5960,
          5714,
          4731,
          3792,
          5562,
          5575,
          5802,
          6004,
          6116,
          4410,
          3712,
          5683,
          6557,
          6593,
          6155,
          6042,
          4594,
          4207,
          5691,
          6018,
          5773,
          5392,
          5749,
          4519,
          3759,
          6057,
          5696,
          5213,
          5703,
          5505,
          4500,
          2838,
          4135,
          4433,
          4461,
          4370,
          4489,
          3761,
          3283,
          4407,
          3758,
          4278,
          4780,
          5038,
          4159,
          3340,
          4753,
          6180,
          5366,
          5778,
          5348,
          4167,
          3432,
          4918,
          4681,
          4542,
          4539,
          4944,
          4113,
          3161,
          4628,
          4513,
          2749,
          1183,
          344,
          465,
          676,
          1157,
          1757,
          1602,
          1437
         ],
         "yaxis": "y"
        }
       ],
       "layout": {
        "barmode": "relative",
        "legend": {
         "tracegroupgap": 0
        },
        "margin": {
         "t": 60
        },
        "template": {
         "data": {
          "bar": [
           {
            "error_x": {
             "color": "#2a3f5f"
            },
            "error_y": {
             "color": "#2a3f5f"
            },
            "marker": {
             "line": {
              "color": "#E5ECF6",
              "width": 0.5
             }
            },
            "type": "bar"
           }
          ],
          "barpolar": [
           {
            "marker": {
             "line": {
              "color": "#E5ECF6",
              "width": 0.5
             }
            },
            "type": "barpolar"
           }
          ],
          "carpet": [
           {
            "aaxis": {
             "endlinecolor": "#2a3f5f",
             "gridcolor": "white",
             "linecolor": "white",
             "minorgridcolor": "white",
             "startlinecolor": "#2a3f5f"
            },
            "baxis": {
             "endlinecolor": "#2a3f5f",
             "gridcolor": "white",
             "linecolor": "white",
             "minorgridcolor": "white",
             "startlinecolor": "#2a3f5f"
            },
            "type": "carpet"
           }
          ],
          "choropleth": [
           {
            "colorbar": {
             "outlinewidth": 0,
             "ticks": ""
            },
            "type": "choropleth"
           }
          ],
          "contour": [
           {
            "colorbar": {
             "outlinewidth": 0,
             "ticks": ""
            },
            "colorscale": [
             [
              0,
              "#0d0887"
             ],
             [
              0.1111111111111111,
              "#46039f"
             ],
             [
              0.2222222222222222,
              "#7201a8"
             ],
             [
              0.3333333333333333,
              "#9c179e"
             ],
             [
              0.4444444444444444,
              "#bd3786"
             ],
             [
              0.5555555555555556,
              "#d8576b"
             ],
             [
              0.6666666666666666,
              "#ed7953"
             ],
             [
              0.7777777777777778,
              "#fb9f3a"
             ],
             [
              0.8888888888888888,
              "#fdca26"
             ],
             [
              1,
              "#f0f921"
             ]
            ],
            "type": "contour"
           }
          ],
          "contourcarpet": [
           {
            "colorbar": {
             "outlinewidth": 0,
             "ticks": ""
            },
            "type": "contourcarpet"
           }
          ],
          "heatmap": [
           {
            "colorbar": {
             "outlinewidth": 0,
             "ticks": ""
            },
            "colorscale": [
             [
              0,
              "#0d0887"
             ],
             [
              0.1111111111111111,
              "#46039f"
             ],
             [
              0.2222222222222222,
              "#7201a8"
             ],
             [
              0.3333333333333333,
              "#9c179e"
             ],
             [
              0.4444444444444444,
              "#bd3786"
             ],
             [
              0.5555555555555556,
              "#d8576b"
             ],
             [
              0.6666666666666666,
              "#ed7953"
             ],
             [
              0.7777777777777778,
              "#fb9f3a"
             ],
             [
              0.8888888888888888,
              "#fdca26"
             ],
             [
              1,
              "#f0f921"
             ]
            ],
            "type": "heatmap"
           }
          ],
          "heatmapgl": [
           {
            "colorbar": {
             "outlinewidth": 0,
             "ticks": ""
            },
            "colorscale": [
             [
              0,
              "#0d0887"
             ],
             [
              0.1111111111111111,
              "#46039f"
             ],
             [
              0.2222222222222222,
              "#7201a8"
             ],
             [
              0.3333333333333333,
              "#9c179e"
             ],
             [
              0.4444444444444444,
              "#bd3786"
             ],
             [
              0.5555555555555556,
              "#d8576b"
             ],
             [
              0.6666666666666666,
              "#ed7953"
             ],
             [
              0.7777777777777778,
              "#fb9f3a"
             ],
             [
              0.8888888888888888,
              "#fdca26"
             ],
             [
              1,
              "#f0f921"
             ]
            ],
            "type": "heatmapgl"
           }
          ],
          "histogram": [
           {
            "marker": {
             "colorbar": {
              "outlinewidth": 0,
              "ticks": ""
             }
            },
            "type": "histogram"
           }
          ],
          "histogram2d": [
           {
            "colorbar": {
             "outlinewidth": 0,
             "ticks": ""
            },
            "colorscale": [
             [
              0,
              "#0d0887"
             ],
             [
              0.1111111111111111,
              "#46039f"
             ],
             [
              0.2222222222222222,
              "#7201a8"
             ],
             [
              0.3333333333333333,
              "#9c179e"
             ],
             [
              0.4444444444444444,
              "#bd3786"
             ],
             [
              0.5555555555555556,
              "#d8576b"
             ],
             [
              0.6666666666666666,
              "#ed7953"
             ],
             [
              0.7777777777777778,
              "#fb9f3a"
             ],
             [
              0.8888888888888888,
              "#fdca26"
             ],
             [
              1,
              "#f0f921"
             ]
            ],
            "type": "histogram2d"
           }
          ],
          "histogram2dcontour": [
           {
            "colorbar": {
             "outlinewidth": 0,
             "ticks": ""
            },
            "colorscale": [
             [
              0,
              "#0d0887"
             ],
             [
              0.1111111111111111,
              "#46039f"
             ],
             [
              0.2222222222222222,
              "#7201a8"
             ],
             [
              0.3333333333333333,
              "#9c179e"
             ],
             [
              0.4444444444444444,
              "#bd3786"
             ],
             [
              0.5555555555555556,
              "#d8576b"
             ],
             [
              0.6666666666666666,
              "#ed7953"
             ],
             [
              0.7777777777777778,
              "#fb9f3a"
             ],
             [
              0.8888888888888888,
              "#fdca26"
             ],
             [
              1,
              "#f0f921"
             ]
            ],
            "type": "histogram2dcontour"
           }
          ],
          "mesh3d": [
           {
            "colorbar": {
             "outlinewidth": 0,
             "ticks": ""
            },
            "type": "mesh3d"
           }
          ],
          "parcoords": [
           {
            "line": {
             "colorbar": {
              "outlinewidth": 0,
              "ticks": ""
             }
            },
            "type": "parcoords"
           }
          ],
          "pie": [
           {
            "automargin": true,
            "type": "pie"
           }
          ],
          "scatter": [
           {
            "marker": {
             "colorbar": {
              "outlinewidth": 0,
              "ticks": ""
             }
            },
            "type": "scatter"
           }
          ],
          "scatter3d": [
           {
            "line": {
             "colorbar": {
              "outlinewidth": 0,
              "ticks": ""
             }
            },
            "marker": {
             "colorbar": {
              "outlinewidth": 0,
              "ticks": ""
             }
            },
            "type": "scatter3d"
           }
          ],
          "scattercarpet": [
           {
            "marker": {
             "colorbar": {
              "outlinewidth": 0,
              "ticks": ""
             }
            },
            "type": "scattercarpet"
           }
          ],
          "scattergeo": [
           {
            "marker": {
             "colorbar": {
              "outlinewidth": 0,
              "ticks": ""
             }
            },
            "type": "scattergeo"
           }
          ],
          "scattergl": [
           {
            "marker": {
             "colorbar": {
              "outlinewidth": 0,
              "ticks": ""
             }
            },
            "type": "scattergl"
           }
          ],
          "scattermapbox": [
           {
            "marker": {
             "colorbar": {
              "outlinewidth": 0,
              "ticks": ""
             }
            },
            "type": "scattermapbox"
           }
          ],
          "scatterpolar": [
           {
            "marker": {
             "colorbar": {
              "outlinewidth": 0,
              "ticks": ""
             }
            },
            "type": "scatterpolar"
           }
          ],
          "scatterpolargl": [
           {
            "marker": {
             "colorbar": {
              "outlinewidth": 0,
              "ticks": ""
             }
            },
            "type": "scatterpolargl"
           }
          ],
          "scatterternary": [
           {
            "marker": {
             "colorbar": {
              "outlinewidth": 0,
              "ticks": ""
             }
            },
            "type": "scatterternary"
           }
          ],
          "surface": [
           {
            "colorbar": {
             "outlinewidth": 0,
             "ticks": ""
            },
            "colorscale": [
             [
              0,
              "#0d0887"
             ],
             [
              0.1111111111111111,
              "#46039f"
             ],
             [
              0.2222222222222222,
              "#7201a8"
             ],
             [
              0.3333333333333333,
              "#9c179e"
             ],
             [
              0.4444444444444444,
              "#bd3786"
             ],
             [
              0.5555555555555556,
              "#d8576b"
             ],
             [
              0.6666666666666666,
              "#ed7953"
             ],
             [
              0.7777777777777778,
              "#fb9f3a"
             ],
             [
              0.8888888888888888,
              "#fdca26"
             ],
             [
              1,
              "#f0f921"
             ]
            ],
            "type": "surface"
           }
          ],
          "table": [
           {
            "cells": {
             "fill": {
              "color": "#EBF0F8"
             },
             "line": {
              "color": "white"
             }
            },
            "header": {
             "fill": {
              "color": "#C8D4E3"
             },
             "line": {
              "color": "white"
             }
            },
            "type": "table"
           }
          ]
         },
         "layout": {
          "annotationdefaults": {
           "arrowcolor": "#2a3f5f",
           "arrowhead": 0,
           "arrowwidth": 1
          },
          "autotypenumbers": "strict",
          "coloraxis": {
           "colorbar": {
            "outlinewidth": 0,
            "ticks": ""
           }
          },
          "colorscale": {
           "diverging": [
            [
             0,
             "#8e0152"
            ],
            [
             0.1,
             "#c51b7d"
            ],
            [
             0.2,
             "#de77ae"
            ],
            [
             0.3,
             "#f1b6da"
            ],
            [
             0.4,
             "#fde0ef"
            ],
            [
             0.5,
             "#f7f7f7"
            ],
            [
             0.6,
             "#e6f5d0"
            ],
            [
             0.7,
             "#b8e186"
            ],
            [
             0.8,
             "#7fbc41"
            ],
            [
             0.9,
             "#4d9221"
            ],
            [
             1,
             "#276419"
            ]
           ],
           "sequential": [
            [
             0,
             "#0d0887"
            ],
            [
             0.1111111111111111,
             "#46039f"
            ],
            [
             0.2222222222222222,
             "#7201a8"
            ],
            [
             0.3333333333333333,
             "#9c179e"
            ],
            [
             0.4444444444444444,
             "#bd3786"
            ],
            [
             0.5555555555555556,
             "#d8576b"
            ],
            [
             0.6666666666666666,
             "#ed7953"
            ],
            [
             0.7777777777777778,
             "#fb9f3a"
            ],
            [
             0.8888888888888888,
             "#fdca26"
            ],
            [
             1,
             "#f0f921"
            ]
           ],
           "sequentialminus": [
            [
             0,
             "#0d0887"
            ],
            [
             0.1111111111111111,
             "#46039f"
            ],
            [
             0.2222222222222222,
             "#7201a8"
            ],
            [
             0.3333333333333333,
             "#9c179e"
            ],
            [
             0.4444444444444444,
             "#bd3786"
            ],
            [
             0.5555555555555556,
             "#d8576b"
            ],
            [
             0.6666666666666666,
             "#ed7953"
            ],
            [
             0.7777777777777778,
             "#fb9f3a"
            ],
            [
             0.8888888888888888,
             "#fdca26"
            ],
            [
             1,
             "#f0f921"
            ]
           ]
          },
          "colorway": [
           "#636efa",
           "#EF553B",
           "#00cc96",
           "#ab63fa",
           "#FFA15A",
           "#19d3f3",
           "#FF6692",
           "#B6E880",
           "#FF97FF",
           "#FECB52"
          ],
          "font": {
           "color": "#2a3f5f"
          },
          "geo": {
           "bgcolor": "white",
           "lakecolor": "white",
           "landcolor": "#E5ECF6",
           "showlakes": true,
           "showland": true,
           "subunitcolor": "white"
          },
          "hoverlabel": {
           "align": "left"
          },
          "hovermode": "closest",
          "mapbox": {
           "style": "light"
          },
          "paper_bgcolor": "white",
          "plot_bgcolor": "#E5ECF6",
          "polar": {
           "angularaxis": {
            "gridcolor": "white",
            "linecolor": "white",
            "ticks": ""
           },
           "bgcolor": "#E5ECF6",
           "radialaxis": {
            "gridcolor": "white",
            "linecolor": "white",
            "ticks": ""
           }
          },
          "scene": {
           "xaxis": {
            "backgroundcolor": "#E5ECF6",
            "gridcolor": "white",
            "gridwidth": 2,
            "linecolor": "white",
            "showbackground": true,
            "ticks": "",
            "zerolinecolor": "white"
           },
           "yaxis": {
            "backgroundcolor": "#E5ECF6",
            "gridcolor": "white",
            "gridwidth": 2,
            "linecolor": "white",
            "showbackground": true,
            "ticks": "",
            "zerolinecolor": "white"
           },
           "zaxis": {
            "backgroundcolor": "#E5ECF6",
            "gridcolor": "white",
            "gridwidth": 2,
            "linecolor": "white",
            "showbackground": true,
            "ticks": "",
            "zerolinecolor": "white"
           }
          },
          "shapedefaults": {
           "line": {
            "color": "#2a3f5f"
           }
          },
          "ternary": {
           "aaxis": {
            "gridcolor": "white",
            "linecolor": "white",
            "ticks": ""
           },
           "baxis": {
            "gridcolor": "white",
            "linecolor": "white",
            "ticks": ""
           },
           "bgcolor": "#E5ECF6",
           "caxis": {
            "gridcolor": "white",
            "linecolor": "white",
            "ticks": ""
           }
          },
          "title": {
           "x": 0.05
          },
          "xaxis": {
           "automargin": true,
           "gridcolor": "white",
           "linecolor": "white",
           "ticks": "",
           "title": {
            "standoff": 15
           },
           "zerolinecolor": "white",
           "zerolinewidth": 2
          },
          "yaxis": {
           "automargin": true,
           "gridcolor": "white",
           "linecolor": "white",
           "ticks": "",
           "title": {
            "standoff": 15
           },
           "zerolinecolor": "white",
           "zerolinewidth": 2
          }
         }
        },
        "xaxis": {
         "anchor": "y",
         "categoryarray": [
          "Monday",
          "Tuesday",
          "Wednesday",
          "Thursday",
          "Friday",
          "Saturday",
          "Sunday"
         ],
         "categoryorder": "array",
         "domain": [
          0,
          1
         ],
         "title": {
          "text": "day_of_week"
         }
        },
        "yaxis": {
         "anchor": "x",
         "domain": [
          0,
          1
         ],
         "title": {
          "text": "sum of count"
         }
        }
       }
      },
      "text/html": [
       "<div>                            <div id=\"98c7ee6d-00d8-4b5a-bf31-3f4fcc2e7e24\" class=\"plotly-graph-div\" style=\"height:525px; width:100%;\"></div>            <script type=\"text/javascript\">                require([\"plotly\"], function(Plotly) {                    window.PLOTLYENV=window.PLOTLYENV || {};                                    if (document.getElementById(\"98c7ee6d-00d8-4b5a-bf31-3f4fcc2e7e24\")) {                    Plotly.newPlot(                        \"98c7ee6d-00d8-4b5a-bf31-3f4fcc2e7e24\",                        [{\"alignmentgroup\": \"True\", \"bingroup\": \"x\", \"histfunc\": \"sum\", \"hovertemplate\": \"day_of_week=%{x}<br>sum of count=%{y}<extra></extra>\", \"legendgroup\": \"\", \"marker\": {\"color\": \"#636efa\"}, \"name\": \"\", \"offsetgroup\": \"\", \"orientation\": \"v\", \"showlegend\": false, \"type\": \"histogram\", \"x\": [\"Wednesday\", \"Thursday\", \"Friday\", \"Saturday\", \"Sunday\", \"Monday\", \"Tuesday\", \"Wednesday\", \"Thursday\", \"Friday\", \"Saturday\", \"Sunday\", \"Monday\", \"Tuesday\", \"Wednesday\", \"Thursday\", \"Friday\", \"Saturday\", \"Sunday\", \"Monday\", \"Tuesday\", \"Wednesday\", \"Thursday\", \"Friday\", \"Saturday\", \"Sunday\", \"Monday\", \"Tuesday\", \"Wednesday\", \"Thursday\", \"Friday\", \"Saturday\", \"Sunday\", \"Monday\", \"Tuesday\", \"Wednesday\", \"Thursday\", \"Friday\", \"Saturday\", \"Sunday\", \"Monday\", \"Tuesday\", \"Wednesday\", \"Thursday\", \"Friday\", \"Saturday\", \"Sunday\", \"Monday\", \"Tuesday\", \"Wednesday\", \"Thursday\", \"Friday\", \"Saturday\", \"Sunday\", \"Monday\", \"Tuesday\", \"Wednesday\", \"Thursday\", \"Friday\", \"Saturday\", \"Sunday\", \"Monday\", \"Tuesday\", \"Wednesday\", \"Thursday\", \"Friday\", \"Saturday\", \"Sunday\", \"Monday\", \"Tuesday\", \"Wednesday\", \"Thursday\", \"Friday\", \"Saturday\", \"Sunday\", \"Monday\", \"Tuesday\", \"Wednesday\", \"Thursday\", \"Friday\", \"Saturday\", \"Sunday\", \"Monday\", \"Tuesday\", \"Wednesday\", \"Thursday\", \"Friday\", \"Saturday\", \"Sunday\", \"Monday\", \"Tuesday\", \"Wednesday\", \"Thursday\", \"Friday\", \"Saturday\", \"Sunday\", \"Monday\", \"Tuesday\", \"Wednesday\", \"Thursday\", \"Friday\", \"Saturday\", \"Sunday\", \"Monday\", \"Tuesday\", \"Wednesday\", \"Thursday\", \"Friday\", \"Saturday\", \"Sunday\", \"Monday\", \"Tuesday\", \"Wednesday\", \"Thursday\", \"Friday\", \"Saturday\", \"Sunday\", \"Monday\", \"Tuesday\", \"Wednesday\", \"Thursday\", \"Friday\", \"Saturday\", \"Sunday\", \"Monday\", \"Tuesday\", \"Wednesday\", \"Thursday\", \"Friday\", \"Saturday\", \"Sunday\", \"Monday\", \"Tuesday\", \"Wednesday\", \"Thursday\", \"Friday\", \"Saturday\", \"Sunday\", \"Monday\", \"Tuesday\", \"Wednesday\", \"Thursday\", \"Friday\", \"Saturday\", \"Sunday\", \"Monday\", \"Tuesday\", \"Wednesday\", \"Thursday\", \"Friday\", \"Saturday\", \"Sunday\", \"Monday\", \"Tuesday\", \"Wednesday\", \"Thursday\", \"Friday\", \"Saturday\", \"Sunday\", \"Monday\", \"Tuesday\", \"Wednesday\", \"Thursday\", \"Friday\", \"Saturday\", \"Sunday\", \"Monday\", \"Tuesday\", \"Wednesday\", \"Thursday\", \"Friday\", \"Saturday\", \"Sunday\", \"Monday\", \"Tuesday\", \"Wednesday\", \"Thursday\", \"Friday\", \"Saturday\", \"Sunday\", \"Monday\", \"Tuesday\", \"Wednesday\", \"Thursday\", \"Friday\", \"Saturday\", \"Sunday\", \"Monday\", \"Tuesday\", \"Wednesday\", \"Thursday\", \"Friday\", \"Saturday\", \"Sunday\", \"Monday\", \"Tuesday\", \"Wednesday\", \"Thursday\", \"Friday\", \"Saturday\", \"Sunday\", \"Monday\", \"Tuesday\", \"Wednesday\", \"Thursday\", \"Friday\", \"Saturday\", \"Sunday\", \"Monday\", \"Tuesday\", \"Wednesday\", \"Thursday\", \"Friday\", \"Saturday\", \"Sunday\", \"Monday\", \"Tuesday\", \"Wednesday\", \"Thursday\", \"Friday\", \"Saturday\", \"Sunday\", \"Monday\", \"Tuesday\", \"Wednesday\", \"Thursday\", \"Friday\", \"Saturday\", \"Sunday\", \"Monday\", \"Tuesday\", \"Wednesday\", \"Thursday\", \"Friday\", \"Saturday\", \"Sunday\", \"Monday\", \"Tuesday\", \"Wednesday\", \"Thursday\", \"Friday\", \"Saturday\", \"Sunday\", \"Monday\", \"Tuesday\", \"Wednesday\", \"Thursday\", \"Friday\", \"Saturday\", \"Sunday\", \"Monday\", \"Tuesday\", \"Wednesday\", \"Thursday\", \"Friday\", \"Saturday\", \"Sunday\", \"Monday\", \"Tuesday\", \"Wednesday\", \"Thursday\", \"Friday\", \"Saturday\", \"Sunday\", \"Monday\", \"Tuesday\", \"Wednesday\", \"Thursday\", \"Friday\", \"Saturday\", \"Sunday\", \"Monday\", \"Tuesday\", \"Wednesday\", \"Thursday\", \"Friday\", \"Saturday\", \"Sunday\", \"Monday\", \"Tuesday\", \"Wednesday\", \"Thursday\", \"Friday\", \"Saturday\", \"Sunday\", \"Monday\", \"Tuesday\", \"Wednesday\", \"Thursday\", \"Friday\", \"Saturday\", \"Sunday\", \"Monday\", \"Tuesday\", \"Wednesday\", \"Thursday\", \"Friday\", \"Saturday\", \"Sunday\", \"Monday\", \"Tuesday\", \"Wednesday\", \"Thursday\", \"Friday\", \"Saturday\", \"Sunday\", \"Monday\", \"Tuesday\", \"Wednesday\", \"Thursday\", \"Friday\", \"Saturday\", \"Sunday\", \"Monday\", \"Tuesday\", \"Wednesday\", \"Thursday\", \"Friday\", \"Saturday\", \"Sunday\", \"Monday\", \"Tuesday\", \"Wednesday\", \"Thursday\", \"Friday\", \"Saturday\", \"Sunday\", \"Monday\", \"Tuesday\", \"Wednesday\", \"Thursday\", \"Friday\", \"Saturday\", \"Sunday\", \"Monday\", \"Tuesday\", \"Wednesday\", \"Thursday\", \"Friday\", \"Saturday\", \"Sunday\", \"Monday\", \"Tuesday\", \"Wednesday\", \"Thursday\", \"Friday\", \"Saturday\", \"Sunday\", \"Monday\", \"Tuesday\", \"Wednesday\", \"Thursday\", \"Friday\", \"Saturday\", \"Sunday\", \"Monday\", \"Tuesday\", \"Wednesday\", \"Thursday\", \"Friday\", \"Saturday\", \"Sunday\", \"Monday\", \"Tuesday\", \"Wednesday\", \"Thursday\"], \"xaxis\": \"x\", \"y\": [2210, 7184, 7143, 5509, 4177, 6569, 7508, 6853, 7132, 7149, 3941, 3873, 7215, 7630, 7434, 7416, 6790, 3174, 2980, 5596, 6698, 6876, 6949, 6667, 4763, 4425, 7137, 7366, 6737, 7422, 7499, 6335, 4278, 6933, 7225, 7238, 4645, 5343, 4754, 3909, 6022, 6770, 6842, 5981, 6234, 5623, 4597, 3472, 6193, 7397, 6585, 6629, 5436, 4653, 6803, 6979, 5695, 4542, 6035, 4915, 4558, 7066, 7514, 8120, 7754, 7469, 6551, 4548, 7567, 7014, 7301, 7275, 6827, 5735, 4747, 6117, 5108, 4144, 3094, 2542, 879, 721, 1725, 1497, 1030, 656, 584, 583, 418, 572, 674, 720, 602, 584, 545, 550, 628, 652, 739, 681, 304, 481, 365, 373, 611, 689, 680, 508, 453, 449, 506, 604, 776, 765, 676, 588, 471, 654, 744, 817, 764, 743, 602, 994, 800, 694, 850, 594, 850, 544, 607, 660, 734, 847, 766, 625, 770, 626, 406, 845, 893, 891, 1186, 1157, 997, 1194, 1212, 1133, 888, 881, 749, 755, 977, 927, 958, 1069, 1041, 1120, 1091, 1081, 1329, 1279, 1021, 1397, 1313, 1340, 1479, 1301, 1497, 1577, 1447, 1543, 1268, 1194, 1139, 1405, 1270, 1415, 1185, 1515, 1306, 1393, 1727, 2047, 1727, 1886, 1616, 3459, 3830, 3406, 3490, 3515, 1877, 2049, 3962, 2854, 3897, 4604, 4173, 2792, 1716, 4269, 4430, 4385, 4603, 4181, 2772, 2283, 4088, 3892, 4166, 4520, 4476, 2564, 1720, 1547, 4666, 4786, 4393, 4399, 2463, 1920, 3838, 3949, 4011, 3788, 3842, 2771, 1911, 6342, 6621, 6803, 5685, 6130, 4022, 3485, 6325, 6405, 6272, 6002, 5971, 3743, 3204, 5707, 6629, 5657, 6043, 6379, 3692, 3965, 1923, 6812, 6604, 6416, 6084, 4156, 3427, 6216, 6539, 7364, 6680, 6128, 3905, 3637, 6067, 6101, 6580, 6076, 6636, 4952, 4184, 6483, 6796, 6642, 7099, 6230, 4717, 3877, 5568, 5741, 5665, 5661, 6352, 4892, 4201, 1888, 6004, 6027, 5445, 6743, 4757, 3973, 5740, 6050, 5712, 5960, 5714, 4731, 3792, 5562, 5575, 5802, 6004, 6116, 4410, 3712, 5683, 6557, 6593, 6155, 6042, 4594, 4207, 5691, 6018, 5773, 5392, 5749, 4519, 3759, 6057, 5696, 5213, 5703, 5505, 4500, 2838, 4135, 4433, 4461, 4370, 4489, 3761, 3283, 4407, 3758, 4278, 4780, 5038, 4159, 3340, 4753, 6180, 5366, 5778, 5348, 4167, 3432, 4918, 4681, 4542, 4539, 4944, 4113, 3161, 4628, 4513, 2749, 1183, 344, 465, 676, 1157, 1757, 1602, 1437], \"yaxis\": \"y\"}],                        {\"barmode\": \"relative\", \"legend\": {\"tracegroupgap\": 0}, \"margin\": {\"t\": 60}, \"template\": {\"data\": {\"bar\": [{\"error_x\": {\"color\": \"#2a3f5f\"}, \"error_y\": {\"color\": \"#2a3f5f\"}, \"marker\": {\"line\": {\"color\": \"#E5ECF6\", \"width\": 0.5}}, \"type\": \"bar\"}], \"barpolar\": [{\"marker\": {\"line\": {\"color\": \"#E5ECF6\", \"width\": 0.5}}, \"type\": \"barpolar\"}], \"carpet\": [{\"aaxis\": {\"endlinecolor\": \"#2a3f5f\", \"gridcolor\": \"white\", \"linecolor\": \"white\", \"minorgridcolor\": \"white\", \"startlinecolor\": \"#2a3f5f\"}, \"baxis\": {\"endlinecolor\": \"#2a3f5f\", \"gridcolor\": \"white\", \"linecolor\": \"white\", \"minorgridcolor\": \"white\", \"startlinecolor\": \"#2a3f5f\"}, \"type\": \"carpet\"}], \"choropleth\": [{\"colorbar\": {\"outlinewidth\": 0, \"ticks\": \"\"}, \"type\": \"choropleth\"}], \"contour\": [{\"colorbar\": {\"outlinewidth\": 0, \"ticks\": \"\"}, \"colorscale\": [[0.0, \"#0d0887\"], [0.1111111111111111, \"#46039f\"], [0.2222222222222222, \"#7201a8\"], [0.3333333333333333, \"#9c179e\"], [0.4444444444444444, \"#bd3786\"], [0.5555555555555556, \"#d8576b\"], [0.6666666666666666, \"#ed7953\"], [0.7777777777777778, \"#fb9f3a\"], [0.8888888888888888, \"#fdca26\"], [1.0, \"#f0f921\"]], \"type\": \"contour\"}], \"contourcarpet\": [{\"colorbar\": {\"outlinewidth\": 0, \"ticks\": \"\"}, \"type\": \"contourcarpet\"}], \"heatmap\": [{\"colorbar\": {\"outlinewidth\": 0, \"ticks\": \"\"}, \"colorscale\": [[0.0, \"#0d0887\"], [0.1111111111111111, \"#46039f\"], [0.2222222222222222, \"#7201a8\"], [0.3333333333333333, \"#9c179e\"], [0.4444444444444444, \"#bd3786\"], [0.5555555555555556, \"#d8576b\"], [0.6666666666666666, \"#ed7953\"], [0.7777777777777778, \"#fb9f3a\"], [0.8888888888888888, \"#fdca26\"], [1.0, \"#f0f921\"]], \"type\": \"heatmap\"}], \"heatmapgl\": [{\"colorbar\": {\"outlinewidth\": 0, \"ticks\": \"\"}, \"colorscale\": [[0.0, \"#0d0887\"], [0.1111111111111111, \"#46039f\"], [0.2222222222222222, \"#7201a8\"], [0.3333333333333333, \"#9c179e\"], [0.4444444444444444, \"#bd3786\"], [0.5555555555555556, \"#d8576b\"], [0.6666666666666666, \"#ed7953\"], [0.7777777777777778, \"#fb9f3a\"], [0.8888888888888888, \"#fdca26\"], [1.0, \"#f0f921\"]], \"type\": \"heatmapgl\"}], \"histogram\": [{\"marker\": {\"colorbar\": {\"outlinewidth\": 0, \"ticks\": \"\"}}, \"type\": \"histogram\"}], \"histogram2d\": [{\"colorbar\": {\"outlinewidth\": 0, \"ticks\": \"\"}, \"colorscale\": [[0.0, \"#0d0887\"], [0.1111111111111111, \"#46039f\"], [0.2222222222222222, \"#7201a8\"], [0.3333333333333333, \"#9c179e\"], [0.4444444444444444, \"#bd3786\"], [0.5555555555555556, \"#d8576b\"], [0.6666666666666666, \"#ed7953\"], [0.7777777777777778, \"#fb9f3a\"], [0.8888888888888888, \"#fdca26\"], [1.0, \"#f0f921\"]], \"type\": \"histogram2d\"}], \"histogram2dcontour\": [{\"colorbar\": {\"outlinewidth\": 0, \"ticks\": \"\"}, \"colorscale\": [[0.0, \"#0d0887\"], [0.1111111111111111, \"#46039f\"], [0.2222222222222222, \"#7201a8\"], [0.3333333333333333, \"#9c179e\"], [0.4444444444444444, \"#bd3786\"], [0.5555555555555556, \"#d8576b\"], [0.6666666666666666, \"#ed7953\"], [0.7777777777777778, \"#fb9f3a\"], [0.8888888888888888, \"#fdca26\"], [1.0, \"#f0f921\"]], \"type\": \"histogram2dcontour\"}], \"mesh3d\": [{\"colorbar\": {\"outlinewidth\": 0, \"ticks\": \"\"}, \"type\": \"mesh3d\"}], \"parcoords\": [{\"line\": {\"colorbar\": {\"outlinewidth\": 0, \"ticks\": \"\"}}, \"type\": \"parcoords\"}], \"pie\": [{\"automargin\": true, \"type\": \"pie\"}], \"scatter\": [{\"marker\": {\"colorbar\": {\"outlinewidth\": 0, \"ticks\": \"\"}}, \"type\": \"scatter\"}], \"scatter3d\": [{\"line\": {\"colorbar\": {\"outlinewidth\": 0, \"ticks\": \"\"}}, \"marker\": {\"colorbar\": {\"outlinewidth\": 0, \"ticks\": \"\"}}, \"type\": \"scatter3d\"}], \"scattercarpet\": [{\"marker\": {\"colorbar\": {\"outlinewidth\": 0, \"ticks\": \"\"}}, \"type\": \"scattercarpet\"}], \"scattergeo\": [{\"marker\": {\"colorbar\": {\"outlinewidth\": 0, \"ticks\": \"\"}}, \"type\": \"scattergeo\"}], \"scattergl\": [{\"marker\": {\"colorbar\": {\"outlinewidth\": 0, \"ticks\": \"\"}}, \"type\": \"scattergl\"}], \"scattermapbox\": [{\"marker\": {\"colorbar\": {\"outlinewidth\": 0, \"ticks\": \"\"}}, \"type\": \"scattermapbox\"}], \"scatterpolar\": [{\"marker\": {\"colorbar\": {\"outlinewidth\": 0, \"ticks\": \"\"}}, \"type\": \"scatterpolar\"}], \"scatterpolargl\": [{\"marker\": {\"colorbar\": {\"outlinewidth\": 0, \"ticks\": \"\"}}, \"type\": \"scatterpolargl\"}], \"scatterternary\": [{\"marker\": {\"colorbar\": {\"outlinewidth\": 0, \"ticks\": \"\"}}, \"type\": \"scatterternary\"}], \"surface\": [{\"colorbar\": {\"outlinewidth\": 0, \"ticks\": \"\"}, \"colorscale\": [[0.0, \"#0d0887\"], [0.1111111111111111, \"#46039f\"], [0.2222222222222222, \"#7201a8\"], [0.3333333333333333, \"#9c179e\"], [0.4444444444444444, \"#bd3786\"], [0.5555555555555556, \"#d8576b\"], [0.6666666666666666, \"#ed7953\"], [0.7777777777777778, \"#fb9f3a\"], [0.8888888888888888, \"#fdca26\"], [1.0, \"#f0f921\"]], \"type\": \"surface\"}], \"table\": [{\"cells\": {\"fill\": {\"color\": \"#EBF0F8\"}, \"line\": {\"color\": \"white\"}}, \"header\": {\"fill\": {\"color\": \"#C8D4E3\"}, \"line\": {\"color\": \"white\"}}, \"type\": \"table\"}]}, \"layout\": {\"annotationdefaults\": {\"arrowcolor\": \"#2a3f5f\", \"arrowhead\": 0, \"arrowwidth\": 1}, \"autotypenumbers\": \"strict\", \"coloraxis\": {\"colorbar\": {\"outlinewidth\": 0, \"ticks\": \"\"}}, \"colorscale\": {\"diverging\": [[0, \"#8e0152\"], [0.1, \"#c51b7d\"], [0.2, \"#de77ae\"], [0.3, \"#f1b6da\"], [0.4, \"#fde0ef\"], [0.5, \"#f7f7f7\"], [0.6, \"#e6f5d0\"], [0.7, \"#b8e186\"], [0.8, \"#7fbc41\"], [0.9, \"#4d9221\"], [1, \"#276419\"]], \"sequential\": [[0.0, \"#0d0887\"], [0.1111111111111111, \"#46039f\"], [0.2222222222222222, \"#7201a8\"], [0.3333333333333333, \"#9c179e\"], [0.4444444444444444, \"#bd3786\"], [0.5555555555555556, \"#d8576b\"], [0.6666666666666666, \"#ed7953\"], [0.7777777777777778, \"#fb9f3a\"], [0.8888888888888888, \"#fdca26\"], [1.0, \"#f0f921\"]], \"sequentialminus\": [[0.0, \"#0d0887\"], [0.1111111111111111, \"#46039f\"], [0.2222222222222222, \"#7201a8\"], [0.3333333333333333, \"#9c179e\"], [0.4444444444444444, \"#bd3786\"], [0.5555555555555556, \"#d8576b\"], [0.6666666666666666, \"#ed7953\"], [0.7777777777777778, \"#fb9f3a\"], [0.8888888888888888, \"#fdca26\"], [1.0, \"#f0f921\"]]}, \"colorway\": [\"#636efa\", \"#EF553B\", \"#00cc96\", \"#ab63fa\", \"#FFA15A\", \"#19d3f3\", \"#FF6692\", \"#B6E880\", \"#FF97FF\", \"#FECB52\"], \"font\": {\"color\": \"#2a3f5f\"}, \"geo\": {\"bgcolor\": \"white\", \"lakecolor\": \"white\", \"landcolor\": \"#E5ECF6\", \"showlakes\": true, \"showland\": true, \"subunitcolor\": \"white\"}, \"hoverlabel\": {\"align\": \"left\"}, \"hovermode\": \"closest\", \"mapbox\": {\"style\": \"light\"}, \"paper_bgcolor\": \"white\", \"plot_bgcolor\": \"#E5ECF6\", \"polar\": {\"angularaxis\": {\"gridcolor\": \"white\", \"linecolor\": \"white\", \"ticks\": \"\"}, \"bgcolor\": \"#E5ECF6\", \"radialaxis\": {\"gridcolor\": \"white\", \"linecolor\": \"white\", \"ticks\": \"\"}}, \"scene\": {\"xaxis\": {\"backgroundcolor\": \"#E5ECF6\", \"gridcolor\": \"white\", \"gridwidth\": 2, \"linecolor\": \"white\", \"showbackground\": true, \"ticks\": \"\", \"zerolinecolor\": \"white\"}, \"yaxis\": {\"backgroundcolor\": \"#E5ECF6\", \"gridcolor\": \"white\", \"gridwidth\": 2, \"linecolor\": \"white\", \"showbackground\": true, \"ticks\": \"\", \"zerolinecolor\": \"white\"}, \"zaxis\": {\"backgroundcolor\": \"#E5ECF6\", \"gridcolor\": \"white\", \"gridwidth\": 2, \"linecolor\": \"white\", \"showbackground\": true, \"ticks\": \"\", \"zerolinecolor\": \"white\"}}, \"shapedefaults\": {\"line\": {\"color\": \"#2a3f5f\"}}, \"ternary\": {\"aaxis\": {\"gridcolor\": \"white\", \"linecolor\": \"white\", \"ticks\": \"\"}, \"baxis\": {\"gridcolor\": \"white\", \"linecolor\": \"white\", \"ticks\": \"\"}, \"bgcolor\": \"#E5ECF6\", \"caxis\": {\"gridcolor\": \"white\", \"linecolor\": \"white\", \"ticks\": \"\"}}, \"title\": {\"x\": 0.05}, \"xaxis\": {\"automargin\": true, \"gridcolor\": \"white\", \"linecolor\": \"white\", \"ticks\": \"\", \"title\": {\"standoff\": 15}, \"zerolinecolor\": \"white\", \"zerolinewidth\": 2}, \"yaxis\": {\"automargin\": true, \"gridcolor\": \"white\", \"linecolor\": \"white\", \"ticks\": \"\", \"title\": {\"standoff\": 15}, \"zerolinecolor\": \"white\", \"zerolinewidth\": 2}}}, \"xaxis\": {\"anchor\": \"y\", \"categoryarray\": [\"Monday\", \"Tuesday\", \"Wednesday\", \"Thursday\", \"Friday\", \"Saturday\", \"Sunday\"], \"categoryorder\": \"array\", \"domain\": [0.0, 1.0], \"title\": {\"text\": \"day_of_week\"}}, \"yaxis\": {\"anchor\": \"x\", \"domain\": [0.0, 1.0], \"title\": {\"text\": \"sum of count\"}}},                        {\"responsive\": true}                    ).then(function(){\n",
       "                            \n",
       "var gd = document.getElementById('98c7ee6d-00d8-4b5a-bf31-3f4fcc2e7e24');\n",
       "var x = new MutationObserver(function (mutations, observer) {{\n",
       "        var display = window.getComputedStyle(gd).display;\n",
       "        if (!display || display === 'none') {{\n",
       "            console.log([gd, 'removed!']);\n",
       "            Plotly.purge(gd);\n",
       "            observer.disconnect();\n",
       "        }}\n",
       "}});\n",
       "\n",
       "// Listen for the removal of the full notebook cells\n",
       "var notebookContainer = gd.closest('#notebook-container');\n",
       "if (notebookContainer) {{\n",
       "    x.observe(notebookContainer, {childList: true});\n",
       "}}\n",
       "\n",
       "// Listen for the clearing of the current output cell\n",
       "var outputEl = gd.closest('.output');\n",
       "if (outputEl) {{\n",
       "    x.observe(outputEl, {childList: true});\n",
       "}}\n",
       "\n",
       "                        })                };                });            </script>        </div>"
      ]
     },
     "metadata": {},
     "output_type": "display_data"
    }
   ],
   "source": [
    "day_order = {'day_of_week':[\"Monday\", \"Tuesday\", \"Wednesday\", \"Thursday\", \"Friday\", \"Saturday\", \"Sunday\"]}\n",
    "fig = px.histogram(time_df, x='day_of_week', y='count', category_orders=day_order)\n",
    "fig.show()"
   ]
  },
  {
   "cell_type": "code",
   "execution_count": 171,
   "metadata": {
    "ExecuteTime": {
     "end_time": "2021-04-19T16:25:26.645595Z",
     "start_time": "2021-04-19T16:25:26.627643Z"
    }
   },
   "outputs": [
    {
     "data": {
      "text/html": [
       "<div>\n",
       "<style scoped>\n",
       "    .dataframe tbody tr th:only-of-type {\n",
       "        vertical-align: middle;\n",
       "    }\n",
       "\n",
       "    .dataframe tbody tr th {\n",
       "        vertical-align: top;\n",
       "    }\n",
       "\n",
       "    .dataframe thead th {\n",
       "        text-align: right;\n",
       "    }\n",
       "</style>\n",
       "<table border=\"1\" class=\"dataframe\">\n",
       "  <thead>\n",
       "    <tr style=\"text-align: right;\">\n",
       "      <th></th>\n",
       "      <th>day_of_week</th>\n",
       "      <th>infractions</th>\n",
       "    </tr>\n",
       "  </thead>\n",
       "  <tbody>\n",
       "    <tr>\n",
       "      <th>0</th>\n",
       "      <td>Friday</td>\n",
       "      <td>220823</td>\n",
       "    </tr>\n",
       "    <tr>\n",
       "      <th>1</th>\n",
       "      <td>Monday</td>\n",
       "      <td>204465</td>\n",
       "    </tr>\n",
       "    <tr>\n",
       "      <th>2</th>\n",
       "      <td>Saturday</td>\n",
       "      <td>164628</td>\n",
       "    </tr>\n",
       "    <tr>\n",
       "      <th>3</th>\n",
       "      <td>Sunday</td>\n",
       "      <td>138280</td>\n",
       "    </tr>\n",
       "    <tr>\n",
       "      <th>4</th>\n",
       "      <td>Thursday</td>\n",
       "      <td>222056</td>\n",
       "    </tr>\n",
       "    <tr>\n",
       "      <th>5</th>\n",
       "      <td>Tuesday</td>\n",
       "      <td>226848</td>\n",
       "    </tr>\n",
       "    <tr>\n",
       "      <th>6</th>\n",
       "      <td>Wednesday</td>\n",
       "      <td>226563</td>\n",
       "    </tr>\n",
       "  </tbody>\n",
       "</table>\n",
       "</div>"
      ],
      "text/plain": [
       "  day_of_week  infractions\n",
       "0      Friday       220823\n",
       "1      Monday       204465\n",
       "2    Saturday       164628\n",
       "3      Sunday       138280\n",
       "4    Thursday       222056\n",
       "5     Tuesday       226848\n",
       "6   Wednesday       226563"
      ]
     },
     "execution_count": 171,
     "metadata": {},
     "output_type": "execute_result"
    }
   ],
   "source": [
    "day_table = pd.DataFrame({'infractions': time_df.groupby(['day_of_week'])['count'].sum()}).reset_index()\n",
    "day_table"
   ]
  },
  {
   "cell_type": "markdown",
   "metadata": {},
   "source": [
    "## 3.1.5. b: Impact of month of week in all infractions"
   ]
  },
  {
   "cell_type": "code",
   "execution_count": 183,
   "metadata": {
    "ExecuteTime": {
     "end_time": "2021-04-19T16:47:25.591383Z",
     "start_time": "2021-04-19T16:47:25.579420Z"
    }
   },
   "outputs": [],
   "source": [
    "def week_month(week):\n",
    "    n = week%4\n",
    "    if n==0:\n",
    "        n = 4\n",
    "    return(n)"
   ]
  },
  {
   "cell_type": "code",
   "execution_count": 184,
   "metadata": {
    "ExecuteTime": {
     "end_time": "2021-04-19T16:47:27.899798Z",
     "start_time": "2021-04-19T16:47:27.879850Z"
    }
   },
   "outputs": [],
   "source": [
    "time_df['week_of_month'] = time_df['week_num'].apply(lambda x: week_month(x))"
   ]
  },
  {
   "cell_type": "code",
   "execution_count": 185,
   "metadata": {
    "ExecuteTime": {
     "end_time": "2021-04-19T16:47:45.806584Z",
     "start_time": "2021-04-19T16:47:45.774667Z"
    }
   },
   "outputs": [
    {
     "data": {
      "text/html": [
       "<div>\n",
       "<style scoped>\n",
       "    .dataframe tbody tr th:only-of-type {\n",
       "        vertical-align: middle;\n",
       "    }\n",
       "\n",
       "    .dataframe tbody tr th {\n",
       "        vertical-align: top;\n",
       "    }\n",
       "\n",
       "    .dataframe thead th {\n",
       "        text-align: right;\n",
       "    }\n",
       "</style>\n",
       "<table border=\"1\" class=\"dataframe\">\n",
       "  <thead>\n",
       "    <tr style=\"text-align: right;\">\n",
       "      <th></th>\n",
       "      <th>date_of_infraction</th>\n",
       "      <th>count</th>\n",
       "      <th>date</th>\n",
       "      <th>day_of_week</th>\n",
       "      <th>month</th>\n",
       "      <th>week_num</th>\n",
       "      <th>season</th>\n",
       "      <th>week_of_month</th>\n",
       "    </tr>\n",
       "  </thead>\n",
       "  <tbody>\n",
       "    <tr>\n",
       "      <th>0</th>\n",
       "      <td>20200101</td>\n",
       "      <td>2210</td>\n",
       "      <td>2020-01-01</td>\n",
       "      <td>Wednesday</td>\n",
       "      <td>January</td>\n",
       "      <td>1</td>\n",
       "      <td>Winter</td>\n",
       "      <td>1</td>\n",
       "    </tr>\n",
       "    <tr>\n",
       "      <th>1</th>\n",
       "      <td>20200102</td>\n",
       "      <td>7184</td>\n",
       "      <td>2020-01-02</td>\n",
       "      <td>Thursday</td>\n",
       "      <td>January</td>\n",
       "      <td>1</td>\n",
       "      <td>Winter</td>\n",
       "      <td>1</td>\n",
       "    </tr>\n",
       "    <tr>\n",
       "      <th>2</th>\n",
       "      <td>20200103</td>\n",
       "      <td>7143</td>\n",
       "      <td>2020-01-03</td>\n",
       "      <td>Friday</td>\n",
       "      <td>January</td>\n",
       "      <td>1</td>\n",
       "      <td>Winter</td>\n",
       "      <td>1</td>\n",
       "    </tr>\n",
       "    <tr>\n",
       "      <th>3</th>\n",
       "      <td>20200104</td>\n",
       "      <td>5509</td>\n",
       "      <td>2020-01-04</td>\n",
       "      <td>Saturday</td>\n",
       "      <td>January</td>\n",
       "      <td>1</td>\n",
       "      <td>Winter</td>\n",
       "      <td>1</td>\n",
       "    </tr>\n",
       "    <tr>\n",
       "      <th>4</th>\n",
       "      <td>20200105</td>\n",
       "      <td>4177</td>\n",
       "      <td>2020-01-05</td>\n",
       "      <td>Sunday</td>\n",
       "      <td>January</td>\n",
       "      <td>1</td>\n",
       "      <td>Winter</td>\n",
       "      <td>1</td>\n",
       "    </tr>\n",
       "    <tr>\n",
       "      <th>5</th>\n",
       "      <td>20200106</td>\n",
       "      <td>6569</td>\n",
       "      <td>2020-01-06</td>\n",
       "      <td>Monday</td>\n",
       "      <td>January</td>\n",
       "      <td>2</td>\n",
       "      <td>Winter</td>\n",
       "      <td>2</td>\n",
       "    </tr>\n",
       "    <tr>\n",
       "      <th>6</th>\n",
       "      <td>20200107</td>\n",
       "      <td>7508</td>\n",
       "      <td>2020-01-07</td>\n",
       "      <td>Tuesday</td>\n",
       "      <td>January</td>\n",
       "      <td>2</td>\n",
       "      <td>Winter</td>\n",
       "      <td>2</td>\n",
       "    </tr>\n",
       "    <tr>\n",
       "      <th>7</th>\n",
       "      <td>20200108</td>\n",
       "      <td>6853</td>\n",
       "      <td>2020-01-08</td>\n",
       "      <td>Wednesday</td>\n",
       "      <td>January</td>\n",
       "      <td>2</td>\n",
       "      <td>Winter</td>\n",
       "      <td>2</td>\n",
       "    </tr>\n",
       "    <tr>\n",
       "      <th>8</th>\n",
       "      <td>20200109</td>\n",
       "      <td>7132</td>\n",
       "      <td>2020-01-09</td>\n",
       "      <td>Thursday</td>\n",
       "      <td>January</td>\n",
       "      <td>2</td>\n",
       "      <td>Winter</td>\n",
       "      <td>2</td>\n",
       "    </tr>\n",
       "    <tr>\n",
       "      <th>9</th>\n",
       "      <td>20200110</td>\n",
       "      <td>7149</td>\n",
       "      <td>2020-01-10</td>\n",
       "      <td>Friday</td>\n",
       "      <td>January</td>\n",
       "      <td>2</td>\n",
       "      <td>Winter</td>\n",
       "      <td>2</td>\n",
       "    </tr>\n",
       "    <tr>\n",
       "      <th>10</th>\n",
       "      <td>20200111</td>\n",
       "      <td>3941</td>\n",
       "      <td>2020-01-11</td>\n",
       "      <td>Saturday</td>\n",
       "      <td>January</td>\n",
       "      <td>2</td>\n",
       "      <td>Winter</td>\n",
       "      <td>2</td>\n",
       "    </tr>\n",
       "    <tr>\n",
       "      <th>11</th>\n",
       "      <td>20200112</td>\n",
       "      <td>3873</td>\n",
       "      <td>2020-01-12</td>\n",
       "      <td>Sunday</td>\n",
       "      <td>January</td>\n",
       "      <td>2</td>\n",
       "      <td>Winter</td>\n",
       "      <td>2</td>\n",
       "    </tr>\n",
       "    <tr>\n",
       "      <th>12</th>\n",
       "      <td>20200113</td>\n",
       "      <td>7215</td>\n",
       "      <td>2020-01-13</td>\n",
       "      <td>Monday</td>\n",
       "      <td>January</td>\n",
       "      <td>3</td>\n",
       "      <td>Winter</td>\n",
       "      <td>3</td>\n",
       "    </tr>\n",
       "    <tr>\n",
       "      <th>13</th>\n",
       "      <td>20200114</td>\n",
       "      <td>7630</td>\n",
       "      <td>2020-01-14</td>\n",
       "      <td>Tuesday</td>\n",
       "      <td>January</td>\n",
       "      <td>3</td>\n",
       "      <td>Winter</td>\n",
       "      <td>3</td>\n",
       "    </tr>\n",
       "    <tr>\n",
       "      <th>14</th>\n",
       "      <td>20200115</td>\n",
       "      <td>7434</td>\n",
       "      <td>2020-01-15</td>\n",
       "      <td>Wednesday</td>\n",
       "      <td>January</td>\n",
       "      <td>3</td>\n",
       "      <td>Winter</td>\n",
       "      <td>3</td>\n",
       "    </tr>\n",
       "    <tr>\n",
       "      <th>15</th>\n",
       "      <td>20200116</td>\n",
       "      <td>7416</td>\n",
       "      <td>2020-01-16</td>\n",
       "      <td>Thursday</td>\n",
       "      <td>January</td>\n",
       "      <td>3</td>\n",
       "      <td>Winter</td>\n",
       "      <td>3</td>\n",
       "    </tr>\n",
       "    <tr>\n",
       "      <th>16</th>\n",
       "      <td>20200117</td>\n",
       "      <td>6790</td>\n",
       "      <td>2020-01-17</td>\n",
       "      <td>Friday</td>\n",
       "      <td>January</td>\n",
       "      <td>3</td>\n",
       "      <td>Winter</td>\n",
       "      <td>3</td>\n",
       "    </tr>\n",
       "    <tr>\n",
       "      <th>17</th>\n",
       "      <td>20200118</td>\n",
       "      <td>3174</td>\n",
       "      <td>2020-01-18</td>\n",
       "      <td>Saturday</td>\n",
       "      <td>January</td>\n",
       "      <td>3</td>\n",
       "      <td>Winter</td>\n",
       "      <td>3</td>\n",
       "    </tr>\n",
       "    <tr>\n",
       "      <th>18</th>\n",
       "      <td>20200119</td>\n",
       "      <td>2980</td>\n",
       "      <td>2020-01-19</td>\n",
       "      <td>Sunday</td>\n",
       "      <td>January</td>\n",
       "      <td>3</td>\n",
       "      <td>Winter</td>\n",
       "      <td>3</td>\n",
       "    </tr>\n",
       "    <tr>\n",
       "      <th>19</th>\n",
       "      <td>20200120</td>\n",
       "      <td>5596</td>\n",
       "      <td>2020-01-20</td>\n",
       "      <td>Monday</td>\n",
       "      <td>January</td>\n",
       "      <td>4</td>\n",
       "      <td>Winter</td>\n",
       "      <td>4</td>\n",
       "    </tr>\n",
       "  </tbody>\n",
       "</table>\n",
       "</div>"
      ],
      "text/plain": [
       "    date_of_infraction  count       date day_of_week    month  week_num  \\\n",
       "0             20200101   2210 2020-01-01   Wednesday  January         1   \n",
       "1             20200102   7184 2020-01-02    Thursday  January         1   \n",
       "2             20200103   7143 2020-01-03      Friday  January         1   \n",
       "3             20200104   5509 2020-01-04    Saturday  January         1   \n",
       "4             20200105   4177 2020-01-05      Sunday  January         1   \n",
       "5             20200106   6569 2020-01-06      Monday  January         2   \n",
       "6             20200107   7508 2020-01-07     Tuesday  January         2   \n",
       "7             20200108   6853 2020-01-08   Wednesday  January         2   \n",
       "8             20200109   7132 2020-01-09    Thursday  January         2   \n",
       "9             20200110   7149 2020-01-10      Friday  January         2   \n",
       "10            20200111   3941 2020-01-11    Saturday  January         2   \n",
       "11            20200112   3873 2020-01-12      Sunday  January         2   \n",
       "12            20200113   7215 2020-01-13      Monday  January         3   \n",
       "13            20200114   7630 2020-01-14     Tuesday  January         3   \n",
       "14            20200115   7434 2020-01-15   Wednesday  January         3   \n",
       "15            20200116   7416 2020-01-16    Thursday  January         3   \n",
       "16            20200117   6790 2020-01-17      Friday  January         3   \n",
       "17            20200118   3174 2020-01-18    Saturday  January         3   \n",
       "18            20200119   2980 2020-01-19      Sunday  January         3   \n",
       "19            20200120   5596 2020-01-20      Monday  January         4   \n",
       "\n",
       "    season  week_of_month  \n",
       "0   Winter              1  \n",
       "1   Winter              1  \n",
       "2   Winter              1  \n",
       "3   Winter              1  \n",
       "4   Winter              1  \n",
       "5   Winter              2  \n",
       "6   Winter              2  \n",
       "7   Winter              2  \n",
       "8   Winter              2  \n",
       "9   Winter              2  \n",
       "10  Winter              2  \n",
       "11  Winter              2  \n",
       "12  Winter              3  \n",
       "13  Winter              3  \n",
       "14  Winter              3  \n",
       "15  Winter              3  \n",
       "16  Winter              3  \n",
       "17  Winter              3  \n",
       "18  Winter              3  \n",
       "19  Winter              4  "
      ]
     },
     "execution_count": 185,
     "metadata": {},
     "output_type": "execute_result"
    }
   ],
   "source": [
    "time_df.head(20)"
   ]
  },
  {
   "cell_type": "code",
   "execution_count": 186,
   "metadata": {
    "ExecuteTime": {
     "end_time": "2021-04-19T16:47:49.185021Z",
     "start_time": "2021-04-19T16:47:49.168062Z"
    }
   },
   "outputs": [
    {
     "data": {
      "text/plain": [
       "month      week_of_month\n",
       "April      1                 7\n",
       "           2                 9\n",
       "           3                 7\n",
       "           4                 7\n",
       "August     1                 7\n",
       "           2                 7\n",
       "           3                 9\n",
       "           4                 8\n",
       "December   1                10\n",
       "           2                 7\n",
       "           3                 7\n",
       "           4                 7\n",
       "February   1                 8\n",
       "           2                 7\n",
       "           3                 7\n",
       "           4                 7\n",
       "January    1                10\n",
       "           2                 7\n",
       "           3                 7\n",
       "           4                 7\n",
       "July       1                 7\n",
       "           2                 7\n",
       "           3                10\n",
       "           4                 7\n",
       "June       1                 7\n",
       "           2                 7\n",
       "           3                 9\n",
       "           4                 7\n",
       "March      1                 8\n",
       "           2                 9\n",
       "           3                 7\n",
       "           4                 7\n",
       "May        1                 7\n",
       "           2                10\n",
       "           3                 7\n",
       "           4                 7\n",
       "November   1                 8\n",
       "           2                 7\n",
       "           3                 7\n",
       "           4                 8\n",
       "October    1                 7\n",
       "           2                 7\n",
       "           3                 7\n",
       "           4                10\n",
       "September  1                 7\n",
       "           2                 7\n",
       "           3                 7\n",
       "           4                 9\n",
       "dtype: int64"
      ]
     },
     "execution_count": 186,
     "metadata": {},
     "output_type": "execute_result"
    }
   ],
   "source": [
    "time_df.groupby(['month','week_of_month']).size()"
   ]
  },
  {
   "cell_type": "code",
   "execution_count": 187,
   "metadata": {
    "ExecuteTime": {
     "end_time": "2021-04-19T16:49:36.467042Z",
     "start_time": "2021-04-19T16:49:36.431136Z"
    }
   },
   "outputs": [
    {
     "data": {
      "text/plain": [
       "week_of_month  month    \n",
       "1              April         7\n",
       "               August        7\n",
       "               December     10\n",
       "               February      8\n",
       "               January      10\n",
       "               July          7\n",
       "               June          7\n",
       "               March         8\n",
       "               May           7\n",
       "               November      8\n",
       "               October       7\n",
       "               September     7\n",
       "2              April         9\n",
       "               August        7\n",
       "               December      7\n",
       "               February      7\n",
       "               January       7\n",
       "               July          7\n",
       "               June          7\n",
       "               March         9\n",
       "               May          10\n",
       "               November      7\n",
       "               October       7\n",
       "               September     7\n",
       "3              April         7\n",
       "               August        9\n",
       "               December      7\n",
       "               February      7\n",
       "               January       7\n",
       "               July         10\n",
       "               June          9\n",
       "               March         7\n",
       "               May           7\n",
       "               November      7\n",
       "               October       7\n",
       "               September     7\n",
       "4              April         7\n",
       "               August        8\n",
       "               December      7\n",
       "               February      7\n",
       "               January       7\n",
       "               July          7\n",
       "               June          7\n",
       "               March         7\n",
       "               May           7\n",
       "               November      8\n",
       "               October      10\n",
       "               September     9\n",
       "dtype: int64"
      ]
     },
     "execution_count": 187,
     "metadata": {},
     "output_type": "execute_result"
    }
   ],
   "source": [
    "time_df.groupby(['week_of_month','month']).size()"
   ]
  },
  {
   "cell_type": "markdown",
   "metadata": {},
   "source": [
    "## 3.1.5. c: Impact of season of week in all infractions"
   ]
  },
  {
   "cell_type": "code",
   "execution_count": 194,
   "metadata": {
    "ExecuteTime": {
     "end_time": "2021-04-19T17:04:49.497226Z",
     "start_time": "2021-04-19T17:04:49.463364Z"
    }
   },
   "outputs": [
    {
     "data": {
      "text/plain": [
       "week_of_month  season\n",
       "1              Fall      21\n",
       "               Spring    26\n",
       "               Summer    22\n",
       "               Winter    24\n",
       "2              Fall      21\n",
       "               Spring    21\n",
       "               Summer    28\n",
       "               Winter    21\n",
       "3              Fall      26\n",
       "               Spring    21\n",
       "               Summer    22\n",
       "               Winter    22\n",
       "4              Fall      21\n",
       "               Spring    23\n",
       "               Summer    21\n",
       "               Winter    26\n",
       "dtype: int64"
      ]
     },
     "execution_count": 194,
     "metadata": {},
     "output_type": "execute_result"
    }
   ],
   "source": [
    "# Impact of season of week in all infractions\n",
    "time_df.groupby(['week_of_month','season']).size()"
   ]
  },
  {
   "cell_type": "code",
   "execution_count": 199,
   "metadata": {
    "ExecuteTime": {
     "end_time": "2021-04-19T17:07:05.874228Z",
     "start_time": "2021-04-19T17:07:05.780475Z"
    }
   },
   "outputs": [
    {
     "data": {
      "application/vnd.plotly.v1+json": {
       "config": {
        "plotlyServerURL": "https://plot.ly"
       },
       "data": [
        {
         "alignmentgroup": "True",
         "bingroup": "x",
         "histfunc": "sum",
         "hovertemplate": "season=%{x}<br>sum of count=%{y}<extra></extra>",
         "legendgroup": "",
         "marker": {
          "color": "#636efa"
         },
         "name": "",
         "offsetgroup": "",
         "orientation": "v",
         "showlegend": false,
         "type": "histogram",
         "x": [
          "Winter",
          "Winter",
          "Winter",
          "Winter",
          "Winter",
          "Winter",
          "Winter",
          "Winter",
          "Winter",
          "Winter",
          "Winter",
          "Winter",
          "Winter",
          "Winter",
          "Winter",
          "Winter",
          "Winter",
          "Winter",
          "Winter",
          "Winter",
          "Winter",
          "Winter",
          "Winter",
          "Winter",
          "Winter",
          "Winter",
          "Winter",
          "Winter",
          "Winter",
          "Winter",
          "Winter",
          "Winter",
          "Winter",
          "Winter",
          "Winter",
          "Winter",
          "Winter",
          "Winter",
          "Winter",
          "Winter",
          "Winter",
          "Winter",
          "Winter",
          "Winter",
          "Winter",
          "Winter",
          "Winter",
          "Winter",
          "Winter",
          "Winter",
          "Winter",
          "Winter",
          "Winter",
          "Winter",
          "Winter",
          "Winter",
          "Winter",
          "Winter",
          "Winter",
          "Winter",
          "Winter",
          "Winter",
          "Winter",
          "Winter",
          "Winter",
          "Winter",
          "Winter",
          "Winter",
          "Winter",
          "Winter",
          "Winter",
          "Winter",
          "Winter",
          "Winter",
          "Winter",
          "Winter",
          "Winter",
          "Winter",
          "Winter",
          "Winter",
          "Spring",
          "Spring",
          "Spring",
          "Spring",
          "Spring",
          "Spring",
          "Spring",
          "Spring",
          "Spring",
          "Spring",
          "Spring",
          "Spring",
          "Spring",
          "Spring",
          "Spring",
          "Spring",
          "Spring",
          "Spring",
          "Spring",
          "Spring",
          "Spring",
          "Spring",
          "Spring",
          "Spring",
          "Spring",
          "Spring",
          "Spring",
          "Spring",
          "Spring",
          "Spring",
          "Spring",
          "Spring",
          "Spring",
          "Spring",
          "Spring",
          "Spring",
          "Spring",
          "Spring",
          "Spring",
          "Spring",
          "Spring",
          "Spring",
          "Spring",
          "Spring",
          "Spring",
          "Spring",
          "Spring",
          "Spring",
          "Spring",
          "Spring",
          "Spring",
          "Spring",
          "Spring",
          "Spring",
          "Spring",
          "Spring",
          "Spring",
          "Spring",
          "Spring",
          "Spring",
          "Spring",
          "Spring",
          "Spring",
          "Spring",
          "Spring",
          "Spring",
          "Spring",
          "Spring",
          "Spring",
          "Spring",
          "Spring",
          "Spring",
          "Spring",
          "Spring",
          "Spring",
          "Spring",
          "Spring",
          "Spring",
          "Spring",
          "Spring",
          "Spring",
          "Spring",
          "Spring",
          "Spring",
          "Spring",
          "Spring",
          "Spring",
          "Spring",
          "Spring",
          "Spring",
          "Spring",
          "Winter",
          "Summer",
          "Summer",
          "Summer",
          "Summer",
          "Summer",
          "Summer",
          "Summer",
          "Summer",
          "Summer",
          "Summer",
          "Summer",
          "Summer",
          "Summer",
          "Summer",
          "Summer",
          "Summer",
          "Summer",
          "Summer",
          "Summer",
          "Summer",
          "Summer",
          "Summer",
          "Summer",
          "Summer",
          "Summer",
          "Summer",
          "Summer",
          "Summer",
          "Summer",
          "Summer",
          "Summer",
          "Summer",
          "Summer",
          "Summer",
          "Summer",
          "Summer",
          "Summer",
          "Summer",
          "Summer",
          "Summer",
          "Summer",
          "Summer",
          "Summer",
          "Summer",
          "Summer",
          "Summer",
          "Summer",
          "Summer",
          "Summer",
          "Summer",
          "Summer",
          "Summer",
          "Summer",
          "Summer",
          "Summer",
          "Summer",
          "Summer",
          "Summer",
          "Summer",
          "Summer",
          "Summer",
          "Summer",
          "Summer",
          "Summer",
          "Summer",
          "Summer",
          "Summer",
          "Summer",
          "Summer",
          "Summer",
          "Summer",
          "Summer",
          "Summer",
          "Summer",
          "Summer",
          "Summer",
          "Summer",
          "Summer",
          "Summer",
          "Summer",
          "Summer",
          "Summer",
          "Summer",
          "Summer",
          "Summer",
          "Summer",
          "Summer",
          "Summer",
          "Summer",
          "Summer",
          "Summer",
          "Summer",
          "Summer",
          "Winter",
          "Fall",
          "Fall",
          "Fall",
          "Fall",
          "Fall",
          "Fall",
          "Fall",
          "Fall",
          "Fall",
          "Fall",
          "Fall",
          "Fall",
          "Fall",
          "Fall",
          "Fall",
          "Fall",
          "Fall",
          "Fall",
          "Fall",
          "Fall",
          "Fall",
          "Fall",
          "Fall",
          "Fall",
          "Fall",
          "Fall",
          "Fall",
          "Fall",
          "Fall",
          "Fall",
          "Fall",
          "Fall",
          "Fall",
          "Fall",
          "Fall",
          "Fall",
          "Fall",
          "Fall",
          "Fall",
          "Fall",
          "Fall",
          "Fall",
          "Fall",
          "Fall",
          "Fall",
          "Fall",
          "Fall",
          "Fall",
          "Fall",
          "Fall",
          "Fall",
          "Fall",
          "Fall",
          "Fall",
          "Fall",
          "Fall",
          "Fall",
          "Fall",
          "Fall",
          "Fall",
          "Fall",
          "Fall",
          "Fall",
          "Fall",
          "Fall",
          "Fall",
          "Fall",
          "Fall",
          "Fall",
          "Fall",
          "Fall",
          "Fall",
          "Fall",
          "Fall",
          "Fall",
          "Fall",
          "Fall",
          "Fall",
          "Fall",
          "Fall",
          "Fall",
          "Fall",
          "Fall",
          "Fall",
          "Fall",
          "Fall",
          "Fall",
          "Fall",
          "Fall",
          "Winter",
          "Winter",
          "Winter",
          "Winter",
          "Winter",
          "Winter",
          "Winter",
          "Winter",
          "Winter",
          "Winter",
          "Winter"
         ],
         "xaxis": "x",
         "y": [
          2210,
          7184,
          7143,
          5509,
          4177,
          6569,
          7508,
          6853,
          7132,
          7149,
          3941,
          3873,
          7215,
          7630,
          7434,
          7416,
          6790,
          3174,
          2980,
          5596,
          6698,
          6876,
          6949,
          6667,
          4763,
          4425,
          7137,
          7366,
          6737,
          7422,
          7499,
          6335,
          4278,
          6933,
          7225,
          7238,
          4645,
          5343,
          4754,
          3909,
          6022,
          6770,
          6842,
          5981,
          6234,
          5623,
          4597,
          3472,
          6193,
          7397,
          6585,
          6629,
          5436,
          4653,
          6803,
          6979,
          5695,
          4542,
          6035,
          4915,
          4558,
          7066,
          7514,
          8120,
          7754,
          7469,
          6551,
          4548,
          7567,
          7014,
          7301,
          7275,
          6827,
          5735,
          4747,
          6117,
          5108,
          4144,
          3094,
          2542,
          879,
          721,
          1725,
          1497,
          1030,
          656,
          584,
          583,
          418,
          572,
          674,
          720,
          602,
          584,
          545,
          550,
          628,
          652,
          739,
          681,
          304,
          481,
          365,
          373,
          611,
          689,
          680,
          508,
          453,
          449,
          506,
          604,
          776,
          765,
          676,
          588,
          471,
          654,
          744,
          817,
          764,
          743,
          602,
          994,
          800,
          694,
          850,
          594,
          850,
          544,
          607,
          660,
          734,
          847,
          766,
          625,
          770,
          626,
          406,
          845,
          893,
          891,
          1186,
          1157,
          997,
          1194,
          1212,
          1133,
          888,
          881,
          749,
          755,
          977,
          927,
          958,
          1069,
          1041,
          1120,
          1091,
          1081,
          1329,
          1279,
          1021,
          1397,
          1313,
          1340,
          1479,
          1301,
          1497,
          1577,
          1447,
          1543,
          1268,
          1194,
          1139,
          1405,
          1270,
          1415,
          1185,
          1515,
          1306,
          1393,
          1727,
          2047,
          1727,
          1886,
          1616,
          3459,
          3830,
          3406,
          3490,
          3515,
          1877,
          2049,
          3962,
          2854,
          3897,
          4604,
          4173,
          2792,
          1716,
          4269,
          4430,
          4385,
          4603,
          4181,
          2772,
          2283,
          4088,
          3892,
          4166,
          4520,
          4476,
          2564,
          1720,
          1547,
          4666,
          4786,
          4393,
          4399,
          2463,
          1920,
          3838,
          3949,
          4011,
          3788,
          3842,
          2771,
          1911,
          6342,
          6621,
          6803,
          5685,
          6130,
          4022,
          3485,
          6325,
          6405,
          6272,
          6002,
          5971,
          3743,
          3204,
          5707,
          6629,
          5657,
          6043,
          6379,
          3692,
          3965,
          1923,
          6812,
          6604,
          6416,
          6084,
          4156,
          3427,
          6216,
          6539,
          7364,
          6680,
          6128,
          3905,
          3637,
          6067,
          6101,
          6580,
          6076,
          6636,
          4952,
          4184,
          6483,
          6796,
          6642,
          7099,
          6230,
          4717,
          3877,
          5568,
          5741,
          5665,
          5661,
          6352,
          4892,
          4201,
          1888,
          6004,
          6027,
          5445,
          6743,
          4757,
          3973,
          5740,
          6050,
          5712,
          5960,
          5714,
          4731,
          3792,
          5562,
          5575,
          5802,
          6004,
          6116,
          4410,
          3712,
          5683,
          6557,
          6593,
          6155,
          6042,
          4594,
          4207,
          5691,
          6018,
          5773,
          5392,
          5749,
          4519,
          3759,
          6057,
          5696,
          5213,
          5703,
          5505,
          4500,
          2838,
          4135,
          4433,
          4461,
          4370,
          4489,
          3761,
          3283,
          4407,
          3758,
          4278,
          4780,
          5038,
          4159,
          3340,
          4753,
          6180,
          5366,
          5778,
          5348,
          4167,
          3432,
          4918,
          4681,
          4542,
          4539,
          4944,
          4113,
          3161,
          4628,
          4513,
          2749,
          1183,
          344,
          465,
          676,
          1157,
          1757,
          1602,
          1437
         ],
         "yaxis": "y"
        }
       ],
       "layout": {
        "barmode": "relative",
        "legend": {
         "tracegroupgap": 0
        },
        "template": {
         "data": {
          "bar": [
           {
            "error_x": {
             "color": "#2a3f5f"
            },
            "error_y": {
             "color": "#2a3f5f"
            },
            "marker": {
             "line": {
              "color": "#E5ECF6",
              "width": 0.5
             }
            },
            "type": "bar"
           }
          ],
          "barpolar": [
           {
            "marker": {
             "line": {
              "color": "#E5ECF6",
              "width": 0.5
             }
            },
            "type": "barpolar"
           }
          ],
          "carpet": [
           {
            "aaxis": {
             "endlinecolor": "#2a3f5f",
             "gridcolor": "white",
             "linecolor": "white",
             "minorgridcolor": "white",
             "startlinecolor": "#2a3f5f"
            },
            "baxis": {
             "endlinecolor": "#2a3f5f",
             "gridcolor": "white",
             "linecolor": "white",
             "minorgridcolor": "white",
             "startlinecolor": "#2a3f5f"
            },
            "type": "carpet"
           }
          ],
          "choropleth": [
           {
            "colorbar": {
             "outlinewidth": 0,
             "ticks": ""
            },
            "type": "choropleth"
           }
          ],
          "contour": [
           {
            "colorbar": {
             "outlinewidth": 0,
             "ticks": ""
            },
            "colorscale": [
             [
              0,
              "#0d0887"
             ],
             [
              0.1111111111111111,
              "#46039f"
             ],
             [
              0.2222222222222222,
              "#7201a8"
             ],
             [
              0.3333333333333333,
              "#9c179e"
             ],
             [
              0.4444444444444444,
              "#bd3786"
             ],
             [
              0.5555555555555556,
              "#d8576b"
             ],
             [
              0.6666666666666666,
              "#ed7953"
             ],
             [
              0.7777777777777778,
              "#fb9f3a"
             ],
             [
              0.8888888888888888,
              "#fdca26"
             ],
             [
              1,
              "#f0f921"
             ]
            ],
            "type": "contour"
           }
          ],
          "contourcarpet": [
           {
            "colorbar": {
             "outlinewidth": 0,
             "ticks": ""
            },
            "type": "contourcarpet"
           }
          ],
          "heatmap": [
           {
            "colorbar": {
             "outlinewidth": 0,
             "ticks": ""
            },
            "colorscale": [
             [
              0,
              "#0d0887"
             ],
             [
              0.1111111111111111,
              "#46039f"
             ],
             [
              0.2222222222222222,
              "#7201a8"
             ],
             [
              0.3333333333333333,
              "#9c179e"
             ],
             [
              0.4444444444444444,
              "#bd3786"
             ],
             [
              0.5555555555555556,
              "#d8576b"
             ],
             [
              0.6666666666666666,
              "#ed7953"
             ],
             [
              0.7777777777777778,
              "#fb9f3a"
             ],
             [
              0.8888888888888888,
              "#fdca26"
             ],
             [
              1,
              "#f0f921"
             ]
            ],
            "type": "heatmap"
           }
          ],
          "heatmapgl": [
           {
            "colorbar": {
             "outlinewidth": 0,
             "ticks": ""
            },
            "colorscale": [
             [
              0,
              "#0d0887"
             ],
             [
              0.1111111111111111,
              "#46039f"
             ],
             [
              0.2222222222222222,
              "#7201a8"
             ],
             [
              0.3333333333333333,
              "#9c179e"
             ],
             [
              0.4444444444444444,
              "#bd3786"
             ],
             [
              0.5555555555555556,
              "#d8576b"
             ],
             [
              0.6666666666666666,
              "#ed7953"
             ],
             [
              0.7777777777777778,
              "#fb9f3a"
             ],
             [
              0.8888888888888888,
              "#fdca26"
             ],
             [
              1,
              "#f0f921"
             ]
            ],
            "type": "heatmapgl"
           }
          ],
          "histogram": [
           {
            "marker": {
             "colorbar": {
              "outlinewidth": 0,
              "ticks": ""
             }
            },
            "type": "histogram"
           }
          ],
          "histogram2d": [
           {
            "colorbar": {
             "outlinewidth": 0,
             "ticks": ""
            },
            "colorscale": [
             [
              0,
              "#0d0887"
             ],
             [
              0.1111111111111111,
              "#46039f"
             ],
             [
              0.2222222222222222,
              "#7201a8"
             ],
             [
              0.3333333333333333,
              "#9c179e"
             ],
             [
              0.4444444444444444,
              "#bd3786"
             ],
             [
              0.5555555555555556,
              "#d8576b"
             ],
             [
              0.6666666666666666,
              "#ed7953"
             ],
             [
              0.7777777777777778,
              "#fb9f3a"
             ],
             [
              0.8888888888888888,
              "#fdca26"
             ],
             [
              1,
              "#f0f921"
             ]
            ],
            "type": "histogram2d"
           }
          ],
          "histogram2dcontour": [
           {
            "colorbar": {
             "outlinewidth": 0,
             "ticks": ""
            },
            "colorscale": [
             [
              0,
              "#0d0887"
             ],
             [
              0.1111111111111111,
              "#46039f"
             ],
             [
              0.2222222222222222,
              "#7201a8"
             ],
             [
              0.3333333333333333,
              "#9c179e"
             ],
             [
              0.4444444444444444,
              "#bd3786"
             ],
             [
              0.5555555555555556,
              "#d8576b"
             ],
             [
              0.6666666666666666,
              "#ed7953"
             ],
             [
              0.7777777777777778,
              "#fb9f3a"
             ],
             [
              0.8888888888888888,
              "#fdca26"
             ],
             [
              1,
              "#f0f921"
             ]
            ],
            "type": "histogram2dcontour"
           }
          ],
          "mesh3d": [
           {
            "colorbar": {
             "outlinewidth": 0,
             "ticks": ""
            },
            "type": "mesh3d"
           }
          ],
          "parcoords": [
           {
            "line": {
             "colorbar": {
              "outlinewidth": 0,
              "ticks": ""
             }
            },
            "type": "parcoords"
           }
          ],
          "pie": [
           {
            "automargin": true,
            "type": "pie"
           }
          ],
          "scatter": [
           {
            "marker": {
             "colorbar": {
              "outlinewidth": 0,
              "ticks": ""
             }
            },
            "type": "scatter"
           }
          ],
          "scatter3d": [
           {
            "line": {
             "colorbar": {
              "outlinewidth": 0,
              "ticks": ""
             }
            },
            "marker": {
             "colorbar": {
              "outlinewidth": 0,
              "ticks": ""
             }
            },
            "type": "scatter3d"
           }
          ],
          "scattercarpet": [
           {
            "marker": {
             "colorbar": {
              "outlinewidth": 0,
              "ticks": ""
             }
            },
            "type": "scattercarpet"
           }
          ],
          "scattergeo": [
           {
            "marker": {
             "colorbar": {
              "outlinewidth": 0,
              "ticks": ""
             }
            },
            "type": "scattergeo"
           }
          ],
          "scattergl": [
           {
            "marker": {
             "colorbar": {
              "outlinewidth": 0,
              "ticks": ""
             }
            },
            "type": "scattergl"
           }
          ],
          "scattermapbox": [
           {
            "marker": {
             "colorbar": {
              "outlinewidth": 0,
              "ticks": ""
             }
            },
            "type": "scattermapbox"
           }
          ],
          "scatterpolar": [
           {
            "marker": {
             "colorbar": {
              "outlinewidth": 0,
              "ticks": ""
             }
            },
            "type": "scatterpolar"
           }
          ],
          "scatterpolargl": [
           {
            "marker": {
             "colorbar": {
              "outlinewidth": 0,
              "ticks": ""
             }
            },
            "type": "scatterpolargl"
           }
          ],
          "scatterternary": [
           {
            "marker": {
             "colorbar": {
              "outlinewidth": 0,
              "ticks": ""
             }
            },
            "type": "scatterternary"
           }
          ],
          "surface": [
           {
            "colorbar": {
             "outlinewidth": 0,
             "ticks": ""
            },
            "colorscale": [
             [
              0,
              "#0d0887"
             ],
             [
              0.1111111111111111,
              "#46039f"
             ],
             [
              0.2222222222222222,
              "#7201a8"
             ],
             [
              0.3333333333333333,
              "#9c179e"
             ],
             [
              0.4444444444444444,
              "#bd3786"
             ],
             [
              0.5555555555555556,
              "#d8576b"
             ],
             [
              0.6666666666666666,
              "#ed7953"
             ],
             [
              0.7777777777777778,
              "#fb9f3a"
             ],
             [
              0.8888888888888888,
              "#fdca26"
             ],
             [
              1,
              "#f0f921"
             ]
            ],
            "type": "surface"
           }
          ],
          "table": [
           {
            "cells": {
             "fill": {
              "color": "#EBF0F8"
             },
             "line": {
              "color": "white"
             }
            },
            "header": {
             "fill": {
              "color": "#C8D4E3"
             },
             "line": {
              "color": "white"
             }
            },
            "type": "table"
           }
          ]
         },
         "layout": {
          "annotationdefaults": {
           "arrowcolor": "#2a3f5f",
           "arrowhead": 0,
           "arrowwidth": 1
          },
          "autotypenumbers": "strict",
          "coloraxis": {
           "colorbar": {
            "outlinewidth": 0,
            "ticks": ""
           }
          },
          "colorscale": {
           "diverging": [
            [
             0,
             "#8e0152"
            ],
            [
             0.1,
             "#c51b7d"
            ],
            [
             0.2,
             "#de77ae"
            ],
            [
             0.3,
             "#f1b6da"
            ],
            [
             0.4,
             "#fde0ef"
            ],
            [
             0.5,
             "#f7f7f7"
            ],
            [
             0.6,
             "#e6f5d0"
            ],
            [
             0.7,
             "#b8e186"
            ],
            [
             0.8,
             "#7fbc41"
            ],
            [
             0.9,
             "#4d9221"
            ],
            [
             1,
             "#276419"
            ]
           ],
           "sequential": [
            [
             0,
             "#0d0887"
            ],
            [
             0.1111111111111111,
             "#46039f"
            ],
            [
             0.2222222222222222,
             "#7201a8"
            ],
            [
             0.3333333333333333,
             "#9c179e"
            ],
            [
             0.4444444444444444,
             "#bd3786"
            ],
            [
             0.5555555555555556,
             "#d8576b"
            ],
            [
             0.6666666666666666,
             "#ed7953"
            ],
            [
             0.7777777777777778,
             "#fb9f3a"
            ],
            [
             0.8888888888888888,
             "#fdca26"
            ],
            [
             1,
             "#f0f921"
            ]
           ],
           "sequentialminus": [
            [
             0,
             "#0d0887"
            ],
            [
             0.1111111111111111,
             "#46039f"
            ],
            [
             0.2222222222222222,
             "#7201a8"
            ],
            [
             0.3333333333333333,
             "#9c179e"
            ],
            [
             0.4444444444444444,
             "#bd3786"
            ],
            [
             0.5555555555555556,
             "#d8576b"
            ],
            [
             0.6666666666666666,
             "#ed7953"
            ],
            [
             0.7777777777777778,
             "#fb9f3a"
            ],
            [
             0.8888888888888888,
             "#fdca26"
            ],
            [
             1,
             "#f0f921"
            ]
           ]
          },
          "colorway": [
           "#636efa",
           "#EF553B",
           "#00cc96",
           "#ab63fa",
           "#FFA15A",
           "#19d3f3",
           "#FF6692",
           "#B6E880",
           "#FF97FF",
           "#FECB52"
          ],
          "font": {
           "color": "#2a3f5f"
          },
          "geo": {
           "bgcolor": "white",
           "lakecolor": "white",
           "landcolor": "#E5ECF6",
           "showlakes": true,
           "showland": true,
           "subunitcolor": "white"
          },
          "hoverlabel": {
           "align": "left"
          },
          "hovermode": "closest",
          "mapbox": {
           "style": "light"
          },
          "paper_bgcolor": "white",
          "plot_bgcolor": "#E5ECF6",
          "polar": {
           "angularaxis": {
            "gridcolor": "white",
            "linecolor": "white",
            "ticks": ""
           },
           "bgcolor": "#E5ECF6",
           "radialaxis": {
            "gridcolor": "white",
            "linecolor": "white",
            "ticks": ""
           }
          },
          "scene": {
           "xaxis": {
            "backgroundcolor": "#E5ECF6",
            "gridcolor": "white",
            "gridwidth": 2,
            "linecolor": "white",
            "showbackground": true,
            "ticks": "",
            "zerolinecolor": "white"
           },
           "yaxis": {
            "backgroundcolor": "#E5ECF6",
            "gridcolor": "white",
            "gridwidth": 2,
            "linecolor": "white",
            "showbackground": true,
            "ticks": "",
            "zerolinecolor": "white"
           },
           "zaxis": {
            "backgroundcolor": "#E5ECF6",
            "gridcolor": "white",
            "gridwidth": 2,
            "linecolor": "white",
            "showbackground": true,
            "ticks": "",
            "zerolinecolor": "white"
           }
          },
          "shapedefaults": {
           "line": {
            "color": "#2a3f5f"
           }
          },
          "ternary": {
           "aaxis": {
            "gridcolor": "white",
            "linecolor": "white",
            "ticks": ""
           },
           "baxis": {
            "gridcolor": "white",
            "linecolor": "white",
            "ticks": ""
           },
           "bgcolor": "#E5ECF6",
           "caxis": {
            "gridcolor": "white",
            "linecolor": "white",
            "ticks": ""
           }
          },
          "title": {
           "x": 0.05
          },
          "xaxis": {
           "automargin": true,
           "gridcolor": "white",
           "linecolor": "white",
           "ticks": "",
           "title": {
            "standoff": 15
           },
           "zerolinecolor": "white",
           "zerolinewidth": 2
          },
          "yaxis": {
           "automargin": true,
           "gridcolor": "white",
           "linecolor": "white",
           "ticks": "",
           "title": {
            "standoff": 15
           },
           "zerolinecolor": "white",
           "zerolinewidth": 2
          }
         }
        },
        "title": {
         "text": "Distribution of infractions by season in 2020"
        },
        "xaxis": {
         "anchor": "y",
         "categoryarray": [
          "Spring",
          "Summer",
          "Fall",
          "Winter"
         ],
         "categoryorder": "array",
         "domain": [
          0,
          1
         ],
         "title": {
          "text": "season"
         }
        },
        "yaxis": {
         "anchor": "x",
         "domain": [
          0,
          1
         ],
         "title": {
          "text": "sum of count"
         }
        }
       }
      },
      "text/html": [
       "<div>                            <div id=\"a3afed73-ee44-406e-9180-6a925c57e2bc\" class=\"plotly-graph-div\" style=\"height:525px; width:100%;\"></div>            <script type=\"text/javascript\">                require([\"plotly\"], function(Plotly) {                    window.PLOTLYENV=window.PLOTLYENV || {};                                    if (document.getElementById(\"a3afed73-ee44-406e-9180-6a925c57e2bc\")) {                    Plotly.newPlot(                        \"a3afed73-ee44-406e-9180-6a925c57e2bc\",                        [{\"alignmentgroup\": \"True\", \"bingroup\": \"x\", \"histfunc\": \"sum\", \"hovertemplate\": \"season=%{x}<br>sum of count=%{y}<extra></extra>\", \"legendgroup\": \"\", \"marker\": {\"color\": \"#636efa\"}, \"name\": \"\", \"offsetgroup\": \"\", \"orientation\": \"v\", \"showlegend\": false, \"type\": \"histogram\", \"x\": [\"Winter\", \"Winter\", \"Winter\", \"Winter\", \"Winter\", \"Winter\", \"Winter\", \"Winter\", \"Winter\", \"Winter\", \"Winter\", \"Winter\", \"Winter\", \"Winter\", \"Winter\", \"Winter\", \"Winter\", \"Winter\", \"Winter\", \"Winter\", \"Winter\", \"Winter\", \"Winter\", \"Winter\", \"Winter\", \"Winter\", \"Winter\", \"Winter\", \"Winter\", \"Winter\", \"Winter\", \"Winter\", \"Winter\", \"Winter\", \"Winter\", \"Winter\", \"Winter\", \"Winter\", \"Winter\", \"Winter\", \"Winter\", \"Winter\", \"Winter\", \"Winter\", \"Winter\", \"Winter\", \"Winter\", \"Winter\", \"Winter\", \"Winter\", \"Winter\", \"Winter\", \"Winter\", \"Winter\", \"Winter\", \"Winter\", \"Winter\", \"Winter\", \"Winter\", \"Winter\", \"Winter\", \"Winter\", \"Winter\", \"Winter\", \"Winter\", \"Winter\", \"Winter\", \"Winter\", \"Winter\", \"Winter\", \"Winter\", \"Winter\", \"Winter\", \"Winter\", \"Winter\", \"Winter\", \"Winter\", \"Winter\", \"Winter\", \"Winter\", \"Spring\", \"Spring\", \"Spring\", \"Spring\", \"Spring\", \"Spring\", \"Spring\", \"Spring\", \"Spring\", \"Spring\", \"Spring\", \"Spring\", \"Spring\", \"Spring\", \"Spring\", \"Spring\", \"Spring\", \"Spring\", \"Spring\", \"Spring\", \"Spring\", \"Spring\", \"Spring\", \"Spring\", \"Spring\", \"Spring\", \"Spring\", \"Spring\", \"Spring\", \"Spring\", \"Spring\", \"Spring\", \"Spring\", \"Spring\", \"Spring\", \"Spring\", \"Spring\", \"Spring\", \"Spring\", \"Spring\", \"Spring\", \"Spring\", \"Spring\", \"Spring\", \"Spring\", \"Spring\", \"Spring\", \"Spring\", \"Spring\", \"Spring\", \"Spring\", \"Spring\", \"Spring\", \"Spring\", \"Spring\", \"Spring\", \"Spring\", \"Spring\", \"Spring\", \"Spring\", \"Spring\", \"Spring\", \"Spring\", \"Spring\", \"Spring\", \"Spring\", \"Spring\", \"Spring\", \"Spring\", \"Spring\", \"Spring\", \"Spring\", \"Spring\", \"Spring\", \"Spring\", \"Spring\", \"Spring\", \"Spring\", \"Spring\", \"Spring\", \"Spring\", \"Spring\", \"Spring\", \"Spring\", \"Spring\", \"Spring\", \"Spring\", \"Spring\", \"Spring\", \"Spring\", \"Spring\", \"Winter\", \"Summer\", \"Summer\", \"Summer\", \"Summer\", \"Summer\", \"Summer\", \"Summer\", \"Summer\", \"Summer\", \"Summer\", \"Summer\", \"Summer\", \"Summer\", \"Summer\", \"Summer\", \"Summer\", \"Summer\", \"Summer\", \"Summer\", \"Summer\", \"Summer\", \"Summer\", \"Summer\", \"Summer\", \"Summer\", \"Summer\", \"Summer\", \"Summer\", \"Summer\", \"Summer\", \"Summer\", \"Summer\", \"Summer\", \"Summer\", \"Summer\", \"Summer\", \"Summer\", \"Summer\", \"Summer\", \"Summer\", \"Summer\", \"Summer\", \"Summer\", \"Summer\", \"Summer\", \"Summer\", \"Summer\", \"Summer\", \"Summer\", \"Summer\", \"Summer\", \"Summer\", \"Summer\", \"Summer\", \"Summer\", \"Summer\", \"Summer\", \"Summer\", \"Summer\", \"Summer\", \"Summer\", \"Summer\", \"Summer\", \"Summer\", \"Summer\", \"Summer\", \"Summer\", \"Summer\", \"Summer\", \"Summer\", \"Summer\", \"Summer\", \"Summer\", \"Summer\", \"Summer\", \"Summer\", \"Summer\", \"Summer\", \"Summer\", \"Summer\", \"Summer\", \"Summer\", \"Summer\", \"Summer\", \"Summer\", \"Summer\", \"Summer\", \"Summer\", \"Summer\", \"Summer\", \"Summer\", \"Summer\", \"Summer\", \"Winter\", \"Fall\", \"Fall\", \"Fall\", \"Fall\", \"Fall\", \"Fall\", \"Fall\", \"Fall\", \"Fall\", \"Fall\", \"Fall\", \"Fall\", \"Fall\", \"Fall\", \"Fall\", \"Fall\", \"Fall\", \"Fall\", \"Fall\", \"Fall\", \"Fall\", \"Fall\", \"Fall\", \"Fall\", \"Fall\", \"Fall\", \"Fall\", \"Fall\", \"Fall\", \"Fall\", \"Fall\", \"Fall\", \"Fall\", \"Fall\", \"Fall\", \"Fall\", \"Fall\", \"Fall\", \"Fall\", \"Fall\", \"Fall\", \"Fall\", \"Fall\", \"Fall\", \"Fall\", \"Fall\", \"Fall\", \"Fall\", \"Fall\", \"Fall\", \"Fall\", \"Fall\", \"Fall\", \"Fall\", \"Fall\", \"Fall\", \"Fall\", \"Fall\", \"Fall\", \"Fall\", \"Fall\", \"Fall\", \"Fall\", \"Fall\", \"Fall\", \"Fall\", \"Fall\", \"Fall\", \"Fall\", \"Fall\", \"Fall\", \"Fall\", \"Fall\", \"Fall\", \"Fall\", \"Fall\", \"Fall\", \"Fall\", \"Fall\", \"Fall\", \"Fall\", \"Fall\", \"Fall\", \"Fall\", \"Fall\", \"Fall\", \"Fall\", \"Fall\", \"Fall\", \"Winter\", \"Winter\", \"Winter\", \"Winter\", \"Winter\", \"Winter\", \"Winter\", \"Winter\", \"Winter\", \"Winter\", \"Winter\"], \"xaxis\": \"x\", \"y\": [2210, 7184, 7143, 5509, 4177, 6569, 7508, 6853, 7132, 7149, 3941, 3873, 7215, 7630, 7434, 7416, 6790, 3174, 2980, 5596, 6698, 6876, 6949, 6667, 4763, 4425, 7137, 7366, 6737, 7422, 7499, 6335, 4278, 6933, 7225, 7238, 4645, 5343, 4754, 3909, 6022, 6770, 6842, 5981, 6234, 5623, 4597, 3472, 6193, 7397, 6585, 6629, 5436, 4653, 6803, 6979, 5695, 4542, 6035, 4915, 4558, 7066, 7514, 8120, 7754, 7469, 6551, 4548, 7567, 7014, 7301, 7275, 6827, 5735, 4747, 6117, 5108, 4144, 3094, 2542, 879, 721, 1725, 1497, 1030, 656, 584, 583, 418, 572, 674, 720, 602, 584, 545, 550, 628, 652, 739, 681, 304, 481, 365, 373, 611, 689, 680, 508, 453, 449, 506, 604, 776, 765, 676, 588, 471, 654, 744, 817, 764, 743, 602, 994, 800, 694, 850, 594, 850, 544, 607, 660, 734, 847, 766, 625, 770, 626, 406, 845, 893, 891, 1186, 1157, 997, 1194, 1212, 1133, 888, 881, 749, 755, 977, 927, 958, 1069, 1041, 1120, 1091, 1081, 1329, 1279, 1021, 1397, 1313, 1340, 1479, 1301, 1497, 1577, 1447, 1543, 1268, 1194, 1139, 1405, 1270, 1415, 1185, 1515, 1306, 1393, 1727, 2047, 1727, 1886, 1616, 3459, 3830, 3406, 3490, 3515, 1877, 2049, 3962, 2854, 3897, 4604, 4173, 2792, 1716, 4269, 4430, 4385, 4603, 4181, 2772, 2283, 4088, 3892, 4166, 4520, 4476, 2564, 1720, 1547, 4666, 4786, 4393, 4399, 2463, 1920, 3838, 3949, 4011, 3788, 3842, 2771, 1911, 6342, 6621, 6803, 5685, 6130, 4022, 3485, 6325, 6405, 6272, 6002, 5971, 3743, 3204, 5707, 6629, 5657, 6043, 6379, 3692, 3965, 1923, 6812, 6604, 6416, 6084, 4156, 3427, 6216, 6539, 7364, 6680, 6128, 3905, 3637, 6067, 6101, 6580, 6076, 6636, 4952, 4184, 6483, 6796, 6642, 7099, 6230, 4717, 3877, 5568, 5741, 5665, 5661, 6352, 4892, 4201, 1888, 6004, 6027, 5445, 6743, 4757, 3973, 5740, 6050, 5712, 5960, 5714, 4731, 3792, 5562, 5575, 5802, 6004, 6116, 4410, 3712, 5683, 6557, 6593, 6155, 6042, 4594, 4207, 5691, 6018, 5773, 5392, 5749, 4519, 3759, 6057, 5696, 5213, 5703, 5505, 4500, 2838, 4135, 4433, 4461, 4370, 4489, 3761, 3283, 4407, 3758, 4278, 4780, 5038, 4159, 3340, 4753, 6180, 5366, 5778, 5348, 4167, 3432, 4918, 4681, 4542, 4539, 4944, 4113, 3161, 4628, 4513, 2749, 1183, 344, 465, 676, 1157, 1757, 1602, 1437], \"yaxis\": \"y\"}],                        {\"barmode\": \"relative\", \"legend\": {\"tracegroupgap\": 0}, \"template\": {\"data\": {\"bar\": [{\"error_x\": {\"color\": \"#2a3f5f\"}, \"error_y\": {\"color\": \"#2a3f5f\"}, \"marker\": {\"line\": {\"color\": \"#E5ECF6\", \"width\": 0.5}}, \"type\": \"bar\"}], \"barpolar\": [{\"marker\": {\"line\": {\"color\": \"#E5ECF6\", \"width\": 0.5}}, \"type\": \"barpolar\"}], \"carpet\": [{\"aaxis\": {\"endlinecolor\": \"#2a3f5f\", \"gridcolor\": \"white\", \"linecolor\": \"white\", \"minorgridcolor\": \"white\", \"startlinecolor\": \"#2a3f5f\"}, \"baxis\": {\"endlinecolor\": \"#2a3f5f\", \"gridcolor\": \"white\", \"linecolor\": \"white\", \"minorgridcolor\": \"white\", \"startlinecolor\": \"#2a3f5f\"}, \"type\": \"carpet\"}], \"choropleth\": [{\"colorbar\": {\"outlinewidth\": 0, \"ticks\": \"\"}, \"type\": \"choropleth\"}], \"contour\": [{\"colorbar\": {\"outlinewidth\": 0, \"ticks\": \"\"}, \"colorscale\": [[0.0, \"#0d0887\"], [0.1111111111111111, \"#46039f\"], [0.2222222222222222, \"#7201a8\"], [0.3333333333333333, \"#9c179e\"], [0.4444444444444444, \"#bd3786\"], [0.5555555555555556, \"#d8576b\"], [0.6666666666666666, \"#ed7953\"], [0.7777777777777778, \"#fb9f3a\"], [0.8888888888888888, \"#fdca26\"], [1.0, \"#f0f921\"]], \"type\": \"contour\"}], \"contourcarpet\": [{\"colorbar\": {\"outlinewidth\": 0, \"ticks\": \"\"}, \"type\": \"contourcarpet\"}], \"heatmap\": [{\"colorbar\": {\"outlinewidth\": 0, \"ticks\": \"\"}, \"colorscale\": [[0.0, \"#0d0887\"], [0.1111111111111111, \"#46039f\"], [0.2222222222222222, \"#7201a8\"], [0.3333333333333333, \"#9c179e\"], [0.4444444444444444, \"#bd3786\"], [0.5555555555555556, \"#d8576b\"], [0.6666666666666666, \"#ed7953\"], [0.7777777777777778, \"#fb9f3a\"], [0.8888888888888888, \"#fdca26\"], [1.0, \"#f0f921\"]], \"type\": \"heatmap\"}], \"heatmapgl\": [{\"colorbar\": {\"outlinewidth\": 0, \"ticks\": \"\"}, \"colorscale\": [[0.0, \"#0d0887\"], [0.1111111111111111, \"#46039f\"], [0.2222222222222222, \"#7201a8\"], [0.3333333333333333, \"#9c179e\"], [0.4444444444444444, \"#bd3786\"], [0.5555555555555556, \"#d8576b\"], [0.6666666666666666, \"#ed7953\"], [0.7777777777777778, \"#fb9f3a\"], [0.8888888888888888, \"#fdca26\"], [1.0, \"#f0f921\"]], \"type\": \"heatmapgl\"}], \"histogram\": [{\"marker\": {\"colorbar\": {\"outlinewidth\": 0, \"ticks\": \"\"}}, \"type\": \"histogram\"}], \"histogram2d\": [{\"colorbar\": {\"outlinewidth\": 0, \"ticks\": \"\"}, \"colorscale\": [[0.0, \"#0d0887\"], [0.1111111111111111, \"#46039f\"], [0.2222222222222222, \"#7201a8\"], [0.3333333333333333, \"#9c179e\"], [0.4444444444444444, \"#bd3786\"], [0.5555555555555556, \"#d8576b\"], [0.6666666666666666, \"#ed7953\"], [0.7777777777777778, \"#fb9f3a\"], [0.8888888888888888, \"#fdca26\"], [1.0, \"#f0f921\"]], \"type\": \"histogram2d\"}], \"histogram2dcontour\": [{\"colorbar\": {\"outlinewidth\": 0, \"ticks\": \"\"}, \"colorscale\": [[0.0, \"#0d0887\"], [0.1111111111111111, \"#46039f\"], [0.2222222222222222, \"#7201a8\"], [0.3333333333333333, \"#9c179e\"], [0.4444444444444444, \"#bd3786\"], [0.5555555555555556, \"#d8576b\"], [0.6666666666666666, \"#ed7953\"], [0.7777777777777778, \"#fb9f3a\"], [0.8888888888888888, \"#fdca26\"], [1.0, \"#f0f921\"]], \"type\": \"histogram2dcontour\"}], \"mesh3d\": [{\"colorbar\": {\"outlinewidth\": 0, \"ticks\": \"\"}, \"type\": \"mesh3d\"}], \"parcoords\": [{\"line\": {\"colorbar\": {\"outlinewidth\": 0, \"ticks\": \"\"}}, \"type\": \"parcoords\"}], \"pie\": [{\"automargin\": true, \"type\": \"pie\"}], \"scatter\": [{\"marker\": {\"colorbar\": {\"outlinewidth\": 0, \"ticks\": \"\"}}, \"type\": \"scatter\"}], \"scatter3d\": [{\"line\": {\"colorbar\": {\"outlinewidth\": 0, \"ticks\": \"\"}}, \"marker\": {\"colorbar\": {\"outlinewidth\": 0, \"ticks\": \"\"}}, \"type\": \"scatter3d\"}], \"scattercarpet\": [{\"marker\": {\"colorbar\": {\"outlinewidth\": 0, \"ticks\": \"\"}}, \"type\": \"scattercarpet\"}], \"scattergeo\": [{\"marker\": {\"colorbar\": {\"outlinewidth\": 0, \"ticks\": \"\"}}, \"type\": \"scattergeo\"}], \"scattergl\": [{\"marker\": {\"colorbar\": {\"outlinewidth\": 0, \"ticks\": \"\"}}, \"type\": \"scattergl\"}], \"scattermapbox\": [{\"marker\": {\"colorbar\": {\"outlinewidth\": 0, \"ticks\": \"\"}}, \"type\": \"scattermapbox\"}], \"scatterpolar\": [{\"marker\": {\"colorbar\": {\"outlinewidth\": 0, \"ticks\": \"\"}}, \"type\": \"scatterpolar\"}], \"scatterpolargl\": [{\"marker\": {\"colorbar\": {\"outlinewidth\": 0, \"ticks\": \"\"}}, \"type\": \"scatterpolargl\"}], \"scatterternary\": [{\"marker\": {\"colorbar\": {\"outlinewidth\": 0, \"ticks\": \"\"}}, \"type\": \"scatterternary\"}], \"surface\": [{\"colorbar\": {\"outlinewidth\": 0, \"ticks\": \"\"}, \"colorscale\": [[0.0, \"#0d0887\"], [0.1111111111111111, \"#46039f\"], [0.2222222222222222, \"#7201a8\"], [0.3333333333333333, \"#9c179e\"], [0.4444444444444444, \"#bd3786\"], [0.5555555555555556, \"#d8576b\"], [0.6666666666666666, \"#ed7953\"], [0.7777777777777778, \"#fb9f3a\"], [0.8888888888888888, \"#fdca26\"], [1.0, \"#f0f921\"]], \"type\": \"surface\"}], \"table\": [{\"cells\": {\"fill\": {\"color\": \"#EBF0F8\"}, \"line\": {\"color\": \"white\"}}, \"header\": {\"fill\": {\"color\": \"#C8D4E3\"}, \"line\": {\"color\": \"white\"}}, \"type\": \"table\"}]}, \"layout\": {\"annotationdefaults\": {\"arrowcolor\": \"#2a3f5f\", \"arrowhead\": 0, \"arrowwidth\": 1}, \"autotypenumbers\": \"strict\", \"coloraxis\": {\"colorbar\": {\"outlinewidth\": 0, \"ticks\": \"\"}}, \"colorscale\": {\"diverging\": [[0, \"#8e0152\"], [0.1, \"#c51b7d\"], [0.2, \"#de77ae\"], [0.3, \"#f1b6da\"], [0.4, \"#fde0ef\"], [0.5, \"#f7f7f7\"], [0.6, \"#e6f5d0\"], [0.7, \"#b8e186\"], [0.8, \"#7fbc41\"], [0.9, \"#4d9221\"], [1, \"#276419\"]], \"sequential\": [[0.0, \"#0d0887\"], [0.1111111111111111, \"#46039f\"], [0.2222222222222222, \"#7201a8\"], [0.3333333333333333, \"#9c179e\"], [0.4444444444444444, \"#bd3786\"], [0.5555555555555556, \"#d8576b\"], [0.6666666666666666, \"#ed7953\"], [0.7777777777777778, \"#fb9f3a\"], [0.8888888888888888, \"#fdca26\"], [1.0, \"#f0f921\"]], \"sequentialminus\": [[0.0, \"#0d0887\"], [0.1111111111111111, \"#46039f\"], [0.2222222222222222, \"#7201a8\"], [0.3333333333333333, \"#9c179e\"], [0.4444444444444444, \"#bd3786\"], [0.5555555555555556, \"#d8576b\"], [0.6666666666666666, \"#ed7953\"], [0.7777777777777778, \"#fb9f3a\"], [0.8888888888888888, \"#fdca26\"], [1.0, \"#f0f921\"]]}, \"colorway\": [\"#636efa\", \"#EF553B\", \"#00cc96\", \"#ab63fa\", \"#FFA15A\", \"#19d3f3\", \"#FF6692\", \"#B6E880\", \"#FF97FF\", \"#FECB52\"], \"font\": {\"color\": \"#2a3f5f\"}, \"geo\": {\"bgcolor\": \"white\", \"lakecolor\": \"white\", \"landcolor\": \"#E5ECF6\", \"showlakes\": true, \"showland\": true, \"subunitcolor\": \"white\"}, \"hoverlabel\": {\"align\": \"left\"}, \"hovermode\": \"closest\", \"mapbox\": {\"style\": \"light\"}, \"paper_bgcolor\": \"white\", \"plot_bgcolor\": \"#E5ECF6\", \"polar\": {\"angularaxis\": {\"gridcolor\": \"white\", \"linecolor\": \"white\", \"ticks\": \"\"}, \"bgcolor\": \"#E5ECF6\", \"radialaxis\": {\"gridcolor\": \"white\", \"linecolor\": \"white\", \"ticks\": \"\"}}, \"scene\": {\"xaxis\": {\"backgroundcolor\": \"#E5ECF6\", \"gridcolor\": \"white\", \"gridwidth\": 2, \"linecolor\": \"white\", \"showbackground\": true, \"ticks\": \"\", \"zerolinecolor\": \"white\"}, \"yaxis\": {\"backgroundcolor\": \"#E5ECF6\", \"gridcolor\": \"white\", \"gridwidth\": 2, \"linecolor\": \"white\", \"showbackground\": true, \"ticks\": \"\", \"zerolinecolor\": \"white\"}, \"zaxis\": {\"backgroundcolor\": \"#E5ECF6\", \"gridcolor\": \"white\", \"gridwidth\": 2, \"linecolor\": \"white\", \"showbackground\": true, \"ticks\": \"\", \"zerolinecolor\": \"white\"}}, \"shapedefaults\": {\"line\": {\"color\": \"#2a3f5f\"}}, \"ternary\": {\"aaxis\": {\"gridcolor\": \"white\", \"linecolor\": \"white\", \"ticks\": \"\"}, \"baxis\": {\"gridcolor\": \"white\", \"linecolor\": \"white\", \"ticks\": \"\"}, \"bgcolor\": \"#E5ECF6\", \"caxis\": {\"gridcolor\": \"white\", \"linecolor\": \"white\", \"ticks\": \"\"}}, \"title\": {\"x\": 0.05}, \"xaxis\": {\"automargin\": true, \"gridcolor\": \"white\", \"linecolor\": \"white\", \"ticks\": \"\", \"title\": {\"standoff\": 15}, \"zerolinecolor\": \"white\", \"zerolinewidth\": 2}, \"yaxis\": {\"automargin\": true, \"gridcolor\": \"white\", \"linecolor\": \"white\", \"ticks\": \"\", \"title\": {\"standoff\": 15}, \"zerolinecolor\": \"white\", \"zerolinewidth\": 2}}}, \"title\": {\"text\": \"Distribution of infractions by season in 2020\"}, \"xaxis\": {\"anchor\": \"y\", \"categoryarray\": [\"Spring\", \"Summer\", \"Fall\", \"Winter\"], \"categoryorder\": \"array\", \"domain\": [0.0, 1.0], \"title\": {\"text\": \"season\"}}, \"yaxis\": {\"anchor\": \"x\", \"domain\": [0.0, 1.0], \"title\": {\"text\": \"sum of count\"}}},                        {\"responsive\": true}                    ).then(function(){\n",
       "                            \n",
       "var gd = document.getElementById('a3afed73-ee44-406e-9180-6a925c57e2bc');\n",
       "var x = new MutationObserver(function (mutations, observer) {{\n",
       "        var display = window.getComputedStyle(gd).display;\n",
       "        if (!display || display === 'none') {{\n",
       "            console.log([gd, 'removed!']);\n",
       "            Plotly.purge(gd);\n",
       "            observer.disconnect();\n",
       "        }}\n",
       "}});\n",
       "\n",
       "// Listen for the removal of the full notebook cells\n",
       "var notebookContainer = gd.closest('#notebook-container');\n",
       "if (notebookContainer) {{\n",
       "    x.observe(notebookContainer, {childList: true});\n",
       "}}\n",
       "\n",
       "// Listen for the clearing of the current output cell\n",
       "var outputEl = gd.closest('.output');\n",
       "if (outputEl) {{\n",
       "    x.observe(outputEl, {childList: true});\n",
       "}}\n",
       "\n",
       "                        })                };                });            </script>        </div>"
      ]
     },
     "metadata": {},
     "output_type": "display_data"
    }
   ],
   "source": [
    "season_order = {'season': ['Spring', 'Summer', 'Fall', 'Winter']}\n",
    "fig = px.histogram(time_df, x='season', y='count', category_orders=season_order, \n",
    "                   title='Distribution of infractions by season in 2020')\n",
    "fig.show()"
   ]
  },
  {
   "cell_type": "code",
   "execution_count": 200,
   "metadata": {
    "ExecuteTime": {
     "end_time": "2021-04-19T17:07:12.160515Z",
     "start_time": "2021-04-19T17:07:12.137580Z"
    }
   },
   "outputs": [
    {
     "data": {
      "text/html": [
       "<div>\n",
       "<style scoped>\n",
       "    .dataframe tbody tr th:only-of-type {\n",
       "        vertical-align: middle;\n",
       "    }\n",
       "\n",
       "    .dataframe tbody tr th {\n",
       "        vertical-align: top;\n",
       "    }\n",
       "\n",
       "    .dataframe thead th {\n",
       "        text-align: right;\n",
       "    }\n",
       "</style>\n",
       "<table border=\"1\" class=\"dataframe\">\n",
       "  <thead>\n",
       "    <tr style=\"text-align: right;\">\n",
       "      <th></th>\n",
       "      <th>season</th>\n",
       "      <th>infractions</th>\n",
       "    </tr>\n",
       "  </thead>\n",
       "  <tbody>\n",
       "    <tr>\n",
       "      <th>0</th>\n",
       "      <td>Fall</td>\n",
       "      <td>454927</td>\n",
       "    </tr>\n",
       "    <tr>\n",
       "      <th>1</th>\n",
       "      <td>Spring</td>\n",
       "      <td>76055</td>\n",
       "    </tr>\n",
       "    <tr>\n",
       "      <th>2</th>\n",
       "      <td>Summer</td>\n",
       "      <td>365390</td>\n",
       "    </tr>\n",
       "    <tr>\n",
       "      <th>3</th>\n",
       "      <td>Winter</td>\n",
       "      <td>507291</td>\n",
       "    </tr>\n",
       "  </tbody>\n",
       "</table>\n",
       "</div>"
      ],
      "text/plain": [
       "   season  infractions\n",
       "0    Fall       454927\n",
       "1  Spring        76055\n",
       "2  Summer       365390\n",
       "3  Winter       507291"
      ]
     },
     "execution_count": 200,
     "metadata": {},
     "output_type": "execute_result"
    }
   ],
   "source": [
    "season_table = pd.DataFrame({'infractions': time_df.groupby(['season'])['count'].sum()}).reset_index()\n",
    "season_table"
   ]
  },
  {
   "cell_type": "markdown",
   "metadata": {},
   "source": [
    "## 3.3.1. a.i: Distribution of infractions in year"
   ]
  },
  {
   "cell_type": "code",
   "execution_count": 201,
   "metadata": {
    "ExecuteTime": {
     "end_time": "2021-04-19T17:10:58.620678Z",
     "start_time": "2021-04-19T17:10:58.496980Z"
    }
   },
   "outputs": [
    {
     "data": {
      "application/vnd.plotly.v1+json": {
       "config": {
        "plotlyServerURL": "https://plot.ly"
       },
       "data": [
        {
         "alignmentgroup": "True",
         "bingroup": "x",
         "histfunc": "sum",
         "hovertemplate": "date=%{x}<br>sum of count=%{y}<extra></extra>",
         "legendgroup": "",
         "marker": {
          "color": "#636efa"
         },
         "name": "",
         "nbinsx": 366,
         "offsetgroup": "",
         "orientation": "v",
         "showlegend": false,
         "type": "histogram",
         "x": [
          "2020-01-01T00:00:00",
          "2020-01-02T00:00:00",
          "2020-01-03T00:00:00",
          "2020-01-04T00:00:00",
          "2020-01-05T00:00:00",
          "2020-01-06T00:00:00",
          "2020-01-07T00:00:00",
          "2020-01-08T00:00:00",
          "2020-01-09T00:00:00",
          "2020-01-10T00:00:00",
          "2020-01-11T00:00:00",
          "2020-01-12T00:00:00",
          "2020-01-13T00:00:00",
          "2020-01-14T00:00:00",
          "2020-01-15T00:00:00",
          "2020-01-16T00:00:00",
          "2020-01-17T00:00:00",
          "2020-01-18T00:00:00",
          "2020-01-19T00:00:00",
          "2020-01-20T00:00:00",
          "2020-01-21T00:00:00",
          "2020-01-22T00:00:00",
          "2020-01-23T00:00:00",
          "2020-01-24T00:00:00",
          "2020-01-25T00:00:00",
          "2020-01-26T00:00:00",
          "2020-01-27T00:00:00",
          "2020-01-28T00:00:00",
          "2020-01-29T00:00:00",
          "2020-01-30T00:00:00",
          "2020-01-31T00:00:00",
          "2020-02-01T00:00:00",
          "2020-02-02T00:00:00",
          "2020-02-03T00:00:00",
          "2020-02-04T00:00:00",
          "2020-02-05T00:00:00",
          "2020-02-06T00:00:00",
          "2020-02-07T00:00:00",
          "2020-02-08T00:00:00",
          "2020-02-09T00:00:00",
          "2020-02-10T00:00:00",
          "2020-02-11T00:00:00",
          "2020-02-12T00:00:00",
          "2020-02-13T00:00:00",
          "2020-02-14T00:00:00",
          "2020-02-15T00:00:00",
          "2020-02-16T00:00:00",
          "2020-02-17T00:00:00",
          "2020-02-18T00:00:00",
          "2020-02-19T00:00:00",
          "2020-02-20T00:00:00",
          "2020-02-21T00:00:00",
          "2020-02-22T00:00:00",
          "2020-02-23T00:00:00",
          "2020-02-24T00:00:00",
          "2020-02-25T00:00:00",
          "2020-02-26T00:00:00",
          "2020-02-27T00:00:00",
          "2020-02-28T00:00:00",
          "2020-02-29T00:00:00",
          "2020-03-01T00:00:00",
          "2020-03-02T00:00:00",
          "2020-03-03T00:00:00",
          "2020-03-04T00:00:00",
          "2020-03-05T00:00:00",
          "2020-03-06T00:00:00",
          "2020-03-07T00:00:00",
          "2020-03-08T00:00:00",
          "2020-03-09T00:00:00",
          "2020-03-10T00:00:00",
          "2020-03-11T00:00:00",
          "2020-03-12T00:00:00",
          "2020-03-13T00:00:00",
          "2020-03-14T00:00:00",
          "2020-03-15T00:00:00",
          "2020-03-16T00:00:00",
          "2020-03-17T00:00:00",
          "2020-03-18T00:00:00",
          "2020-03-19T00:00:00",
          "2020-03-20T00:00:00",
          "2020-03-21T00:00:00",
          "2020-03-22T00:00:00",
          "2020-03-23T00:00:00",
          "2020-03-24T00:00:00",
          "2020-03-25T00:00:00",
          "2020-03-26T00:00:00",
          "2020-03-27T00:00:00",
          "2020-03-28T00:00:00",
          "2020-03-29T00:00:00",
          "2020-03-30T00:00:00",
          "2020-03-31T00:00:00",
          "2020-04-01T00:00:00",
          "2020-04-02T00:00:00",
          "2020-04-03T00:00:00",
          "2020-04-04T00:00:00",
          "2020-04-05T00:00:00",
          "2020-04-06T00:00:00",
          "2020-04-07T00:00:00",
          "2020-04-08T00:00:00",
          "2020-04-09T00:00:00",
          "2020-04-10T00:00:00",
          "2020-04-11T00:00:00",
          "2020-04-12T00:00:00",
          "2020-04-13T00:00:00",
          "2020-04-14T00:00:00",
          "2020-04-15T00:00:00",
          "2020-04-16T00:00:00",
          "2020-04-17T00:00:00",
          "2020-04-18T00:00:00",
          "2020-04-19T00:00:00",
          "2020-04-20T00:00:00",
          "2020-04-21T00:00:00",
          "2020-04-22T00:00:00",
          "2020-04-23T00:00:00",
          "2020-04-24T00:00:00",
          "2020-04-25T00:00:00",
          "2020-04-26T00:00:00",
          "2020-04-27T00:00:00",
          "2020-04-28T00:00:00",
          "2020-04-29T00:00:00",
          "2020-04-30T00:00:00",
          "2020-05-01T00:00:00",
          "2020-05-02T00:00:00",
          "2020-05-03T00:00:00",
          "2020-05-04T00:00:00",
          "2020-05-05T00:00:00",
          "2020-05-06T00:00:00",
          "2020-05-07T00:00:00",
          "2020-05-08T00:00:00",
          "2020-05-09T00:00:00",
          "2020-05-10T00:00:00",
          "2020-05-11T00:00:00",
          "2020-05-12T00:00:00",
          "2020-05-13T00:00:00",
          "2020-05-14T00:00:00",
          "2020-05-15T00:00:00",
          "2020-05-16T00:00:00",
          "2020-05-17T00:00:00",
          "2020-05-18T00:00:00",
          "2020-05-19T00:00:00",
          "2020-05-20T00:00:00",
          "2020-05-21T00:00:00",
          "2020-05-22T00:00:00",
          "2020-05-23T00:00:00",
          "2020-05-24T00:00:00",
          "2020-05-25T00:00:00",
          "2020-05-26T00:00:00",
          "2020-05-27T00:00:00",
          "2020-05-28T00:00:00",
          "2020-05-29T00:00:00",
          "2020-05-30T00:00:00",
          "2020-05-31T00:00:00",
          "2020-06-01T00:00:00",
          "2020-06-02T00:00:00",
          "2020-06-03T00:00:00",
          "2020-06-04T00:00:00",
          "2020-06-05T00:00:00",
          "2020-06-06T00:00:00",
          "2020-06-07T00:00:00",
          "2020-06-08T00:00:00",
          "2020-06-09T00:00:00",
          "2020-06-10T00:00:00",
          "2020-06-11T00:00:00",
          "2020-06-12T00:00:00",
          "2020-06-13T00:00:00",
          "2020-06-14T00:00:00",
          "2020-06-15T00:00:00",
          "2020-06-16T00:00:00",
          "2020-06-17T00:00:00",
          "2020-06-18T00:00:00",
          "2020-06-19T00:00:00",
          "2020-06-20T00:00:00",
          "2020-06-21T00:00:00",
          "2020-06-22T00:00:00",
          "2020-06-23T00:00:00",
          "2020-06-24T00:00:00",
          "2020-06-25T00:00:00",
          "2020-06-26T00:00:00",
          "2020-06-27T00:00:00",
          "2020-06-28T00:00:00",
          "2020-06-29T00:00:00",
          "2020-06-30T00:00:00",
          "2020-07-01T00:00:00",
          "2020-07-02T00:00:00",
          "2020-07-03T00:00:00",
          "2020-07-04T00:00:00",
          "2020-07-05T00:00:00",
          "2020-07-06T00:00:00",
          "2020-07-07T00:00:00",
          "2020-07-08T00:00:00",
          "2020-07-09T00:00:00",
          "2020-07-10T00:00:00",
          "2020-07-11T00:00:00",
          "2020-07-12T00:00:00",
          "2020-07-13T00:00:00",
          "2020-07-14T00:00:00",
          "2020-07-15T00:00:00",
          "2020-07-16T00:00:00",
          "2020-07-17T00:00:00",
          "2020-07-18T00:00:00",
          "2020-07-19T00:00:00",
          "2020-07-20T00:00:00",
          "2020-07-21T00:00:00",
          "2020-07-22T00:00:00",
          "2020-07-23T00:00:00",
          "2020-07-24T00:00:00",
          "2020-07-25T00:00:00",
          "2020-07-26T00:00:00",
          "2020-07-27T00:00:00",
          "2020-07-28T00:00:00",
          "2020-07-29T00:00:00",
          "2020-07-30T00:00:00",
          "2020-07-31T00:00:00",
          "2020-08-01T00:00:00",
          "2020-08-02T00:00:00",
          "2020-08-03T00:00:00",
          "2020-08-04T00:00:00",
          "2020-08-05T00:00:00",
          "2020-08-06T00:00:00",
          "2020-08-07T00:00:00",
          "2020-08-08T00:00:00",
          "2020-08-09T00:00:00",
          "2020-08-10T00:00:00",
          "2020-08-11T00:00:00",
          "2020-08-12T00:00:00",
          "2020-08-13T00:00:00",
          "2020-08-14T00:00:00",
          "2020-08-15T00:00:00",
          "2020-08-16T00:00:00",
          "2020-08-17T00:00:00",
          "2020-08-18T00:00:00",
          "2020-08-19T00:00:00",
          "2020-08-20T00:00:00",
          "2020-08-21T00:00:00",
          "2020-08-22T00:00:00",
          "2020-08-23T00:00:00",
          "2020-08-24T00:00:00",
          "2020-08-25T00:00:00",
          "2020-08-26T00:00:00",
          "2020-08-27T00:00:00",
          "2020-08-28T00:00:00",
          "2020-08-29T00:00:00",
          "2020-08-30T00:00:00",
          "2020-08-31T00:00:00",
          "2020-09-01T00:00:00",
          "2020-09-02T00:00:00",
          "2020-09-03T00:00:00",
          "2020-09-04T00:00:00",
          "2020-09-05T00:00:00",
          "2020-09-06T00:00:00",
          "2020-09-07T00:00:00",
          "2020-09-08T00:00:00",
          "2020-09-09T00:00:00",
          "2020-09-10T00:00:00",
          "2020-09-11T00:00:00",
          "2020-09-12T00:00:00",
          "2020-09-13T00:00:00",
          "2020-09-14T00:00:00",
          "2020-09-15T00:00:00",
          "2020-09-16T00:00:00",
          "2020-09-17T00:00:00",
          "2020-09-18T00:00:00",
          "2020-09-19T00:00:00",
          "2020-09-20T00:00:00",
          "2020-09-21T00:00:00",
          "2020-09-22T00:00:00",
          "2020-09-23T00:00:00",
          "2020-09-24T00:00:00",
          "2020-09-25T00:00:00",
          "2020-09-26T00:00:00",
          "2020-09-27T00:00:00",
          "2020-09-28T00:00:00",
          "2020-09-29T00:00:00",
          "2020-09-30T00:00:00",
          "2020-10-01T00:00:00",
          "2020-10-02T00:00:00",
          "2020-10-03T00:00:00",
          "2020-10-04T00:00:00",
          "2020-10-05T00:00:00",
          "2020-10-06T00:00:00",
          "2020-10-07T00:00:00",
          "2020-10-08T00:00:00",
          "2020-10-09T00:00:00",
          "2020-10-10T00:00:00",
          "2020-10-11T00:00:00",
          "2020-10-12T00:00:00",
          "2020-10-13T00:00:00",
          "2020-10-14T00:00:00",
          "2020-10-15T00:00:00",
          "2020-10-16T00:00:00",
          "2020-10-17T00:00:00",
          "2020-10-18T00:00:00",
          "2020-10-19T00:00:00",
          "2020-10-20T00:00:00",
          "2020-10-21T00:00:00",
          "2020-10-22T00:00:00",
          "2020-10-23T00:00:00",
          "2020-10-24T00:00:00",
          "2020-10-25T00:00:00",
          "2020-10-26T00:00:00",
          "2020-10-27T00:00:00",
          "2020-10-28T00:00:00",
          "2020-10-29T00:00:00",
          "2020-10-30T00:00:00",
          "2020-10-31T00:00:00",
          "2020-11-01T00:00:00",
          "2020-11-02T00:00:00",
          "2020-11-03T00:00:00",
          "2020-11-04T00:00:00",
          "2020-11-05T00:00:00",
          "2020-11-06T00:00:00",
          "2020-11-07T00:00:00",
          "2020-11-08T00:00:00",
          "2020-11-09T00:00:00",
          "2020-11-10T00:00:00",
          "2020-11-11T00:00:00",
          "2020-11-12T00:00:00",
          "2020-11-13T00:00:00",
          "2020-11-14T00:00:00",
          "2020-11-15T00:00:00",
          "2020-11-16T00:00:00",
          "2020-11-17T00:00:00",
          "2020-11-18T00:00:00",
          "2020-11-19T00:00:00",
          "2020-11-20T00:00:00",
          "2020-11-21T00:00:00",
          "2020-11-22T00:00:00",
          "2020-11-23T00:00:00",
          "2020-11-24T00:00:00",
          "2020-11-25T00:00:00",
          "2020-11-26T00:00:00",
          "2020-11-27T00:00:00",
          "2020-11-28T00:00:00",
          "2020-11-29T00:00:00",
          "2020-11-30T00:00:00",
          "2020-12-01T00:00:00",
          "2020-12-02T00:00:00",
          "2020-12-03T00:00:00",
          "2020-12-04T00:00:00",
          "2020-12-05T00:00:00",
          "2020-12-06T00:00:00",
          "2020-12-07T00:00:00",
          "2020-12-08T00:00:00",
          "2020-12-09T00:00:00",
          "2020-12-10T00:00:00",
          "2020-12-11T00:00:00",
          "2020-12-12T00:00:00",
          "2020-12-13T00:00:00",
          "2020-12-14T00:00:00",
          "2020-12-15T00:00:00",
          "2020-12-16T00:00:00",
          "2020-12-17T00:00:00",
          "2020-12-18T00:00:00",
          "2020-12-19T00:00:00",
          "2020-12-20T00:00:00",
          "2020-12-21T00:00:00",
          "2020-12-22T00:00:00",
          "2020-12-23T00:00:00",
          "2020-12-24T00:00:00",
          "2020-12-25T00:00:00",
          "2020-12-26T00:00:00",
          "2020-12-27T00:00:00",
          "2020-12-28T00:00:00",
          "2020-12-29T00:00:00",
          "2020-12-30T00:00:00",
          "2020-12-31T00:00:00"
         ],
         "xaxis": "x",
         "y": [
          2210,
          7184,
          7143,
          5509,
          4177,
          6569,
          7508,
          6853,
          7132,
          7149,
          3941,
          3873,
          7215,
          7630,
          7434,
          7416,
          6790,
          3174,
          2980,
          5596,
          6698,
          6876,
          6949,
          6667,
          4763,
          4425,
          7137,
          7366,
          6737,
          7422,
          7499,
          6335,
          4278,
          6933,
          7225,
          7238,
          4645,
          5343,
          4754,
          3909,
          6022,
          6770,
          6842,
          5981,
          6234,
          5623,
          4597,
          3472,
          6193,
          7397,
          6585,
          6629,
          5436,
          4653,
          6803,
          6979,
          5695,
          4542,
          6035,
          4915,
          4558,
          7066,
          7514,
          8120,
          7754,
          7469,
          6551,
          4548,
          7567,
          7014,
          7301,
          7275,
          6827,
          5735,
          4747,
          6117,
          5108,
          4144,
          3094,
          2542,
          879,
          721,
          1725,
          1497,
          1030,
          656,
          584,
          583,
          418,
          572,
          674,
          720,
          602,
          584,
          545,
          550,
          628,
          652,
          739,
          681,
          304,
          481,
          365,
          373,
          611,
          689,
          680,
          508,
          453,
          449,
          506,
          604,
          776,
          765,
          676,
          588,
          471,
          654,
          744,
          817,
          764,
          743,
          602,
          994,
          800,
          694,
          850,
          594,
          850,
          544,
          607,
          660,
          734,
          847,
          766,
          625,
          770,
          626,
          406,
          845,
          893,
          891,
          1186,
          1157,
          997,
          1194,
          1212,
          1133,
          888,
          881,
          749,
          755,
          977,
          927,
          958,
          1069,
          1041,
          1120,
          1091,
          1081,
          1329,
          1279,
          1021,
          1397,
          1313,
          1340,
          1479,
          1301,
          1497,
          1577,
          1447,
          1543,
          1268,
          1194,
          1139,
          1405,
          1270,
          1415,
          1185,
          1515,
          1306,
          1393,
          1727,
          2047,
          1727,
          1886,
          1616,
          3459,
          3830,
          3406,
          3490,
          3515,
          1877,
          2049,
          3962,
          2854,
          3897,
          4604,
          4173,
          2792,
          1716,
          4269,
          4430,
          4385,
          4603,
          4181,
          2772,
          2283,
          4088,
          3892,
          4166,
          4520,
          4476,
          2564,
          1720,
          1547,
          4666,
          4786,
          4393,
          4399,
          2463,
          1920,
          3838,
          3949,
          4011,
          3788,
          3842,
          2771,
          1911,
          6342,
          6621,
          6803,
          5685,
          6130,
          4022,
          3485,
          6325,
          6405,
          6272,
          6002,
          5971,
          3743,
          3204,
          5707,
          6629,
          5657,
          6043,
          6379,
          3692,
          3965,
          1923,
          6812,
          6604,
          6416,
          6084,
          4156,
          3427,
          6216,
          6539,
          7364,
          6680,
          6128,
          3905,
          3637,
          6067,
          6101,
          6580,
          6076,
          6636,
          4952,
          4184,
          6483,
          6796,
          6642,
          7099,
          6230,
          4717,
          3877,
          5568,
          5741,
          5665,
          5661,
          6352,
          4892,
          4201,
          1888,
          6004,
          6027,
          5445,
          6743,
          4757,
          3973,
          5740,
          6050,
          5712,
          5960,
          5714,
          4731,
          3792,
          5562,
          5575,
          5802,
          6004,
          6116,
          4410,
          3712,
          5683,
          6557,
          6593,
          6155,
          6042,
          4594,
          4207,
          5691,
          6018,
          5773,
          5392,
          5749,
          4519,
          3759,
          6057,
          5696,
          5213,
          5703,
          5505,
          4500,
          2838,
          4135,
          4433,
          4461,
          4370,
          4489,
          3761,
          3283,
          4407,
          3758,
          4278,
          4780,
          5038,
          4159,
          3340,
          4753,
          6180,
          5366,
          5778,
          5348,
          4167,
          3432,
          4918,
          4681,
          4542,
          4539,
          4944,
          4113,
          3161,
          4628,
          4513,
          2749,
          1183,
          344,
          465,
          676,
          1157,
          1757,
          1602,
          1437
         ],
         "yaxis": "y"
        }
       ],
       "layout": {
        "barmode": "relative",
        "legend": {
         "tracegroupgap": 0
        },
        "template": {
         "data": {
          "bar": [
           {
            "error_x": {
             "color": "#2a3f5f"
            },
            "error_y": {
             "color": "#2a3f5f"
            },
            "marker": {
             "line": {
              "color": "#E5ECF6",
              "width": 0.5
             }
            },
            "type": "bar"
           }
          ],
          "barpolar": [
           {
            "marker": {
             "line": {
              "color": "#E5ECF6",
              "width": 0.5
             }
            },
            "type": "barpolar"
           }
          ],
          "carpet": [
           {
            "aaxis": {
             "endlinecolor": "#2a3f5f",
             "gridcolor": "white",
             "linecolor": "white",
             "minorgridcolor": "white",
             "startlinecolor": "#2a3f5f"
            },
            "baxis": {
             "endlinecolor": "#2a3f5f",
             "gridcolor": "white",
             "linecolor": "white",
             "minorgridcolor": "white",
             "startlinecolor": "#2a3f5f"
            },
            "type": "carpet"
           }
          ],
          "choropleth": [
           {
            "colorbar": {
             "outlinewidth": 0,
             "ticks": ""
            },
            "type": "choropleth"
           }
          ],
          "contour": [
           {
            "colorbar": {
             "outlinewidth": 0,
             "ticks": ""
            },
            "colorscale": [
             [
              0,
              "#0d0887"
             ],
             [
              0.1111111111111111,
              "#46039f"
             ],
             [
              0.2222222222222222,
              "#7201a8"
             ],
             [
              0.3333333333333333,
              "#9c179e"
             ],
             [
              0.4444444444444444,
              "#bd3786"
             ],
             [
              0.5555555555555556,
              "#d8576b"
             ],
             [
              0.6666666666666666,
              "#ed7953"
             ],
             [
              0.7777777777777778,
              "#fb9f3a"
             ],
             [
              0.8888888888888888,
              "#fdca26"
             ],
             [
              1,
              "#f0f921"
             ]
            ],
            "type": "contour"
           }
          ],
          "contourcarpet": [
           {
            "colorbar": {
             "outlinewidth": 0,
             "ticks": ""
            },
            "type": "contourcarpet"
           }
          ],
          "heatmap": [
           {
            "colorbar": {
             "outlinewidth": 0,
             "ticks": ""
            },
            "colorscale": [
             [
              0,
              "#0d0887"
             ],
             [
              0.1111111111111111,
              "#46039f"
             ],
             [
              0.2222222222222222,
              "#7201a8"
             ],
             [
              0.3333333333333333,
              "#9c179e"
             ],
             [
              0.4444444444444444,
              "#bd3786"
             ],
             [
              0.5555555555555556,
              "#d8576b"
             ],
             [
              0.6666666666666666,
              "#ed7953"
             ],
             [
              0.7777777777777778,
              "#fb9f3a"
             ],
             [
              0.8888888888888888,
              "#fdca26"
             ],
             [
              1,
              "#f0f921"
             ]
            ],
            "type": "heatmap"
           }
          ],
          "heatmapgl": [
           {
            "colorbar": {
             "outlinewidth": 0,
             "ticks": ""
            },
            "colorscale": [
             [
              0,
              "#0d0887"
             ],
             [
              0.1111111111111111,
              "#46039f"
             ],
             [
              0.2222222222222222,
              "#7201a8"
             ],
             [
              0.3333333333333333,
              "#9c179e"
             ],
             [
              0.4444444444444444,
              "#bd3786"
             ],
             [
              0.5555555555555556,
              "#d8576b"
             ],
             [
              0.6666666666666666,
              "#ed7953"
             ],
             [
              0.7777777777777778,
              "#fb9f3a"
             ],
             [
              0.8888888888888888,
              "#fdca26"
             ],
             [
              1,
              "#f0f921"
             ]
            ],
            "type": "heatmapgl"
           }
          ],
          "histogram": [
           {
            "marker": {
             "colorbar": {
              "outlinewidth": 0,
              "ticks": ""
             }
            },
            "type": "histogram"
           }
          ],
          "histogram2d": [
           {
            "colorbar": {
             "outlinewidth": 0,
             "ticks": ""
            },
            "colorscale": [
             [
              0,
              "#0d0887"
             ],
             [
              0.1111111111111111,
              "#46039f"
             ],
             [
              0.2222222222222222,
              "#7201a8"
             ],
             [
              0.3333333333333333,
              "#9c179e"
             ],
             [
              0.4444444444444444,
              "#bd3786"
             ],
             [
              0.5555555555555556,
              "#d8576b"
             ],
             [
              0.6666666666666666,
              "#ed7953"
             ],
             [
              0.7777777777777778,
              "#fb9f3a"
             ],
             [
              0.8888888888888888,
              "#fdca26"
             ],
             [
              1,
              "#f0f921"
             ]
            ],
            "type": "histogram2d"
           }
          ],
          "histogram2dcontour": [
           {
            "colorbar": {
             "outlinewidth": 0,
             "ticks": ""
            },
            "colorscale": [
             [
              0,
              "#0d0887"
             ],
             [
              0.1111111111111111,
              "#46039f"
             ],
             [
              0.2222222222222222,
              "#7201a8"
             ],
             [
              0.3333333333333333,
              "#9c179e"
             ],
             [
              0.4444444444444444,
              "#bd3786"
             ],
             [
              0.5555555555555556,
              "#d8576b"
             ],
             [
              0.6666666666666666,
              "#ed7953"
             ],
             [
              0.7777777777777778,
              "#fb9f3a"
             ],
             [
              0.8888888888888888,
              "#fdca26"
             ],
             [
              1,
              "#f0f921"
             ]
            ],
            "type": "histogram2dcontour"
           }
          ],
          "mesh3d": [
           {
            "colorbar": {
             "outlinewidth": 0,
             "ticks": ""
            },
            "type": "mesh3d"
           }
          ],
          "parcoords": [
           {
            "line": {
             "colorbar": {
              "outlinewidth": 0,
              "ticks": ""
             }
            },
            "type": "parcoords"
           }
          ],
          "pie": [
           {
            "automargin": true,
            "type": "pie"
           }
          ],
          "scatter": [
           {
            "marker": {
             "colorbar": {
              "outlinewidth": 0,
              "ticks": ""
             }
            },
            "type": "scatter"
           }
          ],
          "scatter3d": [
           {
            "line": {
             "colorbar": {
              "outlinewidth": 0,
              "ticks": ""
             }
            },
            "marker": {
             "colorbar": {
              "outlinewidth": 0,
              "ticks": ""
             }
            },
            "type": "scatter3d"
           }
          ],
          "scattercarpet": [
           {
            "marker": {
             "colorbar": {
              "outlinewidth": 0,
              "ticks": ""
             }
            },
            "type": "scattercarpet"
           }
          ],
          "scattergeo": [
           {
            "marker": {
             "colorbar": {
              "outlinewidth": 0,
              "ticks": ""
             }
            },
            "type": "scattergeo"
           }
          ],
          "scattergl": [
           {
            "marker": {
             "colorbar": {
              "outlinewidth": 0,
              "ticks": ""
             }
            },
            "type": "scattergl"
           }
          ],
          "scattermapbox": [
           {
            "marker": {
             "colorbar": {
              "outlinewidth": 0,
              "ticks": ""
             }
            },
            "type": "scattermapbox"
           }
          ],
          "scatterpolar": [
           {
            "marker": {
             "colorbar": {
              "outlinewidth": 0,
              "ticks": ""
             }
            },
            "type": "scatterpolar"
           }
          ],
          "scatterpolargl": [
           {
            "marker": {
             "colorbar": {
              "outlinewidth": 0,
              "ticks": ""
             }
            },
            "type": "scatterpolargl"
           }
          ],
          "scatterternary": [
           {
            "marker": {
             "colorbar": {
              "outlinewidth": 0,
              "ticks": ""
             }
            },
            "type": "scatterternary"
           }
          ],
          "surface": [
           {
            "colorbar": {
             "outlinewidth": 0,
             "ticks": ""
            },
            "colorscale": [
             [
              0,
              "#0d0887"
             ],
             [
              0.1111111111111111,
              "#46039f"
             ],
             [
              0.2222222222222222,
              "#7201a8"
             ],
             [
              0.3333333333333333,
              "#9c179e"
             ],
             [
              0.4444444444444444,
              "#bd3786"
             ],
             [
              0.5555555555555556,
              "#d8576b"
             ],
             [
              0.6666666666666666,
              "#ed7953"
             ],
             [
              0.7777777777777778,
              "#fb9f3a"
             ],
             [
              0.8888888888888888,
              "#fdca26"
             ],
             [
              1,
              "#f0f921"
             ]
            ],
            "type": "surface"
           }
          ],
          "table": [
           {
            "cells": {
             "fill": {
              "color": "#EBF0F8"
             },
             "line": {
              "color": "white"
             }
            },
            "header": {
             "fill": {
              "color": "#C8D4E3"
             },
             "line": {
              "color": "white"
             }
            },
            "type": "table"
           }
          ]
         },
         "layout": {
          "annotationdefaults": {
           "arrowcolor": "#2a3f5f",
           "arrowhead": 0,
           "arrowwidth": 1
          },
          "autotypenumbers": "strict",
          "coloraxis": {
           "colorbar": {
            "outlinewidth": 0,
            "ticks": ""
           }
          },
          "colorscale": {
           "diverging": [
            [
             0,
             "#8e0152"
            ],
            [
             0.1,
             "#c51b7d"
            ],
            [
             0.2,
             "#de77ae"
            ],
            [
             0.3,
             "#f1b6da"
            ],
            [
             0.4,
             "#fde0ef"
            ],
            [
             0.5,
             "#f7f7f7"
            ],
            [
             0.6,
             "#e6f5d0"
            ],
            [
             0.7,
             "#b8e186"
            ],
            [
             0.8,
             "#7fbc41"
            ],
            [
             0.9,
             "#4d9221"
            ],
            [
             1,
             "#276419"
            ]
           ],
           "sequential": [
            [
             0,
             "#0d0887"
            ],
            [
             0.1111111111111111,
             "#46039f"
            ],
            [
             0.2222222222222222,
             "#7201a8"
            ],
            [
             0.3333333333333333,
             "#9c179e"
            ],
            [
             0.4444444444444444,
             "#bd3786"
            ],
            [
             0.5555555555555556,
             "#d8576b"
            ],
            [
             0.6666666666666666,
             "#ed7953"
            ],
            [
             0.7777777777777778,
             "#fb9f3a"
            ],
            [
             0.8888888888888888,
             "#fdca26"
            ],
            [
             1,
             "#f0f921"
            ]
           ],
           "sequentialminus": [
            [
             0,
             "#0d0887"
            ],
            [
             0.1111111111111111,
             "#46039f"
            ],
            [
             0.2222222222222222,
             "#7201a8"
            ],
            [
             0.3333333333333333,
             "#9c179e"
            ],
            [
             0.4444444444444444,
             "#bd3786"
            ],
            [
             0.5555555555555556,
             "#d8576b"
            ],
            [
             0.6666666666666666,
             "#ed7953"
            ],
            [
             0.7777777777777778,
             "#fb9f3a"
            ],
            [
             0.8888888888888888,
             "#fdca26"
            ],
            [
             1,
             "#f0f921"
            ]
           ]
          },
          "colorway": [
           "#636efa",
           "#EF553B",
           "#00cc96",
           "#ab63fa",
           "#FFA15A",
           "#19d3f3",
           "#FF6692",
           "#B6E880",
           "#FF97FF",
           "#FECB52"
          ],
          "font": {
           "color": "#2a3f5f"
          },
          "geo": {
           "bgcolor": "white",
           "lakecolor": "white",
           "landcolor": "#E5ECF6",
           "showlakes": true,
           "showland": true,
           "subunitcolor": "white"
          },
          "hoverlabel": {
           "align": "left"
          },
          "hovermode": "closest",
          "mapbox": {
           "style": "light"
          },
          "paper_bgcolor": "white",
          "plot_bgcolor": "#E5ECF6",
          "polar": {
           "angularaxis": {
            "gridcolor": "white",
            "linecolor": "white",
            "ticks": ""
           },
           "bgcolor": "#E5ECF6",
           "radialaxis": {
            "gridcolor": "white",
            "linecolor": "white",
            "ticks": ""
           }
          },
          "scene": {
           "xaxis": {
            "backgroundcolor": "#E5ECF6",
            "gridcolor": "white",
            "gridwidth": 2,
            "linecolor": "white",
            "showbackground": true,
            "ticks": "",
            "zerolinecolor": "white"
           },
           "yaxis": {
            "backgroundcolor": "#E5ECF6",
            "gridcolor": "white",
            "gridwidth": 2,
            "linecolor": "white",
            "showbackground": true,
            "ticks": "",
            "zerolinecolor": "white"
           },
           "zaxis": {
            "backgroundcolor": "#E5ECF6",
            "gridcolor": "white",
            "gridwidth": 2,
            "linecolor": "white",
            "showbackground": true,
            "ticks": "",
            "zerolinecolor": "white"
           }
          },
          "shapedefaults": {
           "line": {
            "color": "#2a3f5f"
           }
          },
          "ternary": {
           "aaxis": {
            "gridcolor": "white",
            "linecolor": "white",
            "ticks": ""
           },
           "baxis": {
            "gridcolor": "white",
            "linecolor": "white",
            "ticks": ""
           },
           "bgcolor": "#E5ECF6",
           "caxis": {
            "gridcolor": "white",
            "linecolor": "white",
            "ticks": ""
           }
          },
          "title": {
           "x": 0.05
          },
          "xaxis": {
           "automargin": true,
           "gridcolor": "white",
           "linecolor": "white",
           "ticks": "",
           "title": {
            "standoff": 15
           },
           "zerolinecolor": "white",
           "zerolinewidth": 2
          },
          "yaxis": {
           "automargin": true,
           "gridcolor": "white",
           "linecolor": "white",
           "ticks": "",
           "title": {
            "standoff": 15
           },
           "zerolinecolor": "white",
           "zerolinewidth": 2
          }
         }
        },
        "title": {
         "text": "Distribution of infractions by day in 2020"
        },
        "xaxis": {
         "anchor": "y",
         "domain": [
          0,
          1
         ],
         "title": {
          "text": "date"
         }
        },
        "yaxis": {
         "anchor": "x",
         "domain": [
          0,
          1
         ],
         "title": {
          "text": "sum of count"
         }
        }
       }
      },
      "text/html": [
       "<div>                            <div id=\"8a33a7c0-7e9b-4560-a146-0ef34ccba4c5\" class=\"plotly-graph-div\" style=\"height:525px; width:100%;\"></div>            <script type=\"text/javascript\">                require([\"plotly\"], function(Plotly) {                    window.PLOTLYENV=window.PLOTLYENV || {};                                    if (document.getElementById(\"8a33a7c0-7e9b-4560-a146-0ef34ccba4c5\")) {                    Plotly.newPlot(                        \"8a33a7c0-7e9b-4560-a146-0ef34ccba4c5\",                        [{\"alignmentgroup\": \"True\", \"bingroup\": \"x\", \"histfunc\": \"sum\", \"hovertemplate\": \"date=%{x}<br>sum of count=%{y}<extra></extra>\", \"legendgroup\": \"\", \"marker\": {\"color\": \"#636efa\"}, \"name\": \"\", \"nbinsx\": 366, \"offsetgroup\": \"\", \"orientation\": \"v\", \"showlegend\": false, \"type\": \"histogram\", \"x\": [\"2020-01-01T00:00:00\", \"2020-01-02T00:00:00\", \"2020-01-03T00:00:00\", \"2020-01-04T00:00:00\", \"2020-01-05T00:00:00\", \"2020-01-06T00:00:00\", \"2020-01-07T00:00:00\", \"2020-01-08T00:00:00\", \"2020-01-09T00:00:00\", \"2020-01-10T00:00:00\", \"2020-01-11T00:00:00\", \"2020-01-12T00:00:00\", \"2020-01-13T00:00:00\", \"2020-01-14T00:00:00\", \"2020-01-15T00:00:00\", \"2020-01-16T00:00:00\", \"2020-01-17T00:00:00\", \"2020-01-18T00:00:00\", \"2020-01-19T00:00:00\", \"2020-01-20T00:00:00\", \"2020-01-21T00:00:00\", \"2020-01-22T00:00:00\", \"2020-01-23T00:00:00\", \"2020-01-24T00:00:00\", \"2020-01-25T00:00:00\", \"2020-01-26T00:00:00\", \"2020-01-27T00:00:00\", \"2020-01-28T00:00:00\", \"2020-01-29T00:00:00\", \"2020-01-30T00:00:00\", \"2020-01-31T00:00:00\", \"2020-02-01T00:00:00\", \"2020-02-02T00:00:00\", \"2020-02-03T00:00:00\", \"2020-02-04T00:00:00\", \"2020-02-05T00:00:00\", \"2020-02-06T00:00:00\", \"2020-02-07T00:00:00\", \"2020-02-08T00:00:00\", \"2020-02-09T00:00:00\", \"2020-02-10T00:00:00\", \"2020-02-11T00:00:00\", \"2020-02-12T00:00:00\", \"2020-02-13T00:00:00\", \"2020-02-14T00:00:00\", \"2020-02-15T00:00:00\", \"2020-02-16T00:00:00\", \"2020-02-17T00:00:00\", \"2020-02-18T00:00:00\", \"2020-02-19T00:00:00\", \"2020-02-20T00:00:00\", \"2020-02-21T00:00:00\", \"2020-02-22T00:00:00\", \"2020-02-23T00:00:00\", \"2020-02-24T00:00:00\", \"2020-02-25T00:00:00\", \"2020-02-26T00:00:00\", \"2020-02-27T00:00:00\", \"2020-02-28T00:00:00\", \"2020-02-29T00:00:00\", \"2020-03-01T00:00:00\", \"2020-03-02T00:00:00\", \"2020-03-03T00:00:00\", \"2020-03-04T00:00:00\", \"2020-03-05T00:00:00\", \"2020-03-06T00:00:00\", \"2020-03-07T00:00:00\", \"2020-03-08T00:00:00\", \"2020-03-09T00:00:00\", \"2020-03-10T00:00:00\", \"2020-03-11T00:00:00\", \"2020-03-12T00:00:00\", \"2020-03-13T00:00:00\", \"2020-03-14T00:00:00\", \"2020-03-15T00:00:00\", \"2020-03-16T00:00:00\", \"2020-03-17T00:00:00\", \"2020-03-18T00:00:00\", \"2020-03-19T00:00:00\", \"2020-03-20T00:00:00\", \"2020-03-21T00:00:00\", \"2020-03-22T00:00:00\", \"2020-03-23T00:00:00\", \"2020-03-24T00:00:00\", \"2020-03-25T00:00:00\", \"2020-03-26T00:00:00\", \"2020-03-27T00:00:00\", \"2020-03-28T00:00:00\", \"2020-03-29T00:00:00\", \"2020-03-30T00:00:00\", \"2020-03-31T00:00:00\", \"2020-04-01T00:00:00\", \"2020-04-02T00:00:00\", \"2020-04-03T00:00:00\", \"2020-04-04T00:00:00\", \"2020-04-05T00:00:00\", \"2020-04-06T00:00:00\", \"2020-04-07T00:00:00\", \"2020-04-08T00:00:00\", \"2020-04-09T00:00:00\", \"2020-04-10T00:00:00\", \"2020-04-11T00:00:00\", \"2020-04-12T00:00:00\", \"2020-04-13T00:00:00\", \"2020-04-14T00:00:00\", \"2020-04-15T00:00:00\", \"2020-04-16T00:00:00\", \"2020-04-17T00:00:00\", \"2020-04-18T00:00:00\", \"2020-04-19T00:00:00\", \"2020-04-20T00:00:00\", \"2020-04-21T00:00:00\", \"2020-04-22T00:00:00\", \"2020-04-23T00:00:00\", \"2020-04-24T00:00:00\", \"2020-04-25T00:00:00\", \"2020-04-26T00:00:00\", \"2020-04-27T00:00:00\", \"2020-04-28T00:00:00\", \"2020-04-29T00:00:00\", \"2020-04-30T00:00:00\", \"2020-05-01T00:00:00\", \"2020-05-02T00:00:00\", \"2020-05-03T00:00:00\", \"2020-05-04T00:00:00\", \"2020-05-05T00:00:00\", \"2020-05-06T00:00:00\", \"2020-05-07T00:00:00\", \"2020-05-08T00:00:00\", \"2020-05-09T00:00:00\", \"2020-05-10T00:00:00\", \"2020-05-11T00:00:00\", \"2020-05-12T00:00:00\", \"2020-05-13T00:00:00\", \"2020-05-14T00:00:00\", \"2020-05-15T00:00:00\", \"2020-05-16T00:00:00\", \"2020-05-17T00:00:00\", \"2020-05-18T00:00:00\", \"2020-05-19T00:00:00\", \"2020-05-20T00:00:00\", \"2020-05-21T00:00:00\", \"2020-05-22T00:00:00\", \"2020-05-23T00:00:00\", \"2020-05-24T00:00:00\", \"2020-05-25T00:00:00\", \"2020-05-26T00:00:00\", \"2020-05-27T00:00:00\", \"2020-05-28T00:00:00\", \"2020-05-29T00:00:00\", \"2020-05-30T00:00:00\", \"2020-05-31T00:00:00\", \"2020-06-01T00:00:00\", \"2020-06-02T00:00:00\", \"2020-06-03T00:00:00\", \"2020-06-04T00:00:00\", \"2020-06-05T00:00:00\", \"2020-06-06T00:00:00\", \"2020-06-07T00:00:00\", \"2020-06-08T00:00:00\", \"2020-06-09T00:00:00\", \"2020-06-10T00:00:00\", \"2020-06-11T00:00:00\", \"2020-06-12T00:00:00\", \"2020-06-13T00:00:00\", \"2020-06-14T00:00:00\", \"2020-06-15T00:00:00\", \"2020-06-16T00:00:00\", \"2020-06-17T00:00:00\", \"2020-06-18T00:00:00\", \"2020-06-19T00:00:00\", \"2020-06-20T00:00:00\", \"2020-06-21T00:00:00\", \"2020-06-22T00:00:00\", \"2020-06-23T00:00:00\", \"2020-06-24T00:00:00\", \"2020-06-25T00:00:00\", \"2020-06-26T00:00:00\", \"2020-06-27T00:00:00\", \"2020-06-28T00:00:00\", \"2020-06-29T00:00:00\", \"2020-06-30T00:00:00\", \"2020-07-01T00:00:00\", \"2020-07-02T00:00:00\", \"2020-07-03T00:00:00\", \"2020-07-04T00:00:00\", \"2020-07-05T00:00:00\", \"2020-07-06T00:00:00\", \"2020-07-07T00:00:00\", \"2020-07-08T00:00:00\", \"2020-07-09T00:00:00\", \"2020-07-10T00:00:00\", \"2020-07-11T00:00:00\", \"2020-07-12T00:00:00\", \"2020-07-13T00:00:00\", \"2020-07-14T00:00:00\", \"2020-07-15T00:00:00\", \"2020-07-16T00:00:00\", \"2020-07-17T00:00:00\", \"2020-07-18T00:00:00\", \"2020-07-19T00:00:00\", \"2020-07-20T00:00:00\", \"2020-07-21T00:00:00\", \"2020-07-22T00:00:00\", \"2020-07-23T00:00:00\", \"2020-07-24T00:00:00\", \"2020-07-25T00:00:00\", \"2020-07-26T00:00:00\", \"2020-07-27T00:00:00\", \"2020-07-28T00:00:00\", \"2020-07-29T00:00:00\", \"2020-07-30T00:00:00\", \"2020-07-31T00:00:00\", \"2020-08-01T00:00:00\", \"2020-08-02T00:00:00\", \"2020-08-03T00:00:00\", \"2020-08-04T00:00:00\", \"2020-08-05T00:00:00\", \"2020-08-06T00:00:00\", \"2020-08-07T00:00:00\", \"2020-08-08T00:00:00\", \"2020-08-09T00:00:00\", \"2020-08-10T00:00:00\", \"2020-08-11T00:00:00\", \"2020-08-12T00:00:00\", \"2020-08-13T00:00:00\", \"2020-08-14T00:00:00\", \"2020-08-15T00:00:00\", \"2020-08-16T00:00:00\", \"2020-08-17T00:00:00\", \"2020-08-18T00:00:00\", \"2020-08-19T00:00:00\", \"2020-08-20T00:00:00\", \"2020-08-21T00:00:00\", \"2020-08-22T00:00:00\", \"2020-08-23T00:00:00\", \"2020-08-24T00:00:00\", \"2020-08-25T00:00:00\", \"2020-08-26T00:00:00\", \"2020-08-27T00:00:00\", \"2020-08-28T00:00:00\", \"2020-08-29T00:00:00\", \"2020-08-30T00:00:00\", \"2020-08-31T00:00:00\", \"2020-09-01T00:00:00\", \"2020-09-02T00:00:00\", \"2020-09-03T00:00:00\", \"2020-09-04T00:00:00\", \"2020-09-05T00:00:00\", \"2020-09-06T00:00:00\", \"2020-09-07T00:00:00\", \"2020-09-08T00:00:00\", \"2020-09-09T00:00:00\", \"2020-09-10T00:00:00\", \"2020-09-11T00:00:00\", \"2020-09-12T00:00:00\", \"2020-09-13T00:00:00\", \"2020-09-14T00:00:00\", \"2020-09-15T00:00:00\", \"2020-09-16T00:00:00\", \"2020-09-17T00:00:00\", \"2020-09-18T00:00:00\", \"2020-09-19T00:00:00\", \"2020-09-20T00:00:00\", \"2020-09-21T00:00:00\", \"2020-09-22T00:00:00\", \"2020-09-23T00:00:00\", \"2020-09-24T00:00:00\", \"2020-09-25T00:00:00\", \"2020-09-26T00:00:00\", \"2020-09-27T00:00:00\", \"2020-09-28T00:00:00\", \"2020-09-29T00:00:00\", \"2020-09-30T00:00:00\", \"2020-10-01T00:00:00\", \"2020-10-02T00:00:00\", \"2020-10-03T00:00:00\", \"2020-10-04T00:00:00\", \"2020-10-05T00:00:00\", \"2020-10-06T00:00:00\", \"2020-10-07T00:00:00\", \"2020-10-08T00:00:00\", \"2020-10-09T00:00:00\", \"2020-10-10T00:00:00\", \"2020-10-11T00:00:00\", \"2020-10-12T00:00:00\", \"2020-10-13T00:00:00\", \"2020-10-14T00:00:00\", \"2020-10-15T00:00:00\", \"2020-10-16T00:00:00\", \"2020-10-17T00:00:00\", \"2020-10-18T00:00:00\", \"2020-10-19T00:00:00\", \"2020-10-20T00:00:00\", \"2020-10-21T00:00:00\", \"2020-10-22T00:00:00\", \"2020-10-23T00:00:00\", \"2020-10-24T00:00:00\", \"2020-10-25T00:00:00\", \"2020-10-26T00:00:00\", \"2020-10-27T00:00:00\", \"2020-10-28T00:00:00\", \"2020-10-29T00:00:00\", \"2020-10-30T00:00:00\", \"2020-10-31T00:00:00\", \"2020-11-01T00:00:00\", \"2020-11-02T00:00:00\", \"2020-11-03T00:00:00\", \"2020-11-04T00:00:00\", \"2020-11-05T00:00:00\", \"2020-11-06T00:00:00\", \"2020-11-07T00:00:00\", \"2020-11-08T00:00:00\", \"2020-11-09T00:00:00\", \"2020-11-10T00:00:00\", \"2020-11-11T00:00:00\", \"2020-11-12T00:00:00\", \"2020-11-13T00:00:00\", \"2020-11-14T00:00:00\", \"2020-11-15T00:00:00\", \"2020-11-16T00:00:00\", \"2020-11-17T00:00:00\", \"2020-11-18T00:00:00\", \"2020-11-19T00:00:00\", \"2020-11-20T00:00:00\", \"2020-11-21T00:00:00\", \"2020-11-22T00:00:00\", \"2020-11-23T00:00:00\", \"2020-11-24T00:00:00\", \"2020-11-25T00:00:00\", \"2020-11-26T00:00:00\", \"2020-11-27T00:00:00\", \"2020-11-28T00:00:00\", \"2020-11-29T00:00:00\", \"2020-11-30T00:00:00\", \"2020-12-01T00:00:00\", \"2020-12-02T00:00:00\", \"2020-12-03T00:00:00\", \"2020-12-04T00:00:00\", \"2020-12-05T00:00:00\", \"2020-12-06T00:00:00\", \"2020-12-07T00:00:00\", \"2020-12-08T00:00:00\", \"2020-12-09T00:00:00\", \"2020-12-10T00:00:00\", \"2020-12-11T00:00:00\", \"2020-12-12T00:00:00\", \"2020-12-13T00:00:00\", \"2020-12-14T00:00:00\", \"2020-12-15T00:00:00\", \"2020-12-16T00:00:00\", \"2020-12-17T00:00:00\", \"2020-12-18T00:00:00\", \"2020-12-19T00:00:00\", \"2020-12-20T00:00:00\", \"2020-12-21T00:00:00\", \"2020-12-22T00:00:00\", \"2020-12-23T00:00:00\", \"2020-12-24T00:00:00\", \"2020-12-25T00:00:00\", \"2020-12-26T00:00:00\", \"2020-12-27T00:00:00\", \"2020-12-28T00:00:00\", \"2020-12-29T00:00:00\", \"2020-12-30T00:00:00\", \"2020-12-31T00:00:00\"], \"xaxis\": \"x\", \"y\": [2210, 7184, 7143, 5509, 4177, 6569, 7508, 6853, 7132, 7149, 3941, 3873, 7215, 7630, 7434, 7416, 6790, 3174, 2980, 5596, 6698, 6876, 6949, 6667, 4763, 4425, 7137, 7366, 6737, 7422, 7499, 6335, 4278, 6933, 7225, 7238, 4645, 5343, 4754, 3909, 6022, 6770, 6842, 5981, 6234, 5623, 4597, 3472, 6193, 7397, 6585, 6629, 5436, 4653, 6803, 6979, 5695, 4542, 6035, 4915, 4558, 7066, 7514, 8120, 7754, 7469, 6551, 4548, 7567, 7014, 7301, 7275, 6827, 5735, 4747, 6117, 5108, 4144, 3094, 2542, 879, 721, 1725, 1497, 1030, 656, 584, 583, 418, 572, 674, 720, 602, 584, 545, 550, 628, 652, 739, 681, 304, 481, 365, 373, 611, 689, 680, 508, 453, 449, 506, 604, 776, 765, 676, 588, 471, 654, 744, 817, 764, 743, 602, 994, 800, 694, 850, 594, 850, 544, 607, 660, 734, 847, 766, 625, 770, 626, 406, 845, 893, 891, 1186, 1157, 997, 1194, 1212, 1133, 888, 881, 749, 755, 977, 927, 958, 1069, 1041, 1120, 1091, 1081, 1329, 1279, 1021, 1397, 1313, 1340, 1479, 1301, 1497, 1577, 1447, 1543, 1268, 1194, 1139, 1405, 1270, 1415, 1185, 1515, 1306, 1393, 1727, 2047, 1727, 1886, 1616, 3459, 3830, 3406, 3490, 3515, 1877, 2049, 3962, 2854, 3897, 4604, 4173, 2792, 1716, 4269, 4430, 4385, 4603, 4181, 2772, 2283, 4088, 3892, 4166, 4520, 4476, 2564, 1720, 1547, 4666, 4786, 4393, 4399, 2463, 1920, 3838, 3949, 4011, 3788, 3842, 2771, 1911, 6342, 6621, 6803, 5685, 6130, 4022, 3485, 6325, 6405, 6272, 6002, 5971, 3743, 3204, 5707, 6629, 5657, 6043, 6379, 3692, 3965, 1923, 6812, 6604, 6416, 6084, 4156, 3427, 6216, 6539, 7364, 6680, 6128, 3905, 3637, 6067, 6101, 6580, 6076, 6636, 4952, 4184, 6483, 6796, 6642, 7099, 6230, 4717, 3877, 5568, 5741, 5665, 5661, 6352, 4892, 4201, 1888, 6004, 6027, 5445, 6743, 4757, 3973, 5740, 6050, 5712, 5960, 5714, 4731, 3792, 5562, 5575, 5802, 6004, 6116, 4410, 3712, 5683, 6557, 6593, 6155, 6042, 4594, 4207, 5691, 6018, 5773, 5392, 5749, 4519, 3759, 6057, 5696, 5213, 5703, 5505, 4500, 2838, 4135, 4433, 4461, 4370, 4489, 3761, 3283, 4407, 3758, 4278, 4780, 5038, 4159, 3340, 4753, 6180, 5366, 5778, 5348, 4167, 3432, 4918, 4681, 4542, 4539, 4944, 4113, 3161, 4628, 4513, 2749, 1183, 344, 465, 676, 1157, 1757, 1602, 1437], \"yaxis\": \"y\"}],                        {\"barmode\": \"relative\", \"legend\": {\"tracegroupgap\": 0}, \"template\": {\"data\": {\"bar\": [{\"error_x\": {\"color\": \"#2a3f5f\"}, \"error_y\": {\"color\": \"#2a3f5f\"}, \"marker\": {\"line\": {\"color\": \"#E5ECF6\", \"width\": 0.5}}, \"type\": \"bar\"}], \"barpolar\": [{\"marker\": {\"line\": {\"color\": \"#E5ECF6\", \"width\": 0.5}}, \"type\": \"barpolar\"}], \"carpet\": [{\"aaxis\": {\"endlinecolor\": \"#2a3f5f\", \"gridcolor\": \"white\", \"linecolor\": \"white\", \"minorgridcolor\": \"white\", \"startlinecolor\": \"#2a3f5f\"}, \"baxis\": {\"endlinecolor\": \"#2a3f5f\", \"gridcolor\": \"white\", \"linecolor\": \"white\", \"minorgridcolor\": \"white\", \"startlinecolor\": \"#2a3f5f\"}, \"type\": \"carpet\"}], \"choropleth\": [{\"colorbar\": {\"outlinewidth\": 0, \"ticks\": \"\"}, \"type\": \"choropleth\"}], \"contour\": [{\"colorbar\": {\"outlinewidth\": 0, \"ticks\": \"\"}, \"colorscale\": [[0.0, \"#0d0887\"], [0.1111111111111111, \"#46039f\"], [0.2222222222222222, \"#7201a8\"], [0.3333333333333333, \"#9c179e\"], [0.4444444444444444, \"#bd3786\"], [0.5555555555555556, \"#d8576b\"], [0.6666666666666666, \"#ed7953\"], [0.7777777777777778, \"#fb9f3a\"], [0.8888888888888888, \"#fdca26\"], [1.0, \"#f0f921\"]], \"type\": \"contour\"}], \"contourcarpet\": [{\"colorbar\": {\"outlinewidth\": 0, \"ticks\": \"\"}, \"type\": \"contourcarpet\"}], \"heatmap\": [{\"colorbar\": {\"outlinewidth\": 0, \"ticks\": \"\"}, \"colorscale\": [[0.0, \"#0d0887\"], [0.1111111111111111, \"#46039f\"], [0.2222222222222222, \"#7201a8\"], [0.3333333333333333, \"#9c179e\"], [0.4444444444444444, \"#bd3786\"], [0.5555555555555556, \"#d8576b\"], [0.6666666666666666, \"#ed7953\"], [0.7777777777777778, \"#fb9f3a\"], [0.8888888888888888, \"#fdca26\"], [1.0, \"#f0f921\"]], \"type\": \"heatmap\"}], \"heatmapgl\": [{\"colorbar\": {\"outlinewidth\": 0, \"ticks\": \"\"}, \"colorscale\": [[0.0, \"#0d0887\"], [0.1111111111111111, \"#46039f\"], [0.2222222222222222, \"#7201a8\"], [0.3333333333333333, \"#9c179e\"], [0.4444444444444444, \"#bd3786\"], [0.5555555555555556, \"#d8576b\"], [0.6666666666666666, \"#ed7953\"], [0.7777777777777778, \"#fb9f3a\"], [0.8888888888888888, \"#fdca26\"], [1.0, \"#f0f921\"]], \"type\": \"heatmapgl\"}], \"histogram\": [{\"marker\": {\"colorbar\": {\"outlinewidth\": 0, \"ticks\": \"\"}}, \"type\": \"histogram\"}], \"histogram2d\": [{\"colorbar\": {\"outlinewidth\": 0, \"ticks\": \"\"}, \"colorscale\": [[0.0, \"#0d0887\"], [0.1111111111111111, \"#46039f\"], [0.2222222222222222, \"#7201a8\"], [0.3333333333333333, \"#9c179e\"], [0.4444444444444444, \"#bd3786\"], [0.5555555555555556, \"#d8576b\"], [0.6666666666666666, \"#ed7953\"], [0.7777777777777778, \"#fb9f3a\"], [0.8888888888888888, \"#fdca26\"], [1.0, \"#f0f921\"]], \"type\": \"histogram2d\"}], \"histogram2dcontour\": [{\"colorbar\": {\"outlinewidth\": 0, \"ticks\": \"\"}, \"colorscale\": [[0.0, \"#0d0887\"], [0.1111111111111111, \"#46039f\"], [0.2222222222222222, \"#7201a8\"], [0.3333333333333333, \"#9c179e\"], [0.4444444444444444, \"#bd3786\"], [0.5555555555555556, \"#d8576b\"], [0.6666666666666666, \"#ed7953\"], [0.7777777777777778, \"#fb9f3a\"], [0.8888888888888888, \"#fdca26\"], [1.0, \"#f0f921\"]], \"type\": \"histogram2dcontour\"}], \"mesh3d\": [{\"colorbar\": {\"outlinewidth\": 0, \"ticks\": \"\"}, \"type\": \"mesh3d\"}], \"parcoords\": [{\"line\": {\"colorbar\": {\"outlinewidth\": 0, \"ticks\": \"\"}}, \"type\": \"parcoords\"}], \"pie\": [{\"automargin\": true, \"type\": \"pie\"}], \"scatter\": [{\"marker\": {\"colorbar\": {\"outlinewidth\": 0, \"ticks\": \"\"}}, \"type\": \"scatter\"}], \"scatter3d\": [{\"line\": {\"colorbar\": {\"outlinewidth\": 0, \"ticks\": \"\"}}, \"marker\": {\"colorbar\": {\"outlinewidth\": 0, \"ticks\": \"\"}}, \"type\": \"scatter3d\"}], \"scattercarpet\": [{\"marker\": {\"colorbar\": {\"outlinewidth\": 0, \"ticks\": \"\"}}, \"type\": \"scattercarpet\"}], \"scattergeo\": [{\"marker\": {\"colorbar\": {\"outlinewidth\": 0, \"ticks\": \"\"}}, \"type\": \"scattergeo\"}], \"scattergl\": [{\"marker\": {\"colorbar\": {\"outlinewidth\": 0, \"ticks\": \"\"}}, \"type\": \"scattergl\"}], \"scattermapbox\": [{\"marker\": {\"colorbar\": {\"outlinewidth\": 0, \"ticks\": \"\"}}, \"type\": \"scattermapbox\"}], \"scatterpolar\": [{\"marker\": {\"colorbar\": {\"outlinewidth\": 0, \"ticks\": \"\"}}, \"type\": \"scatterpolar\"}], \"scatterpolargl\": [{\"marker\": {\"colorbar\": {\"outlinewidth\": 0, \"ticks\": \"\"}}, \"type\": \"scatterpolargl\"}], \"scatterternary\": [{\"marker\": {\"colorbar\": {\"outlinewidth\": 0, \"ticks\": \"\"}}, \"type\": \"scatterternary\"}], \"surface\": [{\"colorbar\": {\"outlinewidth\": 0, \"ticks\": \"\"}, \"colorscale\": [[0.0, \"#0d0887\"], [0.1111111111111111, \"#46039f\"], [0.2222222222222222, \"#7201a8\"], [0.3333333333333333, \"#9c179e\"], [0.4444444444444444, \"#bd3786\"], [0.5555555555555556, \"#d8576b\"], [0.6666666666666666, \"#ed7953\"], [0.7777777777777778, \"#fb9f3a\"], [0.8888888888888888, \"#fdca26\"], [1.0, \"#f0f921\"]], \"type\": \"surface\"}], \"table\": [{\"cells\": {\"fill\": {\"color\": \"#EBF0F8\"}, \"line\": {\"color\": \"white\"}}, \"header\": {\"fill\": {\"color\": \"#C8D4E3\"}, \"line\": {\"color\": \"white\"}}, \"type\": \"table\"}]}, \"layout\": {\"annotationdefaults\": {\"arrowcolor\": \"#2a3f5f\", \"arrowhead\": 0, \"arrowwidth\": 1}, \"autotypenumbers\": \"strict\", \"coloraxis\": {\"colorbar\": {\"outlinewidth\": 0, \"ticks\": \"\"}}, \"colorscale\": {\"diverging\": [[0, \"#8e0152\"], [0.1, \"#c51b7d\"], [0.2, \"#de77ae\"], [0.3, \"#f1b6da\"], [0.4, \"#fde0ef\"], [0.5, \"#f7f7f7\"], [0.6, \"#e6f5d0\"], [0.7, \"#b8e186\"], [0.8, \"#7fbc41\"], [0.9, \"#4d9221\"], [1, \"#276419\"]], \"sequential\": [[0.0, \"#0d0887\"], [0.1111111111111111, \"#46039f\"], [0.2222222222222222, \"#7201a8\"], [0.3333333333333333, \"#9c179e\"], [0.4444444444444444, \"#bd3786\"], [0.5555555555555556, \"#d8576b\"], [0.6666666666666666, \"#ed7953\"], [0.7777777777777778, \"#fb9f3a\"], [0.8888888888888888, \"#fdca26\"], [1.0, \"#f0f921\"]], \"sequentialminus\": [[0.0, \"#0d0887\"], [0.1111111111111111, \"#46039f\"], [0.2222222222222222, \"#7201a8\"], [0.3333333333333333, \"#9c179e\"], [0.4444444444444444, \"#bd3786\"], [0.5555555555555556, \"#d8576b\"], [0.6666666666666666, \"#ed7953\"], [0.7777777777777778, \"#fb9f3a\"], [0.8888888888888888, \"#fdca26\"], [1.0, \"#f0f921\"]]}, \"colorway\": [\"#636efa\", \"#EF553B\", \"#00cc96\", \"#ab63fa\", \"#FFA15A\", \"#19d3f3\", \"#FF6692\", \"#B6E880\", \"#FF97FF\", \"#FECB52\"], \"font\": {\"color\": \"#2a3f5f\"}, \"geo\": {\"bgcolor\": \"white\", \"lakecolor\": \"white\", \"landcolor\": \"#E5ECF6\", \"showlakes\": true, \"showland\": true, \"subunitcolor\": \"white\"}, \"hoverlabel\": {\"align\": \"left\"}, \"hovermode\": \"closest\", \"mapbox\": {\"style\": \"light\"}, \"paper_bgcolor\": \"white\", \"plot_bgcolor\": \"#E5ECF6\", \"polar\": {\"angularaxis\": {\"gridcolor\": \"white\", \"linecolor\": \"white\", \"ticks\": \"\"}, \"bgcolor\": \"#E5ECF6\", \"radialaxis\": {\"gridcolor\": \"white\", \"linecolor\": \"white\", \"ticks\": \"\"}}, \"scene\": {\"xaxis\": {\"backgroundcolor\": \"#E5ECF6\", \"gridcolor\": \"white\", \"gridwidth\": 2, \"linecolor\": \"white\", \"showbackground\": true, \"ticks\": \"\", \"zerolinecolor\": \"white\"}, \"yaxis\": {\"backgroundcolor\": \"#E5ECF6\", \"gridcolor\": \"white\", \"gridwidth\": 2, \"linecolor\": \"white\", \"showbackground\": true, \"ticks\": \"\", \"zerolinecolor\": \"white\"}, \"zaxis\": {\"backgroundcolor\": \"#E5ECF6\", \"gridcolor\": \"white\", \"gridwidth\": 2, \"linecolor\": \"white\", \"showbackground\": true, \"ticks\": \"\", \"zerolinecolor\": \"white\"}}, \"shapedefaults\": {\"line\": {\"color\": \"#2a3f5f\"}}, \"ternary\": {\"aaxis\": {\"gridcolor\": \"white\", \"linecolor\": \"white\", \"ticks\": \"\"}, \"baxis\": {\"gridcolor\": \"white\", \"linecolor\": \"white\", \"ticks\": \"\"}, \"bgcolor\": \"#E5ECF6\", \"caxis\": {\"gridcolor\": \"white\", \"linecolor\": \"white\", \"ticks\": \"\"}}, \"title\": {\"x\": 0.05}, \"xaxis\": {\"automargin\": true, \"gridcolor\": \"white\", \"linecolor\": \"white\", \"ticks\": \"\", \"title\": {\"standoff\": 15}, \"zerolinecolor\": \"white\", \"zerolinewidth\": 2}, \"yaxis\": {\"automargin\": true, \"gridcolor\": \"white\", \"linecolor\": \"white\", \"ticks\": \"\", \"title\": {\"standoff\": 15}, \"zerolinecolor\": \"white\", \"zerolinewidth\": 2}}}, \"title\": {\"text\": \"Distribution of infractions by day in 2020\"}, \"xaxis\": {\"anchor\": \"y\", \"domain\": [0.0, 1.0], \"title\": {\"text\": \"date\"}}, \"yaxis\": {\"anchor\": \"x\", \"domain\": [0.0, 1.0], \"title\": {\"text\": \"sum of count\"}}},                        {\"responsive\": true}                    ).then(function(){\n",
       "                            \n",
       "var gd = document.getElementById('8a33a7c0-7e9b-4560-a146-0ef34ccba4c5');\n",
       "var x = new MutationObserver(function (mutations, observer) {{\n",
       "        var display = window.getComputedStyle(gd).display;\n",
       "        if (!display || display === 'none') {{\n",
       "            console.log([gd, 'removed!']);\n",
       "            Plotly.purge(gd);\n",
       "            observer.disconnect();\n",
       "        }}\n",
       "}});\n",
       "\n",
       "// Listen for the removal of the full notebook cells\n",
       "var notebookContainer = gd.closest('#notebook-container');\n",
       "if (notebookContainer) {{\n",
       "    x.observe(notebookContainer, {childList: true});\n",
       "}}\n",
       "\n",
       "// Listen for the clearing of the current output cell\n",
       "var outputEl = gd.closest('.output');\n",
       "if (outputEl) {{\n",
       "    x.observe(outputEl, {childList: true});\n",
       "}}\n",
       "\n",
       "                        })                };                });            </script>        </div>"
      ]
     },
     "metadata": {},
     "output_type": "display_data"
    }
   ],
   "source": [
    "fig = px.histogram(time_df, x='date', y='count', nbins=366, title='Distribution of infractions by day in 2020')\n",
    "fig.show()"
   ]
  },
  {
   "cell_type": "markdown",
   "metadata": {},
   "source": [
    "## 3.3.1 a.ii: Distribution of infractions by month"
   ]
  },
  {
   "cell_type": "code",
   "execution_count": 202,
   "metadata": {
    "ExecuteTime": {
     "end_time": "2021-04-19T17:11:08.512055Z",
     "start_time": "2021-04-19T17:11:08.402338Z"
    }
   },
   "outputs": [
    {
     "data": {
      "application/vnd.plotly.v1+json": {
       "config": {
        "plotlyServerURL": "https://plot.ly"
       },
       "data": [
        {
         "alignmentgroup": "True",
         "bingroup": "x",
         "histfunc": "sum",
         "hovertemplate": "month=%{x}<br>sum of count=%{y}<extra></extra>",
         "legendgroup": "",
         "marker": {
          "color": "#636efa"
         },
         "name": "",
         "offsetgroup": "",
         "orientation": "v",
         "showlegend": false,
         "type": "histogram",
         "x": [
          "January",
          "January",
          "January",
          "January",
          "January",
          "January",
          "January",
          "January",
          "January",
          "January",
          "January",
          "January",
          "January",
          "January",
          "January",
          "January",
          "January",
          "January",
          "January",
          "January",
          "January",
          "January",
          "January",
          "January",
          "January",
          "January",
          "January",
          "January",
          "January",
          "January",
          "January",
          "February",
          "February",
          "February",
          "February",
          "February",
          "February",
          "February",
          "February",
          "February",
          "February",
          "February",
          "February",
          "February",
          "February",
          "February",
          "February",
          "February",
          "February",
          "February",
          "February",
          "February",
          "February",
          "February",
          "February",
          "February",
          "February",
          "February",
          "February",
          "February",
          "March",
          "March",
          "March",
          "March",
          "March",
          "March",
          "March",
          "March",
          "March",
          "March",
          "March",
          "March",
          "March",
          "March",
          "March",
          "March",
          "March",
          "March",
          "March",
          "March",
          "March",
          "March",
          "March",
          "March",
          "March",
          "March",
          "March",
          "March",
          "March",
          "March",
          "March",
          "April",
          "April",
          "April",
          "April",
          "April",
          "April",
          "April",
          "April",
          "April",
          "April",
          "April",
          "April",
          "April",
          "April",
          "April",
          "April",
          "April",
          "April",
          "April",
          "April",
          "April",
          "April",
          "April",
          "April",
          "April",
          "April",
          "April",
          "April",
          "April",
          "April",
          "May",
          "May",
          "May",
          "May",
          "May",
          "May",
          "May",
          "May",
          "May",
          "May",
          "May",
          "May",
          "May",
          "May",
          "May",
          "May",
          "May",
          "May",
          "May",
          "May",
          "May",
          "May",
          "May",
          "May",
          "May",
          "May",
          "May",
          "May",
          "May",
          "May",
          "May",
          "June",
          "June",
          "June",
          "June",
          "June",
          "June",
          "June",
          "June",
          "June",
          "June",
          "June",
          "June",
          "June",
          "June",
          "June",
          "June",
          "June",
          "June",
          "June",
          "June",
          "June",
          "June",
          "June",
          "June",
          "June",
          "June",
          "June",
          "June",
          "June",
          "June",
          "July",
          "July",
          "July",
          "July",
          "July",
          "July",
          "July",
          "July",
          "July",
          "July",
          "July",
          "July",
          "July",
          "July",
          "July",
          "July",
          "July",
          "July",
          "July",
          "July",
          "July",
          "July",
          "July",
          "July",
          "July",
          "July",
          "July",
          "July",
          "July",
          "July",
          "July",
          "August",
          "August",
          "August",
          "August",
          "August",
          "August",
          "August",
          "August",
          "August",
          "August",
          "August",
          "August",
          "August",
          "August",
          "August",
          "August",
          "August",
          "August",
          "August",
          "August",
          "August",
          "August",
          "August",
          "August",
          "August",
          "August",
          "August",
          "August",
          "August",
          "August",
          "August",
          "September",
          "September",
          "September",
          "September",
          "September",
          "September",
          "September",
          "September",
          "September",
          "September",
          "September",
          "September",
          "September",
          "September",
          "September",
          "September",
          "September",
          "September",
          "September",
          "September",
          "September",
          "September",
          "September",
          "September",
          "September",
          "September",
          "September",
          "September",
          "September",
          "September",
          "October",
          "October",
          "October",
          "October",
          "October",
          "October",
          "October",
          "October",
          "October",
          "October",
          "October",
          "October",
          "October",
          "October",
          "October",
          "October",
          "October",
          "October",
          "October",
          "October",
          "October",
          "October",
          "October",
          "October",
          "October",
          "October",
          "October",
          "October",
          "October",
          "October",
          "October",
          "November",
          "November",
          "November",
          "November",
          "November",
          "November",
          "November",
          "November",
          "November",
          "November",
          "November",
          "November",
          "November",
          "November",
          "November",
          "November",
          "November",
          "November",
          "November",
          "November",
          "November",
          "November",
          "November",
          "November",
          "November",
          "November",
          "November",
          "November",
          "November",
          "November",
          "December",
          "December",
          "December",
          "December",
          "December",
          "December",
          "December",
          "December",
          "December",
          "December",
          "December",
          "December",
          "December",
          "December",
          "December",
          "December",
          "December",
          "December",
          "December",
          "December",
          "December",
          "December",
          "December",
          "December",
          "December",
          "December",
          "December",
          "December",
          "December",
          "December",
          "December"
         ],
         "xaxis": "x",
         "y": [
          2210,
          7184,
          7143,
          5509,
          4177,
          6569,
          7508,
          6853,
          7132,
          7149,
          3941,
          3873,
          7215,
          7630,
          7434,
          7416,
          6790,
          3174,
          2980,
          5596,
          6698,
          6876,
          6949,
          6667,
          4763,
          4425,
          7137,
          7366,
          6737,
          7422,
          7499,
          6335,
          4278,
          6933,
          7225,
          7238,
          4645,
          5343,
          4754,
          3909,
          6022,
          6770,
          6842,
          5981,
          6234,
          5623,
          4597,
          3472,
          6193,
          7397,
          6585,
          6629,
          5436,
          4653,
          6803,
          6979,
          5695,
          4542,
          6035,
          4915,
          4558,
          7066,
          7514,
          8120,
          7754,
          7469,
          6551,
          4548,
          7567,
          7014,
          7301,
          7275,
          6827,
          5735,
          4747,
          6117,
          5108,
          4144,
          3094,
          2542,
          879,
          721,
          1725,
          1497,
          1030,
          656,
          584,
          583,
          418,
          572,
          674,
          720,
          602,
          584,
          545,
          550,
          628,
          652,
          739,
          681,
          304,
          481,
          365,
          373,
          611,
          689,
          680,
          508,
          453,
          449,
          506,
          604,
          776,
          765,
          676,
          588,
          471,
          654,
          744,
          817,
          764,
          743,
          602,
          994,
          800,
          694,
          850,
          594,
          850,
          544,
          607,
          660,
          734,
          847,
          766,
          625,
          770,
          626,
          406,
          845,
          893,
          891,
          1186,
          1157,
          997,
          1194,
          1212,
          1133,
          888,
          881,
          749,
          755,
          977,
          927,
          958,
          1069,
          1041,
          1120,
          1091,
          1081,
          1329,
          1279,
          1021,
          1397,
          1313,
          1340,
          1479,
          1301,
          1497,
          1577,
          1447,
          1543,
          1268,
          1194,
          1139,
          1405,
          1270,
          1415,
          1185,
          1515,
          1306,
          1393,
          1727,
          2047,
          1727,
          1886,
          1616,
          3459,
          3830,
          3406,
          3490,
          3515,
          1877,
          2049,
          3962,
          2854,
          3897,
          4604,
          4173,
          2792,
          1716,
          4269,
          4430,
          4385,
          4603,
          4181,
          2772,
          2283,
          4088,
          3892,
          4166,
          4520,
          4476,
          2564,
          1720,
          1547,
          4666,
          4786,
          4393,
          4399,
          2463,
          1920,
          3838,
          3949,
          4011,
          3788,
          3842,
          2771,
          1911,
          6342,
          6621,
          6803,
          5685,
          6130,
          4022,
          3485,
          6325,
          6405,
          6272,
          6002,
          5971,
          3743,
          3204,
          5707,
          6629,
          5657,
          6043,
          6379,
          3692,
          3965,
          1923,
          6812,
          6604,
          6416,
          6084,
          4156,
          3427,
          6216,
          6539,
          7364,
          6680,
          6128,
          3905,
          3637,
          6067,
          6101,
          6580,
          6076,
          6636,
          4952,
          4184,
          6483,
          6796,
          6642,
          7099,
          6230,
          4717,
          3877,
          5568,
          5741,
          5665,
          5661,
          6352,
          4892,
          4201,
          1888,
          6004,
          6027,
          5445,
          6743,
          4757,
          3973,
          5740,
          6050,
          5712,
          5960,
          5714,
          4731,
          3792,
          5562,
          5575,
          5802,
          6004,
          6116,
          4410,
          3712,
          5683,
          6557,
          6593,
          6155,
          6042,
          4594,
          4207,
          5691,
          6018,
          5773,
          5392,
          5749,
          4519,
          3759,
          6057,
          5696,
          5213,
          5703,
          5505,
          4500,
          2838,
          4135,
          4433,
          4461,
          4370,
          4489,
          3761,
          3283,
          4407,
          3758,
          4278,
          4780,
          5038,
          4159,
          3340,
          4753,
          6180,
          5366,
          5778,
          5348,
          4167,
          3432,
          4918,
          4681,
          4542,
          4539,
          4944,
          4113,
          3161,
          4628,
          4513,
          2749,
          1183,
          344,
          465,
          676,
          1157,
          1757,
          1602,
          1437
         ],
         "yaxis": "y"
        }
       ],
       "layout": {
        "barmode": "relative",
        "legend": {
         "tracegroupgap": 0
        },
        "margin": {
         "t": 60
        },
        "template": {
         "data": {
          "bar": [
           {
            "error_x": {
             "color": "#2a3f5f"
            },
            "error_y": {
             "color": "#2a3f5f"
            },
            "marker": {
             "line": {
              "color": "#E5ECF6",
              "width": 0.5
             }
            },
            "type": "bar"
           }
          ],
          "barpolar": [
           {
            "marker": {
             "line": {
              "color": "#E5ECF6",
              "width": 0.5
             }
            },
            "type": "barpolar"
           }
          ],
          "carpet": [
           {
            "aaxis": {
             "endlinecolor": "#2a3f5f",
             "gridcolor": "white",
             "linecolor": "white",
             "minorgridcolor": "white",
             "startlinecolor": "#2a3f5f"
            },
            "baxis": {
             "endlinecolor": "#2a3f5f",
             "gridcolor": "white",
             "linecolor": "white",
             "minorgridcolor": "white",
             "startlinecolor": "#2a3f5f"
            },
            "type": "carpet"
           }
          ],
          "choropleth": [
           {
            "colorbar": {
             "outlinewidth": 0,
             "ticks": ""
            },
            "type": "choropleth"
           }
          ],
          "contour": [
           {
            "colorbar": {
             "outlinewidth": 0,
             "ticks": ""
            },
            "colorscale": [
             [
              0,
              "#0d0887"
             ],
             [
              0.1111111111111111,
              "#46039f"
             ],
             [
              0.2222222222222222,
              "#7201a8"
             ],
             [
              0.3333333333333333,
              "#9c179e"
             ],
             [
              0.4444444444444444,
              "#bd3786"
             ],
             [
              0.5555555555555556,
              "#d8576b"
             ],
             [
              0.6666666666666666,
              "#ed7953"
             ],
             [
              0.7777777777777778,
              "#fb9f3a"
             ],
             [
              0.8888888888888888,
              "#fdca26"
             ],
             [
              1,
              "#f0f921"
             ]
            ],
            "type": "contour"
           }
          ],
          "contourcarpet": [
           {
            "colorbar": {
             "outlinewidth": 0,
             "ticks": ""
            },
            "type": "contourcarpet"
           }
          ],
          "heatmap": [
           {
            "colorbar": {
             "outlinewidth": 0,
             "ticks": ""
            },
            "colorscale": [
             [
              0,
              "#0d0887"
             ],
             [
              0.1111111111111111,
              "#46039f"
             ],
             [
              0.2222222222222222,
              "#7201a8"
             ],
             [
              0.3333333333333333,
              "#9c179e"
             ],
             [
              0.4444444444444444,
              "#bd3786"
             ],
             [
              0.5555555555555556,
              "#d8576b"
             ],
             [
              0.6666666666666666,
              "#ed7953"
             ],
             [
              0.7777777777777778,
              "#fb9f3a"
             ],
             [
              0.8888888888888888,
              "#fdca26"
             ],
             [
              1,
              "#f0f921"
             ]
            ],
            "type": "heatmap"
           }
          ],
          "heatmapgl": [
           {
            "colorbar": {
             "outlinewidth": 0,
             "ticks": ""
            },
            "colorscale": [
             [
              0,
              "#0d0887"
             ],
             [
              0.1111111111111111,
              "#46039f"
             ],
             [
              0.2222222222222222,
              "#7201a8"
             ],
             [
              0.3333333333333333,
              "#9c179e"
             ],
             [
              0.4444444444444444,
              "#bd3786"
             ],
             [
              0.5555555555555556,
              "#d8576b"
             ],
             [
              0.6666666666666666,
              "#ed7953"
             ],
             [
              0.7777777777777778,
              "#fb9f3a"
             ],
             [
              0.8888888888888888,
              "#fdca26"
             ],
             [
              1,
              "#f0f921"
             ]
            ],
            "type": "heatmapgl"
           }
          ],
          "histogram": [
           {
            "marker": {
             "colorbar": {
              "outlinewidth": 0,
              "ticks": ""
             }
            },
            "type": "histogram"
           }
          ],
          "histogram2d": [
           {
            "colorbar": {
             "outlinewidth": 0,
             "ticks": ""
            },
            "colorscale": [
             [
              0,
              "#0d0887"
             ],
             [
              0.1111111111111111,
              "#46039f"
             ],
             [
              0.2222222222222222,
              "#7201a8"
             ],
             [
              0.3333333333333333,
              "#9c179e"
             ],
             [
              0.4444444444444444,
              "#bd3786"
             ],
             [
              0.5555555555555556,
              "#d8576b"
             ],
             [
              0.6666666666666666,
              "#ed7953"
             ],
             [
              0.7777777777777778,
              "#fb9f3a"
             ],
             [
              0.8888888888888888,
              "#fdca26"
             ],
             [
              1,
              "#f0f921"
             ]
            ],
            "type": "histogram2d"
           }
          ],
          "histogram2dcontour": [
           {
            "colorbar": {
             "outlinewidth": 0,
             "ticks": ""
            },
            "colorscale": [
             [
              0,
              "#0d0887"
             ],
             [
              0.1111111111111111,
              "#46039f"
             ],
             [
              0.2222222222222222,
              "#7201a8"
             ],
             [
              0.3333333333333333,
              "#9c179e"
             ],
             [
              0.4444444444444444,
              "#bd3786"
             ],
             [
              0.5555555555555556,
              "#d8576b"
             ],
             [
              0.6666666666666666,
              "#ed7953"
             ],
             [
              0.7777777777777778,
              "#fb9f3a"
             ],
             [
              0.8888888888888888,
              "#fdca26"
             ],
             [
              1,
              "#f0f921"
             ]
            ],
            "type": "histogram2dcontour"
           }
          ],
          "mesh3d": [
           {
            "colorbar": {
             "outlinewidth": 0,
             "ticks": ""
            },
            "type": "mesh3d"
           }
          ],
          "parcoords": [
           {
            "line": {
             "colorbar": {
              "outlinewidth": 0,
              "ticks": ""
             }
            },
            "type": "parcoords"
           }
          ],
          "pie": [
           {
            "automargin": true,
            "type": "pie"
           }
          ],
          "scatter": [
           {
            "marker": {
             "colorbar": {
              "outlinewidth": 0,
              "ticks": ""
             }
            },
            "type": "scatter"
           }
          ],
          "scatter3d": [
           {
            "line": {
             "colorbar": {
              "outlinewidth": 0,
              "ticks": ""
             }
            },
            "marker": {
             "colorbar": {
              "outlinewidth": 0,
              "ticks": ""
             }
            },
            "type": "scatter3d"
           }
          ],
          "scattercarpet": [
           {
            "marker": {
             "colorbar": {
              "outlinewidth": 0,
              "ticks": ""
             }
            },
            "type": "scattercarpet"
           }
          ],
          "scattergeo": [
           {
            "marker": {
             "colorbar": {
              "outlinewidth": 0,
              "ticks": ""
             }
            },
            "type": "scattergeo"
           }
          ],
          "scattergl": [
           {
            "marker": {
             "colorbar": {
              "outlinewidth": 0,
              "ticks": ""
             }
            },
            "type": "scattergl"
           }
          ],
          "scattermapbox": [
           {
            "marker": {
             "colorbar": {
              "outlinewidth": 0,
              "ticks": ""
             }
            },
            "type": "scattermapbox"
           }
          ],
          "scatterpolar": [
           {
            "marker": {
             "colorbar": {
              "outlinewidth": 0,
              "ticks": ""
             }
            },
            "type": "scatterpolar"
           }
          ],
          "scatterpolargl": [
           {
            "marker": {
             "colorbar": {
              "outlinewidth": 0,
              "ticks": ""
             }
            },
            "type": "scatterpolargl"
           }
          ],
          "scatterternary": [
           {
            "marker": {
             "colorbar": {
              "outlinewidth": 0,
              "ticks": ""
             }
            },
            "type": "scatterternary"
           }
          ],
          "surface": [
           {
            "colorbar": {
             "outlinewidth": 0,
             "ticks": ""
            },
            "colorscale": [
             [
              0,
              "#0d0887"
             ],
             [
              0.1111111111111111,
              "#46039f"
             ],
             [
              0.2222222222222222,
              "#7201a8"
             ],
             [
              0.3333333333333333,
              "#9c179e"
             ],
             [
              0.4444444444444444,
              "#bd3786"
             ],
             [
              0.5555555555555556,
              "#d8576b"
             ],
             [
              0.6666666666666666,
              "#ed7953"
             ],
             [
              0.7777777777777778,
              "#fb9f3a"
             ],
             [
              0.8888888888888888,
              "#fdca26"
             ],
             [
              1,
              "#f0f921"
             ]
            ],
            "type": "surface"
           }
          ],
          "table": [
           {
            "cells": {
             "fill": {
              "color": "#EBF0F8"
             },
             "line": {
              "color": "white"
             }
            },
            "header": {
             "fill": {
              "color": "#C8D4E3"
             },
             "line": {
              "color": "white"
             }
            },
            "type": "table"
           }
          ]
         },
         "layout": {
          "annotationdefaults": {
           "arrowcolor": "#2a3f5f",
           "arrowhead": 0,
           "arrowwidth": 1
          },
          "autotypenumbers": "strict",
          "coloraxis": {
           "colorbar": {
            "outlinewidth": 0,
            "ticks": ""
           }
          },
          "colorscale": {
           "diverging": [
            [
             0,
             "#8e0152"
            ],
            [
             0.1,
             "#c51b7d"
            ],
            [
             0.2,
             "#de77ae"
            ],
            [
             0.3,
             "#f1b6da"
            ],
            [
             0.4,
             "#fde0ef"
            ],
            [
             0.5,
             "#f7f7f7"
            ],
            [
             0.6,
             "#e6f5d0"
            ],
            [
             0.7,
             "#b8e186"
            ],
            [
             0.8,
             "#7fbc41"
            ],
            [
             0.9,
             "#4d9221"
            ],
            [
             1,
             "#276419"
            ]
           ],
           "sequential": [
            [
             0,
             "#0d0887"
            ],
            [
             0.1111111111111111,
             "#46039f"
            ],
            [
             0.2222222222222222,
             "#7201a8"
            ],
            [
             0.3333333333333333,
             "#9c179e"
            ],
            [
             0.4444444444444444,
             "#bd3786"
            ],
            [
             0.5555555555555556,
             "#d8576b"
            ],
            [
             0.6666666666666666,
             "#ed7953"
            ],
            [
             0.7777777777777778,
             "#fb9f3a"
            ],
            [
             0.8888888888888888,
             "#fdca26"
            ],
            [
             1,
             "#f0f921"
            ]
           ],
           "sequentialminus": [
            [
             0,
             "#0d0887"
            ],
            [
             0.1111111111111111,
             "#46039f"
            ],
            [
             0.2222222222222222,
             "#7201a8"
            ],
            [
             0.3333333333333333,
             "#9c179e"
            ],
            [
             0.4444444444444444,
             "#bd3786"
            ],
            [
             0.5555555555555556,
             "#d8576b"
            ],
            [
             0.6666666666666666,
             "#ed7953"
            ],
            [
             0.7777777777777778,
             "#fb9f3a"
            ],
            [
             0.8888888888888888,
             "#fdca26"
            ],
            [
             1,
             "#f0f921"
            ]
           ]
          },
          "colorway": [
           "#636efa",
           "#EF553B",
           "#00cc96",
           "#ab63fa",
           "#FFA15A",
           "#19d3f3",
           "#FF6692",
           "#B6E880",
           "#FF97FF",
           "#FECB52"
          ],
          "font": {
           "color": "#2a3f5f"
          },
          "geo": {
           "bgcolor": "white",
           "lakecolor": "white",
           "landcolor": "#E5ECF6",
           "showlakes": true,
           "showland": true,
           "subunitcolor": "white"
          },
          "hoverlabel": {
           "align": "left"
          },
          "hovermode": "closest",
          "mapbox": {
           "style": "light"
          },
          "paper_bgcolor": "white",
          "plot_bgcolor": "#E5ECF6",
          "polar": {
           "angularaxis": {
            "gridcolor": "white",
            "linecolor": "white",
            "ticks": ""
           },
           "bgcolor": "#E5ECF6",
           "radialaxis": {
            "gridcolor": "white",
            "linecolor": "white",
            "ticks": ""
           }
          },
          "scene": {
           "xaxis": {
            "backgroundcolor": "#E5ECF6",
            "gridcolor": "white",
            "gridwidth": 2,
            "linecolor": "white",
            "showbackground": true,
            "ticks": "",
            "zerolinecolor": "white"
           },
           "yaxis": {
            "backgroundcolor": "#E5ECF6",
            "gridcolor": "white",
            "gridwidth": 2,
            "linecolor": "white",
            "showbackground": true,
            "ticks": "",
            "zerolinecolor": "white"
           },
           "zaxis": {
            "backgroundcolor": "#E5ECF6",
            "gridcolor": "white",
            "gridwidth": 2,
            "linecolor": "white",
            "showbackground": true,
            "ticks": "",
            "zerolinecolor": "white"
           }
          },
          "shapedefaults": {
           "line": {
            "color": "#2a3f5f"
           }
          },
          "ternary": {
           "aaxis": {
            "gridcolor": "white",
            "linecolor": "white",
            "ticks": ""
           },
           "baxis": {
            "gridcolor": "white",
            "linecolor": "white",
            "ticks": ""
           },
           "bgcolor": "#E5ECF6",
           "caxis": {
            "gridcolor": "white",
            "linecolor": "white",
            "ticks": ""
           }
          },
          "title": {
           "x": 0.05
          },
          "xaxis": {
           "automargin": true,
           "gridcolor": "white",
           "linecolor": "white",
           "ticks": "",
           "title": {
            "standoff": 15
           },
           "zerolinecolor": "white",
           "zerolinewidth": 2
          },
          "yaxis": {
           "automargin": true,
           "gridcolor": "white",
           "linecolor": "white",
           "ticks": "",
           "title": {
            "standoff": 15
           },
           "zerolinecolor": "white",
           "zerolinewidth": 2
          }
         }
        },
        "xaxis": {
         "anchor": "y",
         "domain": [
          0,
          1
         ],
         "title": {
          "text": "month"
         }
        },
        "yaxis": {
         "anchor": "x",
         "domain": [
          0,
          1
         ],
         "title": {
          "text": "sum of count"
         }
        }
       }
      },
      "text/html": [
       "<div>                            <div id=\"0b0fb3d5-eb98-412f-966c-1b0f0992da90\" class=\"plotly-graph-div\" style=\"height:525px; width:100%;\"></div>            <script type=\"text/javascript\">                require([\"plotly\"], function(Plotly) {                    window.PLOTLYENV=window.PLOTLYENV || {};                                    if (document.getElementById(\"0b0fb3d5-eb98-412f-966c-1b0f0992da90\")) {                    Plotly.newPlot(                        \"0b0fb3d5-eb98-412f-966c-1b0f0992da90\",                        [{\"alignmentgroup\": \"True\", \"bingroup\": \"x\", \"histfunc\": \"sum\", \"hovertemplate\": \"month=%{x}<br>sum of count=%{y}<extra></extra>\", \"legendgroup\": \"\", \"marker\": {\"color\": \"#636efa\"}, \"name\": \"\", \"offsetgroup\": \"\", \"orientation\": \"v\", \"showlegend\": false, \"type\": \"histogram\", \"x\": [\"January\", \"January\", \"January\", \"January\", \"January\", \"January\", \"January\", \"January\", \"January\", \"January\", \"January\", \"January\", \"January\", \"January\", \"January\", \"January\", \"January\", \"January\", \"January\", \"January\", \"January\", \"January\", \"January\", \"January\", \"January\", \"January\", \"January\", \"January\", \"January\", \"January\", \"January\", \"February\", \"February\", \"February\", \"February\", \"February\", \"February\", \"February\", \"February\", \"February\", \"February\", \"February\", \"February\", \"February\", \"February\", \"February\", \"February\", \"February\", \"February\", \"February\", \"February\", \"February\", \"February\", \"February\", \"February\", \"February\", \"February\", \"February\", \"February\", \"February\", \"March\", \"March\", \"March\", \"March\", \"March\", \"March\", \"March\", \"March\", \"March\", \"March\", \"March\", \"March\", \"March\", \"March\", \"March\", \"March\", \"March\", \"March\", \"March\", \"March\", \"March\", \"March\", \"March\", \"March\", \"March\", \"March\", \"March\", \"March\", \"March\", \"March\", \"March\", \"April\", \"April\", \"April\", \"April\", \"April\", \"April\", \"April\", \"April\", \"April\", \"April\", \"April\", \"April\", \"April\", \"April\", \"April\", \"April\", \"April\", \"April\", \"April\", \"April\", \"April\", \"April\", \"April\", \"April\", \"April\", \"April\", \"April\", \"April\", \"April\", \"April\", \"May\", \"May\", \"May\", \"May\", \"May\", \"May\", \"May\", \"May\", \"May\", \"May\", \"May\", \"May\", \"May\", \"May\", \"May\", \"May\", \"May\", \"May\", \"May\", \"May\", \"May\", \"May\", \"May\", \"May\", \"May\", \"May\", \"May\", \"May\", \"May\", \"May\", \"May\", \"June\", \"June\", \"June\", \"June\", \"June\", \"June\", \"June\", \"June\", \"June\", \"June\", \"June\", \"June\", \"June\", \"June\", \"June\", \"June\", \"June\", \"June\", \"June\", \"June\", \"June\", \"June\", \"June\", \"June\", \"June\", \"June\", \"June\", \"June\", \"June\", \"June\", \"July\", \"July\", \"July\", \"July\", \"July\", \"July\", \"July\", \"July\", \"July\", \"July\", \"July\", \"July\", \"July\", \"July\", \"July\", \"July\", \"July\", \"July\", \"July\", \"July\", \"July\", \"July\", \"July\", \"July\", \"July\", \"July\", \"July\", \"July\", \"July\", \"July\", \"July\", \"August\", \"August\", \"August\", \"August\", \"August\", \"August\", \"August\", \"August\", \"August\", \"August\", \"August\", \"August\", \"August\", \"August\", \"August\", \"August\", \"August\", \"August\", \"August\", \"August\", \"August\", \"August\", \"August\", \"August\", \"August\", \"August\", \"August\", \"August\", \"August\", \"August\", \"August\", \"September\", \"September\", \"September\", \"September\", \"September\", \"September\", \"September\", \"September\", \"September\", \"September\", \"September\", \"September\", \"September\", \"September\", \"September\", \"September\", \"September\", \"September\", \"September\", \"September\", \"September\", \"September\", \"September\", \"September\", \"September\", \"September\", \"September\", \"September\", \"September\", \"September\", \"October\", \"October\", \"October\", \"October\", \"October\", \"October\", \"October\", \"October\", \"October\", \"October\", \"October\", \"October\", \"October\", \"October\", \"October\", \"October\", \"October\", \"October\", \"October\", \"October\", \"October\", \"October\", \"October\", \"October\", \"October\", \"October\", \"October\", \"October\", \"October\", \"October\", \"October\", \"November\", \"November\", \"November\", \"November\", \"November\", \"November\", \"November\", \"November\", \"November\", \"November\", \"November\", \"November\", \"November\", \"November\", \"November\", \"November\", \"November\", \"November\", \"November\", \"November\", \"November\", \"November\", \"November\", \"November\", \"November\", \"November\", \"November\", \"November\", \"November\", \"November\", \"December\", \"December\", \"December\", \"December\", \"December\", \"December\", \"December\", \"December\", \"December\", \"December\", \"December\", \"December\", \"December\", \"December\", \"December\", \"December\", \"December\", \"December\", \"December\", \"December\", \"December\", \"December\", \"December\", \"December\", \"December\", \"December\", \"December\", \"December\", \"December\", \"December\", \"December\"], \"xaxis\": \"x\", \"y\": [2210, 7184, 7143, 5509, 4177, 6569, 7508, 6853, 7132, 7149, 3941, 3873, 7215, 7630, 7434, 7416, 6790, 3174, 2980, 5596, 6698, 6876, 6949, 6667, 4763, 4425, 7137, 7366, 6737, 7422, 7499, 6335, 4278, 6933, 7225, 7238, 4645, 5343, 4754, 3909, 6022, 6770, 6842, 5981, 6234, 5623, 4597, 3472, 6193, 7397, 6585, 6629, 5436, 4653, 6803, 6979, 5695, 4542, 6035, 4915, 4558, 7066, 7514, 8120, 7754, 7469, 6551, 4548, 7567, 7014, 7301, 7275, 6827, 5735, 4747, 6117, 5108, 4144, 3094, 2542, 879, 721, 1725, 1497, 1030, 656, 584, 583, 418, 572, 674, 720, 602, 584, 545, 550, 628, 652, 739, 681, 304, 481, 365, 373, 611, 689, 680, 508, 453, 449, 506, 604, 776, 765, 676, 588, 471, 654, 744, 817, 764, 743, 602, 994, 800, 694, 850, 594, 850, 544, 607, 660, 734, 847, 766, 625, 770, 626, 406, 845, 893, 891, 1186, 1157, 997, 1194, 1212, 1133, 888, 881, 749, 755, 977, 927, 958, 1069, 1041, 1120, 1091, 1081, 1329, 1279, 1021, 1397, 1313, 1340, 1479, 1301, 1497, 1577, 1447, 1543, 1268, 1194, 1139, 1405, 1270, 1415, 1185, 1515, 1306, 1393, 1727, 2047, 1727, 1886, 1616, 3459, 3830, 3406, 3490, 3515, 1877, 2049, 3962, 2854, 3897, 4604, 4173, 2792, 1716, 4269, 4430, 4385, 4603, 4181, 2772, 2283, 4088, 3892, 4166, 4520, 4476, 2564, 1720, 1547, 4666, 4786, 4393, 4399, 2463, 1920, 3838, 3949, 4011, 3788, 3842, 2771, 1911, 6342, 6621, 6803, 5685, 6130, 4022, 3485, 6325, 6405, 6272, 6002, 5971, 3743, 3204, 5707, 6629, 5657, 6043, 6379, 3692, 3965, 1923, 6812, 6604, 6416, 6084, 4156, 3427, 6216, 6539, 7364, 6680, 6128, 3905, 3637, 6067, 6101, 6580, 6076, 6636, 4952, 4184, 6483, 6796, 6642, 7099, 6230, 4717, 3877, 5568, 5741, 5665, 5661, 6352, 4892, 4201, 1888, 6004, 6027, 5445, 6743, 4757, 3973, 5740, 6050, 5712, 5960, 5714, 4731, 3792, 5562, 5575, 5802, 6004, 6116, 4410, 3712, 5683, 6557, 6593, 6155, 6042, 4594, 4207, 5691, 6018, 5773, 5392, 5749, 4519, 3759, 6057, 5696, 5213, 5703, 5505, 4500, 2838, 4135, 4433, 4461, 4370, 4489, 3761, 3283, 4407, 3758, 4278, 4780, 5038, 4159, 3340, 4753, 6180, 5366, 5778, 5348, 4167, 3432, 4918, 4681, 4542, 4539, 4944, 4113, 3161, 4628, 4513, 2749, 1183, 344, 465, 676, 1157, 1757, 1602, 1437], \"yaxis\": \"y\"}],                        {\"barmode\": \"relative\", \"legend\": {\"tracegroupgap\": 0}, \"margin\": {\"t\": 60}, \"template\": {\"data\": {\"bar\": [{\"error_x\": {\"color\": \"#2a3f5f\"}, \"error_y\": {\"color\": \"#2a3f5f\"}, \"marker\": {\"line\": {\"color\": \"#E5ECF6\", \"width\": 0.5}}, \"type\": \"bar\"}], \"barpolar\": [{\"marker\": {\"line\": {\"color\": \"#E5ECF6\", \"width\": 0.5}}, \"type\": \"barpolar\"}], \"carpet\": [{\"aaxis\": {\"endlinecolor\": \"#2a3f5f\", \"gridcolor\": \"white\", \"linecolor\": \"white\", \"minorgridcolor\": \"white\", \"startlinecolor\": \"#2a3f5f\"}, \"baxis\": {\"endlinecolor\": \"#2a3f5f\", \"gridcolor\": \"white\", \"linecolor\": \"white\", \"minorgridcolor\": \"white\", \"startlinecolor\": \"#2a3f5f\"}, \"type\": \"carpet\"}], \"choropleth\": [{\"colorbar\": {\"outlinewidth\": 0, \"ticks\": \"\"}, \"type\": \"choropleth\"}], \"contour\": [{\"colorbar\": {\"outlinewidth\": 0, \"ticks\": \"\"}, \"colorscale\": [[0.0, \"#0d0887\"], [0.1111111111111111, \"#46039f\"], [0.2222222222222222, \"#7201a8\"], [0.3333333333333333, \"#9c179e\"], [0.4444444444444444, \"#bd3786\"], [0.5555555555555556, \"#d8576b\"], [0.6666666666666666, \"#ed7953\"], [0.7777777777777778, \"#fb9f3a\"], [0.8888888888888888, \"#fdca26\"], [1.0, \"#f0f921\"]], \"type\": \"contour\"}], \"contourcarpet\": [{\"colorbar\": {\"outlinewidth\": 0, \"ticks\": \"\"}, \"type\": \"contourcarpet\"}], \"heatmap\": [{\"colorbar\": {\"outlinewidth\": 0, \"ticks\": \"\"}, \"colorscale\": [[0.0, \"#0d0887\"], [0.1111111111111111, \"#46039f\"], [0.2222222222222222, \"#7201a8\"], [0.3333333333333333, \"#9c179e\"], [0.4444444444444444, \"#bd3786\"], [0.5555555555555556, \"#d8576b\"], [0.6666666666666666, \"#ed7953\"], [0.7777777777777778, \"#fb9f3a\"], [0.8888888888888888, \"#fdca26\"], [1.0, \"#f0f921\"]], \"type\": \"heatmap\"}], \"heatmapgl\": [{\"colorbar\": {\"outlinewidth\": 0, \"ticks\": \"\"}, \"colorscale\": [[0.0, \"#0d0887\"], [0.1111111111111111, \"#46039f\"], [0.2222222222222222, \"#7201a8\"], [0.3333333333333333, \"#9c179e\"], [0.4444444444444444, \"#bd3786\"], [0.5555555555555556, \"#d8576b\"], [0.6666666666666666, \"#ed7953\"], [0.7777777777777778, \"#fb9f3a\"], [0.8888888888888888, \"#fdca26\"], [1.0, \"#f0f921\"]], \"type\": \"heatmapgl\"}], \"histogram\": [{\"marker\": {\"colorbar\": {\"outlinewidth\": 0, \"ticks\": \"\"}}, \"type\": \"histogram\"}], \"histogram2d\": [{\"colorbar\": {\"outlinewidth\": 0, \"ticks\": \"\"}, \"colorscale\": [[0.0, \"#0d0887\"], [0.1111111111111111, \"#46039f\"], [0.2222222222222222, \"#7201a8\"], [0.3333333333333333, \"#9c179e\"], [0.4444444444444444, \"#bd3786\"], [0.5555555555555556, \"#d8576b\"], [0.6666666666666666, \"#ed7953\"], [0.7777777777777778, \"#fb9f3a\"], [0.8888888888888888, \"#fdca26\"], [1.0, \"#f0f921\"]], \"type\": \"histogram2d\"}], \"histogram2dcontour\": [{\"colorbar\": {\"outlinewidth\": 0, \"ticks\": \"\"}, \"colorscale\": [[0.0, \"#0d0887\"], [0.1111111111111111, \"#46039f\"], [0.2222222222222222, \"#7201a8\"], [0.3333333333333333, \"#9c179e\"], [0.4444444444444444, \"#bd3786\"], [0.5555555555555556, \"#d8576b\"], [0.6666666666666666, \"#ed7953\"], [0.7777777777777778, \"#fb9f3a\"], [0.8888888888888888, \"#fdca26\"], [1.0, \"#f0f921\"]], \"type\": \"histogram2dcontour\"}], \"mesh3d\": [{\"colorbar\": {\"outlinewidth\": 0, \"ticks\": \"\"}, \"type\": \"mesh3d\"}], \"parcoords\": [{\"line\": {\"colorbar\": {\"outlinewidth\": 0, \"ticks\": \"\"}}, \"type\": \"parcoords\"}], \"pie\": [{\"automargin\": true, \"type\": \"pie\"}], \"scatter\": [{\"marker\": {\"colorbar\": {\"outlinewidth\": 0, \"ticks\": \"\"}}, \"type\": \"scatter\"}], \"scatter3d\": [{\"line\": {\"colorbar\": {\"outlinewidth\": 0, \"ticks\": \"\"}}, \"marker\": {\"colorbar\": {\"outlinewidth\": 0, \"ticks\": \"\"}}, \"type\": \"scatter3d\"}], \"scattercarpet\": [{\"marker\": {\"colorbar\": {\"outlinewidth\": 0, \"ticks\": \"\"}}, \"type\": \"scattercarpet\"}], \"scattergeo\": [{\"marker\": {\"colorbar\": {\"outlinewidth\": 0, \"ticks\": \"\"}}, \"type\": \"scattergeo\"}], \"scattergl\": [{\"marker\": {\"colorbar\": {\"outlinewidth\": 0, \"ticks\": \"\"}}, \"type\": \"scattergl\"}], \"scattermapbox\": [{\"marker\": {\"colorbar\": {\"outlinewidth\": 0, \"ticks\": \"\"}}, \"type\": \"scattermapbox\"}], \"scatterpolar\": [{\"marker\": {\"colorbar\": {\"outlinewidth\": 0, \"ticks\": \"\"}}, \"type\": \"scatterpolar\"}], \"scatterpolargl\": [{\"marker\": {\"colorbar\": {\"outlinewidth\": 0, \"ticks\": \"\"}}, \"type\": \"scatterpolargl\"}], \"scatterternary\": [{\"marker\": {\"colorbar\": {\"outlinewidth\": 0, \"ticks\": \"\"}}, \"type\": \"scatterternary\"}], \"surface\": [{\"colorbar\": {\"outlinewidth\": 0, \"ticks\": \"\"}, \"colorscale\": [[0.0, \"#0d0887\"], [0.1111111111111111, \"#46039f\"], [0.2222222222222222, \"#7201a8\"], [0.3333333333333333, \"#9c179e\"], [0.4444444444444444, \"#bd3786\"], [0.5555555555555556, \"#d8576b\"], [0.6666666666666666, \"#ed7953\"], [0.7777777777777778, \"#fb9f3a\"], [0.8888888888888888, \"#fdca26\"], [1.0, \"#f0f921\"]], \"type\": \"surface\"}], \"table\": [{\"cells\": {\"fill\": {\"color\": \"#EBF0F8\"}, \"line\": {\"color\": \"white\"}}, \"header\": {\"fill\": {\"color\": \"#C8D4E3\"}, \"line\": {\"color\": \"white\"}}, \"type\": \"table\"}]}, \"layout\": {\"annotationdefaults\": {\"arrowcolor\": \"#2a3f5f\", \"arrowhead\": 0, \"arrowwidth\": 1}, \"autotypenumbers\": \"strict\", \"coloraxis\": {\"colorbar\": {\"outlinewidth\": 0, \"ticks\": \"\"}}, \"colorscale\": {\"diverging\": [[0, \"#8e0152\"], [0.1, \"#c51b7d\"], [0.2, \"#de77ae\"], [0.3, \"#f1b6da\"], [0.4, \"#fde0ef\"], [0.5, \"#f7f7f7\"], [0.6, \"#e6f5d0\"], [0.7, \"#b8e186\"], [0.8, \"#7fbc41\"], [0.9, \"#4d9221\"], [1, \"#276419\"]], \"sequential\": [[0.0, \"#0d0887\"], [0.1111111111111111, \"#46039f\"], [0.2222222222222222, \"#7201a8\"], [0.3333333333333333, \"#9c179e\"], [0.4444444444444444, \"#bd3786\"], [0.5555555555555556, \"#d8576b\"], [0.6666666666666666, \"#ed7953\"], [0.7777777777777778, \"#fb9f3a\"], [0.8888888888888888, \"#fdca26\"], [1.0, \"#f0f921\"]], \"sequentialminus\": [[0.0, \"#0d0887\"], [0.1111111111111111, \"#46039f\"], [0.2222222222222222, \"#7201a8\"], [0.3333333333333333, \"#9c179e\"], [0.4444444444444444, \"#bd3786\"], [0.5555555555555556, \"#d8576b\"], [0.6666666666666666, \"#ed7953\"], [0.7777777777777778, \"#fb9f3a\"], [0.8888888888888888, \"#fdca26\"], [1.0, \"#f0f921\"]]}, \"colorway\": [\"#636efa\", \"#EF553B\", \"#00cc96\", \"#ab63fa\", \"#FFA15A\", \"#19d3f3\", \"#FF6692\", \"#B6E880\", \"#FF97FF\", \"#FECB52\"], \"font\": {\"color\": \"#2a3f5f\"}, \"geo\": {\"bgcolor\": \"white\", \"lakecolor\": \"white\", \"landcolor\": \"#E5ECF6\", \"showlakes\": true, \"showland\": true, \"subunitcolor\": \"white\"}, \"hoverlabel\": {\"align\": \"left\"}, \"hovermode\": \"closest\", \"mapbox\": {\"style\": \"light\"}, \"paper_bgcolor\": \"white\", \"plot_bgcolor\": \"#E5ECF6\", \"polar\": {\"angularaxis\": {\"gridcolor\": \"white\", \"linecolor\": \"white\", \"ticks\": \"\"}, \"bgcolor\": \"#E5ECF6\", \"radialaxis\": {\"gridcolor\": \"white\", \"linecolor\": \"white\", \"ticks\": \"\"}}, \"scene\": {\"xaxis\": {\"backgroundcolor\": \"#E5ECF6\", \"gridcolor\": \"white\", \"gridwidth\": 2, \"linecolor\": \"white\", \"showbackground\": true, \"ticks\": \"\", \"zerolinecolor\": \"white\"}, \"yaxis\": {\"backgroundcolor\": \"#E5ECF6\", \"gridcolor\": \"white\", \"gridwidth\": 2, \"linecolor\": \"white\", \"showbackground\": true, \"ticks\": \"\", \"zerolinecolor\": \"white\"}, \"zaxis\": {\"backgroundcolor\": \"#E5ECF6\", \"gridcolor\": \"white\", \"gridwidth\": 2, \"linecolor\": \"white\", \"showbackground\": true, \"ticks\": \"\", \"zerolinecolor\": \"white\"}}, \"shapedefaults\": {\"line\": {\"color\": \"#2a3f5f\"}}, \"ternary\": {\"aaxis\": {\"gridcolor\": \"white\", \"linecolor\": \"white\", \"ticks\": \"\"}, \"baxis\": {\"gridcolor\": \"white\", \"linecolor\": \"white\", \"ticks\": \"\"}, \"bgcolor\": \"#E5ECF6\", \"caxis\": {\"gridcolor\": \"white\", \"linecolor\": \"white\", \"ticks\": \"\"}}, \"title\": {\"x\": 0.05}, \"xaxis\": {\"automargin\": true, \"gridcolor\": \"white\", \"linecolor\": \"white\", \"ticks\": \"\", \"title\": {\"standoff\": 15}, \"zerolinecolor\": \"white\", \"zerolinewidth\": 2}, \"yaxis\": {\"automargin\": true, \"gridcolor\": \"white\", \"linecolor\": \"white\", \"ticks\": \"\", \"title\": {\"standoff\": 15}, \"zerolinecolor\": \"white\", \"zerolinewidth\": 2}}}, \"xaxis\": {\"anchor\": \"y\", \"domain\": [0.0, 1.0], \"title\": {\"text\": \"month\"}}, \"yaxis\": {\"anchor\": \"x\", \"domain\": [0.0, 1.0], \"title\": {\"text\": \"sum of count\"}}},                        {\"responsive\": true}                    ).then(function(){\n",
       "                            \n",
       "var gd = document.getElementById('0b0fb3d5-eb98-412f-966c-1b0f0992da90');\n",
       "var x = new MutationObserver(function (mutations, observer) {{\n",
       "        var display = window.getComputedStyle(gd).display;\n",
       "        if (!display || display === 'none') {{\n",
       "            console.log([gd, 'removed!']);\n",
       "            Plotly.purge(gd);\n",
       "            observer.disconnect();\n",
       "        }}\n",
       "}});\n",
       "\n",
       "// Listen for the removal of the full notebook cells\n",
       "var notebookContainer = gd.closest('#notebook-container');\n",
       "if (notebookContainer) {{\n",
       "    x.observe(notebookContainer, {childList: true});\n",
       "}}\n",
       "\n",
       "// Listen for the clearing of the current output cell\n",
       "var outputEl = gd.closest('.output');\n",
       "if (outputEl) {{\n",
       "    x.observe(outputEl, {childList: true});\n",
       "}}\n",
       "\n",
       "                        })                };                });            </script>        </div>"
      ]
     },
     "metadata": {},
     "output_type": "display_data"
    }
   ],
   "source": [
    "fig = px.histogram(time_df, x='month', y='count')\n",
    "fig.show()"
   ]
  },
  {
   "cell_type": "code",
   "execution_count": 203,
   "metadata": {
    "ExecuteTime": {
     "end_time": "2021-04-19T17:11:15.419332Z",
     "start_time": "2021-04-19T17:11:15.393403Z"
    }
   },
   "outputs": [
    {
     "data": {
      "text/html": [
       "<div>\n",
       "<style scoped>\n",
       "    .dataframe tbody tr th:only-of-type {\n",
       "        vertical-align: middle;\n",
       "    }\n",
       "\n",
       "    .dataframe tbody tr th {\n",
       "        vertical-align: top;\n",
       "    }\n",
       "\n",
       "    .dataframe thead th {\n",
       "        text-align: right;\n",
       "    }\n",
       "</style>\n",
       "<table border=\"1\" class=\"dataframe\">\n",
       "  <thead>\n",
       "    <tr style=\"text-align: right;\">\n",
       "      <th></th>\n",
       "      <th>month</th>\n",
       "      <th>infractions</th>\n",
       "    </tr>\n",
       "  </thead>\n",
       "  <tbody>\n",
       "    <tr>\n",
       "      <th>0</th>\n",
       "      <td>April</td>\n",
       "      <td>17979</td>\n",
       "    </tr>\n",
       "    <tr>\n",
       "      <th>1</th>\n",
       "      <td>August</td>\n",
       "      <td>135285</td>\n",
       "    </tr>\n",
       "    <tr>\n",
       "      <th>2</th>\n",
       "      <td>December</td>\n",
       "      <td>111786</td>\n",
       "    </tr>\n",
       "    <tr>\n",
       "      <th>3</th>\n",
       "      <td>February</td>\n",
       "      <td>168063</td>\n",
       "    </tr>\n",
       "    <tr>\n",
       "      <th>4</th>\n",
       "      <td>January</td>\n",
       "      <td>190022</td>\n",
       "    </tr>\n",
       "    <tr>\n",
       "      <th>5</th>\n",
       "      <td>July</td>\n",
       "      <td>102692</td>\n",
       "    </tr>\n",
       "    <tr>\n",
       "      <th>6</th>\n",
       "      <td>June</td>\n",
       "      <td>37877</td>\n",
       "    </tr>\n",
       "    <tr>\n",
       "      <th>7</th>\n",
       "      <td>March</td>\n",
       "      <td>130390</td>\n",
       "    </tr>\n",
       "    <tr>\n",
       "      <th>8</th>\n",
       "      <td>May</td>\n",
       "      <td>25493</td>\n",
       "    </tr>\n",
       "    <tr>\n",
       "      <th>9</th>\n",
       "      <td>November</td>\n",
       "      <td>149295</td>\n",
       "    </tr>\n",
       "    <tr>\n",
       "      <th>10</th>\n",
       "      <td>October</td>\n",
       "      <td>166008</td>\n",
       "    </tr>\n",
       "    <tr>\n",
       "      <th>11</th>\n",
       "      <td>September</td>\n",
       "      <td>168773</td>\n",
       "    </tr>\n",
       "  </tbody>\n",
       "</table>\n",
       "</div>"
      ],
      "text/plain": [
       "        month  infractions\n",
       "0       April        17979\n",
       "1      August       135285\n",
       "2    December       111786\n",
       "3    February       168063\n",
       "4     January       190022\n",
       "5        July       102692\n",
       "6        June        37877\n",
       "7       March       130390\n",
       "8         May        25493\n",
       "9    November       149295\n",
       "10    October       166008\n",
       "11  September       168773"
      ]
     },
     "execution_count": 203,
     "metadata": {},
     "output_type": "execute_result"
    }
   ],
   "source": [
    "month_table = pd.DataFrame({'infractions': time_df.groupby(['month'])['count'].sum()}).reset_index()\n",
    "month_table"
   ]
  },
  {
   "cell_type": "markdown",
   "metadata": {},
   "source": [
    "## 3.3.1. b: Distribution of top 20 infractions by fines"
   ]
  },
  {
   "cell_type": "code",
   "execution_count": 206,
   "metadata": {
    "ExecuteTime": {
     "end_time": "2021-04-19T17:13:20.278432Z",
     "start_time": "2021-04-19T17:13:20.249516Z"
    }
   },
   "outputs": [
    {
     "data": {
      "text/html": [
       "<div>\n",
       "<style scoped>\n",
       "    .dataframe tbody tr th:only-of-type {\n",
       "        vertical-align: middle;\n",
       "    }\n",
       "\n",
       "    .dataframe tbody tr th {\n",
       "        vertical-align: top;\n",
       "    }\n",
       "\n",
       "    .dataframe thead th {\n",
       "        text-align: right;\n",
       "    }\n",
       "</style>\n",
       "<table border=\"1\" class=\"dataframe\">\n",
       "  <thead>\n",
       "    <tr style=\"text-align: right;\">\n",
       "      <th></th>\n",
       "      <th>location2</th>\n",
       "      <th>ticket_count</th>\n",
       "      <th>latitude</th>\n",
       "      <th>longitude</th>\n",
       "      <th>geometry</th>\n",
       "    </tr>\n",
       "  </thead>\n",
       "  <tbody>\n",
       "    <tr>\n",
       "      <th>0</th>\n",
       "      <td>4001 LESLIE ST</td>\n",
       "      <td>5340</td>\n",
       "      <td>43.769228</td>\n",
       "      <td>-79.362558</td>\n",
       "      <td>POINT (-79.36256 43.76923)</td>\n",
       "    </tr>\n",
       "    <tr>\n",
       "      <th>1</th>\n",
       "      <td>1 BRIMLEY RD S</td>\n",
       "      <td>3874</td>\n",
       "      <td>43.705962</td>\n",
       "      <td>-79.235491</td>\n",
       "      <td>POINT (-79.23549 43.70596)</td>\n",
       "    </tr>\n",
       "    <tr>\n",
       "      <th>2</th>\n",
       "      <td>19 GRAND TRUNK CRES</td>\n",
       "      <td>3706</td>\n",
       "      <td>43.641681</td>\n",
       "      <td>-79.383041</td>\n",
       "      <td>POINT (-79.38304 43.64168)</td>\n",
       "    </tr>\n",
       "    <tr>\n",
       "      <th>3</th>\n",
       "      <td>15 MARINE PARADE DR</td>\n",
       "      <td>3183</td>\n",
       "      <td>43.629106</td>\n",
       "      <td>-79.475411</td>\n",
       "      <td>POINT (-79.47541 43.62911)</td>\n",
       "    </tr>\n",
       "    <tr>\n",
       "      <th>4</th>\n",
       "      <td>4700 KEELE ST</td>\n",
       "      <td>3149</td>\n",
       "      <td>43.773216</td>\n",
       "      <td>-79.493803</td>\n",
       "      <td>POINT (-79.49380 43.77322)</td>\n",
       "    </tr>\n",
       "    <tr>\n",
       "      <th>5</th>\n",
       "      <td>2075 BAYVIEW AVE</td>\n",
       "      <td>3104</td>\n",
       "      <td>43.722859</td>\n",
       "      <td>-79.375661</td>\n",
       "      <td>POINT (-79.37566 43.72286)</td>\n",
       "    </tr>\n",
       "    <tr>\n",
       "      <th>6</th>\n",
       "      <td>30 GRAND TRUNK CRES</td>\n",
       "      <td>2841</td>\n",
       "      <td>43.642161</td>\n",
       "      <td>-79.382900</td>\n",
       "      <td>POINT (-79.38290 43.64216)</td>\n",
       "    </tr>\n",
       "    <tr>\n",
       "      <th>7</th>\n",
       "      <td>2183 LAKE SHORE BLVD W</td>\n",
       "      <td>2742</td>\n",
       "      <td>43.623312</td>\n",
       "      <td>-79.479790</td>\n",
       "      <td>POINT (-79.47979 43.62331)</td>\n",
       "    </tr>\n",
       "    <tr>\n",
       "      <th>8</th>\n",
       "      <td>75 QUEENS WHARF RD</td>\n",
       "      <td>1998</td>\n",
       "      <td>43.638498</td>\n",
       "      <td>-79.397993</td>\n",
       "      <td>POINT (-79.39799 43.63850)</td>\n",
       "    </tr>\n",
       "    <tr>\n",
       "      <th>9</th>\n",
       "      <td>5 VALHALLA INN RD</td>\n",
       "      <td>1923</td>\n",
       "      <td>43.641171</td>\n",
       "      <td>-79.560159</td>\n",
       "      <td>POINT (-79.56016 43.64117)</td>\n",
       "    </tr>\n",
       "    <tr>\n",
       "      <th>10</th>\n",
       "      <td>576 FRONT ST W</td>\n",
       "      <td>1885</td>\n",
       "      <td>43.640916</td>\n",
       "      <td>-79.401110</td>\n",
       "      <td>POINT (-79.40111 43.64092)</td>\n",
       "    </tr>\n",
       "    <tr>\n",
       "      <th>11</th>\n",
       "      <td>1750 FINCH AVE E</td>\n",
       "      <td>1880</td>\n",
       "      <td>43.793791</td>\n",
       "      <td>-79.350308</td>\n",
       "      <td>POINT (-79.35031 43.79379)</td>\n",
       "    </tr>\n",
       "    <tr>\n",
       "      <th>12</th>\n",
       "      <td>17 ZORRA ST</td>\n",
       "      <td>1711</td>\n",
       "      <td>43.621142</td>\n",
       "      <td>-79.521908</td>\n",
       "      <td>POINT (-79.52191 43.62114)</td>\n",
       "    </tr>\n",
       "    <tr>\n",
       "      <th>13</th>\n",
       "      <td>9 BOGERT AVE</td>\n",
       "      <td>1669</td>\n",
       "      <td>43.760284</td>\n",
       "      <td>-79.411210</td>\n",
       "      <td>POINT (-79.41121 43.76028)</td>\n",
       "    </tr>\n",
       "    <tr>\n",
       "      <th>14</th>\n",
       "      <td>209 FORT YORK BLVD</td>\n",
       "      <td>1640</td>\n",
       "      <td>43.637063</td>\n",
       "      <td>-79.404529</td>\n",
       "      <td>POINT (-79.40453 43.63706)</td>\n",
       "    </tr>\n",
       "    <tr>\n",
       "      <th>15</th>\n",
       "      <td>710 HUMBERWOOD BLVD</td>\n",
       "      <td>1604</td>\n",
       "      <td>43.724727</td>\n",
       "      <td>-79.616777</td>\n",
       "      <td>POINT (-79.61678 43.72473)</td>\n",
       "    </tr>\n",
       "    <tr>\n",
       "      <th>16</th>\n",
       "      <td>162 CUMBERLAND ST</td>\n",
       "      <td>1592</td>\n",
       "      <td>43.669957</td>\n",
       "      <td>-79.393594</td>\n",
       "      <td>POINT (-79.39359 43.66996)</td>\n",
       "    </tr>\n",
       "    <tr>\n",
       "      <th>17</th>\n",
       "      <td>JAMES ST</td>\n",
       "      <td>1549</td>\n",
       "      <td>43.653344</td>\n",
       "      <td>-79.381195</td>\n",
       "      <td>POINT (-79.38120 43.65334)</td>\n",
       "    </tr>\n",
       "    <tr>\n",
       "      <th>18</th>\n",
       "      <td>75 EAST LIBERTY ST</td>\n",
       "      <td>1538</td>\n",
       "      <td>43.637993</td>\n",
       "      <td>-79.414769</td>\n",
       "      <td>POINT (-79.41477 43.63799)</td>\n",
       "    </tr>\n",
       "    <tr>\n",
       "      <th>19</th>\n",
       "      <td>1 CHERRY ST</td>\n",
       "      <td>1533</td>\n",
       "      <td>43.640840</td>\n",
       "      <td>-79.348568</td>\n",
       "      <td>POINT (-79.34857 43.64084)</td>\n",
       "    </tr>\n",
       "  </tbody>\n",
       "</table>\n",
       "</div>"
      ],
      "text/plain": [
       "                 location2  ticket_count   latitude  longitude  \\\n",
       "0           4001 LESLIE ST          5340  43.769228 -79.362558   \n",
       "1           1 BRIMLEY RD S          3874  43.705962 -79.235491   \n",
       "2      19 GRAND TRUNK CRES          3706  43.641681 -79.383041   \n",
       "3      15 MARINE PARADE DR          3183  43.629106 -79.475411   \n",
       "4            4700 KEELE ST          3149  43.773216 -79.493803   \n",
       "5         2075 BAYVIEW AVE          3104  43.722859 -79.375661   \n",
       "6      30 GRAND TRUNK CRES          2841  43.642161 -79.382900   \n",
       "7   2183 LAKE SHORE BLVD W          2742  43.623312 -79.479790   \n",
       "8       75 QUEENS WHARF RD          1998  43.638498 -79.397993   \n",
       "9        5 VALHALLA INN RD          1923  43.641171 -79.560159   \n",
       "10          576 FRONT ST W          1885  43.640916 -79.401110   \n",
       "11        1750 FINCH AVE E          1880  43.793791 -79.350308   \n",
       "12             17 ZORRA ST          1711  43.621142 -79.521908   \n",
       "13            9 BOGERT AVE          1669  43.760284 -79.411210   \n",
       "14      209 FORT YORK BLVD          1640  43.637063 -79.404529   \n",
       "15     710 HUMBERWOOD BLVD          1604  43.724727 -79.616777   \n",
       "16       162 CUMBERLAND ST          1592  43.669957 -79.393594   \n",
       "17                JAMES ST          1549  43.653344 -79.381195   \n",
       "18      75 EAST LIBERTY ST          1538  43.637993 -79.414769   \n",
       "19             1 CHERRY ST          1533  43.640840 -79.348568   \n",
       "\n",
       "                      geometry  \n",
       "0   POINT (-79.36256 43.76923)  \n",
       "1   POINT (-79.23549 43.70596)  \n",
       "2   POINT (-79.38304 43.64168)  \n",
       "3   POINT (-79.47541 43.62911)  \n",
       "4   POINT (-79.49380 43.77322)  \n",
       "5   POINT (-79.37566 43.72286)  \n",
       "6   POINT (-79.38290 43.64216)  \n",
       "7   POINT (-79.47979 43.62331)  \n",
       "8   POINT (-79.39799 43.63850)  \n",
       "9   POINT (-79.56016 43.64117)  \n",
       "10  POINT (-79.40111 43.64092)  \n",
       "11  POINT (-79.35031 43.79379)  \n",
       "12  POINT (-79.52191 43.62114)  \n",
       "13  POINT (-79.41121 43.76028)  \n",
       "14  POINT (-79.40453 43.63706)  \n",
       "15  POINT (-79.61678 43.72473)  \n",
       "16  POINT (-79.39359 43.66996)  \n",
       "17  POINT (-79.38120 43.65334)  \n",
       "18  POINT (-79.41477 43.63799)  \n",
       "19  POINT (-79.34857 43.64084)  "
      ]
     },
     "execution_count": 206,
     "metadata": {},
     "output_type": "execute_result"
    }
   ],
   "source": [
    "toploc_gdf"
   ]
  },
  {
   "cell_type": "code",
   "execution_count": 211,
   "metadata": {
    "ExecuteTime": {
     "end_time": "2021-04-19T17:15:09.476409Z",
     "start_time": "2021-04-19T17:15:09.202455Z"
    }
   },
   "outputs": [
    {
     "data": {
      "image/png": "[encoded data removed]",
      "text/plain": [
       "<Figure size 864x576 with 2 Axes>"
      ]
     },
     "metadata": {
      "needs_background": "light"
     },
     "output_type": "display_data"
    }
   ],
   "source": [
    "toploc_gdf.plot(column='ticket_count', legend=True, cmap='winter', figsize=(12,8))\n",
    "plt.show()"
   ]
  },
  {
   "cell_type": "markdown",
   "metadata": {},
   "source": [
    "### 3.3.2. a: Geographic distribution (location) of top 20 infractions (count)"
   ]
  },
  {
   "cell_type": "markdown",
   "metadata": {},
   "source": [
    "#### uploading city wards data:"
   ]
  },
  {
   "cell_type": "code",
   "execution_count": 212,
   "metadata": {
    "ExecuteTime": {
     "end_time": "2021-04-19T17:15:17.965066Z",
     "start_time": "2021-04-19T17:15:17.776570Z"
    }
   },
   "outputs": [
    {
     "data": {
      "text/html": [
       "<div>\n",
       "<style scoped>\n",
       "    .dataframe tbody tr th:only-of-type {\n",
       "        vertical-align: middle;\n",
       "    }\n",
       "\n",
       "    .dataframe tbody tr th {\n",
       "        vertical-align: top;\n",
       "    }\n",
       "\n",
       "    .dataframe thead th {\n",
       "        text-align: right;\n",
       "    }\n",
       "</style>\n",
       "<table border=\"1\" class=\"dataframe\">\n",
       "  <thead>\n",
       "    <tr style=\"text-align: right;\">\n",
       "      <th></th>\n",
       "      <th>_id</th>\n",
       "      <th>AREA_SHORT_CODE</th>\n",
       "      <th>AREA_NAME</th>\n",
       "      <th>geometry</th>\n",
       "    </tr>\n",
       "  </thead>\n",
       "  <tbody>\n",
       "    <tr>\n",
       "      <th>0</th>\n",
       "      <td>2226</td>\n",
       "      <td>7</td>\n",
       "      <td>Humber River-Black Creek</td>\n",
       "      <td>POLYGON ((-79.49105 43.76350, -79.49008 43.759...</td>\n",
       "    </tr>\n",
       "    <tr>\n",
       "      <th>1</th>\n",
       "      <td>2227</td>\n",
       "      <td>6</td>\n",
       "      <td>York Centre</td>\n",
       "      <td>POLYGON ((-79.44043 43.76340, -79.43998 43.761...</td>\n",
       "    </tr>\n",
       "    <tr>\n",
       "      <th>2</th>\n",
       "      <td>2228</td>\n",
       "      <td>18</td>\n",
       "      <td>Willowdale</td>\n",
       "      <td>POLYGON ((-79.39449 43.76157, -79.39461 43.761...</td>\n",
       "    </tr>\n",
       "  </tbody>\n",
       "</table>\n",
       "</div>"
      ],
      "text/plain": [
       "    _id  AREA_SHORT_CODE                 AREA_NAME  \\\n",
       "0  2226                7  Humber River-Black Creek   \n",
       "1  2227                6               York Centre   \n",
       "2  2228               18                Willowdale   \n",
       "\n",
       "                                            geometry  \n",
       "0  POLYGON ((-79.49105 43.76350, -79.49008 43.759...  \n",
       "1  POLYGON ((-79.44043 43.76340, -79.43998 43.761...  \n",
       "2  POLYGON ((-79.39449 43.76157, -79.39461 43.761...  "
      ]
     },
     "execution_count": 212,
     "metadata": {},
     "output_type": "execute_result"
    }
   ],
   "source": [
    "wards_gdf = gpd.read_file(\"zip:///Users\\Owner\\Desktop\\mapping\\City Toronto\\data\\City Wards Data.zip\")\n",
    "\n",
    "zf = zipfile.ZipFile('data/City Wards Data.zip')\n",
    "colnames_df = pd.read_csv(zf.open('City Wards Data_fields.csv'))\n",
    "\n",
    "wards_gdf.columns = np.array(colnames_df['name'])\n",
    "\n",
    "# removing all null columns\n",
    "#wards_gdf.drop(wards_gdf.columns[[6,8,9,14,15,18,19,20,21]],axis=1, inplace=True)\n",
    "\n",
    "# keeping only useful columns\n",
    "wards_gdf = wards_gdf[['_id','AREA_SHORT_CODE','AREA_NAME','geometry']]\n",
    "\n",
    "wards_gdf.head(3)"
   ]
  },
  {
   "cell_type": "code",
   "execution_count": 213,
   "metadata": {
    "ExecuteTime": {
     "end_time": "2021-04-19T17:15:19.908588Z",
     "start_time": "2021-04-19T17:15:19.653245Z"
    }
   },
   "outputs": [
    {
     "data": {
      "image/png": "[encoded data removed]",
      "text/plain": [
       "<Figure size 1080x576 with 2 Axes>"
      ]
     },
     "metadata": {
      "needs_background": "light"
     },
     "output_type": "display_data"
    }
   ],
   "source": [
    "ax = wards_gdf.plot(column='AREA_SHORT_CODE', legend=True, figsize=(15,8)) \n",
    "ax.set_title('wards')\n",
    "ax.axis('off')\n",
    "plt.show()"
   ]
  },
  {
   "cell_type": "code",
   "execution_count": 214,
   "metadata": {
    "ExecuteTime": {
     "end_time": "2021-04-19T17:15:21.877475Z",
     "start_time": "2021-04-19T17:15:21.524978Z"
    }
   },
   "outputs": [
    {
     "data": {
      "image/png": "[encoded data removed]",
      "text/plain": [
       "<Figure size 1296x864 with 2 Axes>"
      ]
     },
     "metadata": {
      "needs_background": "light"
     },
     "output_type": "display_data"
    }
   ],
   "source": [
    "base = wards_gdf.boundary.plot(figsize=(18,12), color='gray')\n",
    "toploc_gdf.plot(ax=base, column='ticket_count', legend=True, cmap='winter')\n",
    "plt.show()"
   ]
  },
  {
   "cell_type": "markdown",
   "metadata": {},
   "source": [
    "### 3.3.2. b: Geographic distribution by ward for top 20 infractions (count)"
   ]
  },
  {
   "cell_type": "code",
   "execution_count": null,
   "metadata": {},
   "outputs": [],
   "source": []
  },
  {
   "cell_type": "code",
   "execution_count": null,
   "metadata": {},
   "outputs": [],
   "source": []
  },
  {
   "cell_type": "markdown",
   "metadata": {},
   "source": [
    "### 3.3.2. c: Geographic distribution by ward for top 20 infractions (revenue)"
   ]
  },
  {
   "cell_type": "code",
   "execution_count": 104,
   "metadata": {
    "ExecuteTime": {
     "end_time": "2021-04-19T13:09:58.323461Z",
     "start_time": "2021-04-19T13:09:58.290600Z"
    }
   },
   "outputs": [
    {
     "data": {
      "text/html": [
       "<div>\n",
       "<style scoped>\n",
       "    .dataframe tbody tr th:only-of-type {\n",
       "        vertical-align: middle;\n",
       "    }\n",
       "\n",
       "    .dataframe tbody tr th {\n",
       "        vertical-align: top;\n",
       "    }\n",
       "\n",
       "    .dataframe thead th {\n",
       "        text-align: right;\n",
       "    }\n",
       "</style>\n",
       "<table border=\"1\" class=\"dataframe\">\n",
       "  <thead>\n",
       "    <tr style=\"text-align: right;\">\n",
       "      <th></th>\n",
       "      <th>infraction_code</th>\n",
       "      <th>code_description</th>\n",
       "      <th>infraction_revenue</th>\n",
       "    </tr>\n",
       "  </thead>\n",
       "  <tbody>\n",
       "    <tr>\n",
       "      <th>0</th>\n",
       "      <td>5</td>\n",
       "      <td>PARK-SIGNED HWY-PROHIBIT DY/TM</td>\n",
       "      <td>10232350</td>\n",
       "    </tr>\n",
       "    <tr>\n",
       "      <th>1</th>\n",
       "      <td>3</td>\n",
       "      <td>PARK ON PRIVATE PROPERTY</td>\n",
       "      <td>10145790</td>\n",
       "    </tr>\n",
       "    <tr>\n",
       "      <th>2</th>\n",
       "      <td>9</td>\n",
       "      <td>STOP-SIGNED HWY-PROHIBIT TM/DY</td>\n",
       "      <td>6928300</td>\n",
       "    </tr>\n",
       "    <tr>\n",
       "      <th>3</th>\n",
       "      <td>207</td>\n",
       "      <td>PARK MACHINE-REQD FEE NOT PAID</td>\n",
       "      <td>6451080</td>\n",
       "    </tr>\n",
       "    <tr>\n",
       "      <th>4</th>\n",
       "      <td>29</td>\n",
       "      <td>PARK PROHIBITED TIME NO PERMIT</td>\n",
       "      <td>4851800</td>\n",
       "    </tr>\n",
       "    <tr>\n",
       "      <th>5</th>\n",
       "      <td>8</td>\n",
       "      <td>STAND VEH.-PROHIBIT TIME/DAY</td>\n",
       "      <td>4325250</td>\n",
       "    </tr>\n",
       "    <tr>\n",
       "      <th>6</th>\n",
       "      <td>403</td>\n",
       "      <td>STOP-SIGNED HIGHWAY-RUSH HOUR</td>\n",
       "      <td>2928900</td>\n",
       "    </tr>\n",
       "    <tr>\n",
       "      <th>7</th>\n",
       "      <td>347</td>\n",
       "      <td>PARK IN A FIRE ROUTE</td>\n",
       "      <td>2627500</td>\n",
       "    </tr>\n",
       "    <tr>\n",
       "      <th>8</th>\n",
       "      <td>2</td>\n",
       "      <td>PARK - LONGER THAN 3 HOURS</td>\n",
       "      <td>2021820</td>\n",
       "    </tr>\n",
       "    <tr>\n",
       "      <th>9</th>\n",
       "      <td>367</td>\n",
       "      <td>STND ONSTRT ACCESSIBLE NO PRMT</td>\n",
       "      <td>1949400</td>\n",
       "    </tr>\n",
       "    <tr>\n",
       "      <th>10</th>\n",
       "      <td>15</td>\n",
       "      <td>PARK-WITHIN 3M OF FIRE HYDRANT</td>\n",
       "      <td>1631600</td>\n",
       "    </tr>\n",
       "    <tr>\n",
       "      <th>11</th>\n",
       "      <td>6</td>\n",
       "      <td>PARK-SIGNED HWY-EXC PERMT TIME</td>\n",
       "      <td>1590440</td>\n",
       "    </tr>\n",
       "    <tr>\n",
       "      <th>12</th>\n",
       "      <td>192</td>\n",
       "      <td>STAND SIGNED TRANSIT STOP</td>\n",
       "      <td>1483650</td>\n",
       "    </tr>\n",
       "    <tr>\n",
       "      <th>13</th>\n",
       "      <td>4</td>\n",
       "      <td>PARK ON MUNICIPAL PROPERTY</td>\n",
       "      <td>1164930</td>\n",
       "    </tr>\n",
       "    <tr>\n",
       "      <th>14</th>\n",
       "      <td>355</td>\n",
       "      <td>PARK IN ACCESSIBLE NO PERMIT</td>\n",
       "      <td>1142100</td>\n",
       "    </tr>\n",
       "    <tr>\n",
       "      <th>15</th>\n",
       "      <td>30</td>\n",
       "      <td>STOP-(ON/OVER) (SIDEWK/FTPATH)</td>\n",
       "      <td>1138200</td>\n",
       "    </tr>\n",
       "    <tr>\n",
       "      <th>16</th>\n",
       "      <td>406</td>\n",
       "      <td>PARK-VEH. W/O VALID ONT PLATE</td>\n",
       "      <td>1106600</td>\n",
       "    </tr>\n",
       "    <tr>\n",
       "      <th>17</th>\n",
       "      <td>28</td>\n",
       "      <td>PARK-N.YORK 2AM-6AM DEC1-MAR31</td>\n",
       "      <td>963160</td>\n",
       "    </tr>\n",
       "    <tr>\n",
       "      <th>18</th>\n",
       "      <td>384</td>\n",
       "      <td>STOP VEH OTR THN BCYCL-BYCL LN</td>\n",
       "      <td>735600</td>\n",
       "    </tr>\n",
       "    <tr>\n",
       "      <th>19</th>\n",
       "      <td>257</td>\n",
       "      <td>PARK CONTRARY POSTED CONDITION</td>\n",
       "      <td>707700</td>\n",
       "    </tr>\n",
       "  </tbody>\n",
       "</table>\n",
       "</div>"
      ],
      "text/plain": [
       "    infraction_code                code_description  infraction_revenue\n",
       "0                 5  PARK-SIGNED HWY-PROHIBIT DY/TM            10232350\n",
       "1                 3        PARK ON PRIVATE PROPERTY            10145790\n",
       "2                 9  STOP-SIGNED HWY-PROHIBIT TM/DY             6928300\n",
       "3               207  PARK MACHINE-REQD FEE NOT PAID             6451080\n",
       "4                29  PARK PROHIBITED TIME NO PERMIT             4851800\n",
       "5                 8    STAND VEH.-PROHIBIT TIME/DAY             4325250\n",
       "6               403   STOP-SIGNED HIGHWAY-RUSH HOUR             2928900\n",
       "7               347            PARK IN A FIRE ROUTE             2627500\n",
       "8                 2      PARK - LONGER THAN 3 HOURS             2021820\n",
       "9               367  STND ONSTRT ACCESSIBLE NO PRMT             1949400\n",
       "10               15  PARK-WITHIN 3M OF FIRE HYDRANT             1631600\n",
       "11                6  PARK-SIGNED HWY-EXC PERMT TIME             1590440\n",
       "12              192       STAND SIGNED TRANSIT STOP             1483650\n",
       "13                4      PARK ON MUNICIPAL PROPERTY             1164930\n",
       "14              355    PARK IN ACCESSIBLE NO PERMIT             1142100\n",
       "15               30  STOP-(ON/OVER) (SIDEWK/FTPATH)             1138200\n",
       "16              406   PARK-VEH. W/O VALID ONT PLATE             1106600\n",
       "17               28  PARK-N.YORK 2AM-6AM DEC1-MAR31              963160\n",
       "18              384  STOP VEH OTR THN BCYCL-BYCL LN              735600\n",
       "19              257  PARK CONTRARY POSTED CONDITION              707700"
      ]
     },
     "execution_count": 104,
     "metadata": {},
     "output_type": "execute_result"
    }
   ],
   "source": [
    "topt_rev"
   ]
  },
  {
   "cell_type": "code",
   "execution_count": 113,
   "metadata": {
    "ExecuteTime": {
     "end_time": "2021-04-19T13:25:08.087942Z",
     "start_time": "2021-04-19T13:25:07.928368Z"
    }
   },
   "outputs": [
    {
     "data": {
      "text/html": [
       "<div>\n",
       "<style scoped>\n",
       "    .dataframe tbody tr th:only-of-type {\n",
       "        vertical-align: middle;\n",
       "    }\n",
       "\n",
       "    .dataframe tbody tr th {\n",
       "        vertical-align: top;\n",
       "    }\n",
       "\n",
       "    .dataframe thead th {\n",
       "        text-align: right;\n",
       "    }\n",
       "</style>\n",
       "<table border=\"1\" class=\"dataframe\">\n",
       "  <thead>\n",
       "    <tr style=\"text-align: right;\">\n",
       "      <th></th>\n",
       "      <th>date_of_infraction</th>\n",
       "      <th>infraction_code</th>\n",
       "      <th>set_fine_amount</th>\n",
       "      <th>location2</th>\n",
       "      <th>province</th>\n",
       "      <th>code_description</th>\n",
       "    </tr>\n",
       "  </thead>\n",
       "  <tbody>\n",
       "    <tr>\n",
       "      <th>0</th>\n",
       "      <td>20200101</td>\n",
       "      <td>3</td>\n",
       "      <td>30</td>\n",
       "      <td>4700 JANE ST</td>\n",
       "      <td>SK</td>\n",
       "      <td>PARK ON PRIVATE PROPERTY</td>\n",
       "    </tr>\n",
       "    <tr>\n",
       "      <th>1</th>\n",
       "      <td>20200101</td>\n",
       "      <td>29</td>\n",
       "      <td>30</td>\n",
       "      <td>573 CLENDENAN AVE</td>\n",
       "      <td>ON</td>\n",
       "      <td>PARK PROHIBITED TIME NO PERMIT</td>\n",
       "    </tr>\n",
       "    <tr>\n",
       "      <th>2</th>\n",
       "      <td>20200101</td>\n",
       "      <td>29</td>\n",
       "      <td>30</td>\n",
       "      <td>573 CLENDENAN AVE</td>\n",
       "      <td>ON</td>\n",
       "      <td>PARK PROHIBITED TIME NO PERMIT</td>\n",
       "    </tr>\n",
       "    <tr>\n",
       "      <th>3</th>\n",
       "      <td>20200101</td>\n",
       "      <td>29</td>\n",
       "      <td>30</td>\n",
       "      <td>21 MARIA ST</td>\n",
       "      <td>ON</td>\n",
       "      <td>PARK PROHIBITED TIME NO PERMIT</td>\n",
       "    </tr>\n",
       "    <tr>\n",
       "      <th>4</th>\n",
       "      <td>20200101</td>\n",
       "      <td>29</td>\n",
       "      <td>30</td>\n",
       "      <td>164 GLENHOLME AVE</td>\n",
       "      <td>ON</td>\n",
       "      <td>PARK PROHIBITED TIME NO PERMIT</td>\n",
       "    </tr>\n",
       "    <tr>\n",
       "      <th>...</th>\n",
       "      <td>...</td>\n",
       "      <td>...</td>\n",
       "      <td>...</td>\n",
       "      <td>...</td>\n",
       "      <td>...</td>\n",
       "      <td>...</td>\n",
       "    </tr>\n",
       "    <tr>\n",
       "      <th>1403658</th>\n",
       "      <td>20201231</td>\n",
       "      <td>347</td>\n",
       "      <td>250</td>\n",
       "      <td>325 BOGERT AVE</td>\n",
       "      <td>ON</td>\n",
       "      <td>PARK IN A FIRE ROUTE</td>\n",
       "    </tr>\n",
       "    <tr>\n",
       "      <th>1403659</th>\n",
       "      <td>20201231</td>\n",
       "      <td>3</td>\n",
       "      <td>30</td>\n",
       "      <td>12 YONGE ST</td>\n",
       "      <td>ON</td>\n",
       "      <td>PARK ON PRIVATE PROPERTY</td>\n",
       "    </tr>\n",
       "    <tr>\n",
       "      <th>1403660</th>\n",
       "      <td>20201231</td>\n",
       "      <td>3</td>\n",
       "      <td>30</td>\n",
       "      <td>40 PANORAMA CT</td>\n",
       "      <td>ON</td>\n",
       "      <td>PARK ON PRIVATE PROPERTY</td>\n",
       "    </tr>\n",
       "    <tr>\n",
       "      <th>1403661</th>\n",
       "      <td>20201231</td>\n",
       "      <td>3</td>\n",
       "      <td>30</td>\n",
       "      <td>155 REDPATH AVE</td>\n",
       "      <td>ON</td>\n",
       "      <td>PARK ON PRIVATE PROPERTY</td>\n",
       "    </tr>\n",
       "    <tr>\n",
       "      <th>1403662</th>\n",
       "      <td>20201231</td>\n",
       "      <td>3</td>\n",
       "      <td>30</td>\n",
       "      <td>NaN</td>\n",
       "      <td>ON</td>\n",
       "      <td>PARK ON PRIVATE PROPERTY</td>\n",
       "    </tr>\n",
       "  </tbody>\n",
       "</table>\n",
       "<p>1312655 rows × 6 columns</p>\n",
       "</div>"
      ],
      "text/plain": [
       "         date_of_infraction  infraction_code  set_fine_amount  \\\n",
       "0                  20200101                3               30   \n",
       "1                  20200101               29               30   \n",
       "2                  20200101               29               30   \n",
       "3                  20200101               29               30   \n",
       "4                  20200101               29               30   \n",
       "...                     ...              ...              ...   \n",
       "1403658            20201231              347              250   \n",
       "1403659            20201231                3               30   \n",
       "1403660            20201231                3               30   \n",
       "1403661            20201231                3               30   \n",
       "1403662            20201231                3               30   \n",
       "\n",
       "                 location2 province                code_description  \n",
       "0             4700 JANE ST       SK        PARK ON PRIVATE PROPERTY  \n",
       "1        573 CLENDENAN AVE       ON  PARK PROHIBITED TIME NO PERMIT  \n",
       "2        573 CLENDENAN AVE       ON  PARK PROHIBITED TIME NO PERMIT  \n",
       "3              21 MARIA ST       ON  PARK PROHIBITED TIME NO PERMIT  \n",
       "4        164 GLENHOLME AVE       ON  PARK PROHIBITED TIME NO PERMIT  \n",
       "...                    ...      ...                             ...  \n",
       "1403658     325 BOGERT AVE       ON            PARK IN A FIRE ROUTE  \n",
       "1403659        12 YONGE ST       ON        PARK ON PRIVATE PROPERTY  \n",
       "1403660     40 PANORAMA CT       ON        PARK ON PRIVATE PROPERTY  \n",
       "1403661    155 REDPATH AVE       ON        PARK ON PRIVATE PROPERTY  \n",
       "1403662                NaN       ON        PARK ON PRIVATE PROPERTY  \n",
       "\n",
       "[1312655 rows x 6 columns]"
      ]
     },
     "execution_count": 113,
     "metadata": {},
     "output_type": "execute_result"
    }
   ],
   "source": [
    "toprev_codes = pd.array(topt_rev['infraction_code'])\n",
    "ptags_toprev = ptags_df[ptags_df['infraction_code'].isin(toprev_codes)]\n",
    "ptags_toprev"
   ]
  },
  {
   "cell_type": "code",
   "execution_count": 112,
   "metadata": {
    "ExecuteTime": {
     "end_time": "2021-04-19T13:24:46.532613Z",
     "start_time": "2021-04-19T13:24:46.298234Z"
    }
   },
   "outputs": [
    {
     "data": {
      "text/plain": [
       "159922"
      ]
     },
     "execution_count": 112,
     "metadata": {},
     "output_type": "execute_result"
    }
   ],
   "source": [
    "len(ptags_toprev['location2'].unique())"
   ]
  },
  {
   "cell_type": "code",
   "execution_count": 114,
   "metadata": {
    "ExecuteTime": {
     "end_time": "2021-04-19T13:28:39.509977Z",
     "start_time": "2021-04-19T13:28:39.500004Z"
    }
   },
   "outputs": [],
   "source": [
    "# solution: finding geo data for all 159922 unique locations using geopy, same as did for topt_rev\n",
    "# the geopy service (the free service) is restricted to the number of request."
   ]
  },
  {
   "cell_type": "code",
   "execution_count": null,
   "metadata": {},
   "outputs": [],
   "source": []
  },
  {
   "cell_type": "markdown",
   "metadata": {},
   "source": [
    "### 3.3.2.d: Any relevant observations in relation to socio demographic profiles"
   ]
  },
  {
   "cell_type": "code",
   "execution_count": null,
   "metadata": {},
   "outputs": [],
   "source": []
  },
  {
   "cell_type": "code",
   "execution_count": null,
   "metadata": {},
   "outputs": [],
   "source": []
  },
  {
   "cell_type": "code",
   "execution_count": null,
   "metadata": {},
   "outputs": [],
   "source": []
  },
  {
   "cell_type": "markdown",
   "metadata": {
    "ExecuteTime": {
     "end_time": "2021-04-19T19:12:51.322518Z",
     "start_time": "2021-04-19T19:12:51.303569Z"
    }
   },
   "source": [
    "#### Evaluation of parking infractions based on vehicles province/state :"
   ]
  },
  {
   "cell_type": "code",
   "execution_count": 234,
   "metadata": {
    "ExecuteTime": {
     "end_time": "2021-04-19T19:16:08.963368Z",
     "start_time": "2021-04-19T19:16:08.787841Z"
    }
   },
   "outputs": [
    {
     "data": {
      "text/plain": [
       "ON    1357691\n",
       "QC      20054\n",
       "AB       4386\n",
       "AZ       3009\n",
       "NS       2078\n",
       "       ...   \n",
       "NM          6\n",
       "NU          5\n",
       "ND          2\n",
       "HI          2\n",
       "NL          1\n",
       "Name: province, Length: 66, dtype: int64"
      ]
     },
     "execution_count": 234,
     "metadata": {},
     "output_type": "execute_result"
    }
   ],
   "source": [
    "ptags_df['province'].value_counts()"
   ]
  },
  {
   "cell_type": "code",
   "execution_count": 238,
   "metadata": {
    "ExecuteTime": {
     "end_time": "2021-04-19T19:17:37.399824Z",
     "start_time": "2021-04-19T19:17:37.197235Z"
    }
   },
   "outputs": [
    {
     "data": {
      "text/plain": [
       "96.72485489750746"
      ]
     },
     "execution_count": 238,
     "metadata": {},
     "output_type": "execute_result"
    }
   ],
   "source": [
    "len(ptags_df[ptags_df['province']=='ON'])/ len(ptags_df) *100"
   ]
  },
  {
   "cell_type": "code",
   "execution_count": 241,
   "metadata": {
    "ExecuteTime": {
     "end_time": "2021-04-19T19:23:39.906800Z",
     "start_time": "2021-04-19T19:23:39.484112Z"
    }
   },
   "outputs": [
    {
     "data": {
      "text/plain": [
       "96.68388718927764"
      ]
     },
     "execution_count": 241,
     "metadata": {},
     "output_type": "execute_result"
    }
   ],
   "source": [
    "sum(ptags_df[ptags_df['province']=='ON']['set_fine_amount']) / sum(ptags_df['set_fine_amount']) *100"
   ]
  },
  {
   "cell_type": "code",
   "execution_count": null,
   "metadata": {},
   "outputs": [],
   "source": []
  }
 ],
 "metadata": {
  "kernelspec": {
   "display_name": "geo_env",
   "language": "python",
   "name": "geo_env"
  },
  "language_info": {
   "codemirror_mode": {
    "name": "ipython",
    "version": 3
   },
   "file_extension": ".py",
   "mimetype": "text/x-python",
   "name": "python",
   "nbconvert_exporter": "python",
   "pygments_lexer": "ipython3",
   "version": "3.9.2"
  }
 },
 "nbformat": 4,
 "nbformat_minor": 4
}
